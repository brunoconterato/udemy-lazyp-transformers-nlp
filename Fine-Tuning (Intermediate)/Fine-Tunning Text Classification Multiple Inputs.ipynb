{
 "cells": [
  {
   "cell_type": "markdown",
   "metadata": {},
   "source": [
    "# FIne-Tunning Text Classifier for more than 1 input\n",
    "\n",
    "### Example applications:\n",
    "\n",
    "1. (From instructors) Multiple choice questions: pass as inputs the questions and possible answers, and the model will predict the correct answer.\n",
    "2. (From instructors) Chatbot with past context: pass past conversation as input\n",
    "3. (From instructors) QUestion-answering: answer a question along with the passage of text that contains the answer. The model will select the portion of the text where the answer are.\n",
    "\n",
    "### Task: what are other use cases for Multi-Input Text Classifier?\n",
    "\n",
    "2. "
   ]
  },
  {
   "cell_type": "markdown",
   "metadata": {},
   "source": [
    "### But how can we change the number of inputs?\n",
    "\n",
    "Remember: Fine-Tunning generally is to keep all the network (including forst layer) the same and only update weights of the last layer.\n",
    "\n",
    "Answer: we don't need to! We can simply concatenate entries.\n",
    "\n",
    "It might work with RNN too. Exercise: Think about how that moight work in RNN!"
   ]
  },
  {
   "cell_type": "markdown",
   "metadata": {},
   "source": [
    "### Recall BERT\n",
    "\n",
    "BERT is pre-trained in unsupervised NLP tasks.\n",
    "\n",
    "BRET is pre-trained in two tasks: Next Sentence Prediction (NSP) and textual entailment\n",
    "\n",
    "In order to train NSP, we build a binary classifier whether the second sentence follows the first one\n",
    "\n",
    "We use formatted text as following:\n",
    "\n",
    "\"[CLS] This is the sentence one. [SEP] This is the sentence two. [SEP]\"\n",
    "\n",
    "The difference from textual entailment and NSP is the task: now you want to know if the first sentence entails the second sentence.\n",
    "\n",
    "As in NSP, we train a binary classificator.\n",
    "\n",
    "Tradução: Queremos saber se a primeira sentença ocasiona a segunda.\n",
    "\n",
    "Ex.: \"Bob buys a car\" entails \"Bob owns a car\".\n",
    "Ex.? \"Bob purchased cheese\" doesn't entails \"Bob doesn't have cheese\""
   ]
  },
  {
   "cell_type": "markdown",
   "metadata": {},
   "source": [
    "### Task\n",
    "\n",
    "#### Compare BERT and DistilBERT\n",
    "\n",
    "Bert uses the input token_type_id, while DistilBERT doesn't.\n",
    "\n",
    "Your task is:\n",
    "1. Check if \"token_type_id\" is present in BERT, but not in DistilBERT.\n",
    "2. compare both BERT and DistilBERT in terms of time of execution and "
   ]
  },
  {
   "cell_type": "markdown",
   "metadata": {},
   "source": [
    "# Part 1. Warmup!"
   ]
  },
  {
   "cell_type": "code",
   "execution_count": 1,
   "metadata": {},
   "outputs": [],
   "source": [
    "from datasets import load_dataset, load_metric\n",
    "from transformers import (\n",
    "    AutoTokenizer,\n",
    "    AutoModelForSequenceClassification,\n",
    "    TrainingArguments,\n",
    "    Trainer,\n",
    "    pipeline,\n",
    ")\n",
    "\n",
    "from sklearn.metrics import accuracy_score, f1_score, confusion_matrix, ConfusionMatrixDisplay\n",
    "\n",
    "\n",
    "import torch\n",
    "import matplotlib.pyplot as plt\n",
    "import seaborn as sn\n",
    "import pandas as pd\n",
    "import numpy as np\n"
   ]
  },
  {
   "cell_type": "markdown",
   "metadata": {},
   "source": [
    "Since the dataset (\"glue\", \"rte\") didn't have labels for the loaded test split at the moment of this notebook was created, we will split train data in train and test data, instead of use the loaded test data"
   ]
  },
  {
   "cell_type": "code",
   "execution_count": 2,
   "metadata": {},
   "outputs": [
    {
     "data": {
      "text/plain": [
       "[Dataset({\n",
       "     features: ['sentence1', 'sentence2', 'label', 'idx'],\n",
       "     num_rows: 2490\n",
       " }),\n",
       " Dataset({\n",
       "     features: ['sentence1', 'sentence2', 'label', 'idx'],\n",
       "     num_rows: 277\n",
       " })]"
      ]
     },
     "execution_count": 2,
     "metadata": {},
     "output_type": "execute_result"
    }
   ],
   "source": [
    "raw_dataset_temp = load_dataset(\"glue\", \"rte\", split=[\"train\", \"validation\"])\n",
    "raw_dataset_temp"
   ]
  },
  {
   "cell_type": "code",
   "execution_count": 3,
   "metadata": {},
   "outputs": [
    {
     "data": {
      "text/plain": [
       "DatasetDict({\n",
       "    train: Dataset({\n",
       "        features: ['sentence1', 'sentence2', 'label', 'idx'],\n",
       "        num_rows: 2240\n",
       "    })\n",
       "    test: Dataset({\n",
       "        features: ['sentence1', 'sentence2', 'label', 'idx'],\n",
       "        num_rows: 250\n",
       "    })\n",
       "    validation: Dataset({\n",
       "        features: ['sentence1', 'sentence2', 'label', 'idx'],\n",
       "        num_rows: 277\n",
       "    })\n",
       "})"
      ]
     },
     "execution_count": 3,
     "metadata": {},
     "output_type": "execute_result"
    }
   ],
   "source": [
    "raw_dataset = raw_dataset_temp[0].train_test_split(test_size=250, seed=42)\n",
    "raw_dataset['validation'] = raw_dataset_temp[1]\n",
    "del raw_dataset_temp\n",
    "raw_dataset"
   ]
  },
  {
   "cell_type": "markdown",
   "metadata": {},
   "source": [
    "### Note:\n",
    "\n",
    "We now have two input sentences is a label!"
   ]
  },
  {
   "cell_type": "code",
   "execution_count": 4,
   "metadata": {},
   "outputs": [],
   "source": [
    "checkpoint_BERT = \"bert-base-cased\"\n",
    "checkpoint_DistilBERT = \"distilbert-base-cased\""
   ]
  },
  {
   "cell_type": "code",
   "execution_count": 5,
   "metadata": {},
   "outputs": [],
   "source": [
    "tokenizer_BERT = AutoTokenizer.from_pretrained(checkpoint_BERT)\n",
    "tokenizer_DistilBERT = AutoTokenizer.from_pretrained(checkpoint_DistilBERT)"
   ]
  },
  {
   "cell_type": "code",
   "execution_count": 6,
   "metadata": {},
   "outputs": [
    {
     "data": {
      "text/plain": [
       "('A small bronze bust of Spencer Tracy sold for £174,000.',\n",
       " 'A small bronze bust of Spencer Tracy made £180,447.')"
      ]
     },
     "execution_count": 6,
     "metadata": {},
     "output_type": "execute_result"
    }
   ],
   "source": [
    "sentence_1 = raw_dataset['train']['sentence1'][0]\n",
    "sentence_2 = raw_dataset['train']['sentence2'][0]\n",
    "sentence_1, sentence_2"
   ]
  },
  {
   "cell_type": "code",
   "execution_count": 7,
   "metadata": {},
   "outputs": [
    {
     "data": {
      "text/plain": [
       "{'input_ids': [101, 138, 1353, 4394, 16118, 1104, 6511, 10435, 1962, 1111, 15142, 1559, 1527, 117, 1288, 119, 102, 138, 1353, 4394, 16118, 1104, 6511, 10435, 1189, 15142, 18910, 117, 3140, 1559, 119, 102], 'token_type_ids': [0, 0, 0, 0, 0, 0, 0, 0, 0, 0, 0, 0, 0, 0, 0, 0, 0, 1, 1, 1, 1, 1, 1, 1, 1, 1, 1, 1, 1, 1, 1, 1], 'attention_mask': [1, 1, 1, 1, 1, 1, 1, 1, 1, 1, 1, 1, 1, 1, 1, 1, 1, 1, 1, 1, 1, 1, 1, 1, 1, 1, 1, 1, 1, 1, 1, 1]}"
      ]
     },
     "execution_count": 7,
     "metadata": {},
     "output_type": "execute_result"
    }
   ],
   "source": [
    "tokenizer_BERT(sentence_1, sentence_2)"
   ]
  },
  {
   "cell_type": "code",
   "execution_count": 8,
   "metadata": {},
   "outputs": [
    {
     "data": {
      "text/plain": [
       "{'input_ids': [101, 138, 1353, 4394, 16118, 1104, 6511, 10435, 1962, 1111, 15142, 1559, 1527, 117, 1288, 119, 102, 138, 1353, 4394, 16118, 1104, 6511, 10435, 1189, 15142, 18910, 117, 3140, 1559, 119, 102], 'attention_mask': [1, 1, 1, 1, 1, 1, 1, 1, 1, 1, 1, 1, 1, 1, 1, 1, 1, 1, 1, 1, 1, 1, 1, 1, 1, 1, 1, 1, 1, 1, 1, 1]}"
      ]
     },
     "execution_count": 8,
     "metadata": {},
     "output_type": "execute_result"
    }
   ],
   "source": [
    "tokenizer_DistilBERT(sentence_1, sentence_2)"
   ]
  },
  {
   "cell_type": "markdown",
   "metadata": {},
   "source": [
    "### ✅ Task 1"
   ]
  },
  {
   "cell_type": "code",
   "execution_count": 9,
   "metadata": {},
   "outputs": [],
   "source": [
    "def get_tokenize_fn(tokenizer):\n",
    "    def tokenize_fn(batch):\n",
    "        return tokenizer(batch['sentence1'], batch['sentence2'], truncation=True)\n",
    "    \n",
    "    return tokenize_fn"
   ]
  },
  {
   "cell_type": "code",
   "execution_count": 10,
   "metadata": {},
   "outputs": [
    {
     "data": {
      "text/plain": [
       "DatasetDict({\n",
       "    train: Dataset({\n",
       "        features: ['sentence1', 'sentence2', 'label', 'idx', 'input_ids', 'token_type_ids', 'attention_mask'],\n",
       "        num_rows: 2240\n",
       "    })\n",
       "    test: Dataset({\n",
       "        features: ['sentence1', 'sentence2', 'label', 'idx', 'input_ids', 'token_type_ids', 'attention_mask'],\n",
       "        num_rows: 250\n",
       "    })\n",
       "    validation: Dataset({\n",
       "        features: ['sentence1', 'sentence2', 'label', 'idx', 'input_ids', 'token_type_ids', 'attention_mask'],\n",
       "        num_rows: 277\n",
       "    })\n",
       "})"
      ]
     },
     "execution_count": 10,
     "metadata": {},
     "output_type": "execute_result"
    }
   ],
   "source": [
    "tokenize_fn = get_tokenize_fn(tokenizer_BERT)\n",
    "tokenized_datasets = raw_dataset.map(tokenize_fn, batched=True)\n",
    "\n",
    "tokenized_datasets"
   ]
  },
  {
   "cell_type": "code",
   "execution_count": 11,
   "metadata": {},
   "outputs": [
    {
     "data": {
      "text/plain": [
       "{'sentence1': 'Hovind, self-styled as \"Dr. Dino\" (whose Ph.D, from a non-accredited correspondence university, is in Christian education) believes in Biblical literalism claimed that he is not liable for taxes and his \"ministry\" does not have to \"render unto Caesar\" because, as he claimed, his workers are \"missionaries\" not \"employees\". Hovind\\'s tax troubles date back to at least 1996, when a judge at Hovind\\'s bankruptcy trial wrote, Hovind \"failed to acknowledge his obligations as a citizen and taxpayer of the United States, seeks to utilize this taxpayer supported court in order to thwart the lawful collection efforts of the Internal Revenue Service.\" The judge concluded, Hovind filed for bankruptcy in \"bad faith,\" and lied about his possessions and income.',\n",
       " 'sentence2': 'Hovind  was found guilty on 59 federal counts.',\n",
       " 'label': 1,\n",
       " 'idx': 878}"
      ]
     },
     "execution_count": 11,
     "metadata": {},
     "output_type": "execute_result"
    }
   ],
   "source": [
    "raw_dataset['train'][25]"
   ]
  },
  {
   "cell_type": "code",
   "execution_count": 12,
   "metadata": {},
   "outputs": [],
   "source": [
    "del tokenize_fn\n",
    "del tokenized_datasets"
   ]
  },
  {
   "cell_type": "code",
   "execution_count": 13,
   "metadata": {},
   "outputs": [
    {
     "name": "stderr",
     "output_type": "stream",
     "text": [
      "/tmp/ipykernel_30163/464773932.py:1: FutureWarning: load_metric is deprecated and will be removed in the next major version of datasets. Use 'evaluate.load' instead, from the new library 🤗 Evaluate: https://huggingface.co/docs/evaluate\n",
      "  metric = load_metric(\"glue\", \"rte\")\n"
     ]
    }
   ],
   "source": [
    "metric = load_metric(\"glue\", \"rte\")\n",
    "metric\n",
    "\n",
    "def compute_metrics(logits_and_labels):\n",
    "    logits, labels = logits_and_labels\n",
    "    predictions = np.argmax(logits, axis=-1)\n",
    "    return metric.compute(predictions=predictions, references=labels)"
   ]
  },
  {
   "cell_type": "code",
   "execution_count": 14,
   "metadata": {},
   "outputs": [],
   "source": [
    "def evalCheckpoints(ckpt_path, checkpoints, tokenizer, tokenized_datasets):\n",
    "    columns = [\"eval_accuracy\", \"eval_f1\", \"eval_loss\"]\n",
    "    results = pd.DataFrame(columns=columns, index=checkpoints)\n",
    "    for _ckpt in checkpoints:\n",
    "        model = AutoModelForSequenceClassification.from_pretrained(\n",
    "            ckpt_path + \"/\" + _ckpt\n",
    "        )\n",
    "        training_args = TrainingArguments(\n",
    "            output_dir=ckpt_path,\n",
    "            evaluation_strategy=\"epoch\",\n",
    "            save_strategy=\"epoch\",\n",
    "            num_train_epochs=3,\n",
    "            per_device_train_batch_size=16,\n",
    "            per_device_eval_batch_size=64,\n",
    "        )\n",
    "\n",
    "        def compute_metrics(logits_and_labels):\n",
    "            logits, labels = logits_and_labels\n",
    "            predictions = np.argmax(logits, axis=-1)\n",
    "            acc = np.mean(predictions == labels)\n",
    "            f1 = f1_score(labels, predictions, average=\"macro\")\n",
    "            return {\"accuracy\": acc, \"f1\": f1}\n",
    "\n",
    "        trainer = Trainer(\n",
    "            model,\n",
    "            training_args,\n",
    "            train_dataset=tokenized_datasets[\"train\"],\n",
    "            eval_dataset=tokenized_datasets[\"test\"],\n",
    "            tokenizer=tokenizer,\n",
    "            compute_metrics=compute_metrics,\n",
    "        )\n",
    "        result = {k: v for k, v in trainer.evaluate().items() if k in columns}\n",
    "        results.loc[_ckpt] = result\n",
    "\n",
    "    results.reset_index(inplace=True)\n",
    "    results.rename(columns={\"index\": \"checkpoint\"}, inplace=True)\n",
    "    print(results)\n",
    "    # Plot the evaluation results\n",
    "\n",
    "    plt.figure(figsize=(10, 6))\n",
    "    sn.lineplot(x=\"checkpoint\", y=\"eval_f1\", data=results, label=\"F1 Score\")\n",
    "    sn.lineplot(x=\"checkpoint\", y=\"eval_accuracy\", data=results, label=\"Accuracy Score\")\n",
    "    # sn.lineplot(x=\"checkpoint\", y=\"eval_loss\", data=results)\n",
    "    plt.title(\"Evaluation Metrics\")\n",
    "    plt.show()\n"
   ]
  },
  {
   "cell_type": "markdown",
   "metadata": {},
   "source": [
    "### Exercise: complete the notebook on my OWN, before looking at the notebook!"
   ]
  },
  {
   "cell_type": "markdown",
   "metadata": {},
   "source": [
    "# Part 2: Complete by my own!"
   ]
  },
  {
   "cell_type": "markdown",
   "metadata": {},
   "source": [
    "## 2.1. Let's do the task for BERT"
   ]
  },
  {
   "cell_type": "code",
   "execution_count": 15,
   "metadata": {},
   "outputs": [
    {
     "data": {
      "text/plain": [
       "DatasetDict({\n",
       "    train: Dataset({\n",
       "        features: ['sentence1', 'sentence2', 'label', 'idx', 'input_ids', 'token_type_ids', 'attention_mask'],\n",
       "        num_rows: 2240\n",
       "    })\n",
       "    test: Dataset({\n",
       "        features: ['sentence1', 'sentence2', 'label', 'idx', 'input_ids', 'token_type_ids', 'attention_mask'],\n",
       "        num_rows: 250\n",
       "    })\n",
       "    validation: Dataset({\n",
       "        features: ['sentence1', 'sentence2', 'label', 'idx', 'input_ids', 'token_type_ids', 'attention_mask'],\n",
       "        num_rows: 277\n",
       "    })\n",
       "})"
      ]
     },
     "execution_count": 15,
     "metadata": {},
     "output_type": "execute_result"
    }
   ],
   "source": [
    "tokenize_fn_BERT = get_tokenize_fn(tokenizer_BERT)\n",
    "\n",
    "tokenized_datasets_BERT = raw_dataset.map(tokenize_fn_BERT, batched=True)\n",
    "tokenized_datasets_BERT"
   ]
  },
  {
   "cell_type": "code",
   "execution_count": 16,
   "metadata": {},
   "outputs": [
    {
     "name": "stderr",
     "output_type": "stream",
     "text": [
      "Some weights of BertForSequenceClassification were not initialized from the model checkpoint at bert-base-cased and are newly initialized: ['classifier.bias', 'classifier.weight']\n",
      "You should probably TRAIN this model on a down-stream task to be able to use it for predictions and inference.\n"
     ]
    }
   ],
   "source": [
    "model_BERT = AutoModelForSequenceClassification.from_pretrained(checkpoint_BERT, num_labels=2)"
   ]
  },
  {
   "cell_type": "code",
   "execution_count": 17,
   "metadata": {},
   "outputs": [],
   "source": [
    "training_args_BERT = TrainingArguments(\n",
    "    \"training_dir_rte_BERT\",\n",
    "    evaluation_strategy=\"epoch\",\n",
    "    save_strategy=\"epoch\",\n",
    "    num_train_epochs=6,\n",
    "    per_device_train_batch_size=8,\n",
    "    per_device_eval_batch_size=8,\n",
    "    seed=42,\n",
    ")"
   ]
  },
  {
   "cell_type": "code",
   "execution_count": 18,
   "metadata": {},
   "outputs": [],
   "source": [
    "def compute_metrics(logits_and_labels):\n",
    "    logits, labels = logits_and_labels\n",
    "    predictions = np.argmax(logits, axis=-1)\n",
    "    return metric.compute(predictions=predictions, references=labels)"
   ]
  },
  {
   "cell_type": "code",
   "execution_count": 19,
   "metadata": {},
   "outputs": [],
   "source": [
    "trainer_BERT = Trainer(\n",
    "    model_BERT,\n",
    "    training_args_BERT,\n",
    "    train_dataset=tokenized_datasets_BERT['train'],\n",
    "    eval_dataset=tokenized_datasets_BERT['validation'],\n",
    "    compute_metrics=compute_metrics,\n",
    "    tokenizer=tokenizer_BERT,\n",
    ")"
   ]
  },
  {
   "cell_type": "code",
   "execution_count": 20,
   "metadata": {},
   "outputs": [
    {
     "name": "stderr",
     "output_type": "stream",
     "text": [
      "/home/bruno/anaconda3/envs/gpt/lib/python3.9/site-packages/transformers/optimization.py:411: FutureWarning: This implementation of AdamW is deprecated and will be removed in a future version. Use the PyTorch implementation torch.optim.AdamW instead, or set `no_deprecation_warning=True` to disable this warning\n",
      "  warnings.warn(\n"
     ]
    },
    {
     "data": {
      "application/vnd.jupyter.widget-view+json": {
       "model_id": "39be8c9c3090425cab5e67fc612132dc",
       "version_major": 2,
       "version_minor": 0
      },
      "text/plain": [
       "  0%|          | 0/1680 [00:00<?, ?it/s]"
      ]
     },
     "metadata": {},
     "output_type": "display_data"
    },
    {
     "name": "stderr",
     "output_type": "stream",
     "text": [
      "You're using a BertTokenizerFast tokenizer. Please note that with a fast tokenizer, using the `__call__` method is faster than using a method to encode the text followed by a call to the `pad` method to get a padded encoding.\n"
     ]
    },
    {
     "data": {
      "application/vnd.jupyter.widget-view+json": {
       "model_id": "422c111f149e4952be84464f5c67feaa",
       "version_major": 2,
       "version_minor": 0
      },
      "text/plain": [
       "  0%|          | 0/35 [00:00<?, ?it/s]"
      ]
     },
     "metadata": {},
     "output_type": "display_data"
    },
    {
     "name": "stdout",
     "output_type": "stream",
     "text": [
      "{'eval_loss': 0.6380759477615356, 'eval_accuracy': 0.6642599277978339, 'eval_runtime': 2.0463, 'eval_samples_per_second': 135.365, 'eval_steps_per_second': 17.104, 'epoch': 1.0}\n",
      "{'loss': 0.5823, 'learning_rate': 3.511904761904762e-05, 'epoch': 1.79}\n"
     ]
    },
    {
     "data": {
      "application/vnd.jupyter.widget-view+json": {
       "model_id": "aed39104ce6c4a999922f6de71e589fc",
       "version_major": 2,
       "version_minor": 0
      },
      "text/plain": [
       "  0%|          | 0/35 [00:00<?, ?it/s]"
      ]
     },
     "metadata": {},
     "output_type": "display_data"
    },
    {
     "name": "stdout",
     "output_type": "stream",
     "text": [
      "{'eval_loss': 0.736932635307312, 'eval_accuracy': 0.6714801444043321, 'eval_runtime': 2.0323, 'eval_samples_per_second': 136.302, 'eval_steps_per_second': 17.222, 'epoch': 2.0}\n"
     ]
    },
    {
     "data": {
      "application/vnd.jupyter.widget-view+json": {
       "model_id": "93550435c289439d9c9258af289dc573",
       "version_major": 2,
       "version_minor": 0
      },
      "text/plain": [
       "  0%|          | 0/35 [00:00<?, ?it/s]"
      ]
     },
     "metadata": {},
     "output_type": "display_data"
    },
    {
     "name": "stdout",
     "output_type": "stream",
     "text": [
      "{'eval_loss': 1.4072984457015991, 'eval_accuracy': 0.6642599277978339, 'eval_runtime': 2.0611, 'eval_samples_per_second': 134.396, 'eval_steps_per_second': 16.981, 'epoch': 3.0}\n",
      "{'loss': 0.2509, 'learning_rate': 2.023809523809524e-05, 'epoch': 3.57}\n"
     ]
    },
    {
     "data": {
      "application/vnd.jupyter.widget-view+json": {
       "model_id": "f44cca18e5444962862237f67fbdd87f",
       "version_major": 2,
       "version_minor": 0
      },
      "text/plain": [
       "  0%|          | 0/35 [00:00<?, ?it/s]"
      ]
     },
     "metadata": {},
     "output_type": "display_data"
    },
    {
     "name": "stdout",
     "output_type": "stream",
     "text": [
      "{'eval_loss': 1.6791307926177979, 'eval_accuracy': 0.6750902527075813, 'eval_runtime': 2.1252, 'eval_samples_per_second': 130.339, 'eval_steps_per_second': 16.469, 'epoch': 4.0}\n"
     ]
    },
    {
     "data": {
      "application/vnd.jupyter.widget-view+json": {
       "model_id": "4709a980ecea48d9803ace5e7a78a001",
       "version_major": 2,
       "version_minor": 0
      },
      "text/plain": [
       "  0%|          | 0/35 [00:00<?, ?it/s]"
      ]
     },
     "metadata": {},
     "output_type": "display_data"
    },
    {
     "name": "stdout",
     "output_type": "stream",
     "text": [
      "{'eval_loss': 1.8024091720581055, 'eval_accuracy': 0.6750902527075813, 'eval_runtime': 2.0007, 'eval_samples_per_second': 138.453, 'eval_steps_per_second': 17.494, 'epoch': 5.0}\n",
      "{'loss': 0.0791, 'learning_rate': 5.357142857142857e-06, 'epoch': 5.36}\n"
     ]
    },
    {
     "data": {
      "application/vnd.jupyter.widget-view+json": {
       "model_id": "f80ac70712fb4b8d83dcc1cfe8570fc3",
       "version_major": 2,
       "version_minor": 0
      },
      "text/plain": [
       "  0%|          | 0/35 [00:00<?, ?it/s]"
      ]
     },
     "metadata": {},
     "output_type": "display_data"
    },
    {
     "name": "stdout",
     "output_type": "stream",
     "text": [
      "{'eval_loss': 1.8000637292861938, 'eval_accuracy': 0.6931407942238267, 'eval_runtime': 2.0246, 'eval_samples_per_second': 136.816, 'eval_steps_per_second': 17.287, 'epoch': 6.0}\n",
      "{'train_runtime': 342.5061, 'train_samples_per_second': 39.24, 'train_steps_per_second': 4.905, 'train_loss': 0.27587910095850626, 'epoch': 6.0}\n"
     ]
    },
    {
     "data": {
      "text/plain": [
       "TrainOutput(global_step=1680, training_loss=0.27587910095850626, metrics={'train_runtime': 342.5061, 'train_samples_per_second': 39.24, 'train_steps_per_second': 4.905, 'train_loss': 0.27587910095850626, 'epoch': 6.0})"
      ]
     },
     "execution_count": 20,
     "metadata": {},
     "output_type": "execute_result"
    }
   ],
   "source": [
    "trainer_BERT.train()"
   ]
  },
  {
   "cell_type": "code",
   "execution_count": 21,
   "metadata": {},
   "outputs": [
    {
     "name": "stdout",
     "output_type": "stream",
     "text": [
      "huggingface/tokenizers: The current process just got forked, after parallelism has already been used. Disabling parallelism to avoid deadlocks...\n",
      "To disable this warning, you can either:\n",
      "\t- Avoid using `tokenizers` before the fork if possible\n",
      "\t- Explicitly set the environment variable TOKENIZERS_PARALLELISM=(true | false)\n",
      "checkpoint-1120  checkpoint-1680  checkpoint-560\n",
      "checkpoint-1400  checkpoint-280   checkpoint-840\n"
     ]
    }
   ],
   "source": [
    "!ls training_dir_rte_BERT"
   ]
  },
  {
   "cell_type": "code",
   "execution_count": 22,
   "metadata": {},
   "outputs": [
    {
     "data": {
      "application/vnd.jupyter.widget-view+json": {
       "model_id": "c500c37134d547b183a5179cefb57470",
       "version_major": 2,
       "version_minor": 0
      },
      "text/plain": [
       "  0%|          | 0/4 [00:00<?, ?it/s]"
      ]
     },
     "metadata": {},
     "output_type": "display_data"
    },
    {
     "data": {
      "application/vnd.jupyter.widget-view+json": {
       "model_id": "d4858d1ead414db5b10be76931fd8fe1",
       "version_major": 2,
       "version_minor": 0
      },
      "text/plain": [
       "  0%|          | 0/4 [00:00<?, ?it/s]"
      ]
     },
     "metadata": {},
     "output_type": "display_data"
    },
    {
     "data": {
      "application/vnd.jupyter.widget-view+json": {
       "model_id": "43349faeda724a7786f57052b33de5fc",
       "version_major": 2,
       "version_minor": 0
      },
      "text/plain": [
       "  0%|          | 0/4 [00:00<?, ?it/s]"
      ]
     },
     "metadata": {},
     "output_type": "display_data"
    },
    {
     "data": {
      "application/vnd.jupyter.widget-view+json": {
       "model_id": "27cd880192444e379c5ddd4a698fdd50",
       "version_major": 2,
       "version_minor": 0
      },
      "text/plain": [
       "  0%|          | 0/4 [00:00<?, ?it/s]"
      ]
     },
     "metadata": {},
     "output_type": "display_data"
    },
    {
     "data": {
      "application/vnd.jupyter.widget-view+json": {
       "model_id": "2874203c1fa8418b8b06d051fa32ea96",
       "version_major": 2,
       "version_minor": 0
      },
      "text/plain": [
       "  0%|          | 0/4 [00:00<?, ?it/s]"
      ]
     },
     "metadata": {},
     "output_type": "display_data"
    },
    {
     "data": {
      "application/vnd.jupyter.widget-view+json": {
       "model_id": "009b9a591b67405d9a6b84171c867a5d",
       "version_major": 2,
       "version_minor": 0
      },
      "text/plain": [
       "  0%|          | 0/4 [00:00<?, ?it/s]"
      ]
     },
     "metadata": {},
     "output_type": "display_data"
    },
    {
     "name": "stdout",
     "output_type": "stream",
     "text": [
      "        checkpoint eval_accuracy   eval_f1 eval_loss\n",
      "0   checkpoint-280         0.616  0.611122  0.634271\n",
      "1   checkpoint-560          0.66  0.647543  0.688811\n",
      "2   checkpoint-840         0.676  0.658234  1.412338\n",
      "3  checkpoint-1120         0.688     0.675  1.771953\n",
      "4  checkpoint-1400         0.652  0.648485  1.964511\n",
      "5  checkpoint-1680         0.644  0.641932  2.061266\n"
     ]
    },
    {
     "data": {
      "image/png": "[encoded data removed]",
      "text/plain": [
       "<Figure size 1000x600 with 1 Axes>"
      ]
     },
     "metadata": {},
     "output_type": "display_data"
    }
   ],
   "source": [
    "evalCheckpoints(\n",
    "    ckpt_path=\"training_dir_rte_BERT\",\n",
    "    checkpoints=[\n",
    "        \"checkpoint-280\",\n",
    "        \"checkpoint-560\",\n",
    "        \"checkpoint-840\",\n",
    "        \"checkpoint-1120\",\n",
    "        \"checkpoint-1400\",\n",
    "        \"checkpoint-1680\",\n",
    "    ],\n",
    "    tokenizer=tokenizer_BERT,\n",
    "    tokenized_datasets=tokenized_datasets_BERT,\n",
    ")\n"
   ]
  },
  {
   "cell_type": "code",
   "execution_count": 23,
   "metadata": {},
   "outputs": [
    {
     "name": "stdout",
     "output_type": "stream",
     "text": [
      "huggingface/tokenizers: The current process just got forked, after parallelism has already been used. Disabling parallelism to avoid deadlocks...\n",
      "To disable this warning, you can either:\n",
      "\t- Avoid using `tokenizers` before the fork if possible\n",
      "\t- Explicitly set the environment variable TOKENIZERS_PARALLELISM=(true | false)\n",
      "huggingface/tokenizers: The current process just got forked, after parallelism has already been used. Disabling parallelism to avoid deadlocks...\n",
      "To disable this warning, you can either:\n",
      "\t- Avoid using `tokenizers` before the fork if possible\n",
      "\t- Explicitly set the environment variable TOKENIZERS_PARALLELISM=(true | false)\n",
      "huggingface/tokenizers: The current process just got forked, after parallelism has already been used. Disabling parallelism to avoid deadlocks...\n",
      "To disable this warning, you can either:\n",
      "\t- Avoid using `tokenizers` before the fork if possible\n",
      "\t- Explicitly set the environment variable TOKENIZERS_PARALLELISM=(true | false)\n",
      "huggingface/tokenizers: The current process just got forked, after parallelism has already been used. Disabling parallelism to avoid deadlocks...\n",
      "To disable this warning, you can either:\n",
      "\t- Avoid using `tokenizers` before the fork if possible\n",
      "\t- Explicitly set the environment variable TOKENIZERS_PARALLELISM=(true | false)\n",
      "huggingface/tokenizers: The current process just got forked, after parallelism has already been used. Disabling parallelism to avoid deadlocks...\n",
      "To disable this warning, you can either:\n",
      "\t- Avoid using `tokenizers` before the fork if possible\n",
      "\t- Explicitly set the environment variable TOKENIZERS_PARALLELISM=(true | false)\n"
     ]
    }
   ],
   "source": [
    "savedModel_BERT = pipeline('text-classification', model=\"training_dir_rte_BERT/checkpoint-1120\", device=0)"
   ]
  },
  {
   "cell_type": "code",
   "execution_count": 24,
   "metadata": {},
   "outputs": [
    {
     "name": "stderr",
     "output_type": "stream",
     "text": [
      "Ignoring args : (['The ban on ivory trade has been effective in protecting the elephant from extinction.', 'Pamuk won a Nobel Prize.', 'Nokia produces mobile chips.', 'Tom Malinowski is director for Human Rights Watch.', 'Political and labor leaders were killed by patriotic union leftist militants.', 'Barak Obama planned US$3.6 trillion in spending.', 'Parmalat costs 14.3 billion euros.', 'The Rolling Stones have begun their latest world tour with a concert in Boston.', 'EuroDisney is located in the charming city of Magny-Le-Hongre.', 'The WSF takes place in Brazil.', 'The banking firm Barings collapsed due to speculations made by Nick Leeson.', 'EU leaders take part in an EU-Japan summit.', 'John Traynor is an executive of Microsoft.', 'Shapiro teaches at NY University.', 'Nike said orders for footwear and apparel for delivery totaled $4.9 billion, including a 12 percent increase in U.S. orders.', 'Ms Robbins is a co-owner of Armstrong Environmental Inc.', 'Air Force is an organisation based in Southern California.', 'EuroDisney is located in the various parks.', 'Hector Oqueli Colindres comes from El Salvador.', 'Nancy Vine is in business with Donald and Dorothy LeGros.', 'Giulio Andreotti is a prime minister.', 'The latest findings contradict a California study that implicated regular pot smoking as having markedly higher risks for head and neck cancers.', 'Vitas Gerulaitis died of carbon monoxide poisoning.', 'Jean Charles de Menezes is related to Alex Pereira.', \"Klaus Pohl is one of Germany's most performed dramatists.\", 'In France, works of art bought at public auction are exempt from registration.', 'The Ebro Delta is used for farming.', 'Alcohol has an effect on violent crimes.', 'Democrat Culbert L. Olson was elected governor of California.', 'Petroleum is explored in the South Atlantic.', \"The experiment, reported Monday, isn't the first to show that stem cells offer tantalizing hope for spinal cord injury.\", 'The military protection zone around Falklands was lifted.', 'A380 has only 58 seats.', 'The charges were denied by his family.', 'Chris Evans worked for Radio 1.', 'Hepburn, who won four Oscars, died last June aged 96.', 'US shuttle Atlantis docks with the Mir space station.', \"Obama's dog is called Bo.\", 'prime minister targeted for assassination', 'The riots in Greece started on December 6.', 'Roughan has nine children.', 'Protesters confiscated anti-American banners and chanted slogans attacking U.N. Secretary-General Kofi Annan for his close alignment with U.S. policy.', 'Hugh Jackman will play the magician Harry Houdini.', 'Communist China is an organisation based in Beijing and Washington.', 'The Declaration of Independence was signed in 1776.', 'Police found four weapons - a .50-calibre rifle, two military style assault rifles and a handgun in the vehicle.', 'Antonio Fazio works for the Bank of Italy.', 'France still maintains Ecu is the best denomination for the Maastricht single-currency..', 'A French journalist was assaulted in Tunisia.', \"Tyson bit off part of one of Evander Holyfield's ears in 2002.\", 'Steve Jobs is the creator of Apple.', 'Medicare will choose 10 percent of applicants to receive benefits by Aug. 16.', 'Crude oil prices rose to $37.80 per barrel', '100 died at Chamunda Devi Temple.', \"The merger of Japanese Banks creates the world's biggest bank.\", 'Porsche is a German car manufacturer.', 'A U.S. soldier was sentenced to 90 years in jail.', 'Liverpool beat Chelsea.', 'The \"Piano Man\" worked for a British tabloid.', 'Arlan and Sarah Calderon are Japanese.', 'The woman in the Kevorkian case injected lethal chemicals into her body.', 'Franz Liszt lived from 1811 to 1886.', '11 people died in the terror attacks in Mumbai.', 'US withdraws war crimes', 'Giovanni Agnelli is the president of Fiat.', 'The moon Titan has a diameter of 5100 kilometers.', 'Buda is located on the west bank of the Danube.', 'Zorrilla started the revolution of 1868.', 'Three people committed suicide in jail.', 'Jahche Broughton is the murderer of Miss Aim.', 'Ms. Miers was a leader of an evangelical church.', 'Four people were assassinated by the pilot.', 'American accused of espionage', 'Sylvia Costas is the wife of Andy Sipowicz.', 'The mayor of Mulqui district was murdered with a firearm.', \"EU nations' citizens protest against punishment for unemployment.\", 'The Normandy landings took place in June 1944.', \"The name of George H.W. Bush's wife is Barbara.\", 'The delegations may only speak periodically to the press, in order to concentrate on the issues.', 'Antonio di Pietro is a magistrate.', \"Anderson and colleagues used fetal neural stem cells, a type that are slightly more developed than embryonic stem cells because they're destined to make cells for the central nervous system.\", 'The Rolling Stones have begun their latest  tour with a concert in Boston.', 'Citizens of the 25 EU nations are punished by their governments for everything.', 'The Senate is the least productive.', 'Israeli troops carried settlers out of homes, synagogues and even nursery schools.', 'Apathy clouds EU voting.', 'Vladimir Putin does not support Medvedev.', 'Two South Africans were arrested in Pakistan in the past week after a shoot-out at a house between al-Qaeda operatives and security forces.', 'The Brazilian President is Luiz Inácio Lula da Silva.', 'Abu Musab al-Zarqawi is affiliated with Al-Qaeda.', 'Pope Benedict XVI is the new leader of the Roman Catholic Church.', 'Aristide is the mayor of Port-au-Prince', 'Ahmadinejab threatens Iran nuclear activity.', 'Servicemen and women are fighting a war in southern Afghanistan.', 'AIDS spreads in Africa.', 'People are likely to start smoking tobacco when young.', 'Noraini had a twin sister called Endon.', 'John J. Famalaro is accused of having killed Denise A. Huber.', \"The name of George H.W. Bush's wife is Barbara.\", 'Norm Coleman is a member of the Republican Party.', \"Willesden will appear before Horseferry Road magistrates' court today.\", 'Dick Cheney was the Vice President of Bush.', 'Three rebels were killed by government troops.', 'Doris Lessing won the Nobel Prize in Literature in 2007.', 'Mark Lotwis is a Democrat.', 'A German nurse was convicted of manslaughter and mercy killing of patients by lethal injection.', 'Patricia Arquette collected best drama actress for psychic crime drama \"Medium\", while James Spader won best actor for \"Boston Legal\" for a second year.', 'Mahmoud Abbas has claimed victory in the presidential elections.', '100 or more people lost their lives in a ferry sinking.', 'Hunting endangers seal species.', 'The British indicated readiness to allow Argentine companies to take part in the development of oilfields.', 'Lille has defeated Manchester United.', 'Mount Olympus is in Greece.', 'Juan Carlos Lecompte is the founder of the Green Oxygen Party.', 'Budapest was once popularly known as the \"Queen of the Danube.\"', 'Mr Green tries to take over Marks & Spencer.', 'Disneyland has accident', 'Jacob Zuma is the leader of the ANC party.', 'Juan Carmelo Santana was killed by Brian and Tina Johnson.', 'The Berlin Wall was torn down in November, 1989.', 'The weather channel gives you information about the weather in the next few days.', 'Williams has a daughter called Matilda.', 'UK troops stormed a police station in Iraq.', 'U.S. to use Turkish military bases.', 'John Kerry was friends with Hunter S. Thompson.', 'Bacteria is winning the war against antibiotics.', 'A lawsuit was filed against Wal-Mart.', 'Michel Mayor is the discoverer of the High Accuracy Radial Velocity Planet Searcher.', 'Cyanide is used in gold mining.', 'Kaspars Ruklis works for the United States Embassy.', 'Judith Miller is a member of CIA.', 'The coalition is coordinated by the U.S', 'Morro da Rocinha is near the Vidigal favela.', 'Yunus started his own bank to loan money to the villagers.', 'AIDS spreads in Africa.', '100 or more people lost their lives in a ferry sinking.', 'Aristide is due to live at Port-au-Prince again.', 'English is the primary language of the Philippines.', 'Hotel Rosengarten is a completely clothing-free hotel.', '3.2 million Muslims live in Germany.', 'Robots serve as wax singers in the Rock Hall of Fame.', 'Google may build a campus on NASA property.', 'Alison Hargreaves is the first woman to have made the climb up the Everest with no artificial oxygen.', 'The climbing community supports AFCA.', 'The December burst came from a neutron star in the constellation Sagittarius.', 'Nobel Peace Prize candidates have been chosen.', 'Green card is now difficult to receive.', 'Slovenia has 2 million inhabitants.', \"Farabundo Marti National Liberation Front is accused of an attack on Merino's home.\", 'A man threw a shoe at the Prime Minister.', 'Mr Mulroney was an ally of Mr Trudeau.', \"Yoko Ono is John Lennon's widow.\", 'Deaf people encounter problems in the social community.', \"Thabo Mbeki is a citizen of Cote d'Ivoire.\", 'Amid growing concern among congressional Republicans about the huge cost of the planned reconstruction effort, Bush said the federal government could foot the bill without resorting to a tax increase.', 'Dagbladet is a Norwegian newspaper.', 'Most of the illegal votes cast in the election went to Gregoire.', 'Coal stocks rise.', 'Sandra Levy works for Channel Nine.', 'The Soviet Union collapsed in 1991.', 'Dodgers lose first game ever at Fenway', 'A hydroelectric project is proposed or is under construction.', \"The biggest art theft in US history was the theft of a dozen works from Boston's Gardner Museum.\", 'Lutheran Brotherhood received the Nobel Peace Prize in 1989.', 'A bridge falls into the Mississippi River.', 'The train literally floats above the track.', 'Women in Iraq have lost their freedom.', 'Scientists want children to learn evolution.', 'Great Britain continues to refuse to discuss sovereignty issues.', 'Vance worked with Hooper.', 'China is a member of SCO.', 'Grozny is the capital of Chechnya.', 'Nick Leeson was arrested for collapse of Barings Bank PLC.', 'A member of the opposition was injured in a car bomb attack in Beirut.', 'Drug legalization has benefits.', 'The pope made the sign of the cross.', 'The Ebola virus has been found in Zaire.', 'Jose Jesus Pena is accused of the assassination of Manuel Antonio Rugama.', 'Oqueli was a member of the Socialist party.', 'The House quickly passes bills addressing the priorities of entrepreneurs.', 'Casablanca is a Moroccan city.', 'Sohan Dosova is 130 years old.', \"Clark is a relative of Jones'.\", \"Pakistan's nuclear arsenal creates concerns.\", 'There was an industrial espionage case involving GM and VW.', 'Cyprus was divided into two parts on May 1, 2004.', 'James Hahn is a member of the Automobile Club of Southern California.', 'People experienced adverse effects while taking aspirin.', 'Ramos da Silva killed 11 people.', 'The funeral procession had been directed to the UNDP headquarters in Baghdad, where signs denouncing Americans as \"enemies of God,\" were seen.', 'Madonna is 50 years old.', 'Martin Luther King was murdered in 1968.', 'Kevin Vincent buys store brand acetaminophen.', \"Aspirin is one of the most widely used pain relievers available without a doctor's note.\", \"Gansas' attorneys have said that rule was not communicated to ferry staff.\", 'between 19 and 32 men are being held at Paddington Green high security police station in central London.', 'Robots are used to assist in a range of surgical procedures.', 'Sex-change operations become more common.', 'Intelligent design supports Darwinian evolution.', 'Last year, the tally was 148', 'Rick Dinon is the senior vice president of 20th Century Insurance Co.', 'Frank Goodyer was caught driving over the speed limit.', 'One case involved the extradition of Libyan suspects in the Pan Am Lockerbie bombing.', 'Mabel Normand starred in The Extra Girl.', 'Prehistoric art discovered in South Africa.', 'Capital punishment is a deterrent to crime.', 'Toshiba is a subsidiary of Dell Inc.', 'Maglev is commercially used.', 'Women are poorly represented in parliament.', 'Yamaguchi survived two atomic bombings.', 'Madonna has three children.', 'Prince Charles owns an estate in Bristol.', 'The Brazilian President is Luiz Inácio Lula da Silva.', \"Nicolas Cage's son is called Kal-el.\", \"An attempt on Andres Pastrana's life was carried out using a powerful bomb.\", 'Domestic fires are the major cause of fire death.', 'The National Assessment of Adult Literacy is a project held by the US National Center for Education Statistics.', 'Carrie Prejean is Miss California.', 'Chimps design tools to catch termites.', 'European nations were considering releasing oil reserves to help the United States after Hurricane Katrina.', 'Avigdor Lieberman is the Foreign Minister of Israel.', 'More than four million people have remained stubbornly unemployed in the last three years.', 'Centralized inventory records for museums aid in theft awareness.', 'France angered a number of countries, by inviting Mr. Mugabe to attend a Franco-African summit in Paris.', 'President Bill Clinton is a supporter of \"social capitalism\".', 'Suncreams designed for children protect at the level they advertise.', 'Brigitte Boisselier announced that a cloned baby had been born.', 'Robots are used in the food industry, in general.', 'Deng Haihua is an employee of the Chinese Center for Disease Control and Prevention.', 'Wikipedia is an online encyclopedia anyone can edit.', 'MG Rover has been bought by Airbus.', 'The ban on ivory trade has been effective in protecting the elephant from extinction.', 'Israel has 70 Jewish inhabitants.', 'Romulus is found southwest of Detroit.', 'The diameter of Pluto measures 1,500 miles.', 'Thousands of Shias have marched in the southern Iraqi city of Basra to back the new constitution.', 'Smriti Kana Saha of Ranjat village is part of the Middle Andaman Island.', 'Edvard Munch painted \"The Scream\".', 'Andreotti is accused of Mafia collusion.', 'Church of Scientology includes Lena Lewis among its members.', \"Thousands of Shiite Muslims rallied in the southern city of Basra to show support for Iraq's new constitution.\", \"Merger of Japanese Banks creates the world's biggest bank.\", '2002 Olympic Winter games take place in Salt Lake.', 'Three parties form a Dutch coalition government.', 'Mr. Abbas is a member of the Palestinian family.', 'Slovenia has 1,964,036 inhabitants.', \"Users were unaware of the modem connections' redirection.\", 'The Titanic sank in 1912.', 'Feinblatt works for Bloomberg.', 'Cathy Young is the author of \"Snowball\\'s Chance\".'],)\n"
     ]
    },
    {
     "data": {
      "text/plain": [
       "[{'label': 'LABEL_0', 'score': 0.9293341636657715},\n",
       " {'label': 'LABEL_0', 'score': 0.953589677810669},\n",
       " {'label': 'LABEL_1', 'score': 0.9991462230682373},\n",
       " {'label': 'LABEL_1', 'score': 0.9962266683578491},\n",
       " {'label': 'LABEL_0', 'score': 0.9636102914810181},\n",
       " {'label': 'LABEL_1', 'score': 0.9977695941925049},\n",
       " {'label': 'LABEL_0', 'score': 0.9960336089134216},\n",
       " {'label': 'LABEL_1', 'score': 0.6843857765197754},\n",
       " {'label': 'LABEL_0', 'score': 0.7973372936248779},\n",
       " {'label': 'LABEL_0', 'score': 0.9373760223388672}]"
      ]
     },
     "execution_count": 24,
     "metadata": {},
     "output_type": "execute_result"
    }
   ],
   "source": [
    "preds = savedModel_BERT(raw_dataset['test']['sentence1'], raw_dataset['test']['sentence2'])\n",
    "\n",
    "preds[:10]"
   ]
  },
  {
   "cell_type": "code",
   "execution_count": 25,
   "metadata": {},
   "outputs": [
    {
     "data": {
      "text/plain": [
       "[0, 0, 1, 1, 0, 1, 0, 1, 0, 0]"
      ]
     },
     "execution_count": 25,
     "metadata": {},
     "output_type": "execute_result"
    }
   ],
   "source": [
    "preds_labels = [int(d['label'].split('_')[1]) for d in preds]\n",
    "preds_labels[:10]"
   ]
  },
  {
   "cell_type": "code",
   "execution_count": 26,
   "metadata": {},
   "outputs": [
    {
     "name": "stdout",
     "output_type": "stream",
     "text": [
      "Acc.: 0.564\n",
      "F1.: 0.555283557731538\n"
     ]
    },
    {
     "data": {
      "text/plain": [
       "<sklearn.metrics._plot.confusion_matrix.ConfusionMatrixDisplay at 0x7f7269e4edf0>"
      ]
     },
     "execution_count": 26,
     "metadata": {},
     "output_type": "execute_result"
    },
    {
     "data": {
      "image/png": "[encoded data removed]",
      "text/plain": [
       "<Figure size 640x480 with 2 Axes>"
      ]
     },
     "metadata": {},
     "output_type": "display_data"
    }
   ],
   "source": [
    "print(f\"Acc.: {accuracy_score(y_true=raw_dataset['test']['label'], y_pred=preds_labels)}\")\n",
    "print(f\"F1.: {f1_score(y_true=raw_dataset['test']['label'], y_pred=preds_labels, average='macro')}\")\n",
    "\n",
    "cm = confusion_matrix(y_true=raw_dataset['test']['label'], y_pred=preds_labels)\n",
    "ConfusionMatrixDisplay(confusion_matrix=cm).plot(cmap='Blues')"
   ]
  },
  {
   "cell_type": "code",
   "execution_count": 27,
   "metadata": {},
   "outputs": [],
   "source": [
    "# We need to free memory, since it uses gigabytes of memory\n",
    "!rm -rf ./training_dir_rte_BERT\n",
    "\n",
    "# del python variables, specially those that are getting lots of GPU memory\n",
    "del tokenizer_BERT\n",
    "del tokenize_fn_BERT\n",
    "del training_args_BERT\n",
    "del trainer_BERT\n",
    "del savedModel_BERT\n",
    "del model_BERT\n",
    "del preds"
   ]
  },
  {
   "cell_type": "markdown",
   "metadata": {},
   "source": [
    "## 2.2. Let's do the task for DistilBERT"
   ]
  },
  {
   "cell_type": "code",
   "execution_count": 15,
   "metadata": {},
   "outputs": [
    {
     "data": {
      "text/plain": [
       "DatasetDict({\n",
       "    train: Dataset({\n",
       "        features: ['sentence1', 'sentence2', 'label', 'idx', 'input_ids', 'attention_mask'],\n",
       "        num_rows: 2240\n",
       "    })\n",
       "    test: Dataset({\n",
       "        features: ['sentence1', 'sentence2', 'label', 'idx', 'input_ids', 'attention_mask'],\n",
       "        num_rows: 250\n",
       "    })\n",
       "    validation: Dataset({\n",
       "        features: ['sentence1', 'sentence2', 'label', 'idx', 'input_ids', 'attention_mask'],\n",
       "        num_rows: 277\n",
       "    })\n",
       "})"
      ]
     },
     "execution_count": 15,
     "metadata": {},
     "output_type": "execute_result"
    }
   ],
   "source": [
    "tokenize_fn_DistilBERT = get_tokenize_fn(tokenizer_DistilBERT)\n",
    "\n",
    "tokenized_datasets_DiltilBERT = raw_dataset.map(tokenize_fn_DistilBERT, batched=True)\n",
    "tokenized_datasets_DiltilBERT"
   ]
  },
  {
   "cell_type": "code",
   "execution_count": 16,
   "metadata": {},
   "outputs": [
    {
     "name": "stderr",
     "output_type": "stream",
     "text": [
      "Some weights of DistilBertForSequenceClassification were not initialized from the model checkpoint at distilbert-base-cased and are newly initialized: ['classifier.weight', 'classifier.bias', 'pre_classifier.weight', 'pre_classifier.bias']\n",
      "You should probably TRAIN this model on a down-stream task to be able to use it for predictions and inference.\n"
     ]
    }
   ],
   "source": [
    "model_DistilBERT = AutoModelForSequenceClassification.from_pretrained(checkpoint_DistilBERT, num_labels=2)"
   ]
  },
  {
   "cell_type": "code",
   "execution_count": 17,
   "metadata": {},
   "outputs": [],
   "source": [
    "training_args_DistilBERT = TrainingArguments(\n",
    "    \"training_dir_rte_DistilBERT\",\n",
    "    evaluation_strategy = \"epoch\",\n",
    "    save_strategy=\"epoch\",\n",
    "    per_device_train_batch_size=16,\n",
    "    per_device_eval_batch_size=16,\n",
    "    num_train_epochs=10,\n",
    ")"
   ]
  },
  {
   "cell_type": "code",
   "execution_count": 18,
   "metadata": {},
   "outputs": [],
   "source": [
    "trainer_DistilBERT = Trainer(\n",
    "    model_DistilBERT,\n",
    "    training_args_DistilBERT,\n",
    "    train_dataset=tokenized_datasets_DiltilBERT['train'],\n",
    "    eval_dataset=tokenized_datasets_DiltilBERT['validation'],\n",
    "    tokenizer=tokenizer_DistilBERT,\n",
    "    compute_metrics=compute_metrics,\n",
    ")"
   ]
  },
  {
   "cell_type": "code",
   "execution_count": 19,
   "metadata": {},
   "outputs": [],
   "source": [
    "# pytorch clear GPU memory\n",
    "torch.cuda.empty_cache()"
   ]
  },
  {
   "cell_type": "code",
   "execution_count": 20,
   "metadata": {},
   "outputs": [
    {
     "name": "stderr",
     "output_type": "stream",
     "text": [
      "/home/bruno/anaconda3/envs/gpt/lib/python3.9/site-packages/transformers/optimization.py:411: FutureWarning: This implementation of AdamW is deprecated and will be removed in a future version. Use the PyTorch implementation torch.optim.AdamW instead, or set `no_deprecation_warning=True` to disable this warning\n",
      "  warnings.warn(\n"
     ]
    },
    {
     "data": {
      "application/vnd.jupyter.widget-view+json": {
       "model_id": "5dfab2a4ba5f4c58aa025ca1c1cba2b8",
       "version_major": 2,
       "version_minor": 0
      },
      "text/plain": [
       "  0%|          | 0/1400 [00:00<?, ?it/s]"
      ]
     },
     "metadata": {},
     "output_type": "display_data"
    },
    {
     "name": "stderr",
     "output_type": "stream",
     "text": [
      "You're using a DistilBertTokenizerFast tokenizer. Please note that with a fast tokenizer, using the `__call__` method is faster than using a method to encode the text followed by a call to the `pad` method to get a padded encoding.\n"
     ]
    },
    {
     "data": {
      "application/vnd.jupyter.widget-view+json": {
       "model_id": "1e7000c343a249209b436381da47f7ad",
       "version_major": 2,
       "version_minor": 0
      },
      "text/plain": [
       "  0%|          | 0/18 [00:00<?, ?it/s]"
      ]
     },
     "metadata": {},
     "output_type": "display_data"
    },
    {
     "name": "stdout",
     "output_type": "stream",
     "text": [
      "{'eval_loss': 0.7200224995613098, 'eval_accuracy': 0.47653429602888087, 'eval_runtime': 0.9096, 'eval_samples_per_second': 304.523, 'eval_steps_per_second': 19.789, 'epoch': 1.0}\n"
     ]
    },
    {
     "data": {
      "application/vnd.jupyter.widget-view+json": {
       "model_id": "4037ec6c08e54745bb16b672f28f82a4",
       "version_major": 2,
       "version_minor": 0
      },
      "text/plain": [
       "  0%|          | 0/18 [00:00<?, ?it/s]"
      ]
     },
     "metadata": {},
     "output_type": "display_data"
    },
    {
     "name": "stdout",
     "output_type": "stream",
     "text": [
      "{'eval_loss': 0.69959956407547, 'eval_accuracy': 0.5631768953068592, 'eval_runtime': 1.0822, 'eval_samples_per_second': 255.958, 'eval_steps_per_second': 16.633, 'epoch': 2.0}\n"
     ]
    },
    {
     "data": {
      "application/vnd.jupyter.widget-view+json": {
       "model_id": "e448243736674964b65e2ff965dca7e0",
       "version_major": 2,
       "version_minor": 0
      },
      "text/plain": [
       "  0%|          | 0/18 [00:00<?, ?it/s]"
      ]
     },
     "metadata": {},
     "output_type": "display_data"
    },
    {
     "name": "stdout",
     "output_type": "stream",
     "text": [
      "{'eval_loss': 0.8672748804092407, 'eval_accuracy': 0.5776173285198556, 'eval_runtime': 1.1749, 'eval_samples_per_second': 235.758, 'eval_steps_per_second': 15.32, 'epoch': 3.0}\n",
      "{'loss': 0.5246, 'learning_rate': 3.2142857142857144e-05, 'epoch': 3.57}\n"
     ]
    },
    {
     "data": {
      "application/vnd.jupyter.widget-view+json": {
       "model_id": "8720f952eddc4adfacbfcc4ad2c165cc",
       "version_major": 2,
       "version_minor": 0
      },
      "text/plain": [
       "  0%|          | 0/18 [00:00<?, ?it/s]"
      ]
     },
     "metadata": {},
     "output_type": "display_data"
    },
    {
     "name": "stdout",
     "output_type": "stream",
     "text": [
      "{'eval_loss': 1.3077465295791626, 'eval_accuracy': 0.628158844765343, 'eval_runtime': 1.1561, 'eval_samples_per_second': 239.599, 'eval_steps_per_second': 15.57, 'epoch': 4.0}\n"
     ]
    },
    {
     "data": {
      "application/vnd.jupyter.widget-view+json": {
       "model_id": "f71541cb7faf43018f2e8f25609d81f3",
       "version_major": 2,
       "version_minor": 0
      },
      "text/plain": [
       "  0%|          | 0/18 [00:00<?, ?it/s]"
      ]
     },
     "metadata": {},
     "output_type": "display_data"
    },
    {
     "name": "stdout",
     "output_type": "stream",
     "text": [
      "{'eval_loss': 1.9117366075515747, 'eval_accuracy': 0.592057761732852, 'eval_runtime': 1.1498, 'eval_samples_per_second': 240.922, 'eval_steps_per_second': 15.656, 'epoch': 5.0}\n"
     ]
    },
    {
     "data": {
      "application/vnd.jupyter.widget-view+json": {
       "model_id": "0b197be3f7c9487faa43b73e33119005",
       "version_major": 2,
       "version_minor": 0
      },
      "text/plain": [
       "  0%|          | 0/18 [00:00<?, ?it/s]"
      ]
     },
     "metadata": {},
     "output_type": "display_data"
    },
    {
     "name": "stdout",
     "output_type": "stream",
     "text": [
      "{'eval_loss': 2.0734682083129883, 'eval_accuracy': 0.6173285198555957, 'eval_runtime': 1.1262, 'eval_samples_per_second': 245.952, 'eval_steps_per_second': 15.982, 'epoch': 6.0}\n"
     ]
    },
    {
     "data": {
      "application/vnd.jupyter.widget-view+json": {
       "model_id": "c537df70ae214615a1533deba277e909",
       "version_major": 2,
       "version_minor": 0
      },
      "text/plain": [
       "  0%|          | 0/18 [00:00<?, ?it/s]"
      ]
     },
     "metadata": {},
     "output_type": "display_data"
    },
    {
     "name": "stdout",
     "output_type": "stream",
     "text": [
      "{'eval_loss': 2.3619308471679688, 'eval_accuracy': 0.6101083032490975, 'eval_runtime': 1.2003, 'eval_samples_per_second': 230.775, 'eval_steps_per_second': 14.996, 'epoch': 7.0}\n",
      "{'loss': 0.0803, 'learning_rate': 1.4285714285714285e-05, 'epoch': 7.14}\n"
     ]
    },
    {
     "data": {
      "application/vnd.jupyter.widget-view+json": {
       "model_id": "4d132f06d48b487aa482d1765e8e7571",
       "version_major": 2,
       "version_minor": 0
      },
      "text/plain": [
       "  0%|          | 0/18 [00:00<?, ?it/s]"
      ]
     },
     "metadata": {},
     "output_type": "display_data"
    },
    {
     "name": "stdout",
     "output_type": "stream",
     "text": [
      "{'eval_loss': 2.4730875492095947, 'eval_accuracy': 0.6209386281588448, 'eval_runtime': 1.1833, 'eval_samples_per_second': 234.083, 'eval_steps_per_second': 15.211, 'epoch': 8.0}\n"
     ]
    },
    {
     "data": {
      "application/vnd.jupyter.widget-view+json": {
       "model_id": "868a853eed6e4fad92a3b09e93ed96b5",
       "version_major": 2,
       "version_minor": 0
      },
      "text/plain": [
       "  0%|          | 0/18 [00:00<?, ?it/s]"
      ]
     },
     "metadata": {},
     "output_type": "display_data"
    },
    {
     "name": "stdout",
     "output_type": "stream",
     "text": [
      "{'eval_loss': 2.563122034072876, 'eval_accuracy': 0.6173285198555957, 'eval_runtime': 1.1454, 'eval_samples_per_second': 241.841, 'eval_steps_per_second': 15.715, 'epoch': 9.0}\n"
     ]
    },
    {
     "data": {
      "application/vnd.jupyter.widget-view+json": {
       "model_id": "e8d90fc759084488a5ebcf78c6242562",
       "version_major": 2,
       "version_minor": 0
      },
      "text/plain": [
       "  0%|          | 0/18 [00:00<?, ?it/s]"
      ]
     },
     "metadata": {},
     "output_type": "display_data"
    },
    {
     "name": "stdout",
     "output_type": "stream",
     "text": [
      "{'eval_loss': 2.6462562084198, 'eval_accuracy': 0.6028880866425993, 'eval_runtime': 1.1803, 'eval_samples_per_second': 234.683, 'eval_steps_per_second': 15.25, 'epoch': 10.0}\n",
      "{'train_runtime': 299.1016, 'train_samples_per_second': 74.891, 'train_steps_per_second': 4.681, 'train_loss': 0.2191916230746678, 'epoch': 10.0}\n"
     ]
    },
    {
     "data": {
      "text/plain": [
       "TrainOutput(global_step=1400, training_loss=0.2191916230746678, metrics={'train_runtime': 299.1016, 'train_samples_per_second': 74.891, 'train_steps_per_second': 4.681, 'train_loss': 0.2191916230746678, 'epoch': 10.0})"
      ]
     },
     "execution_count": 20,
     "metadata": {},
     "output_type": "execute_result"
    }
   ],
   "source": [
    "\n",
    "trainer_DistilBERT.train()"
   ]
  },
  {
   "cell_type": "code",
   "execution_count": 21,
   "metadata": {},
   "outputs": [
    {
     "name": "stdout",
     "output_type": "stream",
     "text": [
      "huggingface/tokenizers: The current process just got forked, after parallelism has already been used. Disabling parallelism to avoid deadlocks...\n",
      "To disable this warning, you can either:\n",
      "\t- Avoid using `tokenizers` before the fork if possible\n",
      "\t- Explicitly set the environment variable TOKENIZERS_PARALLELISM=(true | false)\n",
      "checkpoint-1120  checkpoint-1400  checkpoint-560  checkpoint-980\n",
      "checkpoint-1260  checkpoint-280   checkpoint-700\n",
      "checkpoint-140\t checkpoint-420   checkpoint-840\n"
     ]
    }
   ],
   "source": [
    "!ls training_dir_rte_DistilBERT"
   ]
  },
  {
   "cell_type": "code",
   "execution_count": 27,
   "metadata": {},
   "outputs": [
    {
     "data": {
      "application/vnd.jupyter.widget-view+json": {
       "model_id": "85a70924ac414499885ab5072e76c252",
       "version_major": 2,
       "version_minor": 0
      },
      "text/plain": [
       "  0%|          | 0/4 [00:00<?, ?it/s]"
      ]
     },
     "metadata": {},
     "output_type": "display_data"
    },
    {
     "data": {
      "application/vnd.jupyter.widget-view+json": {
       "model_id": "14a82a04f82a40f8890b483e7c8aad7a",
       "version_major": 2,
       "version_minor": 0
      },
      "text/plain": [
       "  0%|          | 0/4 [00:00<?, ?it/s]"
      ]
     },
     "metadata": {},
     "output_type": "display_data"
    },
    {
     "data": {
      "application/vnd.jupyter.widget-view+json": {
       "model_id": "77426e957ea34f4a9787bcc9761abf31",
       "version_major": 2,
       "version_minor": 0
      },
      "text/plain": [
       "  0%|          | 0/4 [00:00<?, ?it/s]"
      ]
     },
     "metadata": {},
     "output_type": "display_data"
    },
    {
     "data": {
      "application/vnd.jupyter.widget-view+json": {
       "model_id": "ba63cd247141413c8b1dccfb18eacb64",
       "version_major": 2,
       "version_minor": 0
      },
      "text/plain": [
       "  0%|          | 0/4 [00:00<?, ?it/s]"
      ]
     },
     "metadata": {},
     "output_type": "display_data"
    },
    {
     "data": {
      "application/vnd.jupyter.widget-view+json": {
       "model_id": "5c8e290c06154157b4f1ba0dc8c38e8d",
       "version_major": 2,
       "version_minor": 0
      },
      "text/plain": [
       "  0%|          | 0/4 [00:00<?, ?it/s]"
      ]
     },
     "metadata": {},
     "output_type": "display_data"
    },
    {
     "data": {
      "application/vnd.jupyter.widget-view+json": {
       "model_id": "6eee7a3b619f46699bd38ebe18727a4f",
       "version_major": 2,
       "version_minor": 0
      },
      "text/plain": [
       "  0%|          | 0/4 [00:00<?, ?it/s]"
      ]
     },
     "metadata": {},
     "output_type": "display_data"
    },
    {
     "data": {
      "application/vnd.jupyter.widget-view+json": {
       "model_id": "eb87b54790fe49748fd6e1a7c5d93d64",
       "version_major": 2,
       "version_minor": 0
      },
      "text/plain": [
       "  0%|          | 0/4 [00:00<?, ?it/s]"
      ]
     },
     "metadata": {},
     "output_type": "display_data"
    },
    {
     "data": {
      "application/vnd.jupyter.widget-view+json": {
       "model_id": "f6ead429fd9d4043afadfdddb21ebd50",
       "version_major": 2,
       "version_minor": 0
      },
      "text/plain": [
       "  0%|          | 0/4 [00:00<?, ?it/s]"
      ]
     },
     "metadata": {},
     "output_type": "display_data"
    },
    {
     "data": {
      "application/vnd.jupyter.widget-view+json": {
       "model_id": "fe573b6b6e9848ebbbac6bfd961f69bb",
       "version_major": 2,
       "version_minor": 0
      },
      "text/plain": [
       "  0%|          | 0/4 [00:00<?, ?it/s]"
      ]
     },
     "metadata": {},
     "output_type": "display_data"
    },
    {
     "data": {
      "application/vnd.jupyter.widget-view+json": {
       "model_id": "fbf04c114baf41b3924b21ac6d2645f3",
       "version_major": 2,
       "version_minor": 0
      },
      "text/plain": [
       "  0%|          | 0/4 [00:00<?, ?it/s]"
      ]
     },
     "metadata": {},
     "output_type": "display_data"
    },
    {
     "name": "stdout",
     "output_type": "stream",
     "text": [
      "        checkpoint eval_accuracy   eval_f1 eval_loss\n",
      "0   checkpoint-140         0.464   0.31694  0.723102\n",
      "1   checkpoint-280         0.564  0.550708   0.70406\n",
      "2   checkpoint-420         0.564  0.561467  0.842768\n",
      "3   checkpoint-560         0.636  0.612957  1.235893\n",
      "4   checkpoint-700         0.624  0.619889  1.704331\n",
      "5   checkpoint-840          0.64  0.628492  1.892052\n",
      "6   checkpoint-980          0.64   0.63719  2.165268\n",
      "7  checkpoint-1120          0.62  0.619848  2.587144\n",
      "8  checkpoint-1260         0.644  0.637687  2.348965\n",
      "9  checkpoint-1400         0.608  0.606388  2.500496\n"
     ]
    },
    {
     "data": {
      "image/png": "[encoded data removed]",
      "text/plain": [
       "<Figure size 1000x600 with 1 Axes>"
      ]
     },
     "metadata": {},
     "output_type": "display_data"
    }
   ],
   "source": [
    "evalCheckpoints(\n",
    "    ckpt_path=\"training_dir_rte_DistilBERT\",\n",
    "    checkpoints=[\n",
    "        \"checkpoint-140\",\n",
    "        \"checkpoint-280\",\n",
    "        \"checkpoint-420\",\n",
    "        \"checkpoint-560\",\n",
    "        \"checkpoint-700\",\n",
    "        \"checkpoint-840\",\n",
    "        \"checkpoint-980\",\n",
    "        \"checkpoint-1120\",\n",
    "        \"checkpoint-1260\",\n",
    "        \"checkpoint-1400\",\n",
    "    ],\n",
    "    tokenizer=tokenizer_DistilBERT,\n",
    "    tokenized_datasets=tokenized_datasets_DiltilBERT,\n",
    ")\n"
   ]
  },
  {
   "cell_type": "code",
   "execution_count": 28,
   "metadata": {},
   "outputs": [],
   "source": [
    "savedModel_DistilBERT = pipeline('text-classification', model=\"training_dir_rte_DistilBERT/checkpoint-1260\", device=0)"
   ]
  },
  {
   "cell_type": "code",
   "execution_count": 29,
   "metadata": {},
   "outputs": [
    {
     "name": "stderr",
     "output_type": "stream",
     "text": [
      "Ignoring args : (['The ban on ivory trade has been effective in protecting the elephant from extinction.', 'Pamuk won a Nobel Prize.', 'Nokia produces mobile chips.', 'Tom Malinowski is director for Human Rights Watch.', 'Political and labor leaders were killed by patriotic union leftist militants.', 'Barak Obama planned US$3.6 trillion in spending.', 'Parmalat costs 14.3 billion euros.', 'The Rolling Stones have begun their latest world tour with a concert in Boston.', 'EuroDisney is located in the charming city of Magny-Le-Hongre.', 'The WSF takes place in Brazil.', 'The banking firm Barings collapsed due to speculations made by Nick Leeson.', 'EU leaders take part in an EU-Japan summit.', 'John Traynor is an executive of Microsoft.', 'Shapiro teaches at NY University.', 'Nike said orders for footwear and apparel for delivery totaled $4.9 billion, including a 12 percent increase in U.S. orders.', 'Ms Robbins is a co-owner of Armstrong Environmental Inc.', 'Air Force is an organisation based in Southern California.', 'EuroDisney is located in the various parks.', 'Hector Oqueli Colindres comes from El Salvador.', 'Nancy Vine is in business with Donald and Dorothy LeGros.', 'Giulio Andreotti is a prime minister.', 'The latest findings contradict a California study that implicated regular pot smoking as having markedly higher risks for head and neck cancers.', 'Vitas Gerulaitis died of carbon monoxide poisoning.', 'Jean Charles de Menezes is related to Alex Pereira.', \"Klaus Pohl is one of Germany's most performed dramatists.\", 'In France, works of art bought at public auction are exempt from registration.', 'The Ebro Delta is used for farming.', 'Alcohol has an effect on violent crimes.', 'Democrat Culbert L. Olson was elected governor of California.', 'Petroleum is explored in the South Atlantic.', \"The experiment, reported Monday, isn't the first to show that stem cells offer tantalizing hope for spinal cord injury.\", 'The military protection zone around Falklands was lifted.', 'A380 has only 58 seats.', 'The charges were denied by his family.', 'Chris Evans worked for Radio 1.', 'Hepburn, who won four Oscars, died last June aged 96.', 'US shuttle Atlantis docks with the Mir space station.', \"Obama's dog is called Bo.\", 'prime minister targeted for assassination', 'The riots in Greece started on December 6.', 'Roughan has nine children.', 'Protesters confiscated anti-American banners and chanted slogans attacking U.N. Secretary-General Kofi Annan for his close alignment with U.S. policy.', 'Hugh Jackman will play the magician Harry Houdini.', 'Communist China is an organisation based in Beijing and Washington.', 'The Declaration of Independence was signed in 1776.', 'Police found four weapons - a .50-calibre rifle, two military style assault rifles and a handgun in the vehicle.', 'Antonio Fazio works for the Bank of Italy.', 'France still maintains Ecu is the best denomination for the Maastricht single-currency..', 'A French journalist was assaulted in Tunisia.', \"Tyson bit off part of one of Evander Holyfield's ears in 2002.\", 'Steve Jobs is the creator of Apple.', 'Medicare will choose 10 percent of applicants to receive benefits by Aug. 16.', 'Crude oil prices rose to $37.80 per barrel', '100 died at Chamunda Devi Temple.', \"The merger of Japanese Banks creates the world's biggest bank.\", 'Porsche is a German car manufacturer.', 'A U.S. soldier was sentenced to 90 years in jail.', 'Liverpool beat Chelsea.', 'The \"Piano Man\" worked for a British tabloid.', 'Arlan and Sarah Calderon are Japanese.', 'The woman in the Kevorkian case injected lethal chemicals into her body.', 'Franz Liszt lived from 1811 to 1886.', '11 people died in the terror attacks in Mumbai.', 'US withdraws war crimes', 'Giovanni Agnelli is the president of Fiat.', 'The moon Titan has a diameter of 5100 kilometers.', 'Buda is located on the west bank of the Danube.', 'Zorrilla started the revolution of 1868.', 'Three people committed suicide in jail.', 'Jahche Broughton is the murderer of Miss Aim.', 'Ms. Miers was a leader of an evangelical church.', 'Four people were assassinated by the pilot.', 'American accused of espionage', 'Sylvia Costas is the wife of Andy Sipowicz.', 'The mayor of Mulqui district was murdered with a firearm.', \"EU nations' citizens protest against punishment for unemployment.\", 'The Normandy landings took place in June 1944.', \"The name of George H.W. Bush's wife is Barbara.\", 'The delegations may only speak periodically to the press, in order to concentrate on the issues.', 'Antonio di Pietro is a magistrate.', \"Anderson and colleagues used fetal neural stem cells, a type that are slightly more developed than embryonic stem cells because they're destined to make cells for the central nervous system.\", 'The Rolling Stones have begun their latest  tour with a concert in Boston.', 'Citizens of the 25 EU nations are punished by their governments for everything.', 'The Senate is the least productive.', 'Israeli troops carried settlers out of homes, synagogues and even nursery schools.', 'Apathy clouds EU voting.', 'Vladimir Putin does not support Medvedev.', 'Two South Africans were arrested in Pakistan in the past week after a shoot-out at a house between al-Qaeda operatives and security forces.', 'The Brazilian President is Luiz Inácio Lula da Silva.', 'Abu Musab al-Zarqawi is affiliated with Al-Qaeda.', 'Pope Benedict XVI is the new leader of the Roman Catholic Church.', 'Aristide is the mayor of Port-au-Prince', 'Ahmadinejab threatens Iran nuclear activity.', 'Servicemen and women are fighting a war in southern Afghanistan.', 'AIDS spreads in Africa.', 'People are likely to start smoking tobacco when young.', 'Noraini had a twin sister called Endon.', 'John J. Famalaro is accused of having killed Denise A. Huber.', \"The name of George H.W. Bush's wife is Barbara.\", 'Norm Coleman is a member of the Republican Party.', \"Willesden will appear before Horseferry Road magistrates' court today.\", 'Dick Cheney was the Vice President of Bush.', 'Three rebels were killed by government troops.', 'Doris Lessing won the Nobel Prize in Literature in 2007.', 'Mark Lotwis is a Democrat.', 'A German nurse was convicted of manslaughter and mercy killing of patients by lethal injection.', 'Patricia Arquette collected best drama actress for psychic crime drama \"Medium\", while James Spader won best actor for \"Boston Legal\" for a second year.', 'Mahmoud Abbas has claimed victory in the presidential elections.', '100 or more people lost their lives in a ferry sinking.', 'Hunting endangers seal species.', 'The British indicated readiness to allow Argentine companies to take part in the development of oilfields.', 'Lille has defeated Manchester United.', 'Mount Olympus is in Greece.', 'Juan Carlos Lecompte is the founder of the Green Oxygen Party.', 'Budapest was once popularly known as the \"Queen of the Danube.\"', 'Mr Green tries to take over Marks & Spencer.', 'Disneyland has accident', 'Jacob Zuma is the leader of the ANC party.', 'Juan Carmelo Santana was killed by Brian and Tina Johnson.', 'The Berlin Wall was torn down in November, 1989.', 'The weather channel gives you information about the weather in the next few days.', 'Williams has a daughter called Matilda.', 'UK troops stormed a police station in Iraq.', 'U.S. to use Turkish military bases.', 'John Kerry was friends with Hunter S. Thompson.', 'Bacteria is winning the war against antibiotics.', 'A lawsuit was filed against Wal-Mart.', 'Michel Mayor is the discoverer of the High Accuracy Radial Velocity Planet Searcher.', 'Cyanide is used in gold mining.', 'Kaspars Ruklis works for the United States Embassy.', 'Judith Miller is a member of CIA.', 'The coalition is coordinated by the U.S', 'Morro da Rocinha is near the Vidigal favela.', 'Yunus started his own bank to loan money to the villagers.', 'AIDS spreads in Africa.', '100 or more people lost their lives in a ferry sinking.', 'Aristide is due to live at Port-au-Prince again.', 'English is the primary language of the Philippines.', 'Hotel Rosengarten is a completely clothing-free hotel.', '3.2 million Muslims live in Germany.', 'Robots serve as wax singers in the Rock Hall of Fame.', 'Google may build a campus on NASA property.', 'Alison Hargreaves is the first woman to have made the climb up the Everest with no artificial oxygen.', 'The climbing community supports AFCA.', 'The December burst came from a neutron star in the constellation Sagittarius.', 'Nobel Peace Prize candidates have been chosen.', 'Green card is now difficult to receive.', 'Slovenia has 2 million inhabitants.', \"Farabundo Marti National Liberation Front is accused of an attack on Merino's home.\", 'A man threw a shoe at the Prime Minister.', 'Mr Mulroney was an ally of Mr Trudeau.', \"Yoko Ono is John Lennon's widow.\", 'Deaf people encounter problems in the social community.', \"Thabo Mbeki is a citizen of Cote d'Ivoire.\", 'Amid growing concern among congressional Republicans about the huge cost of the planned reconstruction effort, Bush said the federal government could foot the bill without resorting to a tax increase.', 'Dagbladet is a Norwegian newspaper.', 'Most of the illegal votes cast in the election went to Gregoire.', 'Coal stocks rise.', 'Sandra Levy works for Channel Nine.', 'The Soviet Union collapsed in 1991.', 'Dodgers lose first game ever at Fenway', 'A hydroelectric project is proposed or is under construction.', \"The biggest art theft in US history was the theft of a dozen works from Boston's Gardner Museum.\", 'Lutheran Brotherhood received the Nobel Peace Prize in 1989.', 'A bridge falls into the Mississippi River.', 'The train literally floats above the track.', 'Women in Iraq have lost their freedom.', 'Scientists want children to learn evolution.', 'Great Britain continues to refuse to discuss sovereignty issues.', 'Vance worked with Hooper.', 'China is a member of SCO.', 'Grozny is the capital of Chechnya.', 'Nick Leeson was arrested for collapse of Barings Bank PLC.', 'A member of the opposition was injured in a car bomb attack in Beirut.', 'Drug legalization has benefits.', 'The pope made the sign of the cross.', 'The Ebola virus has been found in Zaire.', 'Jose Jesus Pena is accused of the assassination of Manuel Antonio Rugama.', 'Oqueli was a member of the Socialist party.', 'The House quickly passes bills addressing the priorities of entrepreneurs.', 'Casablanca is a Moroccan city.', 'Sohan Dosova is 130 years old.', \"Clark is a relative of Jones'.\", \"Pakistan's nuclear arsenal creates concerns.\", 'There was an industrial espionage case involving GM and VW.', 'Cyprus was divided into two parts on May 1, 2004.', 'James Hahn is a member of the Automobile Club of Southern California.', 'People experienced adverse effects while taking aspirin.', 'Ramos da Silva killed 11 people.', 'The funeral procession had been directed to the UNDP headquarters in Baghdad, where signs denouncing Americans as \"enemies of God,\" were seen.', 'Madonna is 50 years old.', 'Martin Luther King was murdered in 1968.', 'Kevin Vincent buys store brand acetaminophen.', \"Aspirin is one of the most widely used pain relievers available without a doctor's note.\", \"Gansas' attorneys have said that rule was not communicated to ferry staff.\", 'between 19 and 32 men are being held at Paddington Green high security police station in central London.', 'Robots are used to assist in a range of surgical procedures.', 'Sex-change operations become more common.', 'Intelligent design supports Darwinian evolution.', 'Last year, the tally was 148', 'Rick Dinon is the senior vice president of 20th Century Insurance Co.', 'Frank Goodyer was caught driving over the speed limit.', 'One case involved the extradition of Libyan suspects in the Pan Am Lockerbie bombing.', 'Mabel Normand starred in The Extra Girl.', 'Prehistoric art discovered in South Africa.', 'Capital punishment is a deterrent to crime.', 'Toshiba is a subsidiary of Dell Inc.', 'Maglev is commercially used.', 'Women are poorly represented in parliament.', 'Yamaguchi survived two atomic bombings.', 'Madonna has three children.', 'Prince Charles owns an estate in Bristol.', 'The Brazilian President is Luiz Inácio Lula da Silva.', \"Nicolas Cage's son is called Kal-el.\", \"An attempt on Andres Pastrana's life was carried out using a powerful bomb.\", 'Domestic fires are the major cause of fire death.', 'The National Assessment of Adult Literacy is a project held by the US National Center for Education Statistics.', 'Carrie Prejean is Miss California.', 'Chimps design tools to catch termites.', 'European nations were considering releasing oil reserves to help the United States after Hurricane Katrina.', 'Avigdor Lieberman is the Foreign Minister of Israel.', 'More than four million people have remained stubbornly unemployed in the last three years.', 'Centralized inventory records for museums aid in theft awareness.', 'France angered a number of countries, by inviting Mr. Mugabe to attend a Franco-African summit in Paris.', 'President Bill Clinton is a supporter of \"social capitalism\".', 'Suncreams designed for children protect at the level they advertise.', 'Brigitte Boisselier announced that a cloned baby had been born.', 'Robots are used in the food industry, in general.', 'Deng Haihua is an employee of the Chinese Center for Disease Control and Prevention.', 'Wikipedia is an online encyclopedia anyone can edit.', 'MG Rover has been bought by Airbus.', 'The ban on ivory trade has been effective in protecting the elephant from extinction.', 'Israel has 70 Jewish inhabitants.', 'Romulus is found southwest of Detroit.', 'The diameter of Pluto measures 1,500 miles.', 'Thousands of Shias have marched in the southern Iraqi city of Basra to back the new constitution.', 'Smriti Kana Saha of Ranjat village is part of the Middle Andaman Island.', 'Edvard Munch painted \"The Scream\".', 'Andreotti is accused of Mafia collusion.', 'Church of Scientology includes Lena Lewis among its members.', \"Thousands of Shiite Muslims rallied in the southern city of Basra to show support for Iraq's new constitution.\", \"Merger of Japanese Banks creates the world's biggest bank.\", '2002 Olympic Winter games take place in Salt Lake.', 'Three parties form a Dutch coalition government.', 'Mr. Abbas is a member of the Palestinian family.', 'Slovenia has 1,964,036 inhabitants.', \"Users were unaware of the modem connections' redirection.\", 'The Titanic sank in 1912.', 'Feinblatt works for Bloomberg.', 'Cathy Young is the author of \"Snowball\\'s Chance\".'],)\n"
     ]
    },
    {
     "data": {
      "text/plain": [
       "[{'label': 'LABEL_1', 'score': 0.9996517896652222},\n",
       " {'label': 'LABEL_1', 'score': 0.9991357922554016},\n",
       " {'label': 'LABEL_1', 'score': 0.9998127818107605},\n",
       " {'label': 'LABEL_1', 'score': 0.9980409741401672},\n",
       " {'label': 'LABEL_1', 'score': 0.9998817443847656},\n",
       " {'label': 'LABEL_1', 'score': 0.9990063309669495},\n",
       " {'label': 'LABEL_1', 'score': 0.9998409748077393},\n",
       " {'label': 'LABEL_1', 'score': 0.9997665286064148},\n",
       " {'label': 'LABEL_1', 'score': 0.9995230436325073},\n",
       " {'label': 'LABEL_0', 'score': 0.9913431406021118}]"
      ]
     },
     "execution_count": 29,
     "metadata": {},
     "output_type": "execute_result"
    }
   ],
   "source": [
    "preds = savedModel_DistilBERT(raw_dataset['test']['sentence1'], raw_dataset['test']['sentence2'])\n",
    "\n",
    "preds[:10]"
   ]
  },
  {
   "cell_type": "code",
   "execution_count": 30,
   "metadata": {},
   "outputs": [
    {
     "data": {
      "text/plain": [
       "[1, 1, 1, 1, 1, 1, 1, 1, 1, 0]"
      ]
     },
     "execution_count": 30,
     "metadata": {},
     "output_type": "execute_result"
    }
   ],
   "source": [
    "preds_labels = [int(d['label'].split('_')[1]) for d in preds]\n",
    "preds_labels[:10]"
   ]
  },
  {
   "cell_type": "code",
   "execution_count": 31,
   "metadata": {},
   "outputs": [
    {
     "name": "stdout",
     "output_type": "stream",
     "text": [
      "Acc.: 0.528\n",
      "F1.: 0.4770986954055587\n"
     ]
    },
    {
     "data": {
      "text/plain": [
       "<sklearn.metrics._plot.confusion_matrix.ConfusionMatrixDisplay at 0x7fbb142f2610>"
      ]
     },
     "execution_count": 31,
     "metadata": {},
     "output_type": "execute_result"
    },
    {
     "data": {
      "image/png": "[encoded data removed]",
      "text/plain": [
       "<Figure size 640x480 with 2 Axes>"
      ]
     },
     "metadata": {},
     "output_type": "display_data"
    }
   ],
   "source": [
    "print(f\"Acc.: {accuracy_score(y_true=raw_dataset['test']['label'], y_pred=preds_labels)}\")\n",
    "print(f\"F1.: {f1_score(y_true=raw_dataset['test']['label'], y_pred=preds_labels, average='macro')}\")\n",
    "\n",
    "cm = confusion_matrix(y_true=raw_dataset['test']['label'], y_pred=preds_labels)\n",
    "ConfusionMatrixDisplay(confusion_matrix=cm).plot(cmap='Blues')"
   ]
  },
  {
   "cell_type": "code",
   "execution_count": null,
   "metadata": {},
   "outputs": [],
   "source": [
    "# We need to free memory, since it uses gigabytes of memory\n",
    "!rm -rf ./training_dir_rte_DistilBERT\n",
    "\n",
    "# del python variables, specially those that are getting lots of GPU memory\n",
    "del tokenizer_DistilBERT\n",
    "del tokenize_fn_DistilBERT\n",
    "del training_args_DistilBERT\n",
    "del trainer_DistilBERT\n",
    "del savedModel_DistilBERT\n",
    "del model_DistilBERT\n",
    "del preds"
   ]
  }
 ],
 "metadata": {
  "kernelspec": {
   "display_name": "gpt",
   "language": "python",
   "name": "python3"
  },
  "language_info": {
   "codemirror_mode": {
    "name": "ipython",
    "version": 3
   },
   "file_extension": ".py",
   "mimetype": "text/x-python",
   "name": "python",
   "nbconvert_exporter": "python",
   "pygments_lexer": "ipython3",
   "version": "3.9.16"
  },
  "orig_nbformat": 4
 },
 "nbformat": 4,
 "nbformat_minor": 2
}
