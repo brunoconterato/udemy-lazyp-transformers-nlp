{
 "cells": [
  {
   "cell_type": "markdown",
   "metadata": {},
   "source": [
    "# FIne-Tunning Text Classifier for more than 1 input\n",
    "\n",
    "### Example applications:\n",
    "\n",
    "1. (From instructors) Multiple choice questions: pass as inputs the questions and possible answers, and the model will predict the correct answer.\n",
    "2. (From instructors) Chatbot with past context: pass past conversation as input\n",
    "3. (From instructors) QUestion-answering: answer a question along with the passage of text that contains the answer. The model will select the portion of the text where the answer are.\n",
    "\n",
    "### Task: what are other use cases for Multi-Input Text Classifier?\n",
    "\n",
    "2. "
   ]
  },
  {
   "cell_type": "markdown",
   "metadata": {},
   "source": [
    "### But how can we change the number of inputs?\n",
    "\n",
    "Remember: Fine-Tunning generally is to keep all the network (including forst layer) the same and only update weights of the last layer.\n",
    "\n",
    "Answer: we don't need to! We can simply concatenate entries.\n",
    "\n",
    "It might work with RNN too. Exercise: Think about how that moight work in RNN!"
   ]
  },
  {
   "cell_type": "markdown",
   "metadata": {},
   "source": [
    "### Recall BERT\n",
    "\n",
    "BERT is pre-trained in unsupervised NLP tasks.\n",
    "\n",
    "BRET is pre-trained in two tasks: Next Sentence Prediction (NSP) and textual entailment\n",
    "\n",
    "In order to train NSP, we build a binary classifier whether the second sentence follows the first one\n",
    "\n",
    "We use formatted text as following:\n",
    "\n",
    "\"[CLS] This is the sentence one. [SEP] This is the sentence two. [SEP]\"\n",
    "\n",
    "The difference from textual entailment and NSP is the task: now you want to know if the first sentence entails the second sentence.\n",
    "\n",
    "As in NSP, we train a binary classificator.\n",
    "\n",
    "Tradução: Queremos saber se a primeira sentença ocasiona a segunda.\n",
    "\n",
    "Ex.: \"Bob buys a car\" entails \"Bob owns a car\".\n",
    "Ex.? \"Bob purchased cheese\" doesn't entails \"Bob doesn't have cheese\""
   ]
  },
  {
   "cell_type": "markdown",
   "metadata": {},
   "source": [
    "### Task\n",
    "\n",
    "#### Compare BERT and DistilBERT\n",
    "\n",
    "Bert uses the input token_type_id, while DistilBERT doesn't.\n",
    "\n",
    "Your task is:\n",
    "1. Check if \"token_type_id\" is present in BERT, but not in DistilBERT.\n",
    "2. compare both BERT and DistilBERT in terms of time of execution and "
   ]
  },
  {
   "cell_type": "markdown",
   "metadata": {},
   "source": [
    "# Part 1. Warmup!"
   ]
  },
  {
   "cell_type": "code",
   "execution_count": 1,
   "metadata": {},
   "outputs": [],
   "source": [
    "from datasets import load_dataset, load_metric\n",
    "from transformers import (\n",
    "    AutoTokenizer,\n",
    "    AutoModelForSequenceClassification,\n",
    "    TrainingArguments,\n",
    "    Trainer,\n",
    "    pipeline,\n",
    ")\n",
    "\n",
    "from sklearn.metrics import accuracy_score, f1_score, confusion_matrix, ConfusionMatrixDisplay\n",
    "\n",
    "\n",
    "import torch\n",
    "import matplotlib.pyplot as plt\n",
    "import seaborn as sn\n",
    "import pandas as pd\n",
    "import numpy as np\n"
   ]
  },
  {
   "cell_type": "markdown",
   "metadata": {},
   "source": [
    "Since the dataset (\"glue\", \"rte\") didn't have labels for the loaded test split at the moment of this notebook was created, we will split train data in train and test data, instead of use the loaded test data"
   ]
  },
  {
   "cell_type": "code",
   "execution_count": 2,
   "metadata": {},
   "outputs": [
    {
     "data": {
      "text/plain": [
       "[Dataset({\n",
       "     features: ['sentence1', 'sentence2', 'label', 'idx'],\n",
       "     num_rows: 2490\n",
       " }),\n",
       " Dataset({\n",
       "     features: ['sentence1', 'sentence2', 'label', 'idx'],\n",
       "     num_rows: 277\n",
       " })]"
      ]
     },
     "execution_count": 2,
     "metadata": {},
     "output_type": "execute_result"
    }
   ],
   "source": [
    "raw_dataset_temp = load_dataset(\"glue\", \"rte\", split=[\"train\", \"validation\"])\n",
    "raw_dataset_temp"
   ]
  },
  {
   "cell_type": "code",
   "execution_count": 3,
   "metadata": {},
   "outputs": [
    {
     "data": {
      "text/plain": [
       "DatasetDict({\n",
       "    train: Dataset({\n",
       "        features: ['sentence1', 'sentence2', 'label', 'idx'],\n",
       "        num_rows: 2240\n",
       "    })\n",
       "    test: Dataset({\n",
       "        features: ['sentence1', 'sentence2', 'label', 'idx'],\n",
       "        num_rows: 250\n",
       "    })\n",
       "    validation: Dataset({\n",
       "        features: ['sentence1', 'sentence2', 'label', 'idx'],\n",
       "        num_rows: 277\n",
       "    })\n",
       "})"
      ]
     },
     "execution_count": 3,
     "metadata": {},
     "output_type": "execute_result"
    }
   ],
   "source": [
    "raw_dataset = raw_dataset_temp[0].train_test_split(test_size=250, seed=42)\n",
    "raw_dataset['validation'] = raw_dataset_temp[1]\n",
    "del raw_dataset_temp\n",
    "raw_dataset"
   ]
  },
  {
   "cell_type": "code",
   "execution_count": 37,
   "metadata": {},
   "outputs": [
    {
     "name": "stdout",
     "output_type": "stream",
     "text": [
      "Train set balance:\n",
      "{1: 0.5022321428571429, 0: 0.49776785714285715}\n",
      "Validation set balance:\n",
      "{1: 0.4729241877256318, 0: 0.5270758122743683}\n",
      "Test set balance:\n",
      "{0: 0.536, 1: 0.464}\n"
     ]
    }
   ],
   "source": [
    "def get_class_balance(dataset):\n",
    "  \"\"\"Gets the class balance of a dataset.\"\"\"\n",
    "  class_counts = {}\n",
    "  for sample in dataset:\n",
    "    if sample[\"label\"] not in class_counts:\n",
    "      class_counts[sample[\"label\"]] = 0\n",
    "    class_counts[sample[\"label\"]] += 1\n",
    "\n",
    "  return {\n",
    "      label: count / len(dataset)\n",
    "      for label, count in class_counts.items()\n",
    "  }\n",
    "\n",
    "print(\"Train set balance:\")\n",
    "print(get_class_balance(raw_dataset[\"train\"]))\n",
    "print(\"Validation set balance:\")\n",
    "print(get_class_balance(raw_dataset[\"validation\"]))\n",
    "print(\"Test set balance:\")\n",
    "print(get_class_balance(raw_dataset[\"test\"]))"
   ]
  },
  {
   "cell_type": "markdown",
   "metadata": {},
   "source": [
    "### Note:\n",
    "\n",
    "We now have two input sentences is a label!"
   ]
  },
  {
   "cell_type": "code",
   "execution_count": 4,
   "metadata": {},
   "outputs": [],
   "source": [
    "checkpoint_BERT = \"bert-base-cased\"\n",
    "checkpoint_DistilBERT = \"distilbert-base-cased\""
   ]
  },
  {
   "cell_type": "code",
   "execution_count": 5,
   "metadata": {},
   "outputs": [],
   "source": [
    "tokenizer_BERT = AutoTokenizer.from_pretrained(checkpoint_BERT)\n",
    "tokenizer_DistilBERT = AutoTokenizer.from_pretrained(checkpoint_DistilBERT)"
   ]
  },
  {
   "cell_type": "code",
   "execution_count": 6,
   "metadata": {},
   "outputs": [
    {
     "data": {
      "text/plain": [
       "('A small bronze bust of Spencer Tracy sold for £174,000.',\n",
       " 'A small bronze bust of Spencer Tracy made £180,447.')"
      ]
     },
     "execution_count": 6,
     "metadata": {},
     "output_type": "execute_result"
    }
   ],
   "source": [
    "sentence_1 = raw_dataset['train']['sentence1'][0]\n",
    "sentence_2 = raw_dataset['train']['sentence2'][0]\n",
    "sentence_1, sentence_2"
   ]
  },
  {
   "cell_type": "code",
   "execution_count": 7,
   "metadata": {},
   "outputs": [
    {
     "data": {
      "text/plain": [
       "{'input_ids': [101, 138, 1353, 4394, 16118, 1104, 6511, 10435, 1962, 1111, 15142, 1559, 1527, 117, 1288, 119, 102, 138, 1353, 4394, 16118, 1104, 6511, 10435, 1189, 15142, 18910, 117, 3140, 1559, 119, 102], 'token_type_ids': [0, 0, 0, 0, 0, 0, 0, 0, 0, 0, 0, 0, 0, 0, 0, 0, 0, 1, 1, 1, 1, 1, 1, 1, 1, 1, 1, 1, 1, 1, 1, 1], 'attention_mask': [1, 1, 1, 1, 1, 1, 1, 1, 1, 1, 1, 1, 1, 1, 1, 1, 1, 1, 1, 1, 1, 1, 1, 1, 1, 1, 1, 1, 1, 1, 1, 1]}"
      ]
     },
     "execution_count": 7,
     "metadata": {},
     "output_type": "execute_result"
    }
   ],
   "source": [
    "result_BERT = tokenizer_BERT(sentence_1, sentence_2)\n",
    "result_BERT"
   ]
  },
  {
   "cell_type": "code",
   "execution_count": 8,
   "metadata": {},
   "outputs": [
    {
     "data": {
      "text/plain": [
       "dict_keys(['input_ids', 'token_type_ids', 'attention_mask'])"
      ]
     },
     "execution_count": 8,
     "metadata": {},
     "output_type": "execute_result"
    }
   ],
   "source": [
    "result_BERT.keys()"
   ]
  },
  {
   "cell_type": "code",
   "execution_count": 9,
   "metadata": {},
   "outputs": [
    {
     "data": {
      "text/plain": [
       "'[CLS] A small bronze bust of Spencer Tracy sold for £174, 000. [SEP] A small bronze bust of Spencer Tracy made £180, 447. [SEP]'"
      ]
     },
     "execution_count": 9,
     "metadata": {},
     "output_type": "execute_result"
    }
   ],
   "source": [
    "tokenizer_BERT.decode(result_BERT['input_ids'])"
   ]
  },
  {
   "cell_type": "code",
   "execution_count": 10,
   "metadata": {},
   "outputs": [
    {
     "data": {
      "text/plain": [
       "{'input_ids': [101, 138, 1353, 4394, 16118, 1104, 6511, 10435, 1962, 1111, 15142, 1559, 1527, 117, 1288, 119, 102, 138, 1353, 4394, 16118, 1104, 6511, 10435, 1189, 15142, 18910, 117, 3140, 1559, 119, 102], 'attention_mask': [1, 1, 1, 1, 1, 1, 1, 1, 1, 1, 1, 1, 1, 1, 1, 1, 1, 1, 1, 1, 1, 1, 1, 1, 1, 1, 1, 1, 1, 1, 1, 1]}"
      ]
     },
     "execution_count": 10,
     "metadata": {},
     "output_type": "execute_result"
    }
   ],
   "source": [
    "result_DistilBERT = tokenizer_DistilBERT(sentence_1, sentence_2)\n",
    "result_DistilBERT"
   ]
  },
  {
   "cell_type": "code",
   "execution_count": 11,
   "metadata": {},
   "outputs": [
    {
     "data": {
      "text/plain": [
       "dict_keys(['input_ids', 'attention_mask'])"
      ]
     },
     "execution_count": 11,
     "metadata": {},
     "output_type": "execute_result"
    }
   ],
   "source": [
    "result_DistilBERT.keys()"
   ]
  },
  {
   "cell_type": "code",
   "execution_count": 12,
   "metadata": {},
   "outputs": [
    {
     "data": {
      "text/plain": [
       "'[CLS] A small bronze bust of Spencer Tracy sold for £174, 000. [SEP] A small bronze bust of Spencer Tracy made £180, 447. [SEP]'"
      ]
     },
     "execution_count": 12,
     "metadata": {},
     "output_type": "execute_result"
    }
   ],
   "source": [
    "tokenizer_DistilBERT.decode(result_DistilBERT['input_ids'])"
   ]
  },
  {
   "cell_type": "markdown",
   "metadata": {},
   "source": [
    "### ✅ Task 1"
   ]
  },
  {
   "cell_type": "code",
   "execution_count": 13,
   "metadata": {},
   "outputs": [],
   "source": [
    "def get_tokenize_fn(tokenizer):\n",
    "    def tokenize_fn(batch):\n",
    "        return tokenizer(batch['sentence1'], batch['sentence2'], truncation=True)\n",
    "    \n",
    "    return tokenize_fn"
   ]
  },
  {
   "cell_type": "code",
   "execution_count": 14,
   "metadata": {},
   "outputs": [
    {
     "data": {
      "text/plain": [
       "DatasetDict({\n",
       "    train: Dataset({\n",
       "        features: ['sentence1', 'sentence2', 'label', 'idx', 'input_ids', 'token_type_ids', 'attention_mask'],\n",
       "        num_rows: 2240\n",
       "    })\n",
       "    test: Dataset({\n",
       "        features: ['sentence1', 'sentence2', 'label', 'idx', 'input_ids', 'token_type_ids', 'attention_mask'],\n",
       "        num_rows: 250\n",
       "    })\n",
       "    validation: Dataset({\n",
       "        features: ['sentence1', 'sentence2', 'label', 'idx', 'input_ids', 'token_type_ids', 'attention_mask'],\n",
       "        num_rows: 277\n",
       "    })\n",
       "})"
      ]
     },
     "execution_count": 14,
     "metadata": {},
     "output_type": "execute_result"
    }
   ],
   "source": [
    "tokenize_fn = get_tokenize_fn(tokenizer_BERT)\n",
    "tokenized_datasets = raw_dataset.map(tokenize_fn, batched=True)\n",
    "\n",
    "tokenized_datasets"
   ]
  },
  {
   "cell_type": "code",
   "execution_count": 15,
   "metadata": {},
   "outputs": [
    {
     "data": {
      "text/plain": [
       "{'sentence1': Value(dtype='string', id=None),\n",
       " 'sentence2': Value(dtype='string', id=None),\n",
       " 'label': ClassLabel(names=['entailment', 'not_entailment'], id=None),\n",
       " 'idx': Value(dtype='int32', id=None)}"
      ]
     },
     "execution_count": 15,
     "metadata": {},
     "output_type": "execute_result"
    }
   ],
   "source": [
    "raw_dataset['train'].features"
   ]
  },
  {
   "cell_type": "code",
   "execution_count": 16,
   "metadata": {},
   "outputs": [
    {
     "data": {
      "text/plain": [
       "{'sentence1': 'Hovind, self-styled as \"Dr. Dino\" (whose Ph.D, from a non-accredited correspondence university, is in Christian education) believes in Biblical literalism claimed that he is not liable for taxes and his \"ministry\" does not have to \"render unto Caesar\" because, as he claimed, his workers are \"missionaries\" not \"employees\". Hovind\\'s tax troubles date back to at least 1996, when a judge at Hovind\\'s bankruptcy trial wrote, Hovind \"failed to acknowledge his obligations as a citizen and taxpayer of the United States, seeks to utilize this taxpayer supported court in order to thwart the lawful collection efforts of the Internal Revenue Service.\" The judge concluded, Hovind filed for bankruptcy in \"bad faith,\" and lied about his possessions and income.',\n",
       " 'sentence2': 'Hovind  was found guilty on 59 federal counts.',\n",
       " 'label': 1,\n",
       " 'idx': 878}"
      ]
     },
     "execution_count": 16,
     "metadata": {},
     "output_type": "execute_result"
    }
   ],
   "source": [
    "raw_dataset['train'][25]"
   ]
  },
  {
   "cell_type": "code",
   "execution_count": 17,
   "metadata": {},
   "outputs": [],
   "source": [
    "del tokenize_fn\n",
    "del tokenized_datasets"
   ]
  },
  {
   "cell_type": "code",
   "execution_count": 18,
   "metadata": {},
   "outputs": [
    {
     "name": "stderr",
     "output_type": "stream",
     "text": [
      "/tmp/ipykernel_40251/3426014769.py:1: FutureWarning: load_metric is deprecated and will be removed in the next major version of datasets. Use 'evaluate.load' instead, from the new library 🤗 Evaluate: https://huggingface.co/docs/evaluate\n",
      "  metric = load_metric(\"glue\", \"rte\")\n"
     ]
    },
    {
     "data": {
      "text/plain": [
       "Metric(name: \"glue\", features: {'predictions': Value(dtype='int64', id=None), 'references': Value(dtype='int64', id=None)}, usage: \"\"\"\n",
       "Compute GLUE evaluation metric associated to each GLUE dataset.\n",
       "Args:\n",
       "    predictions: list of predictions to score.\n",
       "        Each translation should be tokenized into a list of tokens.\n",
       "    references: list of lists of references for each translation.\n",
       "        Each reference should be tokenized into a list of tokens.\n",
       "Returns: depending on the GLUE subset, one or several of:\n",
       "    \"accuracy\": Accuracy\n",
       "    \"f1\": F1 score\n",
       "    \"pearson\": Pearson Correlation\n",
       "    \"spearmanr\": Spearman Correlation\n",
       "    \"matthews_correlation\": Matthew Correlation\n",
       "Examples:\n",
       "\n",
       "    >>> glue_metric = datasets.load_metric('glue', 'sst2')  # 'sst2' or any of [\"mnli\", \"mnli_mismatched\", \"mnli_matched\", \"qnli\", \"rte\", \"wnli\", \"hans\"]\n",
       "    >>> references = [0, 1]\n",
       "    >>> predictions = [0, 1]\n",
       "    >>> results = glue_metric.compute(predictions=predictions, references=references)\n",
       "    >>> print(results)\n",
       "    {'accuracy': 1.0}\n",
       "\n",
       "    >>> glue_metric = datasets.load_metric('glue', 'mrpc')  # 'mrpc' or 'qqp'\n",
       "    >>> references = [0, 1]\n",
       "    >>> predictions = [0, 1]\n",
       "    >>> results = glue_metric.compute(predictions=predictions, references=references)\n",
       "    >>> print(results)\n",
       "    {'accuracy': 1.0, 'f1': 1.0}\n",
       "\n",
       "    >>> glue_metric = datasets.load_metric('glue', 'stsb')\n",
       "    >>> references = [0., 1., 2., 3., 4., 5.]\n",
       "    >>> predictions = [0., 1., 2., 3., 4., 5.]\n",
       "    >>> results = glue_metric.compute(predictions=predictions, references=references)\n",
       "    >>> print({\"pearson\": round(results[\"pearson\"], 2), \"spearmanr\": round(results[\"spearmanr\"], 2)})\n",
       "    {'pearson': 1.0, 'spearmanr': 1.0}\n",
       "\n",
       "    >>> glue_metric = datasets.load_metric('glue', 'cola')\n",
       "    >>> references = [0, 1]\n",
       "    >>> predictions = [0, 1]\n",
       "    >>> results = glue_metric.compute(predictions=predictions, references=references)\n",
       "    >>> print(results)\n",
       "    {'matthews_correlation': 1.0}\n",
       "\"\"\", stored examples: 0)"
      ]
     },
     "execution_count": 18,
     "metadata": {},
     "output_type": "execute_result"
    }
   ],
   "source": [
    "metric = load_metric(\"glue\", \"rte\")\n",
    "metric"
   ]
  },
  {
   "cell_type": "code",
   "execution_count": 19,
   "metadata": {},
   "outputs": [],
   "source": [
    "\n",
    "# def compute_metrics(logits_and_labels):\n",
    "#     logits, labels = logits_and_labels\n",
    "#     predictions = np.argmax(logits, axis=-1)\n",
    "#     return metric.compute(predictions=predictions, references=labels)\n",
    "\n",
    "\n",
    "def compute_metrics(logits_and_labels):\n",
    "    logits, labels = logits_and_labels\n",
    "    predictions = np.argmax(logits, axis=-1)\n",
    "    acc = np.mean(predictions == labels)\n",
    "    f1 = f1_score(labels, predictions, average=\"macro\")\n",
    "    return {\"accuracy\": acc, \"f1\": f1}"
   ]
  },
  {
   "cell_type": "code",
   "execution_count": 20,
   "metadata": {},
   "outputs": [],
   "source": [
    "def evalCheckpoints(ckpt_path, checkpoints, tokenizer, tokenized_datasets):\n",
    "    columns = [\"eval_accuracy\", \"eval_f1\", \"eval_loss\"]\n",
    "    results = pd.DataFrame(columns=columns, index=checkpoints)\n",
    "    for _ckpt in checkpoints:\n",
    "        model = AutoModelForSequenceClassification.from_pretrained(\n",
    "            ckpt_path + \"/\" + _ckpt, num_labels=2\n",
    "        )\n",
    "        training_args = TrainingArguments(\n",
    "            output_dir=ckpt_path,\n",
    "            evaluation_strategy=\"epoch\",\n",
    "            save_strategy=\"epoch\",\n",
    "            num_train_epochs=3,\n",
    "            per_device_train_batch_size=16,\n",
    "            per_device_eval_batch_size=16,\n",
    "        )\n",
    "\n",
    "        def compute_metrics(logits_and_labels):\n",
    "            logits, labels = logits_and_labels\n",
    "            predictions = np.argmax(logits, axis=-1)\n",
    "            acc = np.mean(predictions == labels)\n",
    "            f1 = f1_score(labels, predictions, average=\"macro\")\n",
    "            return {\"accuracy\": acc, \"f1\": f1}\n",
    "\n",
    "        trainer = Trainer(\n",
    "            model,\n",
    "            training_args,\n",
    "            train_dataset=tokenized_datasets[\"train\"],\n",
    "            eval_dataset=tokenized_datasets[\"test\"],\n",
    "            tokenizer=tokenizer,\n",
    "            compute_metrics=compute_metrics,\n",
    "        )\n",
    "        result = {k: v for k, v in trainer.evaluate().items() if k in columns}\n",
    "        results.loc[_ckpt] = result\n",
    "\n",
    "    results.reset_index(inplace=True)\n",
    "    results.rename(columns={\"index\": \"checkpoint\"}, inplace=True)\n",
    "    print(results)\n",
    "    # Plot the evaluation results\n",
    "\n",
    "    plt.figure(figsize=(10, 6))\n",
    "    sn.lineplot(x=\"checkpoint\", y=\"eval_f1\", data=results, label=\"F1 Score\")\n",
    "    sn.lineplot(x=\"checkpoint\", y=\"eval_accuracy\", data=results, label=\"Accuracy Score\")\n",
    "    # sn.lineplot(x=\"checkpoint\", y=\"eval_loss\", data=results)\n",
    "    plt.title(\"Evaluation Metrics\")\n",
    "    plt.show()\n"
   ]
  },
  {
   "cell_type": "markdown",
   "metadata": {},
   "source": [
    "### Exercise: complete the notebook on my OWN, before looking at the notebook!"
   ]
  },
  {
   "cell_type": "markdown",
   "metadata": {},
   "source": [
    "# Part 2: Complete by my own!"
   ]
  },
  {
   "cell_type": "markdown",
   "metadata": {},
   "source": [
    "## 2.1. Let's do the task for BERT"
   ]
  },
  {
   "cell_type": "code",
   "execution_count": 21,
   "metadata": {},
   "outputs": [
    {
     "data": {
      "text/plain": [
       "DatasetDict({\n",
       "    train: Dataset({\n",
       "        features: ['sentence1', 'sentence2', 'label', 'idx', 'input_ids', 'token_type_ids', 'attention_mask'],\n",
       "        num_rows: 2240\n",
       "    })\n",
       "    test: Dataset({\n",
       "        features: ['sentence1', 'sentence2', 'label', 'idx', 'input_ids', 'token_type_ids', 'attention_mask'],\n",
       "        num_rows: 250\n",
       "    })\n",
       "    validation: Dataset({\n",
       "        features: ['sentence1', 'sentence2', 'label', 'idx', 'input_ids', 'token_type_ids', 'attention_mask'],\n",
       "        num_rows: 277\n",
       "    })\n",
       "})"
      ]
     },
     "execution_count": 21,
     "metadata": {},
     "output_type": "execute_result"
    }
   ],
   "source": [
    "tokenize_fn_BERT = get_tokenize_fn(tokenizer_BERT)\n",
    "\n",
    "tokenized_datasets_BERT = raw_dataset.map(tokenize_fn_BERT, batched=True)\n",
    "tokenized_datasets_BERT"
   ]
  },
  {
   "cell_type": "code",
   "execution_count": 22,
   "metadata": {},
   "outputs": [
    {
     "name": "stderr",
     "output_type": "stream",
     "text": [
      "Some weights of BertForSequenceClassification were not initialized from the model checkpoint at bert-base-cased and are newly initialized: ['classifier.bias', 'classifier.weight']\n",
      "You should probably TRAIN this model on a down-stream task to be able to use it for predictions and inference.\n"
     ]
    }
   ],
   "source": [
    "model_BERT = AutoModelForSequenceClassification.from_pretrained(checkpoint_BERT, num_labels=2)"
   ]
  },
  {
   "cell_type": "code",
   "execution_count": 23,
   "metadata": {},
   "outputs": [],
   "source": [
    "training_args_BERT = TrainingArguments(\n",
    "    \"training_dir_rte_BERT\",\n",
    "    evaluation_strategy=\"epoch\",\n",
    "    save_strategy=\"epoch\",\n",
    "    num_train_epochs=5,\n",
    "    per_device_train_batch_size=8,\n",
    "    per_device_eval_batch_size=64,\n",
    "    logging_strategy=\"epoch\",\n",
    "    seed=42,\n",
    ")"
   ]
  },
  {
   "cell_type": "code",
   "execution_count": 24,
   "metadata": {},
   "outputs": [],
   "source": [
    "trainer_BERT = Trainer(\n",
    "    model_BERT,\n",
    "    training_args_BERT,\n",
    "    train_dataset=tokenized_datasets_BERT['train'],\n",
    "    eval_dataset=tokenized_datasets_BERT['validation'],\n",
    "    compute_metrics=compute_metrics,\n",
    "    tokenizer=tokenizer_BERT,\n",
    ")"
   ]
  },
  {
   "cell_type": "code",
   "execution_count": 25,
   "metadata": {},
   "outputs": [
    {
     "name": "stderr",
     "output_type": "stream",
     "text": [
      "/home/bruno/anaconda3/envs/gpt/lib/python3.9/site-packages/transformers/optimization.py:411: FutureWarning: This implementation of AdamW is deprecated and will be removed in a future version. Use the PyTorch implementation torch.optim.AdamW instead, or set `no_deprecation_warning=True` to disable this warning\n",
      "  warnings.warn(\n"
     ]
    },
    {
     "data": {
      "application/vnd.jupyter.widget-view+json": {
       "model_id": "d2e7f2040cb04cf9a41f99a4d3590f19",
       "version_major": 2,
       "version_minor": 0
      },
      "text/plain": [
       "  0%|          | 0/1400 [00:00<?, ?it/s]"
      ]
     },
     "metadata": {},
     "output_type": "display_data"
    },
    {
     "name": "stderr",
     "output_type": "stream",
     "text": [
      "You're using a BertTokenizerFast tokenizer. Please note that with a fast tokenizer, using the `__call__` method is faster than using a method to encode the text followed by a call to the `pad` method to get a padded encoding.\n"
     ]
    },
    {
     "name": "stdout",
     "output_type": "stream",
     "text": [
      "{'loss': 0.7039, 'learning_rate': 4e-05, 'epoch': 1.0}\n"
     ]
    },
    {
     "data": {
      "application/vnd.jupyter.widget-view+json": {
       "model_id": "e014db61a7d84a2f84cb0268d8f68a90",
       "version_major": 2,
       "version_minor": 0
      },
      "text/plain": [
       "  0%|          | 0/5 [00:00<?, ?it/s]"
      ]
     },
     "metadata": {},
     "output_type": "display_data"
    },
    {
     "name": "stdout",
     "output_type": "stream",
     "text": [
      "{'eval_loss': 0.6890738606452942, 'eval_accuracy': 0.48014440433212996, 'eval_f1': 0.35246753246753243, 'eval_runtime': 2.2532, 'eval_samples_per_second': 122.936, 'eval_steps_per_second': 2.219, 'epoch': 1.0}\n",
      "{'loss': 0.6831, 'learning_rate': 3e-05, 'epoch': 2.0}\n"
     ]
    },
    {
     "data": {
      "application/vnd.jupyter.widget-view+json": {
       "model_id": "80204019f76840159a0a244c9c29e541",
       "version_major": 2,
       "version_minor": 0
      },
      "text/plain": [
       "  0%|          | 0/5 [00:00<?, ?it/s]"
      ]
     },
     "metadata": {},
     "output_type": "display_data"
    },
    {
     "name": "stdout",
     "output_type": "stream",
     "text": [
      "{'eval_loss': 0.6676690578460693, 'eval_accuracy': 0.6064981949458483, 'eval_f1': 0.5972387113986527, 'eval_runtime': 2.4467, 'eval_samples_per_second': 113.215, 'eval_steps_per_second': 2.044, 'epoch': 2.0}\n",
      "{'loss': 0.6223, 'learning_rate': 2e-05, 'epoch': 3.0}\n"
     ]
    },
    {
     "data": {
      "application/vnd.jupyter.widget-view+json": {
       "model_id": "72cfe2847a404cbc9677c8727797f8ac",
       "version_major": 2,
       "version_minor": 0
      },
      "text/plain": [
       "  0%|          | 0/5 [00:00<?, ?it/s]"
      ]
     },
     "metadata": {},
     "output_type": "display_data"
    },
    {
     "name": "stdout",
     "output_type": "stream",
     "text": [
      "{'eval_loss': 0.6936220526695251, 'eval_accuracy': 0.631768953068592, 'eval_f1': 0.6300282840980516, 'eval_runtime': 2.617, 'eval_samples_per_second': 105.847, 'eval_steps_per_second': 1.911, 'epoch': 3.0}\n",
      "{'loss': 0.4709, 'learning_rate': 1e-05, 'epoch': 4.0}\n"
     ]
    },
    {
     "data": {
      "application/vnd.jupyter.widget-view+json": {
       "model_id": "8f0b909506af4618bcc9c970368e916c",
       "version_major": 2,
       "version_minor": 0
      },
      "text/plain": [
       "  0%|          | 0/5 [00:00<?, ?it/s]"
      ]
     },
     "metadata": {},
     "output_type": "display_data"
    },
    {
     "name": "stdout",
     "output_type": "stream",
     "text": [
      "{'eval_loss': 0.8904157280921936, 'eval_accuracy': 0.6498194945848376, 'eval_f1': 0.6179527648622902, 'eval_runtime': 2.6977, 'eval_samples_per_second': 102.68, 'eval_steps_per_second': 1.853, 'epoch': 4.0}\n",
      "{'loss': 0.333, 'learning_rate': 0.0, 'epoch': 5.0}\n"
     ]
    },
    {
     "data": {
      "application/vnd.jupyter.widget-view+json": {
       "model_id": "4d91b7daac844a5dadb19c1f57e67d3f",
       "version_major": 2,
       "version_minor": 0
      },
      "text/plain": [
       "  0%|          | 0/5 [00:00<?, ?it/s]"
      ]
     },
     "metadata": {},
     "output_type": "display_data"
    },
    {
     "name": "stdout",
     "output_type": "stream",
     "text": [
      "{'eval_loss': 1.0219002962112427, 'eval_accuracy': 0.6606498194945848, 'eval_f1': 0.6382003112494441, 'eval_runtime': 2.6001, 'eval_samples_per_second': 106.536, 'eval_steps_per_second': 1.923, 'epoch': 5.0}\n",
      "{'train_runtime': 313.2823, 'train_samples_per_second': 35.75, 'train_steps_per_second': 4.469, 'train_loss': 0.5626424080984933, 'epoch': 5.0}\n"
     ]
    },
    {
     "data": {
      "text/plain": [
       "TrainOutput(global_step=1400, training_loss=0.5626424080984933, metrics={'train_runtime': 313.2823, 'train_samples_per_second': 35.75, 'train_steps_per_second': 4.469, 'train_loss': 0.5626424080984933, 'epoch': 5.0})"
      ]
     },
     "execution_count": 25,
     "metadata": {},
     "output_type": "execute_result"
    }
   ],
   "source": [
    "trainer_BERT.train()"
   ]
  },
  {
   "cell_type": "code",
   "execution_count": 26,
   "metadata": {},
   "outputs": [
    {
     "name": "stdout",
     "output_type": "stream",
     "text": [
      "huggingface/tokenizers: The current process just got forked, after parallelism has already been used. Disabling parallelism to avoid deadlocks...\n",
      "To disable this warning, you can either:\n",
      "\t- Avoid using `tokenizers` before the fork if possible\n",
      "\t- Explicitly set the environment variable TOKENIZERS_PARALLELISM=(true | false)\n",
      "checkpoint-1120  checkpoint-280  checkpoint-840\n",
      "checkpoint-1400  checkpoint-560\n"
     ]
    }
   ],
   "source": [
    "!ls training_dir_rte_BERT"
   ]
  },
  {
   "cell_type": "code",
   "execution_count": 27,
   "metadata": {},
   "outputs": [
    {
     "data": {
      "application/vnd.jupyter.widget-view+json": {
       "model_id": "0b3ea9b53d0b47a6934fb182f7b0c46e",
       "version_major": 2,
       "version_minor": 0
      },
      "text/plain": [
       "  0%|          | 0/16 [00:00<?, ?it/s]"
      ]
     },
     "metadata": {},
     "output_type": "display_data"
    },
    {
     "data": {
      "application/vnd.jupyter.widget-view+json": {
       "model_id": "f46123b6da6243c88624a83598cebc7d",
       "version_major": 2,
       "version_minor": 0
      },
      "text/plain": [
       "  0%|          | 0/16 [00:00<?, ?it/s]"
      ]
     },
     "metadata": {},
     "output_type": "display_data"
    },
    {
     "data": {
      "application/vnd.jupyter.widget-view+json": {
       "model_id": "7ef0831e69ca40fbb1f39e9f7ee12b46",
       "version_major": 2,
       "version_minor": 0
      },
      "text/plain": [
       "  0%|          | 0/16 [00:00<?, ?it/s]"
      ]
     },
     "metadata": {},
     "output_type": "display_data"
    },
    {
     "data": {
      "application/vnd.jupyter.widget-view+json": {
       "model_id": "d5a408068e3744c79441ac2b36b65018",
       "version_major": 2,
       "version_minor": 0
      },
      "text/plain": [
       "  0%|          | 0/16 [00:00<?, ?it/s]"
      ]
     },
     "metadata": {},
     "output_type": "display_data"
    },
    {
     "data": {
      "application/vnd.jupyter.widget-view+json": {
       "model_id": "a46537f14c924b11a7e02c57172ec13b",
       "version_major": 2,
       "version_minor": 0
      },
      "text/plain": [
       "  0%|          | 0/16 [00:00<?, ?it/s]"
      ]
     },
     "metadata": {},
     "output_type": "display_data"
    },
    {
     "name": "stdout",
     "output_type": "stream",
     "text": [
      "        checkpoint eval_accuracy   eval_f1 eval_loss\n",
      "0   checkpoint-280         0.488  0.370525  0.685627\n",
      "1   checkpoint-560         0.624  0.616038    0.6513\n",
      "2   checkpoint-840         0.644  0.642714  0.682196\n",
      "3  checkpoint-1120          0.66  0.630171  0.856269\n",
      "4  checkpoint-1400         0.688     0.675  0.981474\n"
     ]
    },
    {
     "data": {
      "image/png": "[encoded data removed]",
      "text/plain": [
       "<Figure size 1000x600 with 1 Axes>"
      ]
     },
     "metadata": {},
     "output_type": "display_data"
    }
   ],
   "source": [
    "evalCheckpoints(\n",
    "    ckpt_path=\"training_dir_rte_BERT\",\n",
    "    checkpoints=[\n",
    "        \"checkpoint-280\",\n",
    "        \"checkpoint-560\",\n",
    "        \"checkpoint-840\",\n",
    "        \"checkpoint-1120\",\n",
    "        \"checkpoint-1400\",\n",
    "        # \"checkpoint-1680\",\n",
    "    ],\n",
    "    tokenizer=tokenizer_BERT,\n",
    "    tokenized_datasets=tokenized_datasets_BERT,\n",
    ")\n"
   ]
  },
  {
   "cell_type": "code",
   "execution_count": 28,
   "metadata": {},
   "outputs": [
    {
     "name": "stdout",
     "output_type": "stream",
     "text": [
      "huggingface/tokenizers: The current process just got forked, after parallelism has already been used. Disabling parallelism to avoid deadlocks...\n",
      "To disable this warning, you can either:\n",
      "\t- Avoid using `tokenizers` before the fork if possible\n",
      "\t- Explicitly set the environment variable TOKENIZERS_PARALLELISM=(true | false)\n",
      "huggingface/tokenizers: The current process just got forked, after parallelism has already been used. Disabling parallelism to avoid deadlocks...\n",
      "To disable this warning, you can either:\n",
      "\t- Avoid using `tokenizers` before the fork if possible\n",
      "\t- Explicitly set the environment variable TOKENIZERS_PARALLELISM=(true | false)\n",
      "huggingface/tokenizers: The current process just got forked, after parallelism has already been used. Disabling parallelism to avoid deadlocks...\n",
      "To disable this warning, you can either:\n",
      "\t- Avoid using `tokenizers` before the fork if possible\n",
      "\t- Explicitly set the environment variable TOKENIZERS_PARALLELISM=(true | false)\n",
      "huggingface/tokenizers: The current process just got forked, after parallelism has already been used. Disabling parallelism to avoid deadlocks...\n",
      "To disable this warning, you can either:\n",
      "\t- Avoid using `tokenizers` before the fork if possible\n",
      "\t- Explicitly set the environment variable TOKENIZERS_PARALLELISM=(true | false)\n",
      "huggingface/tokenizers: The current process just got forked, after parallelism has already been used. Disabling parallelism to avoid deadlocks...\n",
      "To disable this warning, you can either:\n",
      "\t- Avoid using `tokenizers` before the fork if possible\n",
      "\t- Explicitly set the environment variable TOKENIZERS_PARALLELISM=(true | false)\n"
     ]
    }
   ],
   "source": [
    "savedModel_BERT = pipeline('text-classification', model=\"training_dir_rte_BERT/checkpoint-1120\", device=0)"
   ]
  },
  {
   "cell_type": "code",
   "execution_count": 29,
   "metadata": {},
   "outputs": [
    {
     "name": "stderr",
     "output_type": "stream",
     "text": [
      "Ignoring args : ('I like ham',)\n"
     ]
    },
    {
     "data": {
      "text/plain": [
       "[{'label': 'LABEL_1', 'score': 0.7764352560043335}]"
      ]
     },
     "execution_count": 29,
     "metadata": {},
     "output_type": "execute_result"
    }
   ],
   "source": [
    "# Look how this will not work:\n",
    "savedModel_BERT(\"I like eggs\", \"I like ham\")"
   ]
  },
  {
   "cell_type": "code",
   "execution_count": 30,
   "metadata": {},
   "outputs": [
    {
     "data": {
      "text/plain": [
       "{'label': 'LABEL_1', 'score': 0.9305574893951416}"
      ]
     },
     "execution_count": 30,
     "metadata": {},
     "output_type": "execute_result"
    }
   ],
   "source": [
    "# This works! (following course QA: https://www.udemy.com/course/data-science-transformers-nlp/learn/lecture/31655016#questions/17845422)\n",
    "\n",
    "savedModel_BERT({'text': \"I don't like fruits\", 'text_pair': \"I like apple\"})"
   ]
  },
  {
   "cell_type": "code",
   "execution_count": 31,
   "metadata": {},
   "outputs": [
    {
     "data": {
      "text/plain": [
       "[{'label': 'LABEL_0', 'score': 0.931443989276886},\n",
       " {'label': 'LABEL_0', 'score': 0.9130197167396545},\n",
       " {'label': 'LABEL_0', 'score': 0.9282119870185852},\n",
       " {'label': 'LABEL_1', 'score': 0.8148350715637207},\n",
       " {'label': 'LABEL_1', 'score': 0.9485133290290833},\n",
       " {'label': 'LABEL_1', 'score': 0.9396941065788269},\n",
       " {'label': 'LABEL_0', 'score': 0.9261466264724731},\n",
       " {'label': 'LABEL_1', 'score': 0.8279871940612793},\n",
       " {'label': 'LABEL_0', 'score': 0.93309086561203},\n",
       " {'label': 'LABEL_0', 'score': 0.9293855428695679}]"
      ]
     },
     "execution_count": 31,
     "metadata": {},
     "output_type": "execute_result"
    }
   ],
   "source": [
    "preds = savedModel_BERT(\n",
    "    [\n",
    "        {\"text\": t, \"text_pair\": t_pair}\n",
    "        for t, t_pair in zip(\n",
    "            raw_dataset[\"test\"][\"sentence1\"], raw_dataset[\"test\"][\"sentence2\"]\n",
    "        )\n",
    "    ]\n",
    ")\n",
    "\n",
    "preds[:10]\n"
   ]
  },
  {
   "cell_type": "code",
   "execution_count": 32,
   "metadata": {},
   "outputs": [
    {
     "data": {
      "text/plain": [
       "[0, 0, 0, 1, 1, 1, 0, 1, 0, 0]"
      ]
     },
     "execution_count": 32,
     "metadata": {},
     "output_type": "execute_result"
    }
   ],
   "source": [
    "preds_labels = [int(d['label'].split('_')[1]) for d in preds]\n",
    "preds_labels[:10]"
   ]
  },
  {
   "cell_type": "code",
   "execution_count": 33,
   "metadata": {},
   "outputs": [
    {
     "name": "stdout",
     "output_type": "stream",
     "text": [
      "Acc.: 0.66\n",
      "F1.: 0.6301710785081536\n"
     ]
    },
    {
     "data": {
      "text/plain": [
       "<sklearn.metrics._plot.confusion_matrix.ConfusionMatrixDisplay at 0x7ff9640a15e0>"
      ]
     },
     "execution_count": 33,
     "metadata": {},
     "output_type": "execute_result"
    },
    {
     "data": {
      "image/png": "[encoded data removed]",
      "text/plain": [
       "<Figure size 640x480 with 2 Axes>"
      ]
     },
     "metadata": {},
     "output_type": "display_data"
    }
   ],
   "source": [
    "print(f\"Acc.: {accuracy_score(y_true=raw_dataset['test']['label'], y_pred=preds_labels)}\")\n",
    "print(f\"F1.: {f1_score(y_true=raw_dataset['test']['label'], y_pred=preds_labels, average='macro')}\")\n",
    "\n",
    "cm = confusion_matrix(y_true=raw_dataset['test']['label'], y_pred=preds_labels)\n",
    "ConfusionMatrixDisplay(confusion_matrix=cm).plot(cmap='Blues')"
   ]
  },
  {
   "cell_type": "code",
   "execution_count": 34,
   "metadata": {},
   "outputs": [],
   "source": [
    "# We need to free memory, since it uses gigabytes of memory\n",
    "!rm -rf ./training_dir_rte_BERT\n",
    "\n",
    "# del python variables, specially those that are getting lots of GPU memory\n",
    "del tokenizer_BERT\n",
    "del tokenize_fn_BERT\n",
    "del training_args_BERT\n",
    "del trainer_BERT\n",
    "del savedModel_BERT\n",
    "del model_BERT\n",
    "del preds"
   ]
  },
  {
   "cell_type": "markdown",
   "metadata": {},
   "source": [
    "## 2.2. Let's do the task for DistilBERT"
   ]
  },
  {
   "cell_type": "code",
   "execution_count": 21,
   "metadata": {},
   "outputs": [
    {
     "data": {
      "text/plain": [
       "DatasetDict({\n",
       "    train: Dataset({\n",
       "        features: ['sentence1', 'sentence2', 'label', 'idx', 'input_ids', 'attention_mask'],\n",
       "        num_rows: 2240\n",
       "    })\n",
       "    test: Dataset({\n",
       "        features: ['sentence1', 'sentence2', 'label', 'idx', 'input_ids', 'attention_mask'],\n",
       "        num_rows: 250\n",
       "    })\n",
       "    validation: Dataset({\n",
       "        features: ['sentence1', 'sentence2', 'label', 'idx', 'input_ids', 'attention_mask'],\n",
       "        num_rows: 277\n",
       "    })\n",
       "})"
      ]
     },
     "execution_count": 21,
     "metadata": {},
     "output_type": "execute_result"
    }
   ],
   "source": [
    "tokenize_fn_DistilBERT = get_tokenize_fn(tokenizer_DistilBERT)\n",
    "\n",
    "tokenized_datasets_DiltilBERT = raw_dataset.map(tokenize_fn_DistilBERT, batched=True)\n",
    "tokenized_datasets_DiltilBERT"
   ]
  },
  {
   "cell_type": "code",
   "execution_count": 22,
   "metadata": {},
   "outputs": [
    {
     "name": "stderr",
     "output_type": "stream",
     "text": [
      "Some weights of DistilBertForSequenceClassification were not initialized from the model checkpoint at distilbert-base-cased and are newly initialized: ['classifier.bias', 'classifier.weight', 'pre_classifier.bias', 'pre_classifier.weight']\n",
      "You should probably TRAIN this model on a down-stream task to be able to use it for predictions and inference.\n"
     ]
    }
   ],
   "source": [
    "model_DistilBERT = AutoModelForSequenceClassification.from_pretrained(checkpoint_DistilBERT, num_labels=2)"
   ]
  },
  {
   "cell_type": "code",
   "execution_count": 24,
   "metadata": {},
   "outputs": [],
   "source": [
    "training_args_DistilBERT = TrainingArguments(\n",
    "    \"training_dir_rte_DistilBERT\",\n",
    "    evaluation_strategy = \"epoch\",\n",
    "    save_strategy=\"epoch\",\n",
    "    per_device_train_batch_size=16,\n",
    "    per_device_eval_batch_size=64,\n",
    "    num_train_epochs=5,\n",
    "    logging_strategy=\"epoch\",\n",
    "    seed=42,\n",
    ")"
   ]
  },
  {
   "cell_type": "code",
   "execution_count": 25,
   "metadata": {},
   "outputs": [],
   "source": [
    "trainer_DistilBERT = Trainer(\n",
    "    model_DistilBERT,\n",
    "    training_args_DistilBERT,\n",
    "    train_dataset=tokenized_datasets_DiltilBERT['train'],\n",
    "    eval_dataset=tokenized_datasets_DiltilBERT['validation'],\n",
    "    tokenizer=tokenizer_DistilBERT,\n",
    "    compute_metrics=compute_metrics,\n",
    ")"
   ]
  },
  {
   "cell_type": "code",
   "execution_count": 26,
   "metadata": {},
   "outputs": [],
   "source": [
    "# pytorch clear GPU memory\n",
    "torch.cuda.empty_cache()"
   ]
  },
  {
   "cell_type": "code",
   "execution_count": 27,
   "metadata": {},
   "outputs": [
    {
     "name": "stderr",
     "output_type": "stream",
     "text": [
      "/home/bruno/anaconda3/envs/gpt/lib/python3.9/site-packages/transformers/optimization.py:411: FutureWarning: This implementation of AdamW is deprecated and will be removed in a future version. Use the PyTorch implementation torch.optim.AdamW instead, or set `no_deprecation_warning=True` to disable this warning\n",
      "  warnings.warn(\n"
     ]
    },
    {
     "data": {
      "application/vnd.jupyter.widget-view+json": {
       "model_id": "2be74698f4bb42c0b8ca2f18de3ab5a2",
       "version_major": 2,
       "version_minor": 0
      },
      "text/plain": [
       "  0%|          | 0/700 [00:00<?, ?it/s]"
      ]
     },
     "metadata": {},
     "output_type": "display_data"
    },
    {
     "name": "stderr",
     "output_type": "stream",
     "text": [
      "You're using a DistilBertTokenizerFast tokenizer. Please note that with a fast tokenizer, using the `__call__` method is faster than using a method to encode the text followed by a call to the `pad` method to get a padded encoding.\n"
     ]
    },
    {
     "name": "stdout",
     "output_type": "stream",
     "text": [
      "{'loss': 0.6989, 'learning_rate': 4e-05, 'epoch': 1.0}\n"
     ]
    },
    {
     "data": {
      "application/vnd.jupyter.widget-view+json": {
       "model_id": "07d9d49d0ab04b1eb2f58fbe8660e79c",
       "version_major": 2,
       "version_minor": 0
      },
      "text/plain": [
       "  0%|          | 0/5 [00:00<?, ?it/s]"
      ]
     },
     "metadata": {},
     "output_type": "display_data"
    },
    {
     "name": "stdout",
     "output_type": "stream",
     "text": [
      "{'eval_loss': 0.717296838760376, 'eval_accuracy': 0.4729241877256318, 'eval_f1': 0.321078431372549, 'eval_runtime': 1.3603, 'eval_samples_per_second': 203.634, 'eval_steps_per_second': 3.676, 'epoch': 1.0}\n",
      "{'loss': 0.669, 'learning_rate': 3e-05, 'epoch': 2.0}\n"
     ]
    },
    {
     "data": {
      "application/vnd.jupyter.widget-view+json": {
       "model_id": "782f2b341aad4a55891d3f9e938d2d68",
       "version_major": 2,
       "version_minor": 0
      },
      "text/plain": [
       "  0%|          | 0/5 [00:00<?, ?it/s]"
      ]
     },
     "metadata": {},
     "output_type": "display_data"
    },
    {
     "name": "stdout",
     "output_type": "stream",
     "text": [
      "{'eval_loss': 0.6763392090797424, 'eval_accuracy': 0.5740072202166066, 'eval_f1': 0.5686041600675746, 'eval_runtime': 1.3671, 'eval_samples_per_second': 202.621, 'eval_steps_per_second': 3.657, 'epoch': 2.0}\n",
      "{'loss': 0.4545, 'learning_rate': 2e-05, 'epoch': 3.0}\n"
     ]
    },
    {
     "data": {
      "application/vnd.jupyter.widget-view+json": {
       "model_id": "987b0435b3014838b93787d29eaac014",
       "version_major": 2,
       "version_minor": 0
      },
      "text/plain": [
       "  0%|          | 0/5 [00:00<?, ?it/s]"
      ]
     },
     "metadata": {},
     "output_type": "display_data"
    },
    {
     "name": "stdout",
     "output_type": "stream",
     "text": [
      "{'eval_loss': 0.8025107383728027, 'eval_accuracy': 0.6137184115523465, 'eval_f1': 0.6132143183390101, 'eval_runtime': 1.1633, 'eval_samples_per_second': 238.126, 'eval_steps_per_second': 4.298, 'epoch': 3.0}\n",
      "{'loss': 0.2234, 'learning_rate': 1e-05, 'epoch': 4.0}\n"
     ]
    },
    {
     "data": {
      "application/vnd.jupyter.widget-view+json": {
       "model_id": "e94ff83d50a54ad6bcbd178fa0bb4565",
       "version_major": 2,
       "version_minor": 0
      },
      "text/plain": [
       "  0%|          | 0/5 [00:00<?, ?it/s]"
      ]
     },
     "metadata": {},
     "output_type": "display_data"
    },
    {
     "name": "stdout",
     "output_type": "stream",
     "text": [
      "{'eval_loss': 1.2093250751495361, 'eval_accuracy': 0.6101083032490975, 'eval_f1': 0.5755873340143003, 'eval_runtime': 1.373, 'eval_samples_per_second': 201.75, 'eval_steps_per_second': 3.642, 'epoch': 4.0}\n",
      "{'loss': 0.1118, 'learning_rate': 0.0, 'epoch': 5.0}\n"
     ]
    },
    {
     "data": {
      "application/vnd.jupyter.widget-view+json": {
       "model_id": "6764773feecc4275949ffe82aa1f7d90",
       "version_major": 2,
       "version_minor": 0
      },
      "text/plain": [
       "  0%|          | 0/5 [00:00<?, ?it/s]"
      ]
     },
     "metadata": {},
     "output_type": "display_data"
    },
    {
     "name": "stdout",
     "output_type": "stream",
     "text": [
      "{'eval_loss': 1.4420864582061768, 'eval_accuracy': 0.6353790613718412, 'eval_f1': 0.6209746250660453, 'eval_runtime': 1.1519, 'eval_samples_per_second': 240.479, 'eval_steps_per_second': 4.341, 'epoch': 5.0}\n",
      "{'train_runtime': 145.6528, 'train_samples_per_second': 76.895, 'train_steps_per_second': 4.806, 'train_loss': 0.4315331540788923, 'epoch': 5.0}\n"
     ]
    },
    {
     "data": {
      "text/plain": [
       "TrainOutput(global_step=700, training_loss=0.4315331540788923, metrics={'train_runtime': 145.6528, 'train_samples_per_second': 76.895, 'train_steps_per_second': 4.806, 'train_loss': 0.4315331540788923, 'epoch': 5.0})"
      ]
     },
     "execution_count": 27,
     "metadata": {},
     "output_type": "execute_result"
    }
   ],
   "source": [
    "\n",
    "trainer_DistilBERT.train()"
   ]
  },
  {
   "cell_type": "code",
   "execution_count": 28,
   "metadata": {},
   "outputs": [
    {
     "name": "stdout",
     "output_type": "stream",
     "text": [
      "huggingface/tokenizers: The current process just got forked, after parallelism has already been used. Disabling parallelism to avoid deadlocks...\n",
      "To disable this warning, you can either:\n",
      "\t- Avoid using `tokenizers` before the fork if possible\n",
      "\t- Explicitly set the environment variable TOKENIZERS_PARALLELISM=(true | false)\n",
      "checkpoint-140\tcheckpoint-280\tcheckpoint-420\tcheckpoint-560\tcheckpoint-700\n"
     ]
    }
   ],
   "source": [
    "!ls training_dir_rte_DistilBERT"
   ]
  },
  {
   "cell_type": "code",
   "execution_count": 29,
   "metadata": {},
   "outputs": [
    {
     "data": {
      "application/vnd.jupyter.widget-view+json": {
       "model_id": "ce4163449f304d398f84a5d8eec880c5",
       "version_major": 2,
       "version_minor": 0
      },
      "text/plain": [
       "  0%|          | 0/16 [00:00<?, ?it/s]"
      ]
     },
     "metadata": {},
     "output_type": "display_data"
    },
    {
     "data": {
      "application/vnd.jupyter.widget-view+json": {
       "model_id": "923fd71532584458b23920c3e06455f9",
       "version_major": 2,
       "version_minor": 0
      },
      "text/plain": [
       "  0%|          | 0/16 [00:00<?, ?it/s]"
      ]
     },
     "metadata": {},
     "output_type": "display_data"
    },
    {
     "data": {
      "application/vnd.jupyter.widget-view+json": {
       "model_id": "e6b3f97abc384b1cb3c8f9fb8bc97f33",
       "version_major": 2,
       "version_minor": 0
      },
      "text/plain": [
       "  0%|          | 0/16 [00:00<?, ?it/s]"
      ]
     },
     "metadata": {},
     "output_type": "display_data"
    },
    {
     "data": {
      "application/vnd.jupyter.widget-view+json": {
       "model_id": "4f5b48bb24e949f2a0a257896ebb4ab2",
       "version_major": 2,
       "version_minor": 0
      },
      "text/plain": [
       "  0%|          | 0/16 [00:00<?, ?it/s]"
      ]
     },
     "metadata": {},
     "output_type": "display_data"
    },
    {
     "data": {
      "application/vnd.jupyter.widget-view+json": {
       "model_id": "24588ecf15a14af4a1516d18855c6ffd",
       "version_major": 2,
       "version_minor": 0
      },
      "text/plain": [
       "  0%|          | 0/16 [00:00<?, ?it/s]"
      ]
     },
     "metadata": {},
     "output_type": "display_data"
    },
    {
     "name": "stdout",
     "output_type": "stream",
     "text": [
      "       checkpoint eval_accuracy   eval_f1 eval_loss\n",
      "0  checkpoint-140         0.464   0.31694  0.720516\n",
      "1  checkpoint-280         0.588  0.582381  0.674801\n",
      "2  checkpoint-420         0.632  0.631976  0.809292\n",
      "3  checkpoint-560         0.688  0.667553  1.030257\n",
      "4  checkpoint-700         0.668  0.658824  1.280911\n"
     ]
    },
    {
     "data": {
      "image/png": "[encoded data removed]",
      "text/plain": [
       "<Figure size 1000x600 with 1 Axes>"
      ]
     },
     "metadata": {},
     "output_type": "display_data"
    }
   ],
   "source": [
    "evalCheckpoints(\n",
    "    ckpt_path=\"training_dir_rte_DistilBERT\",\n",
    "    checkpoints=[\n",
    "        \"checkpoint-140\",\n",
    "        \"checkpoint-280\",\n",
    "        \"checkpoint-420\",\n",
    "        \"checkpoint-560\",\n",
    "        \"checkpoint-700\",\n",
    "        # \"checkpoint-840\",\n",
    "        # \"checkpoint-980\",\n",
    "        # \"checkpoint-1120\",\n",
    "        # \"checkpoint-1260\",\n",
    "        # \"checkpoint-1400\",\n",
    "    ],\n",
    "    tokenizer=tokenizer_DistilBERT,\n",
    "    tokenized_datasets=tokenized_datasets_DiltilBERT,\n",
    ")\n"
   ]
  },
  {
   "cell_type": "code",
   "execution_count": 31,
   "metadata": {},
   "outputs": [
    {
     "name": "stdout",
     "output_type": "stream",
     "text": [
      "huggingface/tokenizers: The current process just got forked, after parallelism has already been used. Disabling parallelism to avoid deadlocks...\n",
      "To disable this warning, you can either:\n",
      "\t- Avoid using `tokenizers` before the fork if possible\n",
      "\t- Explicitly set the environment variable TOKENIZERS_PARALLELISM=(true | false)\n",
      "huggingface/tokenizers: The current process just got forked, after parallelism has already been used. Disabling parallelism to avoid deadlocks...\n",
      "To disable this warning, you can either:\n",
      "\t- Avoid using `tokenizers` before the fork if possible\n",
      "\t- Explicitly set the environment variable TOKENIZERS_PARALLELISM=(true | false)\n",
      "huggingface/tokenizers: The current process just got forked, after parallelism has already been used. Disabling parallelism to avoid deadlocks...\n",
      "To disable this warning, you can either:\n",
      "\t- Avoid using `tokenizers` before the fork if possible\n",
      "\t- Explicitly set the environment variable TOKENIZERS_PARALLELISM=(true | false)\n",
      "huggingface/tokenizers: The current process just got forked, after parallelism has already been used. Disabling parallelism to avoid deadlocks...\n",
      "To disable this warning, you can either:\n",
      "\t- Avoid using `tokenizers` before the fork if possible\n",
      "\t- Explicitly set the environment variable TOKENIZERS_PARALLELISM=(true | false)\n",
      "huggingface/tokenizers: The current process just got forked, after parallelism has already been used. Disabling parallelism to avoid deadlocks...\n",
      "To disable this warning, you can either:\n",
      "\t- Avoid using `tokenizers` before the fork if possible\n",
      "\t- Explicitly set the environment variable TOKENIZERS_PARALLELISM=(true | false)\n"
     ]
    }
   ],
   "source": [
    "savedModel_DistilBERT = pipeline('text-classification', model=\"training_dir_rte_DistilBERT/checkpoint-560\", device=0)"
   ]
  },
  {
   "cell_type": "code",
   "execution_count": 32,
   "metadata": {},
   "outputs": [
    {
     "data": {
      "text/plain": [
       "[{'label': 'LABEL_0', 'score': 0.9684305191040039},\n",
       " {'label': 'LABEL_0', 'score': 0.9886943697929382},\n",
       " {'label': 'LABEL_0', 'score': 0.9884907007217407},\n",
       " {'label': 'LABEL_1', 'score': 0.9584172964096069},\n",
       " {'label': 'LABEL_1', 'score': 0.6339986324310303},\n",
       " {'label': 'LABEL_1', 'score': 0.5334056615829468},\n",
       " {'label': 'LABEL_0', 'score': 0.6203221678733826},\n",
       " {'label': 'LABEL_0', 'score': 0.9657711386680603},\n",
       " {'label': 'LABEL_0', 'score': 0.9828762412071228},\n",
       " {'label': 'LABEL_0', 'score': 0.9805253148078918}]"
      ]
     },
     "execution_count": 32,
     "metadata": {},
     "output_type": "execute_result"
    }
   ],
   "source": [
    "preds = savedModel_DistilBERT(\n",
    "    [\n",
    "        {\"text\": t, \"text_pair\": t_pair}\n",
    "        for t, t_pair in zip(\n",
    "            raw_dataset[\"test\"][\"sentence1\"], raw_dataset[\"test\"][\"sentence2\"]\n",
    "        )\n",
    "    ]\n",
    ")\n",
    "preds[:10]"
   ]
  },
  {
   "cell_type": "code",
   "execution_count": 33,
   "metadata": {},
   "outputs": [
    {
     "data": {
      "text/plain": [
       "[0, 0, 0, 1, 1, 1, 0, 0, 0, 0]"
      ]
     },
     "execution_count": 33,
     "metadata": {},
     "output_type": "execute_result"
    }
   ],
   "source": [
    "preds_labels = [int(d['label'].split('_')[1]) for d in preds]\n",
    "preds_labels[:10]"
   ]
  },
  {
   "cell_type": "code",
   "execution_count": 34,
   "metadata": {},
   "outputs": [
    {
     "name": "stdout",
     "output_type": "stream",
     "text": [
      "Acc.: 0.688\n",
      "F1.: 0.6675531914893618\n"
     ]
    },
    {
     "data": {
      "text/plain": [
       "<sklearn.metrics._plot.confusion_matrix.ConfusionMatrixDisplay at 0x7fa1c820d580>"
      ]
     },
     "execution_count": 34,
     "metadata": {},
     "output_type": "execute_result"
    },
    {
     "data": {
      "image/png": "[encoded data removed]",
      "text/plain": [
       "<Figure size 640x480 with 2 Axes>"
      ]
     },
     "metadata": {},
     "output_type": "display_data"
    }
   ],
   "source": [
    "print(f\"Acc.: {accuracy_score(y_true=raw_dataset['test']['label'], y_pred=preds_labels)}\")\n",
    "print(f\"F1.: {f1_score(y_true=raw_dataset['test']['label'], y_pred=preds_labels, average='macro')}\")\n",
    "\n",
    "cm = confusion_matrix(y_true=raw_dataset['test']['label'], y_pred=preds_labels)\n",
    "ConfusionMatrixDisplay(confusion_matrix=cm).plot(cmap='Blues')"
   ]
  },
  {
   "cell_type": "code",
   "execution_count": 35,
   "metadata": {},
   "outputs": [],
   "source": [
    "# We need to free memory, since it uses gigabytes of memory\n",
    "!rm -rf ./training_dir_rte_DistilBERT\n",
    "\n",
    "# del python variables, specially those that are getting lots of GPU memory\n",
    "del tokenizer_DistilBERT\n",
    "del tokenize_fn_DistilBERT\n",
    "del training_args_DistilBERT\n",
    "del trainer_DistilBERT\n",
    "del savedModel_DistilBERT\n",
    "del model_DistilBERT\n",
    "del preds"
   ]
  }
 ],
 "metadata": {
  "kernelspec": {
   "display_name": "gpt",
   "language": "python",
   "name": "python3"
  },
  "language_info": {
   "codemirror_mode": {
    "name": "ipython",
    "version": 3
   },
   "file_extension": ".py",
   "mimetype": "text/x-python",
   "name": "python",
   "nbconvert_exporter": "python",
   "pygments_lexer": "ipython3",
   "version": "3.9.16"
  },
  "orig_nbformat": 4
 },
 "nbformat": 4,
 "nbformat_minor": 2
}
