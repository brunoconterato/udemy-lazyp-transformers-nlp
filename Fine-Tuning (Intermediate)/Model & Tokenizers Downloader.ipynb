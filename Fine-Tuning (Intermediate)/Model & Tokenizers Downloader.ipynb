{
 "cells": [
  {
   "cell_type": "code",
   "execution_count": 1,
   "metadata": {},
   "outputs": [
    {
     "name": "stdout",
     "output_type": "stream",
     "text": [
      "Requirement already satisfied: transformers[torch] in /home/bruno/anaconda3/envs/gpt/lib/python3.9/site-packages (4.31.0)\n",
      "Requirement already satisfied: packaging>=20.0 in /home/bruno/anaconda3/envs/gpt/lib/python3.9/site-packages (from transformers[torch]) (22.0)\n",
      "Requirement already satisfied: requests in /home/bruno/anaconda3/envs/gpt/lib/python3.9/site-packages (from transformers[torch]) (2.28.1)\n",
      "Requirement already satisfied: numpy>=1.17 in /home/bruno/anaconda3/envs/gpt/lib/python3.9/site-packages (from transformers[torch]) (1.21.5)\n",
      "Requirement already satisfied: tqdm>=4.27 in /home/bruno/anaconda3/envs/gpt/lib/python3.9/site-packages (from transformers[torch]) (4.64.1)\n",
      "Requirement already satisfied: regex!=2019.12.17 in /home/bruno/anaconda3/envs/gpt/lib/python3.9/site-packages (from transformers[torch]) (2022.7.9)\n",
      "Requirement already satisfied: filelock in /home/bruno/anaconda3/envs/gpt/lib/python3.9/site-packages (from transformers[torch]) (3.9.0)\n",
      "Requirement already satisfied: tokenizers!=0.11.3,<0.14,>=0.11.1 in /home/bruno/anaconda3/envs/gpt/lib/python3.9/site-packages (from transformers[torch]) (0.13.3)\n",
      "Requirement already satisfied: huggingface-hub<1.0,>=0.14.1 in /home/bruno/anaconda3/envs/gpt/lib/python3.9/site-packages (from transformers[torch]) (0.16.4)\n",
      "Requirement already satisfied: pyyaml>=5.1 in /home/bruno/anaconda3/envs/gpt/lib/python3.9/site-packages (from transformers[torch]) (6.0)\n",
      "Requirement already satisfied: safetensors>=0.3.1 in /home/bruno/anaconda3/envs/gpt/lib/python3.9/site-packages (from transformers[torch]) (0.3.1)\n",
      "Requirement already satisfied: accelerate>=0.20.3 in /home/bruno/anaconda3/envs/gpt/lib/python3.9/site-packages (from transformers[torch]) (0.21.0)\n",
      "Requirement already satisfied: torch!=1.12.0,>=1.9 in /home/bruno/anaconda3/envs/gpt/lib/python3.9/site-packages (from transformers[torch]) (2.0.1+cu118)\n",
      "Requirement already satisfied: psutil in /home/bruno/anaconda3/envs/gpt/lib/python3.9/site-packages (from accelerate>=0.20.3->transformers[torch]) (5.9.0)\n",
      "Requirement already satisfied: typing-extensions>=3.7.4.3 in /home/bruno/anaconda3/envs/gpt/lib/python3.9/site-packages (from huggingface-hub<1.0,>=0.14.1->transformers[torch]) (4.4.0)\n",
      "Requirement already satisfied: fsspec in /home/bruno/anaconda3/envs/gpt/lib/python3.9/site-packages (from huggingface-hub<1.0,>=0.14.1->transformers[torch]) (2022.11.0)\n",
      "Requirement already satisfied: jinja2 in /home/bruno/anaconda3/envs/gpt/lib/python3.9/site-packages (from torch!=1.12.0,>=1.9->transformers[torch]) (3.1.2)\n",
      "Requirement already satisfied: triton==2.0.0 in /home/bruno/anaconda3/envs/gpt/lib/python3.9/site-packages (from torch!=1.12.0,>=1.9->transformers[torch]) (2.0.0)\n",
      "Requirement already satisfied: networkx in /home/bruno/anaconda3/envs/gpt/lib/python3.9/site-packages (from torch!=1.12.0,>=1.9->transformers[torch]) (2.8.4)\n",
      "Requirement already satisfied: sympy in /home/bruno/anaconda3/envs/gpt/lib/python3.9/site-packages (from torch!=1.12.0,>=1.9->transformers[torch]) (1.11.1)\n",
      "Requirement already satisfied: lit in /home/bruno/anaconda3/envs/gpt/lib/python3.9/site-packages (from triton==2.0.0->torch!=1.12.0,>=1.9->transformers[torch]) (15.0.7)\n",
      "Requirement already satisfied: cmake in /home/bruno/anaconda3/envs/gpt/lib/python3.9/site-packages (from triton==2.0.0->torch!=1.12.0,>=1.9->transformers[torch]) (3.25.0)\n",
      "Requirement already satisfied: charset-normalizer<3,>=2 in /home/bruno/anaconda3/envs/gpt/lib/python3.9/site-packages (from requests->transformers[torch]) (2.0.4)\n",
      "Requirement already satisfied: idna<4,>=2.5 in /home/bruno/anaconda3/envs/gpt/lib/python3.9/site-packages (from requests->transformers[torch]) (3.4)\n",
      "Requirement already satisfied: urllib3<1.27,>=1.21.1 in /home/bruno/anaconda3/envs/gpt/lib/python3.9/site-packages (from requests->transformers[torch]) (1.26.14)\n",
      "Requirement already satisfied: certifi>=2017.4.17 in /home/bruno/anaconda3/envs/gpt/lib/python3.9/site-packages (from requests->transformers[torch]) (2022.12.7)\n",
      "Requirement already satisfied: MarkupSafe>=2.0 in /home/bruno/anaconda3/envs/gpt/lib/python3.9/site-packages (from jinja2->torch!=1.12.0,>=1.9->transformers[torch]) (2.1.1)\n",
      "Requirement already satisfied: mpmath>=0.19 in /home/bruno/anaconda3/envs/gpt/lib/python3.9/site-packages (from sympy->torch!=1.12.0,>=1.9->transformers[torch]) (1.2.1)\n"
     ]
    }
   ],
   "source": [
    "!pip install transformers[torch]"
   ]
  },
  {
   "cell_type": "code",
   "execution_count": 2,
   "metadata": {},
   "outputs": [
    {
     "name": "stdout",
     "output_type": "stream",
     "text": [
      "Requirement already satisfied: torchinfo in /home/bruno/anaconda3/envs/gpt/lib/python3.9/site-packages (1.8.0)\n"
     ]
    }
   ],
   "source": [
    "!pip install torchinfo"
   ]
  },
  {
   "cell_type": "code",
   "execution_count": 3,
   "metadata": {},
   "outputs": [
    {
     "name": "stdout",
     "output_type": "stream",
     "text": [
      "Requirement already satisfied: datasets in /home/bruno/anaconda3/envs/gpt/lib/python3.9/site-packages (2.14.2)\n",
      "Requirement already satisfied: pandas in /home/bruno/anaconda3/envs/gpt/lib/python3.9/site-packages (from datasets) (1.5.2)\n",
      "Requirement already satisfied: multiprocess in /home/bruno/anaconda3/envs/gpt/lib/python3.9/site-packages (from datasets) (0.70.15)\n",
      "Requirement already satisfied: huggingface-hub<1.0.0,>=0.14.0 in /home/bruno/anaconda3/envs/gpt/lib/python3.9/site-packages (from datasets) (0.16.4)\n",
      "Requirement already satisfied: fsspec[http]>=2021.11.1 in /home/bruno/anaconda3/envs/gpt/lib/python3.9/site-packages (from datasets) (2022.11.0)\n",
      "Requirement already satisfied: aiohttp in /home/bruno/anaconda3/envs/gpt/lib/python3.9/site-packages (from datasets) (3.8.4)\n",
      "Requirement already satisfied: requests>=2.19.0 in /home/bruno/anaconda3/envs/gpt/lib/python3.9/site-packages (from datasets) (2.28.1)\n",
      "Requirement already satisfied: pyyaml>=5.1 in /home/bruno/anaconda3/envs/gpt/lib/python3.9/site-packages (from datasets) (6.0)\n",
      "Requirement already satisfied: dill<0.3.8,>=0.3.0 in /home/bruno/anaconda3/envs/gpt/lib/python3.9/site-packages (from datasets) (0.3.7)\n",
      "Requirement already satisfied: packaging in /home/bruno/anaconda3/envs/gpt/lib/python3.9/site-packages (from datasets) (22.0)\n",
      "Requirement already satisfied: tqdm>=4.62.1 in /home/bruno/anaconda3/envs/gpt/lib/python3.9/site-packages (from datasets) (4.64.1)\n",
      "Requirement already satisfied: numpy>=1.17 in /home/bruno/anaconda3/envs/gpt/lib/python3.9/site-packages (from datasets) (1.21.5)\n",
      "Requirement already satisfied: pyarrow>=8.0.0 in /home/bruno/anaconda3/envs/gpt/lib/python3.9/site-packages (from datasets) (12.0.1)\n",
      "Requirement already satisfied: xxhash in /home/bruno/anaconda3/envs/gpt/lib/python3.9/site-packages (from datasets) (3.3.0)\n",
      "Requirement already satisfied: multidict<7.0,>=4.5 in /home/bruno/anaconda3/envs/gpt/lib/python3.9/site-packages (from aiohttp->datasets) (6.0.4)\n",
      "Requirement already satisfied: charset-normalizer<4.0,>=2.0 in /home/bruno/anaconda3/envs/gpt/lib/python3.9/site-packages (from aiohttp->datasets) (2.0.4)\n",
      "Requirement already satisfied: attrs>=17.3.0 in /home/bruno/anaconda3/envs/gpt/lib/python3.9/site-packages (from aiohttp->datasets) (22.1.0)\n",
      "Requirement already satisfied: yarl<2.0,>=1.0 in /home/bruno/anaconda3/envs/gpt/lib/python3.9/site-packages (from aiohttp->datasets) (1.8.2)\n",
      "Requirement already satisfied: frozenlist>=1.1.1 in /home/bruno/anaconda3/envs/gpt/lib/python3.9/site-packages (from aiohttp->datasets) (1.3.3)\n",
      "Requirement already satisfied: async-timeout<5.0,>=4.0.0a3 in /home/bruno/anaconda3/envs/gpt/lib/python3.9/site-packages (from aiohttp->datasets) (4.0.2)\n",
      "Requirement already satisfied: aiosignal>=1.1.2 in /home/bruno/anaconda3/envs/gpt/lib/python3.9/site-packages (from aiohttp->datasets) (1.3.1)\n",
      "Requirement already satisfied: filelock in /home/bruno/anaconda3/envs/gpt/lib/python3.9/site-packages (from huggingface-hub<1.0.0,>=0.14.0->datasets) (3.9.0)\n",
      "Requirement already satisfied: typing-extensions>=3.7.4.3 in /home/bruno/anaconda3/envs/gpt/lib/python3.9/site-packages (from huggingface-hub<1.0.0,>=0.14.0->datasets) (4.4.0)\n",
      "Requirement already satisfied: certifi>=2017.4.17 in /home/bruno/anaconda3/envs/gpt/lib/python3.9/site-packages (from requests>=2.19.0->datasets) (2022.12.7)\n",
      "Requirement already satisfied: idna<4,>=2.5 in /home/bruno/anaconda3/envs/gpt/lib/python3.9/site-packages (from requests>=2.19.0->datasets) (3.4)\n",
      "Requirement already satisfied: urllib3<1.27,>=1.21.1 in /home/bruno/anaconda3/envs/gpt/lib/python3.9/site-packages (from requests>=2.19.0->datasets) (1.26.14)\n",
      "Requirement already satisfied: python-dateutil>=2.8.1 in /home/bruno/anaconda3/envs/gpt/lib/python3.9/site-packages (from pandas->datasets) (2.8.2)\n",
      "Requirement already satisfied: pytz>=2020.1 in /home/bruno/anaconda3/envs/gpt/lib/python3.9/site-packages (from pandas->datasets) (2022.7)\n",
      "Requirement already satisfied: six>=1.5 in /home/bruno/anaconda3/envs/gpt/lib/python3.9/site-packages (from python-dateutil>=2.8.1->pandas->datasets) (1.16.0)\n"
     ]
    }
   ],
   "source": [
    "!pip install datasets"
   ]
  },
  {
   "cell_type": "markdown",
   "metadata": {},
   "source": [
    "## Tokenizers"
   ]
  },
  {
   "cell_type": "code",
   "execution_count": 4,
   "metadata": {},
   "outputs": [],
   "source": [
    "from transformers import AutoTokenizer\n",
    "from transformers import AutoModelForSequenceClassification\n",
    "from transformers import TrainingArguments\n",
    "from transformers import Trainer"
   ]
  },
  {
   "cell_type": "code",
   "execution_count": 5,
   "metadata": {},
   "outputs": [
    {
     "data": {
      "text/plain": [
       "DatasetDict({\n",
       "    train: Dataset({\n",
       "        features: ['label', 'title', 'content'],\n",
       "        num_rows: 3600000\n",
       "    })\n",
       "    test: Dataset({\n",
       "        features: ['label', 'title', 'content'],\n",
       "        num_rows: 400000\n",
       "    })\n",
       "})"
      ]
     },
     "execution_count": 5,
     "metadata": {},
     "output_type": "execute_result"
    }
   ],
   "source": [
    "from datasets import load_dataset\n",
    "load_dataset(\"amazon_polarity\")"
   ]
  },
  {
   "cell_type": "code",
   "execution_count": 6,
   "metadata": {},
   "outputs": [
    {
     "data": {
      "text/plain": [
       "DatasetDict({\n",
       "    train: Dataset({\n",
       "        features: ['sentence', 'label', 'idx'],\n",
       "        num_rows: 67349\n",
       "    })\n",
       "    validation: Dataset({\n",
       "        features: ['sentence', 'label', 'idx'],\n",
       "        num_rows: 872\n",
       "    })\n",
       "    test: Dataset({\n",
       "        features: ['sentence', 'label', 'idx'],\n",
       "        num_rows: 1821\n",
       "    })\n",
       "})"
      ]
     },
     "execution_count": 6,
     "metadata": {},
     "output_type": "execute_result"
    }
   ],
   "source": [
    "load_dataset(\"glue\", \"sst2\")"
   ]
  },
  {
   "cell_type": "code",
   "execution_count": 7,
   "metadata": {},
   "outputs": [],
   "source": [
    "checkpoint = \"bert-base-uncased\"\n",
    "tokenizer = AutoTokenizer.from_pretrained(checkpoint)"
   ]
  },
  {
   "cell_type": "code",
   "execution_count": 8,
   "metadata": {},
   "outputs": [],
   "source": [
    "checkpoint = \"distilbert-base-uncased\"\n",
    "tokenizer = AutoTokenizer.from_pretrained(checkpoint)"
   ]
  },
  {
   "cell_type": "code",
   "execution_count": 9,
   "metadata": {},
   "outputs": [
    {
     "data": {
      "application/vnd.jupyter.widget-view+json": {
       "model_id": "a5a7e3de7daa4d5abce6f0869869ce2e",
       "version_major": 2,
       "version_minor": 0
      },
      "text/plain": [
       "Downloading (…)okenizer_config.json:   0%|          | 0.00/29.0 [00:00<?, ?B/s]"
      ]
     },
     "metadata": {},
     "output_type": "display_data"
    },
    {
     "data": {
      "application/vnd.jupyter.widget-view+json": {
       "model_id": "55c49dc90b034a6ab99e4939b3c222fe",
       "version_major": 2,
       "version_minor": 0
      },
      "text/plain": [
       "Downloading (…)lve/main/config.json:   0%|          | 0.00/411 [00:00<?, ?B/s]"
      ]
     },
     "metadata": {},
     "output_type": "display_data"
    },
    {
     "data": {
      "application/vnd.jupyter.widget-view+json": {
       "model_id": "e56d80efc21c4cb38ed47adee280dbdb",
       "version_major": 2,
       "version_minor": 0
      },
      "text/plain": [
       "Downloading (…)solve/main/vocab.txt:   0%|          | 0.00/213k [00:00<?, ?B/s]"
      ]
     },
     "metadata": {},
     "output_type": "display_data"
    },
    {
     "data": {
      "application/vnd.jupyter.widget-view+json": {
       "model_id": "8741347951bb40d7b0e1ce694f8e0f2f",
       "version_major": 2,
       "version_minor": 0
      },
      "text/plain": [
       "Downloading (…)/main/tokenizer.json:   0%|          | 0.00/436k [00:00<?, ?B/s]"
      ]
     },
     "metadata": {},
     "output_type": "display_data"
    }
   ],
   "source": [
    "checkpoint = 'distilbert-base-cased'\n",
    "tokenizer = AutoTokenizer.from_pretrained(checkpoint)"
   ]
  },
  {
   "cell_type": "code",
   "execution_count": null,
   "metadata": {},
   "outputs": [],
   "source": []
  },
  {
   "cell_type": "code",
   "execution_count": null,
   "metadata": {},
   "outputs": [],
   "source": []
  },
  {
   "cell_type": "markdown",
   "metadata": {},
   "source": [
    "## Models"
   ]
  },
  {
   "cell_type": "code",
   "execution_count": 10,
   "metadata": {},
   "outputs": [
    {
     "name": "stderr",
     "output_type": "stream",
     "text": [
      "Some weights of BertForSequenceClassification were not initialized from the model checkpoint at bert-base-uncased and are newly initialized: ['classifier.weight', 'classifier.bias']\n",
      "You should probably TRAIN this model on a down-stream task to be able to use it for predictions and inference.\n"
     ]
    }
   ],
   "source": [
    "checkpoint = \"bert-base-uncased\"\n",
    "model = AutoModelForSequenceClassification.from_pretrained(checkpoint)"
   ]
  },
  {
   "cell_type": "code",
   "execution_count": 11,
   "metadata": {},
   "outputs": [
    {
     "name": "stderr",
     "output_type": "stream",
     "text": [
      "Some weights of DistilBertForSequenceClassification were not initialized from the model checkpoint at distilbert-base-uncased and are newly initialized: ['pre_classifier.weight', 'classifier.weight', 'pre_classifier.bias', 'classifier.bias']\n",
      "You should probably TRAIN this model on a down-stream task to be able to use it for predictions and inference.\n"
     ]
    }
   ],
   "source": [
    "checkpoint = \"distilbert-base-uncased\"\n",
    "model = AutoModelForSequenceClassification.from_pretrained(checkpoint)"
   ]
  },
  {
   "cell_type": "code",
   "execution_count": 12,
   "metadata": {},
   "outputs": [
    {
     "data": {
      "text/plain": [
       "================================================================================\n",
       "Layer (type:depth-idx)                                  Param #\n",
       "================================================================================\n",
       "DistilBertForSequenceClassification                     --\n",
       "├─DistilBertModel: 1-1                                  --\n",
       "│    └─Embeddings: 2-1                                  --\n",
       "│    │    └─Embedding: 3-1                              23,440,896\n",
       "│    │    └─Embedding: 3-2                              393,216\n",
       "│    │    └─LayerNorm: 3-3                              1,536\n",
       "│    │    └─Dropout: 3-4                                --\n",
       "│    └─Transformer: 2-2                                 --\n",
       "│    │    └─ModuleList: 3-5                             42,527,232\n",
       "├─Linear: 1-2                                           590,592\n",
       "├─Linear: 1-3                                           1,538\n",
       "├─Dropout: 1-4                                          --\n",
       "================================================================================\n",
       "Total params: 66,955,010\n",
       "Trainable params: 66,955,010\n",
       "Non-trainable params: 0\n",
       "================================================================================"
      ]
     },
     "execution_count": 12,
     "metadata": {},
     "output_type": "execute_result"
    }
   ],
   "source": [
    "from torchinfo import summary\n",
    "# summary(model, input_size=(16,512), dtypes=['torch.IntTensor'], device='cpu')\n",
    "summary(model)"
   ]
  },
  {
   "cell_type": "code",
   "execution_count": 13,
   "metadata": {},
   "outputs": [
    {
     "data": {
      "application/vnd.jupyter.widget-view+json": {
       "model_id": "f23a50717f224a6ba62e909ad95c2635",
       "version_major": 2,
       "version_minor": 0
      },
      "text/plain": [
       "Downloading pytorch_model.bin:   0%|          | 0.00/263M [00:00<?, ?B/s]"
      ]
     },
     "metadata": {},
     "output_type": "display_data"
    },
    {
     "name": "stderr",
     "output_type": "stream",
     "text": [
      "Some weights of DistilBertForSequenceClassification were not initialized from the model checkpoint at distilbert-base-cased and are newly initialized: ['pre_classifier.weight', 'classifier.weight', 'pre_classifier.bias', 'classifier.bias']\n",
      "You should probably TRAIN this model on a down-stream task to be able to use it for predictions and inference.\n"
     ]
    }
   ],
   "source": [
    "checkpoint = 'distilbert-base-cased'\n",
    "model = AutoModelForSequenceClassification.from_pretrained(checkpoint)"
   ]
  },
  {
   "cell_type": "code",
   "execution_count": null,
   "metadata": {},
   "outputs": [],
   "source": []
  }
 ],
 "metadata": {
  "kernelspec": {
   "display_name": "gpt",
   "language": "python",
   "name": "python3"
  },
  "language_info": {
   "codemirror_mode": {
    "name": "ipython",
    "version": 3
   },
   "file_extension": ".py",
   "mimetype": "text/x-python",
   "name": "python",
   "nbconvert_exporter": "python",
   "pygments_lexer": "ipython3",
   "version": "3.9.16"
  },
  "orig_nbformat": 4
 },
 "nbformat": 4,
 "nbformat_minor": 2
}
