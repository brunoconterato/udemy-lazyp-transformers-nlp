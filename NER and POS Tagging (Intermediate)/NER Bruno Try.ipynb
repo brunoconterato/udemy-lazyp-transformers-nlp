{
  "cells": [
    {
      "cell_type": "code",
      "execution_count": 1,
      "metadata": {},
      "outputs": [],
      "source": [
        "\n",
        "from typing import List\n",
        "import numpy as np\n",
        "import pandas as pd\n",
        "import matplotlib.pyplot as plt\n",
        "import seaborn as sn\n",
        "import copy\n",
        "\n",
        "from transformers import (\n",
        "    AutoTokenizer,\n",
        "    AutoModelForTokenClassification,\n",
        "    TrainingArguments,\n",
        "    Trainer,\n",
        "    pipeline,\n",
        "    AutoConfig,\n",
        "    DataCollatorForTokenClassification,\n",
        "    DataCollatorWithPadding,\n",
        ")\n",
        "\n",
        "from datasets import load_dataset, load_metric\n",
        "from sklearn.metrics import accuracy_score, f1_score, confusion_matrix, ConfusionMatrixDisplay\n"
      ]
    },
    {
      "cell_type": "markdown",
      "metadata": {},
      "source": [
        "# dslim/bert-base-NER\n",
        "\n",
        "Here we will use the dslim/bert-base-NER from [Hugging Face](https://huggingface.co/dslim/bert-base-NER)\n",
        "\n",
        "#### Description (12/08/2023):\n",
        "\n",
        "bert-base-NER is a fine-tuned BERT model that is ready to use for Named Entity Recognition and achieves state-of-the-art performance for the NER task. It has been trained to recognize four types of entities: location (LOC), organizations (ORG), person (PER) and Miscellaneous (MISC).\n",
        "\n",
        "Specifically, this model is a bert-base-cased model that was fine-tuned on the English version of the standard CoNLL-2003 Named Entity Recognition dataset.\n",
        "\n",
        "If you'd like to use a larger BERT-large model fine-tuned on the same dataset, a bert-large-NER version is also available."
      ]
    },
    {
      "cell_type": "markdown",
      "metadata": {},
      "source": [
        "# Imports"
      ]
    },
    {
      "cell_type": "code",
      "execution_count": 2,
      "metadata": {},
      "outputs": [
        {
          "data": {
            "text/plain": [
              "DatasetDict({\n",
              "    train: Dataset({\n",
              "        features: ['id', 'tokens', 'pos_tags', 'chunk_tags', 'ner_tags'],\n",
              "        num_rows: 14041\n",
              "    })\n",
              "    validation: Dataset({\n",
              "        features: ['id', 'tokens', 'pos_tags', 'chunk_tags', 'ner_tags'],\n",
              "        num_rows: 3250\n",
              "    })\n",
              "    test: Dataset({\n",
              "        features: ['id', 'tokens', 'pos_tags', 'chunk_tags', 'ner_tags'],\n",
              "        num_rows: 3453\n",
              "    })\n",
              "})"
            ]
          },
          "execution_count": 2,
          "metadata": {},
          "output_type": "execute_result"
        }
      ],
      "source": [
        "raw_dataset = load_dataset(\"conll2003\")\n",
        "raw_dataset"
      ]
    },
    {
      "cell_type": "code",
      "execution_count": 3,
      "metadata": {},
      "outputs": [
        {
          "data": {
            "text/plain": [
              "{'id': Value(dtype='string', id=None),\n",
              " 'tokens': Sequence(feature=Value(dtype='string', id=None), length=-1, id=None),\n",
              " 'pos_tags': Sequence(feature=ClassLabel(names=['\"', \"''\", '#', '$', '(', ')', ',', '.', ':', '``', 'CC', 'CD', 'DT', 'EX', 'FW', 'IN', 'JJ', 'JJR', 'JJS', 'LS', 'MD', 'NN', 'NNP', 'NNPS', 'NNS', 'NN|SYM', 'PDT', 'POS', 'PRP', 'PRP$', 'RB', 'RBR', 'RBS', 'RP', 'SYM', 'TO', 'UH', 'VB', 'VBD', 'VBG', 'VBN', 'VBP', 'VBZ', 'WDT', 'WP', 'WP$', 'WRB'], id=None), length=-1, id=None),\n",
              " 'chunk_tags': Sequence(feature=ClassLabel(names=['O', 'B-ADJP', 'I-ADJP', 'B-ADVP', 'I-ADVP', 'B-CONJP', 'I-CONJP', 'B-INTJ', 'I-INTJ', 'B-LST', 'I-LST', 'B-NP', 'I-NP', 'B-PP', 'I-PP', 'B-PRT', 'I-PRT', 'B-SBAR', 'I-SBAR', 'B-UCP', 'I-UCP', 'B-VP', 'I-VP'], id=None), length=-1, id=None),\n",
              " 'ner_tags': Sequence(feature=ClassLabel(names=['O', 'B-PER', 'I-PER', 'B-ORG', 'I-ORG', 'B-LOC', 'I-LOC', 'B-MISC', 'I-MISC'], id=None), length=-1, id=None)}"
            ]
          },
          "execution_count": 3,
          "metadata": {},
          "output_type": "execute_result"
        }
      ],
      "source": [
        "raw_dataset['train'].features"
      ]
    },
    {
      "cell_type": "code",
      "execution_count": 4,
      "metadata": {},
      "outputs": [
        {
          "data": {
            "text/plain": [
              "['O', 'B-PER', 'I-PER', 'B-ORG', 'I-ORG', 'B-LOC', 'I-LOC', 'B-MISC', 'I-MISC']"
            ]
          },
          "execution_count": 4,
          "metadata": {},
          "output_type": "execute_result"
        }
      ],
      "source": [
        "ner_tags = raw_dataset['train'].features['ner_tags'].feature.names\n",
        "ner_tags"
      ]
    },
    {
      "cell_type": "code",
      "execution_count": 5,
      "metadata": {},
      "outputs": [
        {
          "data": {
            "text/plain": [
              "{0: 'O',\n",
              " 1: 'B-PER',\n",
              " 2: 'I-PER',\n",
              " 3: 'B-ORG',\n",
              " 4: 'I-ORG',\n",
              " 5: 'B-LOC',\n",
              " 6: 'I-LOC',\n",
              " 7: 'B-MISC',\n",
              " 8: 'I-MISC'}"
            ]
          },
          "execution_count": 5,
          "metadata": {},
          "output_type": "execute_result"
        }
      ],
      "source": [
        "id2label = {i: t for i, t in enumerate(ner_tags)}\n",
        "id2label"
      ]
    },
    {
      "cell_type": "code",
      "execution_count": 6,
      "metadata": {},
      "outputs": [
        {
          "data": {
            "text/plain": [
              "{'O': 0,\n",
              " 'B-PER': 1,\n",
              " 'I-PER': 2,\n",
              " 'B-ORG': 3,\n",
              " 'I-ORG': 4,\n",
              " 'B-LOC': 5,\n",
              " 'I-LOC': 6,\n",
              " 'B-MISC': 7,\n",
              " 'I-MISC': 8}"
            ]
          },
          "execution_count": 6,
          "metadata": {},
          "output_type": "execute_result"
        }
      ],
      "source": [
        "label2id = {v: k for k, v in id2label.items()}\n",
        "label2id"
      ]
    },
    {
      "cell_type": "code",
      "execution_count": 7,
      "metadata": {},
      "outputs": [],
      "source": [
        "def getLabelsFromIds(ids: List[int]) -> List[str]:\n",
        "    return [id2label[i] for i in ids]"
      ]
    },
    {
      "cell_type": "code",
      "execution_count": 8,
      "metadata": {},
      "outputs": [
        {
          "name": "stdout",
          "output_type": "stream",
          "text": [
            "['EU', 'rejects', 'German', 'call', 'to', 'boycott', 'British', 'lamb', '.']\n"
          ]
        }
      ],
      "source": [
        "print(raw_dataset['train'][\"tokens\"][0])"
      ]
    },
    {
      "cell_type": "code",
      "execution_count": 9,
      "metadata": {},
      "outputs": [
        {
          "name": "stdout",
          "output_type": "stream",
          "text": [
            "[3, 0, 7, 0, 0, 0, 7, 0, 0]\n"
          ]
        }
      ],
      "source": [
        "print(raw_dataset['train'][\"ner_tags\"][0])"
      ]
    },
    {
      "cell_type": "code",
      "execution_count": 10,
      "metadata": {},
      "outputs": [],
      "source": [
        "# checkpoint = \"distilbert-base-cased\"\n",
        "# checkpoint = \"bert-base-cased\"\n",
        "checkpoint = \"dslim/bert-base-NER\"\n",
        "tokenizer = AutoTokenizer.from_pretrained(checkpoint)"
      ]
    },
    {
      "cell_type": "code",
      "execution_count": 11,
      "metadata": {},
      "outputs": [
        {
          "data": {
            "text/plain": [
              "(['Only',\n",
              "  'France',\n",
              "  'and',\n",
              "  'Britain',\n",
              "  'backed',\n",
              "  'Fischler',\n",
              "  \"'s\",\n",
              "  'proposal',\n",
              "  '.'],\n",
              " ['O', 'B-LOC', 'O', 'B-LOC', 'O', 'B-PER', 'O', 'O', 'O'],\n",
              " [0, 5, 0, 5, 0, 1, 0, 0, 0])"
            ]
          },
          "execution_count": 11,
          "metadata": {},
          "output_type": "execute_result"
        }
      ],
      "source": [
        "idx_sample = 12\n",
        "\n",
        "train_tokens_1 = raw_dataset['train'][\"tokens\"][idx_sample]\n",
        "train_ids_1 = raw_dataset['train'][\"ner_tags\"][idx_sample]\n",
        "train_labels_1 = getLabelsFromIds(train_ids_1)\n",
        "\n",
        "train_tokens_1, train_labels_1, train_ids_1"
      ]
    },
    {
      "cell_type": "code",
      "execution_count": 12,
      "metadata": {},
      "outputs": [
        {
          "data": {
            "text/plain": [
              "{'input_ids': [101, 2809, 1699, 1105, 2855, 5534, 17355, 9022, 2879, 112, 188, 5835, 119, 102], 'token_type_ids': [0, 0, 0, 0, 0, 0, 0, 0, 0, 0, 0, 0, 0, 0], 'attention_mask': [1, 1, 1, 1, 1, 1, 1, 1, 1, 1, 1, 1, 1, 1]}"
            ]
          },
          "execution_count": 12,
          "metadata": {},
          "output_type": "execute_result"
        }
      ],
      "source": [
        "tokenizer(train_tokens_1, is_split_into_words=True)"
      ]
    },
    {
      "cell_type": "code",
      "execution_count": 13,
      "metadata": {},
      "outputs": [
        {
          "name": "stderr",
          "output_type": "stream",
          "text": [
            "Some weights of the model checkpoint at dslim/bert-base-NER were not used when initializing BertForTokenClassification: ['bert.pooler.dense.weight', 'bert.pooler.dense.bias']\n",
            "- This IS expected if you are initializing BertForTokenClassification from the checkpoint of a model trained on another task or with another architecture (e.g. initializing a BertForSequenceClassification model from a BertForPreTraining model).\n",
            "- This IS NOT expected if you are initializing BertForTokenClassification from the checkpoint of a model that you expect to be exactly identical (initializing a BertForSequenceClassification model from a BertForSequenceClassification model).\n"
          ]
        },
        {
          "data": {
            "text/plain": [
              "BertForTokenClassification(\n",
              "  (bert): BertModel(\n",
              "    (embeddings): BertEmbeddings(\n",
              "      (word_embeddings): Embedding(28996, 768, padding_idx=0)\n",
              "      (position_embeddings): Embedding(512, 768)\n",
              "      (token_type_embeddings): Embedding(2, 768)\n",
              "      (LayerNorm): LayerNorm((768,), eps=1e-12, elementwise_affine=True)\n",
              "      (dropout): Dropout(p=0.1, inplace=False)\n",
              "    )\n",
              "    (encoder): BertEncoder(\n",
              "      (layer): ModuleList(\n",
              "        (0-11): 12 x BertLayer(\n",
              "          (attention): BertAttention(\n",
              "            (self): BertSelfAttention(\n",
              "              (query): Linear(in_features=768, out_features=768, bias=True)\n",
              "              (key): Linear(in_features=768, out_features=768, bias=True)\n",
              "              (value): Linear(in_features=768, out_features=768, bias=True)\n",
              "              (dropout): Dropout(p=0.1, inplace=False)\n",
              "            )\n",
              "            (output): BertSelfOutput(\n",
              "              (dense): Linear(in_features=768, out_features=768, bias=True)\n",
              "              (LayerNorm): LayerNorm((768,), eps=1e-12, elementwise_affine=True)\n",
              "              (dropout): Dropout(p=0.1, inplace=False)\n",
              "            )\n",
              "          )\n",
              "          (intermediate): BertIntermediate(\n",
              "            (dense): Linear(in_features=768, out_features=3072, bias=True)\n",
              "            (intermediate_act_fn): GELUActivation()\n",
              "          )\n",
              "          (output): BertOutput(\n",
              "            (dense): Linear(in_features=3072, out_features=768, bias=True)\n",
              "            (LayerNorm): LayerNorm((768,), eps=1e-12, elementwise_affine=True)\n",
              "            (dropout): Dropout(p=0.1, inplace=False)\n",
              "          )\n",
              "        )\n",
              "      )\n",
              "    )\n",
              "  )\n",
              "  (dropout): Dropout(p=0.1, inplace=False)\n",
              "  (classifier): Linear(in_features=768, out_features=9, bias=True)\n",
              ")"
            ]
          },
          "execution_count": 13,
          "metadata": {},
          "output_type": "execute_result"
        }
      ],
      "source": [
        "model = AutoModelForTokenClassification.from_pretrained(checkpoint)\n",
        "model"
      ]
    },
    {
      "cell_type": "code",
      "execution_count": 14,
      "metadata": {},
      "outputs": [
        {
          "data": {
            "text/plain": [
              "TokenClassifierOutput(loss=None, logits=tensor([[[ 9.5828e+00, -6.4667e-01, -1.3385e+00, -1.5358e+00, -1.6767e+00,\n",
              "          -1.0450e+00, -1.6500e+00, -1.8213e+00, -1.4247e+00],\n",
              "         [ 1.0090e+01, -1.1097e+00, -2.1093e+00, -1.4258e+00, -2.2993e+00,\n",
              "          -7.0930e-01, -1.7512e+00, -1.3490e+00, -1.4734e+00],\n",
              "         [-1.0621e+00, -7.9250e-01, -2.0153e+00, -1.2071e+00, -2.1277e+00,\n",
              "          -9.1472e-01, -1.5885e+00,  9.4517e+00, -1.3763e+00],\n",
              "         [ 1.0456e+01, -1.4644e+00, -1.4813e+00, -2.1380e+00, -1.8386e+00,\n",
              "          -1.6047e+00, -8.5966e-01, -1.6926e+00, -4.2258e-01],\n",
              "         [-1.0920e+00, -1.0023e+00, -2.1120e+00, -1.0224e+00, -2.3138e+00,\n",
              "          -8.8912e-01, -1.4438e+00,  9.3718e+00, -1.3413e+00],\n",
              "         [ 1.1111e+01, -1.1315e+00, -1.2947e+00, -1.6207e+00, -1.7997e+00,\n",
              "          -1.7465e+00, -1.1368e+00, -2.0893e+00, -1.3941e+00],\n",
              "         [-5.5315e-01, -1.0234e+00, -2.4313e+00,  8.8249e+00, -1.3122e+00,\n",
              "          -3.9986e-03, -2.6255e+00, -1.0581e+00, -1.9163e+00],\n",
              "         [ 1.0182e+00, -2.3920e+00, -1.9322e+00,  2.7328e+00,  4.7021e+00,\n",
              "          -6.2037e-01, -8.2057e-01, -1.0358e+00, -1.5188e+00],\n",
              "         [ 2.4540e+00, -1.7729e+00, -1.5313e+00,  1.7020e+00,  4.7020e+00,\n",
              "          -1.8954e+00, -4.2380e-01, -2.0128e+00, -2.0719e+00],\n",
              "         [ 1.1027e+01, -1.2875e+00, -1.2973e+00, -1.6042e+00, -1.4217e+00,\n",
              "          -2.0978e+00, -1.1888e+00, -2.0957e+00, -1.4462e+00],\n",
              "         [ 1.1120e+01, -1.1589e+00, -1.3166e+00, -1.5797e+00, -1.5403e+00,\n",
              "          -2.0055e+00, -1.2607e+00, -2.0558e+00, -1.5643e+00],\n",
              "         [ 1.1072e+01, -1.0304e+00, -1.3117e+00, -1.4890e+00, -1.8375e+00,\n",
              "          -1.7922e+00, -1.1752e+00, -2.0427e+00, -1.6241e+00],\n",
              "         [ 1.1124e+01, -1.1010e+00, -1.4188e+00, -1.7626e+00, -1.8491e+00,\n",
              "          -1.5893e+00, -1.2270e+00, -1.9758e+00, -1.4632e+00],\n",
              "         [ 6.3694e+00,  1.3145e-01, -1.6584e+00,  1.7813e-01, -1.6584e+00,\n",
              "          -1.4088e+00, -1.9193e+00,  2.2982e-01, -1.7615e+00]]],\n",
              "       grad_fn=<ViewBackward0>), hidden_states=None, attentions=None)"
            ]
          },
          "execution_count": 14,
          "metadata": {},
          "output_type": "execute_result"
        }
      ],
      "source": [
        "model(**tokenizer(train_tokens_1, is_split_into_words=True, return_tensors=\"pt\"))"
      ]
    },
    {
      "cell_type": "code",
      "execution_count": 15,
      "metadata": {},
      "outputs": [
        {
          "name": "stdout",
          "output_type": "stream",
          "text": [
            "huggingface/tokenizers: The current process just got forked, after parallelism has already been used. Disabling parallelism to avoid deadlocks...\n",
            "To disable this warning, you can either:\n",
            "\t- Avoid using `tokenizers` before the fork if possible\n",
            "\t- Explicitly set the environment variable TOKENIZERS_PARALLELISM=(true | false)\n",
            "huggingface/tokenizers: The current process just got forked, after parallelism has already been used. Disabling parallelism to avoid deadlocks...\n",
            "To disable this warning, you can either:\n",
            "\t- Avoid using `tokenizers` before the fork if possible\n",
            "\t- Explicitly set the environment variable TOKENIZERS_PARALLELISM=(true | false)\n",
            "huggingface/tokenizers: The current process just got forked, after parallelism has already been used. Disabling parallelism to avoid deadlocks...\n",
            "To disable this warning, you can either:\n",
            "\t- Avoid using `tokenizers` before the fork if possible\n",
            "\t- Explicitly set the environment variable TOKENIZERS_PARALLELISM=(true | false)\n",
            "huggingface/tokenizers: The current process just got forked, after parallelism has already been used. Disabling parallelism to avoid deadlocks...\n",
            "To disable this warning, you can either:\n",
            "\t- Avoid using `tokenizers` before the fork if possible\n",
            "\t- Explicitly set the environment variable TOKENIZERS_PARALLELISM=(true | false)\n"
          ]
        }
      ],
      "source": [
        "ner = pipeline(\"ner\", model=model, tokenizer=tokenizer)\n"
      ]
    },
    {
      "cell_type": "code",
      "execution_count": 16,
      "metadata": {},
      "outputs": [
        {
          "name": "stdout",
          "output_type": "stream",
          "text": [
            "[{'entity': 'B-PER', 'score': 0.9990139, 'index': 4, 'word': 'Wolfgang', 'start': 11, 'end': 19}, {'entity': 'B-LOC', 'score': 0.999645, 'index': 9, 'word': 'Berlin', 'start': 34, 'end': 40}]\n"
          ]
        }
      ],
      "source": [
        "example = \"My name is Wolfgang and I live in Berlin\"\n",
        "\n",
        "ner_results = ner(example)\n",
        "print(ner_results)"
      ]
    },
    {
      "cell_type": "markdown",
      "metadata": {},
      "source": [
        "# distilbert-base-cased \n",
        "\n",
        "Here we will try fine-tunning the \"distilbert-base-cased\" by my own"
      ]
    },
    {
      "cell_type": "code",
      "execution_count": 17,
      "metadata": {},
      "outputs": [],
      "source": [
        "checkpoint = \"distilbert-base-cased\"\n",
        "tokenizer = AutoTokenizer.from_pretrained(checkpoint)"
      ]
    },
    {
      "cell_type": "code",
      "execution_count": 18,
      "metadata": {},
      "outputs": [
        {
          "data": {
            "text/plain": [
              "DistilBertConfig {\n",
              "  \"_name_or_path\": \"distilbert-base-cased\",\n",
              "  \"activation\": \"gelu\",\n",
              "  \"attention_dropout\": 0.1,\n",
              "  \"dim\": 768,\n",
              "  \"dropout\": 0.1,\n",
              "  \"hidden_dim\": 3072,\n",
              "  \"id2label\": {\n",
              "    \"0\": \"LABEL_0\",\n",
              "    \"1\": \"LABEL_1\",\n",
              "    \"2\": \"LABEL_2\",\n",
              "    \"3\": \"LABEL_3\",\n",
              "    \"4\": \"LABEL_4\",\n",
              "    \"5\": \"LABEL_5\",\n",
              "    \"6\": \"LABEL_6\",\n",
              "    \"7\": \"LABEL_7\",\n",
              "    \"8\": \"LABEL_8\"\n",
              "  },\n",
              "  \"initializer_range\": 0.02,\n",
              "  \"label2id\": {\n",
              "    \"LABEL_0\": 0,\n",
              "    \"LABEL_1\": 1,\n",
              "    \"LABEL_2\": 2,\n",
              "    \"LABEL_3\": 3,\n",
              "    \"LABEL_4\": 4,\n",
              "    \"LABEL_5\": 5,\n",
              "    \"LABEL_6\": 6,\n",
              "    \"LABEL_7\": 7,\n",
              "    \"LABEL_8\": 8\n",
              "  },\n",
              "  \"max_position_embeddings\": 512,\n",
              "  \"model_type\": \"distilbert\",\n",
              "  \"n_heads\": 12,\n",
              "  \"n_layers\": 6,\n",
              "  \"output_past\": true,\n",
              "  \"pad_token_id\": 0,\n",
              "  \"qa_dropout\": 0.1,\n",
              "  \"seq_classif_dropout\": 0.2,\n",
              "  \"sinusoidal_pos_embds\": false,\n",
              "  \"tie_weights_\": true,\n",
              "  \"transformers_version\": \"4.31.0\",\n",
              "  \"vocab_size\": 28996\n",
              "}"
            ]
          },
          "execution_count": 18,
          "metadata": {},
          "output_type": "execute_result"
        }
      ],
      "source": [
        "config = AutoConfig.from_pretrained(checkpoint, num_labels=len(ner_tags))\n",
        "config"
      ]
    },
    {
      "cell_type": "code",
      "execution_count": 19,
      "metadata": {},
      "outputs": [
        {
          "data": {
            "text/plain": [
              "{0: 'O',\n",
              " 1: 'B-PER',\n",
              " 2: 'I-PER',\n",
              " 3: 'B-ORG',\n",
              " 4: 'I-ORG',\n",
              " 5: 'B-LOC',\n",
              " 6: 'I-LOC',\n",
              " 7: 'B-MISC',\n",
              " 8: 'I-MISC'}"
            ]
          },
          "execution_count": 19,
          "metadata": {},
          "output_type": "execute_result"
        }
      ],
      "source": [
        "config.id2label = id2label\n",
        "config.id2label"
      ]
    },
    {
      "cell_type": "code",
      "execution_count": 20,
      "metadata": {},
      "outputs": [
        {
          "data": {
            "text/plain": [
              "{'O': 0,\n",
              " 'B-PER': 1,\n",
              " 'I-PER': 2,\n",
              " 'B-ORG': 3,\n",
              " 'I-ORG': 4,\n",
              " 'B-LOC': 5,\n",
              " 'I-LOC': 6,\n",
              " 'B-MISC': 7,\n",
              " 'I-MISC': 8}"
            ]
          },
          "execution_count": 20,
          "metadata": {},
          "output_type": "execute_result"
        }
      ],
      "source": [
        "config.label2id = label2id\n",
        "config.label2id"
      ]
    },
    {
      "cell_type": "code",
      "execution_count": 21,
      "metadata": {},
      "outputs": [
        {
          "name": "stderr",
          "output_type": "stream",
          "text": [
            "Some weights of DistilBertForTokenClassification were not initialized from the model checkpoint at distilbert-base-cased and are newly initialized: ['classifier.bias', 'classifier.weight']\n",
            "You should probably TRAIN this model on a down-stream task to be able to use it for predictions and inference.\n"
          ]
        },
        {
          "data": {
            "text/plain": [
              "DistilBertForTokenClassification(\n",
              "  (distilbert): DistilBertModel(\n",
              "    (embeddings): Embeddings(\n",
              "      (word_embeddings): Embedding(28996, 768, padding_idx=0)\n",
              "      (position_embeddings): Embedding(512, 768)\n",
              "      (LayerNorm): LayerNorm((768,), eps=1e-12, elementwise_affine=True)\n",
              "      (dropout): Dropout(p=0.1, inplace=False)\n",
              "    )\n",
              "    (transformer): Transformer(\n",
              "      (layer): ModuleList(\n",
              "        (0-5): 6 x TransformerBlock(\n",
              "          (attention): MultiHeadSelfAttention(\n",
              "            (dropout): Dropout(p=0.1, inplace=False)\n",
              "            (q_lin): Linear(in_features=768, out_features=768, bias=True)\n",
              "            (k_lin): Linear(in_features=768, out_features=768, bias=True)\n",
              "            (v_lin): Linear(in_features=768, out_features=768, bias=True)\n",
              "            (out_lin): Linear(in_features=768, out_features=768, bias=True)\n",
              "          )\n",
              "          (sa_layer_norm): LayerNorm((768,), eps=1e-12, elementwise_affine=True)\n",
              "          (ffn): FFN(\n",
              "            (dropout): Dropout(p=0.1, inplace=False)\n",
              "            (lin1): Linear(in_features=768, out_features=3072, bias=True)\n",
              "            (lin2): Linear(in_features=3072, out_features=768, bias=True)\n",
              "            (activation): GELUActivation()\n",
              "          )\n",
              "          (output_layer_norm): LayerNorm((768,), eps=1e-12, elementwise_affine=True)\n",
              "        )\n",
              "      )\n",
              "    )\n",
              "  )\n",
              "  (dropout): Dropout(p=0.1, inplace=False)\n",
              "  (classifier): Linear(in_features=768, out_features=9, bias=True)\n",
              ")"
            ]
          },
          "execution_count": 21,
          "metadata": {},
          "output_type": "execute_result"
        }
      ],
      "source": [
        "model = AutoModelForTokenClassification.from_pretrained(checkpoint, config=config)\n",
        "model"
      ]
    },
    {
      "cell_type": "code",
      "execution_count": 22,
      "metadata": {},
      "outputs": [],
      "source": [
        "def alignTargets(labels, word_ids):\n",
        "    aligned_targets = []\n",
        "    prev_id = None\n",
        "    \n",
        "    for w_id in word_ids:\n",
        "        if w_id is None:\n",
        "            aligned_targets.append(-100)\n",
        "        elif w_id == prev_id and labels[w_id] in [1, 3, 5, 7]:\n",
        "            aligned_targets.append(labels[w_id]+1)\n",
        "        else:\n",
        "            aligned_targets.append(labels[w_id])\n",
        "        \n",
        "        prev_id = w_id\n",
        "        \n",
        "    return aligned_targets\n",
        "\n",
        "def tokenize_fn(batch):\n",
        "    tokenized_inputs = tokenizer(\n",
        "        batch[\"tokens\"], truncation=True, is_split_into_words=True\n",
        "    )\n",
        "    aligned_targets = []\n",
        "    for i, tags in enumerate(batch[\"ner_tags\"]):\n",
        "        aligned_targets.append(alignTargets(tags, tokenized_inputs.word_ids(i)))\n",
        "\n",
        "    tokenized_inputs[\"labels\"] = aligned_targets\n",
        "    return tokenized_inputs\n"
      ]
    },
    {
      "cell_type": "code",
      "execution_count": 23,
      "metadata": {},
      "outputs": [
        {
          "data": {
            "text/plain": [
              "{'input_ids': tensor([[  101,  1188,  2495, 12913,  1110,  1376,   102]]), 'attention_mask': tensor([[1, 1, 1, 1, 1, 1, 1]])}"
            ]
          },
          "execution_count": 23,
          "metadata": {},
          "output_type": "execute_result"
        }
      ],
      "source": [
        "tokenizer(\"This lamb is little\", padding=True, return_tensors=\"pt\")"
      ]
    },
    {
      "cell_type": "code",
      "execution_count": 24,
      "metadata": {},
      "outputs": [
        {
          "data": {
            "text/plain": [
              "{'input_ids': [[101, 7270, 22961, 1528, 1840, 1106, 21423, 1418, 2495, 12913, 119, 102]], 'attention_mask': [[1, 1, 1, 1, 1, 1, 1, 1, 1, 1, 1, 1]], 'labels': [[-100, 3, 0, 7, 0, 0, 0, 7, 0, 0, 0, -100]]}"
            ]
          },
          "execution_count": 24,
          "metadata": {},
          "output_type": "execute_result"
        }
      ],
      "source": [
        "tokenize_fn(raw_dataset['train'][:1])"
      ]
    },
    {
      "cell_type": "code",
      "execution_count": 25,
      "metadata": {},
      "outputs": [
        {
          "data": {
            "text/plain": [
              "DatasetDict({\n",
              "    train: Dataset({\n",
              "        features: ['input_ids', 'attention_mask', 'labels'],\n",
              "        num_rows: 14041\n",
              "    })\n",
              "    validation: Dataset({\n",
              "        features: ['input_ids', 'attention_mask', 'labels'],\n",
              "        num_rows: 3250\n",
              "    })\n",
              "    test: Dataset({\n",
              "        features: ['input_ids', 'attention_mask', 'labels'],\n",
              "        num_rows: 3453\n",
              "    })\n",
              "})"
            ]
          },
          "execution_count": 25,
          "metadata": {},
          "output_type": "execute_result"
        }
      ],
      "source": [
        "tokenized_dataset = raw_dataset.map(\n",
        "    tokenize_fn, batched=True, remove_columns=raw_dataset[\"train\"].column_names\n",
        ")\n",
        "tokenized_dataset\n"
      ]
    },
    {
      "cell_type": "code",
      "execution_count": 26,
      "metadata": {},
      "outputs": [],
      "source": [
        "training_args = TrainingArguments(\n",
        "    \"my_trainer\",\n",
        "    evaluation_strategy = \"epoch\",\n",
        "    save_strategy=\"epoch\",\n",
        "    per_device_train_batch_size=32,\n",
        "    per_device_eval_batch_size=32,\n",
        "    num_train_epochs=3,\n",
        "    seed=42,\n",
        ")"
      ]
    },
    {
      "cell_type": "code",
      "execution_count": 36,
      "metadata": {},
      "outputs": [],
      "source": [
        "seqeval_metric = load_metric(\"seqeval\")\n",
        "\n",
        "\n",
        "def compute_metrics(logits_and_labels):\n",
        "    logits, labels = logits_and_labels\n",
        "    predictions = np.argmax(logits, axis=-1)\n",
        "\n",
        "    # need to compute accuracy, but only consider those when label != -100\n",
        "    mask = labels != -100\n",
        "    acc = np.sum(predictions == labels) / mask.sum()\n",
        "    metrics = {\"acc_bruno\": acc}\n",
        "\n",
        "    # remove the -100, convert the int label to str label name\n",
        "    str_predictions = [\n",
        "        [id2label[l] for l in label_arr if l != -100] for label_arr in labels\n",
        "    ]\n",
        "    # do the same for predictions, unless int label = -100\n",
        "    str_labels = [\n",
        "        [id2label[p] for l, p in zip(label_arr, pred_arr) if l != -100]\n",
        "        for label_arr, pred_arr in zip(labels, predictions)\n",
        "    ]\n",
        "    seqeval = seqeval_metric.compute(predictions=str_predictions, references=str_labels)\n",
        "    \n",
        "    return {**metrics, **seqeval}\n"
      ]
    },
    {
      "cell_type": "code",
      "execution_count": 37,
      "metadata": {},
      "outputs": [],
      "source": [
        "trainer = Trainer(\n",
        "    model=model,\n",
        "    args=training_args,\n",
        "    data_collator=DataCollatorForTokenClassification(tokenizer),\n",
        "    compute_metrics=compute_metrics,\n",
        "    train_dataset=tokenized_dataset[\"train\"],\n",
        "    eval_dataset=tokenized_dataset[\"validation\"],\n",
        "    tokenizer=tokenizer,\n",
        ")\n"
      ]
    },
    {
      "cell_type": "code",
      "execution_count": 38,
      "metadata": {},
      "outputs": [
        {
          "name": "stderr",
          "output_type": "stream",
          "text": [
            "/home/bruno/anaconda3/envs/gpt/lib/python3.9/site-packages/transformers/optimization.py:411: FutureWarning: This implementation of AdamW is deprecated and will be removed in a future version. Use the PyTorch implementation torch.optim.AdamW instead, or set `no_deprecation_warning=True` to disable this warning\n",
            "  warnings.warn(\n"
          ]
        },
        {
          "data": {
            "application/vnd.jupyter.widget-view+json": {
              "model_id": "fc29316fb6884252b6f6da06575fe996",
              "version_major": 2,
              "version_minor": 0
            },
            "text/plain": [
              "  0%|          | 0/1317 [00:00<?, ?it/s]"
            ]
          },
          "metadata": {},
          "output_type": "display_data"
        },
        {
          "data": {
            "application/vnd.jupyter.widget-view+json": {
              "model_id": "eb803c06fc27493ead59548d6ab26d79",
              "version_major": 2,
              "version_minor": 0
            },
            "text/plain": [
              "  0%|          | 0/102 [00:00<?, ?it/s]"
            ]
          },
          "metadata": {},
          "output_type": "display_data"
        },
        {
          "name": "stdout",
          "output_type": "stream",
          "text": [
            "{'eval_loss': 0.09782279282808304, 'eval_acc_bruno': 0.9826337787720021, 'eval_LOC': {'precision': 0.9559063690800218, 'recall': 0.9466307277628032, 'f1': 0.9512459371614301, 'number': 1855}, 'eval_MISC': {'precision': 0.8904555314533622, 'recall': 0.8446502057613169, 'f1': 0.866948257655755, 'number': 972}, 'eval_ORG': {'precision': 0.8881431767337807, 'recall': 0.9196911196911197, 'f1': 0.9036418816388467, 'number': 1295}, 'eval_PER': {'precision': 0.9712269272529859, 'recall': 0.9303172126885075, 'f1': 0.9503320053120851, 'number': 1923}, 'eval_overall_precision': 0.9352070010097611, 'eval_overall_recall': 0.9192721257237386, 'eval_overall_f1': 0.9271711020271961, 'eval_overall_accuracy': 0.9826337787720021, 'eval_runtime': 4.3955, 'eval_samples_per_second': 739.396, 'eval_steps_per_second': 23.206, 'epoch': 1.0}\n",
            "{'loss': 0.0061, 'learning_rate': 3.1017463933181475e-05, 'epoch': 1.14}\n"
          ]
        },
        {
          "data": {
            "application/vnd.jupyter.widget-view+json": {
              "model_id": "17ca853b76f745d28ef1c63730ef17f9",
              "version_major": 2,
              "version_minor": 0
            },
            "text/plain": [
              "  0%|          | 0/102 [00:00<?, ?it/s]"
            ]
          },
          "metadata": {},
          "output_type": "display_data"
        },
        {
          "name": "stdout",
          "output_type": "stream",
          "text": [
            "{'eval_loss': 0.08913149684667587, 'eval_acc_bruno': 0.9829722729145818, 'eval_LOC': {'precision': 0.9700598802395209, 'recall': 0.9339622641509434, 'f1': 0.9516688918558077, 'number': 1908}, 'eval_MISC': {'precision': 0.8709327548806941, 'recall': 0.8443743427970557, 'f1': 0.8574479444741057, 'number': 951}, 'eval_ORG': {'precision': 0.9172259507829977, 'recall': 0.8861671469740634, 'f1': 0.9014290949065592, 'number': 1388}, 'eval_PER': {'precision': 0.9625407166123778, 'recall': 0.936608557844691, 'f1': 0.9493975903614458, 'number': 1893}, 'eval_overall_precision': 0.9404240996297543, 'eval_overall_recall': 0.9100977198697069, 'eval_overall_f1': 0.9250124151630524, 'eval_overall_accuracy': 0.9829722729145818, 'eval_runtime': 4.4772, 'eval_samples_per_second': 725.9, 'eval_steps_per_second': 22.782, 'epoch': 2.0}\n",
            "{'loss': 0.005, 'learning_rate': 1.2034927866362947e-05, 'epoch': 2.28}\n"
          ]
        },
        {
          "data": {
            "application/vnd.jupyter.widget-view+json": {
              "model_id": "791acbd107594e75a55c2edaa1d57c48",
              "version_major": 2,
              "version_minor": 0
            },
            "text/plain": [
              "  0%|          | 0/102 [00:00<?, ?it/s]"
            ]
          },
          "metadata": {},
          "output_type": "display_data"
        },
        {
          "name": "stdout",
          "output_type": "stream",
          "text": [
            "{'eval_loss': 0.089959517121315, 'eval_acc_bruno': 0.9844292694413375, 'eval_LOC': {'precision': 0.9602612955906369, 'recall': 0.9540292049756626, 'f1': 0.9571351058057516, 'number': 1849}, 'eval_MISC': {'precision': 0.8904555314533622, 'recall': 0.8481404958677686, 'f1': 0.8687830687830688, 'number': 968}, 'eval_ORG': {'precision': 0.9202087994034303, 'recall': 0.8948513415518492, 'f1': 0.9073529411764706, 'number': 1379}, 'eval_PER': {'precision': 0.9701411509229099, 'recall': 0.9435058078141499, 'f1': 0.9566381156316917, 'number': 1894}, 'eval_overall_precision': 0.9434533826994278, 'eval_overall_recall': 0.9205254515599344, 'eval_overall_f1': 0.9318484042553192, 'eval_overall_accuracy': 0.9844292694413375, 'eval_runtime': 4.7795, 'eval_samples_per_second': 679.984, 'eval_steps_per_second': 21.341, 'epoch': 3.0}\n",
            "{'train_runtime': 205.4518, 'train_samples_per_second': 205.026, 'train_steps_per_second': 6.41, 'train_loss': 0.004931800638805671, 'epoch': 3.0}\n"
          ]
        },
        {
          "data": {
            "text/plain": [
              "TrainOutput(global_step=1317, training_loss=0.004931800638805671, metrics={'train_runtime': 205.4518, 'train_samples_per_second': 205.026, 'train_steps_per_second': 6.41, 'train_loss': 0.004931800638805671, 'epoch': 3.0})"
            ]
          },
          "execution_count": 38,
          "metadata": {},
          "output_type": "execute_result"
        }
      ],
      "source": [
        "trainer.train()"
      ]
    },
    {
      "cell_type": "code",
      "execution_count": 39,
      "metadata": {},
      "outputs": [
        {
          "name": "stdout",
          "output_type": "stream",
          "text": [
            "checkpoint-1317  checkpoint-2195  checkpoint-3073  checkpoint-439\n",
            "checkpoint-1756  checkpoint-2634  checkpoint-3512  checkpoint-878\n"
          ]
        }
      ],
      "source": [
        "!ls my_trainer"
      ]
    },
    {
      "cell_type": "code",
      "execution_count": 43,
      "metadata": {},
      "outputs": [],
      "source": [
        "def evalCheckpoints(ckpt_path, checkpoints, trainer):\n",
        "    columns = [\"eval_overall_accuracy\", \"eval_overall_f1\", \"eval_loss\"]\n",
        "    results = pd.DataFrame(columns=columns, index=checkpoints)\n",
        "    \n",
        "    _device = trainer.model.device\n",
        "    _config = trainer.model.config\n",
        "    model = copy.deepcopy(trainer.model)\n",
        "    \n",
        "    for _ckpt in checkpoints:\n",
        "        _model = AutoModelForTokenClassification.from_pretrained(\n",
        "            ckpt_path + \"/\" + _ckpt, config=_config\n",
        "        )\n",
        "        trainer.model = _model.to(_device)\n",
        "        result = {k: v for k, v in trainer.evaluate().items() if k in columns}\n",
        "        results.loc[_ckpt] = result\n",
        "\n",
        "    # Restore model\n",
        "    trainer.model = model\n",
        "    \n",
        "    results.reset_index(inplace=True)\n",
        "    results.rename(columns={\"index\": \"checkpoint\"}, inplace=True)\n",
        "    print(results)\n",
        "    \n",
        "    # Create a 1x2 subplot layout\n",
        "    fig, axes = plt.subplots(1, 2, figsize=(15, 6))\n",
        "\n",
        "    # Plot the evaluation results for accuracy and F1 score\n",
        "    sn.lineplot(x=\"checkpoint\", y=\"eval_overall_accuracy\", data=results, label=\"Accuracy Score\", ax=axes[0])\n",
        "    sn.lineplot(x=\"checkpoint\", y=\"eval_overall_f1\", data=results, label=\"F1 Score\", ax=axes[0])\n",
        "    axes[0].set_title(\"Evaluation Metrics\")\n",
        "\n",
        "    # Plot the evaluation results for loss\n",
        "    sn.lineplot(x=\"checkpoint\", y=\"eval_loss\", data=results, ax=axes[1])\n",
        "    axes[1].set_title(\"Evaluation Loss\")\n",
        "\n",
        "    # Adjust layout spacing\n",
        "    plt.tight_layout()\n",
        "    \n",
        "    plt.show()\n"
      ]
    },
    {
      "cell_type": "code",
      "execution_count": 44,
      "metadata": {},
      "outputs": [
        {
          "data": {
            "application/vnd.jupyter.widget-view+json": {
              "model_id": "722d522c593e48289ae23cc4f425add9",
              "version_major": 2,
              "version_minor": 0
            },
            "text/plain": [
              "  0%|          | 0/102 [00:00<?, ?it/s]"
            ]
          },
          "metadata": {},
          "output_type": "display_data"
        },
        {
          "data": {
            "application/vnd.jupyter.widget-view+json": {
              "model_id": "a7695224b0fc4af0a11d9a45b8a166ab",
              "version_major": 2,
              "version_minor": 0
            },
            "text/plain": [
              "  0%|          | 0/102 [00:00<?, ?it/s]"
            ]
          },
          "metadata": {},
          "output_type": "display_data"
        },
        {
          "data": {
            "application/vnd.jupyter.widget-view+json": {
              "model_id": "fa5f87a19b9e4242834d6dfffb4d7fd4",
              "version_major": 2,
              "version_minor": 0
            },
            "text/plain": [
              "  0%|          | 0/102 [00:00<?, ?it/s]"
            ]
          },
          "metadata": {},
          "output_type": "display_data"
        },
        {
          "name": "stdout",
          "output_type": "stream",
          "text": [
            "        checkpoint eval_overall_accuracy eval_overall_f1 eval_loss\n",
            "0   checkpoint-439              0.982634        0.927171  0.097823\n",
            "1   checkpoint-878              0.982972        0.925012  0.089131\n",
            "2  checkpoint-1317              0.984429        0.931848   0.08996\n"
          ]
        },
        {
          "data": {
            "image/png": "[encoded data removed]",
            "text/plain": [
              "<Figure size 1500x600 with 2 Axes>"
            ]
          },
          "metadata": {},
          "output_type": "display_data"
        }
      ],
      "source": [
        "evalCheckpoints(\n",
        "    \"my_trainer\",\n",
        "    [\n",
        "        \"checkpoint-439\",\n",
        "        \"checkpoint-878\",\n",
        "        \"checkpoint-1317\",\n",
        "        # \"checkpoint-1756\",\n",
        "        # \"checkpoint-2195\",\n",
        "        # \"checkpoint-2634\",\n",
        "        # \"checkpoint-3073\",\n",
        "        # \"checkpoint-3512\",\n",
        "    ],\n",
        "    trainer=trainer,\n",
        ")\n"
      ]
    },
    {
      "cell_type": "code",
      "execution_count": null,
      "metadata": {},
      "outputs": [],
      "source": []
    }
  ],
  "metadata": {
    "kernelspec": {
      "display_name": "gpt",
      "language": "python",
      "name": "python3"
    },
    "language_info": {
      "codemirror_mode": {
        "name": "ipython",
        "version": 3
      },
      "file_extension": ".py",
      "mimetype": "text/x-python",
      "name": "python",
      "nbconvert_exporter": "python",
      "pygments_lexer": "ipython3",
      "version": "3.9.16"
    },
    "orig_nbformat": 4
  },
  "nbformat": 4,
  "nbformat_minor": 2
}
