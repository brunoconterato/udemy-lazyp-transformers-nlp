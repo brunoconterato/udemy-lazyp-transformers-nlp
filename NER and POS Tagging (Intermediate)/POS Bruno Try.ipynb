{
 "cells": [
  {
   "cell_type": "markdown",
   "metadata": {},
   "source": [
    "# Part-of-speech tags\n",
    "\n",
    "Reference: https://www.nltk.org/_modules/nltk/tag/mapping.html\n",
    "\n",
    "```\n",
    "# Natural Language Toolkit: Tagset Mapping\n",
    "#\n",
    "# Copyright (C) 2001-2023 NLTK Project\n",
    "# Author: Nathan Schneider <nathan@cmu.edu>\n",
    "#         Steven Bird <stevenbird1@gmail.com>\n",
    "# URL: <https://www.nltk.org/>\n",
    "# For license information, see LICENSE.TXT\n",
    "\n",
    "\"\"\"\n",
    "Interface for converting POS tags from various treebanks\n",
    "to the universal tagset of Petrov, Das, & McDonald.\n",
    "\n",
    "The tagset consists of the following 12 coarse tags:\n",
    "\n",
    "VERB - verbs (all tenses and modes)\n",
    "NOUN - nouns (common and proper)\n",
    "PRON - pronouns\n",
    "ADJ - adjectives\n",
    "ADV - adverbs\n",
    "ADP - adpositions (prepositions and postpositions)\n",
    "CONJ - conjunctions\n",
    "DET - determiners\n",
    "NUM - cardinal numbers\n",
    "PRT - particles or other function words\n",
    "X - other: foreign words, typos, abbreviations\n",
    ". - punctuation\n",
    "\n",
    "@see: https://arxiv.org/abs/1104.2086 and https://code.google.com/p/universal-pos-tags/\n",
    "\n",
    "\"\"\"\n",
    "```\n",
    "\n"
   ]
  },
  {
   "cell_type": "code",
   "execution_count": 52,
   "metadata": {},
   "outputs": [],
   "source": [
    "import nltk\n",
    "from nltk.corpus import brown\n",
    "\n",
    "import numpy as np\n",
    "import pandas as pd\n",
    "import seaborn as sn\n",
    "import matplotlib.pyplot as plt\n",
    "\n",
    "import json\n",
    "import copy\n",
    "from collections import defaultdict\n",
    "from typing import Dict\n",
    "import warnings\n",
    "from pprint import pprint\n",
    "\n",
    "from datasets import load_dataset, DatasetDict, load_metric\n",
    "from transformers import (\n",
    "    AutoTokenizer,\n",
    "    AutoModelForTokenClassification,\n",
    "    TrainingArguments,\n",
    "    DataCollatorForTokenClassification,\n",
    "    Trainer,\n",
    "    pipeline,\n",
    ")\n"
   ]
  },
  {
   "cell_type": "code",
   "execution_count": 2,
   "metadata": {},
   "outputs": [
    {
     "name": "stderr",
     "output_type": "stream",
     "text": [
      "[nltk_data] Downloading package brown to /home/bruno/nltk_data...\n",
      "[nltk_data]   Package brown is already up-to-date!\n",
      "[nltk_data] Downloading package universal_tagset to\n",
      "[nltk_data]     /home/bruno/nltk_data...\n",
      "[nltk_data]   Package universal_tagset is already up-to-date!\n"
     ]
    },
    {
     "data": {
      "text/plain": [
       "True"
      ]
     },
     "execution_count": 2,
     "metadata": {},
     "output_type": "execute_result"
    }
   ],
   "source": [
    "nltk.download('brown')\n",
    "nltk.download('universal_tagset')"
   ]
  },
  {
   "cell_type": "code",
   "execution_count": 3,
   "metadata": {},
   "outputs": [
    {
     "data": {
      "text/plain": [
       "[[('The', 'DET'), ('Fulton', 'NOUN'), ('County', 'NOUN'), ('Grand', 'ADJ'), ('Jury', 'NOUN'), ('said', 'VERB'), ('Friday', 'NOUN'), ('an', 'DET'), ('investigation', 'NOUN'), ('of', 'ADP'), (\"Atlanta's\", 'NOUN'), ('recent', 'ADJ'), ('primary', 'NOUN'), ('election', 'NOUN'), ('produced', 'VERB'), ('``', '.'), ('no', 'DET'), ('evidence', 'NOUN'), (\"''\", '.'), ('that', 'ADP'), ('any', 'DET'), ('irregularities', 'NOUN'), ('took', 'VERB'), ('place', 'NOUN'), ('.', '.')], [('The', 'DET'), ('jury', 'NOUN'), ('further', 'ADV'), ('said', 'VERB'), ('in', 'ADP'), ('term-end', 'NOUN'), ('presentments', 'NOUN'), ('that', 'ADP'), ('the', 'DET'), ('City', 'NOUN'), ('Executive', 'ADJ'), ('Committee', 'NOUN'), (',', '.'), ('which', 'DET'), ('had', 'VERB'), ('over-all', 'ADJ'), ('charge', 'NOUN'), ('of', 'ADP'), ('the', 'DET'), ('election', 'NOUN'), (',', '.'), ('``', '.'), ('deserves', 'VERB'), ('the', 'DET'), ('praise', 'NOUN'), ('and', 'CONJ'), ('thanks', 'NOUN'), ('of', 'ADP'), ('the', 'DET'), ('City', 'NOUN'), ('of', 'ADP'), ('Atlanta', 'NOUN'), (\"''\", '.'), ('for', 'ADP'), ('the', 'DET'), ('manner', 'NOUN'), ('in', 'ADP'), ('which', 'DET'), ('the', 'DET'), ('election', 'NOUN'), ('was', 'VERB'), ('conducted', 'VERB'), ('.', '.')], ...]"
      ]
     },
     "execution_count": 3,
     "metadata": {},
     "output_type": "execute_result"
    }
   ],
   "source": [
    "corpus = brown.tagged_sents(tagset='universal')\n",
    "corpus"
   ]
  },
  {
   "cell_type": "code",
   "execution_count": 4,
   "metadata": {},
   "outputs": [
    {
     "data": {
      "text/plain": [
       "57340"
      ]
     },
     "execution_count": 4,
     "metadata": {},
     "output_type": "execute_result"
    }
   ],
   "source": [
    "len(corpus)"
   ]
  },
  {
   "cell_type": "code",
   "execution_count": 5,
   "metadata": {},
   "outputs": [
    {
     "data": {
      "text/plain": [
       "nltk.corpus.reader.util.ConcatenatedCorpusView"
      ]
     },
     "execution_count": 5,
     "metadata": {},
     "output_type": "execute_result"
    }
   ],
   "source": [
    "type(corpus)"
   ]
  },
  {
   "cell_type": "code",
   "execution_count": 6,
   "metadata": {},
   "outputs": [],
   "source": [
    "data_json = []\n",
    "labels = set()\n",
    "for text in corpus:\n",
    "    data_text = {'inputs': [], \"targets\": []}\n",
    "    for word, tag in text:\n",
    "        data_text['inputs'].append(word)\n",
    "        data_text['targets'].append(tag)\n",
    "        labels.add(tag)\n",
    "    data_json.append(data_text)"
   ]
  },
  {
   "cell_type": "code",
   "execution_count": 7,
   "metadata": {},
   "outputs": [
    {
     "data": {
      "text/plain": [
       "{'inputs': ['The',\n",
       "  'Fulton',\n",
       "  'County',\n",
       "  'Grand',\n",
       "  'Jury',\n",
       "  'said',\n",
       "  'Friday',\n",
       "  'an',\n",
       "  'investigation',\n",
       "  'of',\n",
       "  \"Atlanta's\",\n",
       "  'recent',\n",
       "  'primary',\n",
       "  'election',\n",
       "  'produced',\n",
       "  '``',\n",
       "  'no',\n",
       "  'evidence',\n",
       "  \"''\",\n",
       "  'that',\n",
       "  'any',\n",
       "  'irregularities',\n",
       "  'took',\n",
       "  'place',\n",
       "  '.'],\n",
       " 'targets': ['DET',\n",
       "  'NOUN',\n",
       "  'NOUN',\n",
       "  'ADJ',\n",
       "  'NOUN',\n",
       "  'VERB',\n",
       "  'NOUN',\n",
       "  'DET',\n",
       "  'NOUN',\n",
       "  'ADP',\n",
       "  'NOUN',\n",
       "  'ADJ',\n",
       "  'NOUN',\n",
       "  'NOUN',\n",
       "  'VERB',\n",
       "  '.',\n",
       "  'DET',\n",
       "  'NOUN',\n",
       "  '.',\n",
       "  'ADP',\n",
       "  'DET',\n",
       "  'NOUN',\n",
       "  'VERB',\n",
       "  'NOUN',\n",
       "  '.']}"
      ]
     },
     "execution_count": 7,
     "metadata": {},
     "output_type": "execute_result"
    }
   ],
   "source": [
    "data_json[0]"
   ]
  },
  {
   "cell_type": "code",
   "execution_count": 8,
   "metadata": {},
   "outputs": [
    {
     "data": {
      "text/plain": [
       "{'.',\n",
       " 'ADJ',\n",
       " 'ADP',\n",
       " 'ADV',\n",
       " 'CONJ',\n",
       " 'DET',\n",
       " 'NOUN',\n",
       " 'NUM',\n",
       " 'PRON',\n",
       " 'PRT',\n",
       " 'VERB',\n",
       " 'X'}"
      ]
     },
     "execution_count": 8,
     "metadata": {},
     "output_type": "execute_result"
    }
   ],
   "source": [
    "labels"
   ]
  },
  {
   "cell_type": "code",
   "execution_count": 9,
   "metadata": {},
   "outputs": [
    {
     "data": {
      "text/plain": [
       "{'DET': 0,\n",
       " 'NUM': 1,\n",
       " 'NOUN': 2,\n",
       " 'CONJ': 3,\n",
       " 'PRON': 4,\n",
       " 'PRT': 5,\n",
       " 'X': 6,\n",
       " 'ADV': 7,\n",
       " 'VERB': 8,\n",
       " 'ADP': 9,\n",
       " 'ADJ': 10,\n",
       " '.': 11}"
      ]
     },
     "execution_count": 9,
     "metadata": {},
     "output_type": "execute_result"
    }
   ],
   "source": [
    "label2id = {l: i for i, l in enumerate(labels)}\n",
    "label2id"
   ]
  },
  {
   "cell_type": "code",
   "execution_count": 10,
   "metadata": {},
   "outputs": [
    {
     "data": {
      "text/plain": [
       "{0: 'DET',\n",
       " 1: 'NUM',\n",
       " 2: 'NOUN',\n",
       " 3: 'CONJ',\n",
       " 4: 'PRON',\n",
       " 5: 'PRT',\n",
       " 6: 'X',\n",
       " 7: 'ADV',\n",
       " 8: 'VERB',\n",
       " 9: 'ADP',\n",
       " 10: 'ADJ',\n",
       " 11: '.'}"
      ]
     },
     "execution_count": 10,
     "metadata": {},
     "output_type": "execute_result"
    }
   ],
   "source": [
    "id2label = {v: k for k, v in label2id.items()}\n",
    "id2label"
   ]
  },
  {
   "cell_type": "code",
   "execution_count": 11,
   "metadata": {},
   "outputs": [],
   "source": [
    "# code to dump data_jason into a file\n",
    "with open('pos_data.json', 'w') as outfile:\n",
    "    json.dump(data_json, outfile)\n",
    "\n"
   ]
  },
  {
   "cell_type": "code",
   "execution_count": 12,
   "metadata": {},
   "outputs": [
    {
     "data": {
      "application/vnd.jupyter.widget-view+json": {
       "model_id": "b82ead38a8ee4c859ccaac84000705c6",
       "version_major": 2,
       "version_minor": 0
      },
      "text/plain": [
       "Downloading data files:   0%|          | 0/1 [00:00<?, ?it/s]"
      ]
     },
     "metadata": {},
     "output_type": "display_data"
    },
    {
     "data": {
      "application/vnd.jupyter.widget-view+json": {
       "model_id": "d90c13bf1c8a4e36868e07c8ffeda891",
       "version_major": 2,
       "version_minor": 0
      },
      "text/plain": [
       "Extracting data files:   0%|          | 0/1 [00:00<?, ?it/s]"
      ]
     },
     "metadata": {},
     "output_type": "display_data"
    },
    {
     "data": {
      "application/vnd.jupyter.widget-view+json": {
       "model_id": "6f52bd4d65334e7c98db10a02a826919",
       "version_major": 2,
       "version_minor": 0
      },
      "text/plain": [
       "Generating train split: 0 examples [00:00, ? examples/s]"
      ]
     },
     "metadata": {},
     "output_type": "display_data"
    }
   ],
   "source": [
    "raw_dataset = load_dataset('json', data_files='pos_data.json')"
   ]
  },
  {
   "cell_type": "code",
   "execution_count": 13,
   "metadata": {},
   "outputs": [
    {
     "data": {
      "text/plain": [
       "DatasetDict({\n",
       "    train: Dataset({\n",
       "        features: ['inputs', 'targets'],\n",
       "        num_rows: 57340\n",
       "    })\n",
       "})"
      ]
     },
     "execution_count": 13,
     "metadata": {},
     "output_type": "execute_result"
    }
   ],
   "source": [
    "raw_dataset"
   ]
  },
  {
   "cell_type": "code",
   "execution_count": 14,
   "metadata": {},
   "outputs": [
    {
     "data": {
      "text/plain": [
       "DatasetDict({\n",
       "    train: Dataset({\n",
       "        features: ['inputs', 'targets'],\n",
       "        num_rows: 45872\n",
       "    })\n",
       "    validation: Dataset({\n",
       "        features: ['inputs', 'targets'],\n",
       "        num_rows: 5734\n",
       "    })\n",
       "    test: Dataset({\n",
       "        features: ['inputs', 'targets'],\n",
       "        num_rows: 5734\n",
       "    })\n",
       "})"
      ]
     },
     "execution_count": 14,
     "metadata": {},
     "output_type": "execute_result"
    }
   ],
   "source": [
    "def splitTrainTestValidation(train_dataset: DatasetDict, valid_size=.1, test_size=.1):\n",
    "    len_valid = int(len(train_dataset['train']) * valid_size)\n",
    "    len_test = int(len(train_dataset['train']) * test_size)\n",
    "    \n",
    "    response = DatasetDict()\n",
    "    splited: DatasetDict = train_dataset['train'].train_test_split(len_valid + len_test, shuffle=False, seed=42)\n",
    "    splited['validation'] = splited['test']\n",
    "    del splited['test']\n",
    "    \n",
    "    splited_2 = splited['validation'].train_test_split(len_test, shuffle=False, seed=42)\n",
    "    splited['validation'] = splited_2['train']\n",
    "    splited['test'] = splited_2['test']\n",
    "    \n",
    "    return splited\n",
    "    \n",
    "splited_dataset = splitTrainTestValidation(raw_dataset, .1, .1)\n",
    "splited_dataset"
   ]
  },
  {
   "cell_type": "code",
   "execution_count": 15,
   "metadata": {},
   "outputs": [
    {
     "data": {
      "text/plain": [
       "['The',\n",
       " 'Fulton',\n",
       " 'County',\n",
       " 'Grand',\n",
       " 'Jury',\n",
       " 'said',\n",
       " 'Friday',\n",
       " 'an',\n",
       " 'investigation',\n",
       " 'of',\n",
       " \"Atlanta's\",\n",
       " 'recent',\n",
       " 'primary',\n",
       " 'election',\n",
       " 'produced',\n",
       " '``',\n",
       " 'no',\n",
       " 'evidence',\n",
       " \"''\",\n",
       " 'that',\n",
       " 'any',\n",
       " 'irregularities',\n",
       " 'took',\n",
       " 'place',\n",
       " '.']"
      ]
     },
     "execution_count": 15,
     "metadata": {},
     "output_type": "execute_result"
    }
   ],
   "source": [
    "splited_dataset['train'][0]['inputs']"
   ]
  },
  {
   "cell_type": "code",
   "execution_count": 16,
   "metadata": {},
   "outputs": [
    {
     "data": {
      "text/plain": [
       "['The',\n",
       " 'quarrel',\n",
       " 'ended',\n",
       " 'in',\n",
       " 'a',\n",
       " 'ridiculous',\n",
       " 'draw',\n",
       " ',',\n",
       " 'but',\n",
       " 'I',\n",
       " 'must',\n",
       " 'tell',\n",
       " 'you',\n",
       " 'about',\n",
       " 'it',\n",
       " '.']"
      ]
     },
     "execution_count": 16,
     "metadata": {},
     "output_type": "execute_result"
    }
   ],
   "source": [
    "splited_dataset['validation'][0]['inputs']"
   ]
  },
  {
   "cell_type": "code",
   "execution_count": 17,
   "metadata": {},
   "outputs": [
    {
     "data": {
      "text/plain": [
       "['He', 'was', 'about', '50', 'years', 'old', '.']"
      ]
     },
     "execution_count": 17,
     "metadata": {},
     "output_type": "execute_result"
    }
   ],
   "source": [
    "splited_dataset['test'][0]['inputs']"
   ]
  },
  {
   "cell_type": "code",
   "execution_count": 18,
   "metadata": {},
   "outputs": [
    {
     "data": {
      "application/vnd.jupyter.widget-view+json": {
       "model_id": "65d461a9970847029f8f9226a57e8ad5",
       "version_major": 2,
       "version_minor": 0
      },
      "text/plain": [
       "Map:   0%|          | 0/45872 [00:00<?, ? examples/s]"
      ]
     },
     "metadata": {},
     "output_type": "display_data"
    },
    {
     "data": {
      "application/vnd.jupyter.widget-view+json": {
       "model_id": "682cd1fef73f41d1abf382fd871395fe",
       "version_major": 2,
       "version_minor": 0
      },
      "text/plain": [
       "Map:   0%|          | 0/5734 [00:00<?, ? examples/s]"
      ]
     },
     "metadata": {},
     "output_type": "display_data"
    },
    {
     "data": {
      "application/vnd.jupyter.widget-view+json": {
       "model_id": "8c75accdee0648f6be9bf37a1e24e675",
       "version_major": 2,
       "version_minor": 0
      },
      "text/plain": [
       "Map:   0%|          | 0/5734 [00:00<?, ? examples/s]"
      ]
     },
     "metadata": {},
     "output_type": "display_data"
    },
    {
     "data": {
      "text/plain": [
       "DatasetDict({\n",
       "    train: Dataset({\n",
       "        features: ['inputs', 'targets', 'labels'],\n",
       "        num_rows: 45872\n",
       "    })\n",
       "    validation: Dataset({\n",
       "        features: ['inputs', 'targets', 'labels'],\n",
       "        num_rows: 5734\n",
       "    })\n",
       "    test: Dataset({\n",
       "        features: ['inputs', 'targets', 'labels'],\n",
       "        num_rows: 5734\n",
       "    })\n",
       "})"
      ]
     },
     "execution_count": 18,
     "metadata": {},
     "output_type": "execute_result"
    }
   ],
   "source": [
    "def getPOSTagsAsIds(data: Dict):\n",
    "    data['labels'] = [label2id[t] for t in data['targets']]\n",
    "    return data\n",
    "    \n",
    "splited_dataset = splited_dataset.map(getPOSTagsAsIds)\n",
    "splited_dataset"
   ]
  },
  {
   "cell_type": "code",
   "execution_count": 19,
   "metadata": {},
   "outputs": [
    {
     "data": {
      "text/plain": [
       "{'inputs': ['However',\n",
       "  ',',\n",
       "  'the',\n",
       "  'jury',\n",
       "  'said',\n",
       "  'it',\n",
       "  'believes',\n",
       "  '``',\n",
       "  'these',\n",
       "  'two',\n",
       "  'offices',\n",
       "  'should',\n",
       "  'be',\n",
       "  'combined',\n",
       "  'to',\n",
       "  'achieve',\n",
       "  'greater',\n",
       "  'efficiency',\n",
       "  'and',\n",
       "  'reduce',\n",
       "  'the',\n",
       "  'cost',\n",
       "  'of',\n",
       "  'administration',\n",
       "  \"''\",\n",
       "  '.'],\n",
       " 'targets': ['ADV',\n",
       "  '.',\n",
       "  'DET',\n",
       "  'NOUN',\n",
       "  'VERB',\n",
       "  'PRON',\n",
       "  'VERB',\n",
       "  '.',\n",
       "  'DET',\n",
       "  'NUM',\n",
       "  'NOUN',\n",
       "  'VERB',\n",
       "  'VERB',\n",
       "  'VERB',\n",
       "  'PRT',\n",
       "  'VERB',\n",
       "  'ADJ',\n",
       "  'NOUN',\n",
       "  'CONJ',\n",
       "  'VERB',\n",
       "  'DET',\n",
       "  'NOUN',\n",
       "  'ADP',\n",
       "  'NOUN',\n",
       "  '.',\n",
       "  '.'],\n",
       " 'labels': [7,\n",
       "  11,\n",
       "  0,\n",
       "  2,\n",
       "  8,\n",
       "  4,\n",
       "  8,\n",
       "  11,\n",
       "  0,\n",
       "  1,\n",
       "  2,\n",
       "  8,\n",
       "  8,\n",
       "  8,\n",
       "  5,\n",
       "  8,\n",
       "  10,\n",
       "  2,\n",
       "  3,\n",
       "  8,\n",
       "  0,\n",
       "  2,\n",
       "  9,\n",
       "  2,\n",
       "  11,\n",
       "  11]}"
      ]
     },
     "execution_count": 19,
     "metadata": {},
     "output_type": "execute_result"
    }
   ],
   "source": [
    "splited_dataset['train'][8]"
   ]
  },
  {
   "cell_type": "code",
   "execution_count": 20,
   "metadata": {},
   "outputs": [],
   "source": [
    "checkpoint = 'distilbert-base-cased'\n",
    "tokenizer = AutoTokenizer.from_pretrained(checkpoint)"
   ]
  },
  {
   "cell_type": "code",
   "execution_count": 21,
   "metadata": {},
   "outputs": [],
   "source": [
    "def alignTargets(labels, word_ids):\n",
    "    aligned_targets = []\n",
    "    prev_id = None\n",
    "    \n",
    "    for w_id in word_ids:\n",
    "        if w_id is None:\n",
    "            aligned_targets.append(-100)\n",
    "        elif w_id == prev_id and labels[w_id] in [1, 3, 5, 7]:\n",
    "            aligned_targets.append(labels[w_id]+1)\n",
    "        else:\n",
    "            aligned_targets.append(labels[w_id])\n",
    "        \n",
    "        prev_id = w_id\n",
    "        \n",
    "    return aligned_targets\n",
    "\n",
    "\n",
    "def tokenize_fn(batch):\n",
    "    tokenized_inputs = tokenizer(\n",
    "        batch[\"inputs\"], truncation=True, is_split_into_words=True\n",
    "    )\n",
    "    aligned_targets = []\n",
    "    for i, tags in enumerate(batch[\"labels\"]):\n",
    "        aligned_targets.append(alignTargets(tags, tokenized_inputs.word_ids(i)))\n",
    "\n",
    "    tokenized_inputs[\"labels\"] = aligned_targets\n",
    "    return tokenized_inputs"
   ]
  },
  {
   "cell_type": "code",
   "execution_count": 22,
   "metadata": {},
   "outputs": [
    {
     "data": {
      "application/vnd.jupyter.widget-view+json": {
       "model_id": "1c36d54caf2947d9b06f6bef5ac31fc3",
       "version_major": 2,
       "version_minor": 0
      },
      "text/plain": [
       "Map:   0%|          | 0/45872 [00:00<?, ? examples/s]"
      ]
     },
     "metadata": {},
     "output_type": "display_data"
    },
    {
     "data": {
      "application/vnd.jupyter.widget-view+json": {
       "model_id": "b926130e092a4f9fa73ceca1edfa0de7",
       "version_major": 2,
       "version_minor": 0
      },
      "text/plain": [
       "Map:   0%|          | 0/5734 [00:00<?, ? examples/s]"
      ]
     },
     "metadata": {},
     "output_type": "display_data"
    },
    {
     "data": {
      "application/vnd.jupyter.widget-view+json": {
       "model_id": "afba167b725c4491874ce63d699bd71e",
       "version_major": 2,
       "version_minor": 0
      },
      "text/plain": [
       "Map:   0%|          | 0/5734 [00:00<?, ? examples/s]"
      ]
     },
     "metadata": {},
     "output_type": "display_data"
    },
    {
     "data": {
      "text/plain": [
       "DatasetDict({\n",
       "    train: Dataset({\n",
       "        features: ['labels', 'input_ids', 'attention_mask'],\n",
       "        num_rows: 45872\n",
       "    })\n",
       "    validation: Dataset({\n",
       "        features: ['labels', 'input_ids', 'attention_mask'],\n",
       "        num_rows: 5734\n",
       "    })\n",
       "    test: Dataset({\n",
       "        features: ['labels', 'input_ids', 'attention_mask'],\n",
       "        num_rows: 5734\n",
       "    })\n",
       "})"
      ]
     },
     "execution_count": 22,
     "metadata": {},
     "output_type": "execute_result"
    }
   ],
   "source": [
    "tokenized_dataset = splited_dataset.map(tokenize_fn, batched=True, remove_columns=splited_dataset['train'].column_names)\n",
    "tokenized_dataset"
   ]
  },
  {
   "cell_type": "code",
   "execution_count": 23,
   "metadata": {},
   "outputs": [
    {
     "name": "stderr",
     "output_type": "stream",
     "text": [
      "Some weights of DistilBertForTokenClassification were not initialized from the model checkpoint at distilbert-base-cased and are newly initialized: ['classifier.bias', 'classifier.weight']\n",
      "You should probably TRAIN this model on a down-stream task to be able to use it for predictions and inference.\n"
     ]
    }
   ],
   "source": [
    "model = AutoModelForTokenClassification.from_pretrained(checkpoint, id2label=id2label, label2id=label2id)"
   ]
  },
  {
   "cell_type": "code",
   "execution_count": 24,
   "metadata": {},
   "outputs": [
    {
     "data": {
      "text/plain": [
       "DistilBertForTokenClassification(\n",
       "  (distilbert): DistilBertModel(\n",
       "    (embeddings): Embeddings(\n",
       "      (word_embeddings): Embedding(28996, 768, padding_idx=0)\n",
       "      (position_embeddings): Embedding(512, 768)\n",
       "      (LayerNorm): LayerNorm((768,), eps=1e-12, elementwise_affine=True)\n",
       "      (dropout): Dropout(p=0.1, inplace=False)\n",
       "    )\n",
       "    (transformer): Transformer(\n",
       "      (layer): ModuleList(\n",
       "        (0-5): 6 x TransformerBlock(\n",
       "          (attention): MultiHeadSelfAttention(\n",
       "            (dropout): Dropout(p=0.1, inplace=False)\n",
       "            (q_lin): Linear(in_features=768, out_features=768, bias=True)\n",
       "            (k_lin): Linear(in_features=768, out_features=768, bias=True)\n",
       "            (v_lin): Linear(in_features=768, out_features=768, bias=True)\n",
       "            (out_lin): Linear(in_features=768, out_features=768, bias=True)\n",
       "          )\n",
       "          (sa_layer_norm): LayerNorm((768,), eps=1e-12, elementwise_affine=True)\n",
       "          (ffn): FFN(\n",
       "            (dropout): Dropout(p=0.1, inplace=False)\n",
       "            (lin1): Linear(in_features=768, out_features=3072, bias=True)\n",
       "            (lin2): Linear(in_features=3072, out_features=768, bias=True)\n",
       "            (activation): GELUActivation()\n",
       "          )\n",
       "          (output_layer_norm): LayerNorm((768,), eps=1e-12, elementwise_affine=True)\n",
       "        )\n",
       "      )\n",
       "    )\n",
       "  )\n",
       "  (dropout): Dropout(p=0.1, inplace=False)\n",
       "  (classifier): Linear(in_features=768, out_features=12, bias=True)\n",
       ")"
      ]
     },
     "execution_count": 24,
     "metadata": {},
     "output_type": "execute_result"
    }
   ],
   "source": [
    "model"
   ]
  },
  {
   "cell_type": "code",
   "execution_count": 25,
   "metadata": {},
   "outputs": [],
   "source": [
    "training_args = TrainingArguments(\n",
    "    \"my-trainer\",\n",
    "    evaluation_strategy = \"epoch\",\n",
    "    save_strategy=\"epoch\",\n",
    "    per_device_train_batch_size=16,\n",
    "    per_device_eval_batch_size=16,\n",
    "    num_train_epochs=3,\n",
    "    seed=42,\n",
    ")"
   ]
  },
  {
   "cell_type": "code",
   "execution_count": 26,
   "metadata": {},
   "outputs": [
    {
     "name": "stderr",
     "output_type": "stream",
     "text": [
      "/tmp/ipykernel_42404/2173246152.py:1: FutureWarning: load_metric is deprecated and will be removed in the next major version of datasets. Use 'evaluate.load' instead, from the new library 🤗 Evaluate: https://huggingface.co/docs/evaluate\n",
      "  metric = load_metric(\"seqeval\")\n"
     ]
    }
   ],
   "source": [
    "metric = load_metric(\"seqeval\")\n",
    "\n",
    "seqeval_metric = load_metric(\"seqeval\")\n",
    "\n",
    "def compute_metrics(logits_and_labels):\n",
    "    logits, labels = logits_and_labels\n",
    "    predictions = np.argmax(logits, axis=-1)\n",
    "\n",
    "    # remove the -100, convert the int label to str label name\n",
    "    str_predictions = [\n",
    "        [id2label[l] for l in label_arr if l != -100] for label_arr in labels\n",
    "    ]\n",
    "    \n",
    "    # do the same for predictions, unless int label = -100\n",
    "    str_labels = [\n",
    "        [id2label[p] for l, p in zip(label_arr, pred_arr) if l != -100]\n",
    "        for label_arr, pred_arr in zip(labels, predictions)\n",
    "    ]\n",
    "    \n",
    "    # disable warnings for seqeval\n",
    "    with warnings.catch_warnings():\n",
    "        warnings.filterwarnings(\"ignore\")\n",
    "        metrics = seqeval_metric.compute(predictions=str_predictions, references=str_labels)\n",
    "\n",
    "    return {\n",
    "        \"accuracy\": metrics[\"overall_accuracy\"],\n",
    "        \"f1\": metrics[\"overall_f1\"],\n",
    "        \"recall\": metrics[\"overall_recall\"],\n",
    "        \"precision\": metrics[\"overall_precision\"],\n",
    "    }\n"
   ]
  },
  {
   "cell_type": "code",
   "execution_count": 27,
   "metadata": {},
   "outputs": [],
   "source": [
    "trainer = Trainer(\n",
    "    model=model,\n",
    "    args=training_args,\n",
    "    train_dataset=tokenized_dataset['train'],\n",
    "    eval_dataset=tokenized_dataset['validation'],\n",
    "    compute_metrics=compute_metrics,\n",
    "    data_collator=DataCollatorForTokenClassification(tokenizer),\n",
    "    tokenizer=tokenizer,    \n",
    ")"
   ]
  },
  {
   "cell_type": "code",
   "execution_count": 28,
   "metadata": {},
   "outputs": [
    {
     "name": "stderr",
     "output_type": "stream",
     "text": [
      "/home/bruno/anaconda3/envs/gpt/lib/python3.9/site-packages/transformers/optimization.py:411: FutureWarning: This implementation of AdamW is deprecated and will be removed in a future version. Use the PyTorch implementation torch.optim.AdamW instead, or set `no_deprecation_warning=True` to disable this warning\n",
      "  warnings.warn(\n"
     ]
    },
    {
     "data": {
      "application/vnd.jupyter.widget-view+json": {
       "model_id": "2e87badca78f4082bbdbf2d3a19b540f",
       "version_major": 2,
       "version_minor": 0
      },
      "text/plain": [
       "  0%|          | 0/8601 [00:00<?, ?it/s]"
      ]
     },
     "metadata": {},
     "output_type": "display_data"
    },
    {
     "name": "stderr",
     "output_type": "stream",
     "text": [
      "You're using a DistilBertTokenizerFast tokenizer. Please note that with a fast tokenizer, using the `__call__` method is faster than using a method to encode the text followed by a call to the `pad` method to get a padded encoding.\n"
     ]
    },
    {
     "name": "stdout",
     "output_type": "stream",
     "text": [
      "{'loss': 0.175, 'learning_rate': 4.709336123706546e-05, 'epoch': 0.17}\n",
      "{'loss': 0.0635, 'learning_rate': 4.4186722474130916e-05, 'epoch': 0.35}\n",
      "{'loss': 0.0554, 'learning_rate': 4.128008371119638e-05, 'epoch': 0.52}\n",
      "{'loss': 0.0505, 'learning_rate': 3.8373444948261836e-05, 'epoch': 0.7}\n",
      "{'loss': 0.0461, 'learning_rate': 3.546680618532729e-05, 'epoch': 0.87}\n"
     ]
    },
    {
     "data": {
      "application/vnd.jupyter.widget-view+json": {
       "model_id": "66ebed3ed32a45a0a4cb31c2745f64a3",
       "version_major": 2,
       "version_minor": 0
      },
      "text/plain": [
       "  0%|          | 0/359 [00:00<?, ?it/s]"
      ]
     },
     "metadata": {},
     "output_type": "display_data"
    },
    {
     "name": "stdout",
     "output_type": "stream",
     "text": [
      "{'eval_loss': 0.0574750080704689, 'eval_accuracy': 0.9819709976914083, 'eval_f1': 0.975878764828928, 'eval_recall': 0.9750942734368149, 'eval_precision': 0.9766645195291913, 'eval_runtime': 8.13, 'eval_samples_per_second': 705.287, 'eval_steps_per_second': 44.157, 'epoch': 1.0}\n",
      "{'loss': 0.0384, 'learning_rate': 3.256016742239274e-05, 'epoch': 1.05}\n",
      "{'loss': 0.0247, 'learning_rate': 2.9653528659458202e-05, 'epoch': 1.22}\n",
      "{'loss': 0.024, 'learning_rate': 2.6746889896523662e-05, 'epoch': 1.4}\n",
      "{'loss': 0.024, 'learning_rate': 2.384025113358912e-05, 'epoch': 1.57}\n",
      "{'loss': 0.0234, 'learning_rate': 2.0933612370654576e-05, 'epoch': 1.74}\n",
      "{'loss': 0.0225, 'learning_rate': 1.8026973607720032e-05, 'epoch': 1.92}\n"
     ]
    },
    {
     "data": {
      "application/vnd.jupyter.widget-view+json": {
       "model_id": "0e68adfc4de241dca52601d6c83d58f8",
       "version_major": 2,
       "version_minor": 0
      },
      "text/plain": [
       "  0%|          | 0/359 [00:00<?, ?it/s]"
      ]
     },
     "metadata": {},
     "output_type": "display_data"
    },
    {
     "name": "stdout",
     "output_type": "stream",
     "text": [
      "{'eval_loss': 0.06222057342529297, 'eval_accuracy': 0.9815112781203466, 'eval_f1': 0.9765274699553079, 'eval_recall': 0.9758350997734084, 'eval_precision': 0.9772208233296247, 'eval_runtime': 9.0144, 'eval_samples_per_second': 636.096, 'eval_steps_per_second': 39.825, 'epoch': 2.0}\n",
      "{'loss': 0.0189, 'learning_rate': 1.5120334844785492e-05, 'epoch': 2.09}\n",
      "{'loss': 0.0113, 'learning_rate': 1.2213696081850947e-05, 'epoch': 2.27}\n",
      "{'loss': 0.011, 'learning_rate': 9.307057318916406e-06, 'epoch': 2.44}\n",
      "{'loss': 0.0114, 'learning_rate': 6.400418555981863e-06, 'epoch': 2.62}\n",
      "{'loss': 0.0107, 'learning_rate': 3.49377979304732e-06, 'epoch': 2.79}\n",
      "{'loss': 0.0117, 'learning_rate': 5.871410301127776e-07, 'epoch': 2.96}\n"
     ]
    },
    {
     "data": {
      "application/vnd.jupyter.widget-view+json": {
       "model_id": "761a84d811ec4d6893a06e202557032d",
       "version_major": 2,
       "version_minor": 0
      },
      "text/plain": [
       "  0%|          | 0/359 [00:00<?, ?it/s]"
      ]
     },
     "metadata": {},
     "output_type": "display_data"
    },
    {
     "name": "stdout",
     "output_type": "stream",
     "text": [
      "{'eval_loss': 0.06442566961050034, 'eval_accuracy': 0.9827705099889068, 'eval_f1': 0.9776688732033793, 'eval_recall': 0.976961422076688, 'eval_precision': 0.9783773496515782, 'eval_runtime': 8.7699, 'eval_samples_per_second': 653.828, 'eval_steps_per_second': 40.936, 'epoch': 3.0}\n",
      "{'train_runtime': 701.6326, 'train_samples_per_second': 196.137, 'train_steps_per_second': 12.259, 'train_loss': 0.036327447008080375, 'epoch': 3.0}\n"
     ]
    },
    {
     "data": {
      "text/plain": [
       "TrainOutput(global_step=8601, training_loss=0.036327447008080375, metrics={'train_runtime': 701.6326, 'train_samples_per_second': 196.137, 'train_steps_per_second': 12.259, 'train_loss': 0.036327447008080375, 'epoch': 3.0})"
      ]
     },
     "execution_count": 28,
     "metadata": {},
     "output_type": "execute_result"
    }
   ],
   "source": [
    "trainer.train()"
   ]
  },
  {
   "cell_type": "code",
   "execution_count": 29,
   "metadata": {},
   "outputs": [
    {
     "name": "stdout",
     "output_type": "stream",
     "text": [
      "huggingface/tokenizers: The current process just got forked, after parallelism has already been used. Disabling parallelism to avoid deadlocks...\n",
      "To disable this warning, you can either:\n",
      "\t- Avoid using `tokenizers` before the fork if possible\n",
      "\t- Explicitly set the environment variable TOKENIZERS_PARALLELISM=(true | false)\n",
      "checkpoint-2867  checkpoint-5734  checkpoint-8601\n"
     ]
    }
   ],
   "source": [
    "!ls my-trainer"
   ]
  },
  {
   "cell_type": "code",
   "execution_count": 30,
   "metadata": {},
   "outputs": [],
   "source": [
    "def evalCheckpoints(ckpt_path, checkpoints, trainer):\n",
    "    columns = [\"eval_accuracy\", \"eval_f1\", \"eval_loss\"]\n",
    "    results = pd.DataFrame(columns=columns, index=checkpoints)\n",
    "    \n",
    "    _device = trainer.model.device\n",
    "    _config = trainer.model.config\n",
    "    model = copy.deepcopy(trainer.model)\n",
    "    \n",
    "    for _ckpt in checkpoints:\n",
    "        _model = AutoModelForTokenClassification.from_pretrained(\n",
    "            ckpt_path + \"/\" + _ckpt, config=_config\n",
    "        )\n",
    "        trainer.model = _model.to(_device)\n",
    "        trainer.eval_dataset = tokenized_dataset['test']\n",
    "        result = {k: v for k, v in trainer.evaluate().items() if k in columns}\n",
    "        results.loc[_ckpt] = result\n",
    "\n",
    "    # Restore trainer\n",
    "    trainer.model = model\n",
    "    trainer.eval_dataset = tokenized_dataset['validation']\n",
    "    \n",
    "    results.reset_index(inplace=True)\n",
    "    results.rename(columns={\"index\": \"checkpoint\"}, inplace=True)\n",
    "    print(results)\n",
    "    \n",
    "    # Create a 1x2 subplot layout\n",
    "    fig, axes = plt.subplots(1, 2, figsize=(15, 6))\n",
    "\n",
    "    # Plot the evaluation results for accuracy and F1 score\n",
    "    sn.lineplot(x=\"checkpoint\", y=\"eval_accuracy\", data=results, label=\"Accuracy Score\", ax=axes[0])\n",
    "    sn.lineplot(x=\"checkpoint\", y=\"eval_f1\", data=results, label=\"F1 Score\", ax=axes[0])\n",
    "    axes[0].set_title(\"Evaluation Metrics\")\n",
    "\n",
    "    # Plot the evaluation results for loss\n",
    "    sn.lineplot(x=\"checkpoint\", y=\"eval_loss\", data=results, ax=axes[1])\n",
    "    axes[1].set_title(\"Evaluation Loss\")\n",
    "\n",
    "    # Adjust layout spacing\n",
    "    plt.tight_layout()\n",
    "    \n",
    "    plt.show()\n"
   ]
  },
  {
   "cell_type": "code",
   "execution_count": 31,
   "metadata": {},
   "outputs": [
    {
     "data": {
      "application/vnd.jupyter.widget-view+json": {
       "model_id": "4ba5b7c798c141ad8b79ce56fec63826",
       "version_major": 2,
       "version_minor": 0
      },
      "text/plain": [
       "  0%|          | 0/359 [00:00<?, ?it/s]"
      ]
     },
     "metadata": {},
     "output_type": "display_data"
    },
    {
     "data": {
      "application/vnd.jupyter.widget-view+json": {
       "model_id": "65381b28e48e4798bd68a1ba3db9b869",
       "version_major": 2,
       "version_minor": 0
      },
      "text/plain": [
       "  0%|          | 0/359 [00:00<?, ?it/s]"
      ]
     },
     "metadata": {},
     "output_type": "display_data"
    },
    {
     "data": {
      "application/vnd.jupyter.widget-view+json": {
       "model_id": "e1488a2b30a64a7c953c8534f9c93aa3",
       "version_major": 2,
       "version_minor": 0
      },
      "text/plain": [
       "  0%|          | 0/359 [00:00<?, ?it/s]"
      ]
     },
     "metadata": {},
     "output_type": "display_data"
    },
    {
     "name": "stdout",
     "output_type": "stream",
     "text": [
      "        checkpoint eval_accuracy   eval_f1 eval_loss\n",
      "0  checkpoint-2867      0.983028  0.977712  0.053927\n",
      "1  checkpoint-5734      0.982974  0.977918  0.057164\n",
      "2  checkpoint-8601      0.984301  0.979445  0.061372\n"
     ]
    },
    {
     "data": {
      "image/png": "[encoded data removed]",
      "text/plain": [
       "<Figure size 1500x600 with 2 Axes>"
      ]
     },
     "metadata": {},
     "output_type": "display_data"
    }
   ],
   "source": [
    "evalCheckpoints(\n",
    "    \"my-trainer\",\n",
    "    [\"checkpoint-2867\", \"checkpoint-5734\", \"checkpoint-8601\"],\n",
    "    trainer=trainer,\n",
    ")\n"
   ]
  },
  {
   "cell_type": "code",
   "execution_count": 35,
   "metadata": {},
   "outputs": [
    {
     "data": {
      "text/plain": [
       "<transformers.pipelines.token_classification.TokenClassificationPipeline at 0x7f9c2fdf2d60>"
      ]
     },
     "execution_count": 35,
     "metadata": {},
     "output_type": "execute_result"
    }
   ],
   "source": [
    "pos = pipeline(\n",
    "    \"token-classification\",\n",
    "    model=\"my-trainer/checkpoint-8601\",\n",
    "    aggregation_strategy=\"simple\",\n",
    "    device=0,\n",
    ")\n",
    "pos\n"
   ]
  },
  {
   "cell_type": "code",
   "execution_count": 37,
   "metadata": {},
   "outputs": [
    {
     "data": {
      "text/plain": [
       "[{'entity_group': 'NOUN',\n",
       "  'score': 0.9999341,\n",
       "  'word': 'Bill Gates',\n",
       "  'start': 0,\n",
       "  'end': 10},\n",
       " {'entity_group': 'VERB',\n",
       "  'score': 0.9999292,\n",
       "  'word': 'was',\n",
       "  'start': 11,\n",
       "  'end': 14},\n",
       " {'entity_group': 'DET',\n",
       "  'score': 0.99994147,\n",
       "  'word': 'the',\n",
       "  'start': 15,\n",
       "  'end': 18},\n",
       " {'entity_group': 'NOUN',\n",
       "  'score': 0.99991894,\n",
       "  'word': 'CEO',\n",
       "  'start': 19,\n",
       "  'end': 22},\n",
       " {'entity_group': 'ADP',\n",
       "  'score': 0.999943,\n",
       "  'word': 'of',\n",
       "  'start': 23,\n",
       "  'end': 25},\n",
       " {'entity_group': 'NOUN',\n",
       "  'score': 0.99994385,\n",
       "  'word': 'Microsoft',\n",
       "  'start': 26,\n",
       "  'end': 35},\n",
       " {'entity_group': 'ADP',\n",
       "  'score': 0.99993265,\n",
       "  'word': 'in',\n",
       "  'start': 36,\n",
       "  'end': 38},\n",
       " {'entity_group': 'NOUN',\n",
       "  'score': 0.9999522,\n",
       "  'word': 'Seattle',\n",
       "  'start': 39,\n",
       "  'end': 46},\n",
       " {'entity_group': '.',\n",
       "  'score': 0.9997726,\n",
       "  'word': ',',\n",
       "  'start': 46,\n",
       "  'end': 47},\n",
       " {'entity_group': 'NOUN',\n",
       "  'score': 0.9999351,\n",
       "  'word': 'Washington DC',\n",
       "  'start': 48,\n",
       "  'end': 61},\n",
       " {'entity_group': '.',\n",
       "  'score': 0.99993837,\n",
       "  'word': '.',\n",
       "  'start': 61,\n",
       "  'end': 62}]"
      ]
     },
     "execution_count": 37,
     "metadata": {},
     "output_type": "execute_result"
    }
   ],
   "source": [
    "pos(\"Bill Gates was the CEO of Microsoft in Seattle, Washington DC.\")"
   ]
  },
  {
   "cell_type": "code",
   "execution_count": 95,
   "metadata": {},
   "outputs": [
    {
     "name": "stdout",
     "output_type": "stream",
     "text": [
      "apple   ---->  red   \n",
      "banana  ---->  yellow\n",
      "cherry  ---->  blue  \n"
     ]
    }
   ],
   "source": [
    "def printSideBySide(list_1, list_2, separator=\"   \"):\n",
    "    \"\"\"\n",
    "    Prints two lists side by side. Columns must be aligned\n",
    "    \"\"\"\n",
    "\n",
    "    # Get the width of the longest list item\n",
    "    max_width = max(len(str(item)) for item in list_1 + list_2)\n",
    "\n",
    "    # Print each item in the lists side by side, with the correct width\n",
    "    for item_1, item_2 in zip(list_1, list_2):\n",
    "        combined = \"{:<{}}{}{:<{}}\".format(item_1, max_width, separator, str(item_2), max_width)\n",
    "        print(combined)\n",
    "\n",
    "printSideBySide([\"apple\", \"banana\", \"cherry\"], [\"red\", \"yellow\", \"blue\"], separator=\"  ---->  \")\n"
   ]
  },
  {
   "cell_type": "code",
   "execution_count": 96,
   "metadata": {},
   "outputs": [],
   "source": [
    "def printPOS(pipeline_result):\n",
    "    tokens, tags = [], []\n",
    "    for token_result in pipeline_result:\n",
    "        tokens.append(token_result['word'])\n",
    "        tags.append(token_result['entity_group'])\n",
    "    printSideBySide(tokens, tags, separator=\"  ---->  \")"
   ]
  },
  {
   "cell_type": "code",
   "execution_count": 97,
   "metadata": {},
   "outputs": [
    {
     "name": "stdout",
     "output_type": "stream",
     "text": [
      "Bill Gates     ---->  NOUN         \n",
      "was            ---->  VERB         \n",
      "the            ---->  DET          \n",
      "CEO            ---->  NOUN         \n",
      "of             ---->  ADP          \n",
      "Microsoft      ---->  NOUN         \n",
      "in             ---->  ADP          \n",
      "Seattle        ---->  NOUN         \n",
      ",              ---->  .            \n",
      "Washington DC  ---->  NOUN         \n",
      ".              ---->  .            \n"
     ]
    },
    {
     "name": "stderr",
     "output_type": "stream",
     "text": [
      "/home/bruno/anaconda3/envs/gpt/lib/python3.9/site-packages/transformers/pipelines/base.py:1083: UserWarning: You seem to be using the pipelines sequentially on GPU. In order to maximize efficiency please use a dataset\n",
      "  warnings.warn(\n"
     ]
    }
   ],
   "source": [
    "printPOS(pos(\"Bill Gates was the CEO of Microsoft in Seattle, Washington DC.\"))"
   ]
  },
  {
   "cell_type": "code",
   "execution_count": 98,
   "metadata": {},
   "outputs": [
    {
     "name": "stdout",
     "output_type": "stream",
     "text": [
      "As long           ---->  ADV             \n",
      "as                ---->  ADP             \n",
      "you               ---->  PRON            \n",
      "concentrate       ---->  VERB            \n",
      "in                ---->  ADP             \n",
      "your              ---->  DET             \n",
      "studies           ---->  NOUN            \n",
      ",                 ---->  .               \n",
      "you               ---->  PRON            \n",
      "would be scoring  ---->  VERB            \n",
      "good              ---->  ADJ             \n",
      "marks             ---->  NOUN            \n",
      ".                 ---->  .               \n"
     ]
    }
   ],
   "source": [
    "printPOS(pos(\"As long as you concentrate in your studies, you would be scoring good marks.\"))"
   ]
  }
 ],
 "metadata": {
  "kernelspec": {
   "display_name": "gpt",
   "language": "python",
   "name": "python3"
  },
  "language_info": {
   "codemirror_mode": {
    "name": "ipython",
    "version": 3
   },
   "file_extension": ".py",
   "mimetype": "text/x-python",
   "name": "python",
   "nbconvert_exporter": "python",
   "pygments_lexer": "ipython3",
   "version": "3.9.16"
  },
  "orig_nbformat": 4
 },
 "nbformat": 4,
 "nbformat_minor": 2
}
