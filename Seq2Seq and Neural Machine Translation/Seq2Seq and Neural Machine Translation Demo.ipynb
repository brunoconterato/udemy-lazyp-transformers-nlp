{
 "cells": [
  {
   "cell_type": "code",
   "execution_count": 1,
   "metadata": {},
   "outputs": [],
   "source": [
    "# !pip install sacremoses"
   ]
  },
  {
   "cell_type": "code",
   "execution_count": 2,
   "metadata": {},
   "outputs": [
    {
     "data": {
      "text/plain": [
       "DatasetDict({\n",
       "    train: Dataset({\n",
       "        features: ['id', 'translation'],\n",
       "        num_rows: 210173\n",
       "    })\n",
       "})"
      ]
     },
     "execution_count": 2,
     "metadata": {},
     "output_type": "execute_result"
    }
   ],
   "source": [
    "from datasets import load_dataset\n",
    "# possible language pairs: https://opus.nlpl.eu/KDE4.php\n",
    "data = load_dataset(\"kde4\", lang1=\"en\", lang2=\"fr\")\n",
    "data"
   ]
  },
  {
   "cell_type": "code",
   "execution_count": 3,
   "metadata": {},
   "outputs": [],
   "source": [
    "# Data is too large!\n",
    "small = data['train'].shuffle(seed=42).select(range(1_000))"
   ]
  },
  {
   "cell_type": "code",
   "execution_count": 4,
   "metadata": {},
   "outputs": [
    {
     "data": {
      "text/plain": [
       "Dataset({\n",
       "    features: ['id', 'translation'],\n",
       "    num_rows: 1000\n",
       "})"
      ]
     },
     "execution_count": 4,
     "metadata": {},
     "output_type": "execute_result"
    }
   ],
   "source": [
    "small"
   ]
  },
  {
   "cell_type": "code",
   "execution_count": 5,
   "metadata": {},
   "outputs": [
    {
     "data": {
      "text/plain": [
       "{'id': '98963',\n",
       " 'translation': {'en': 'Netscape Communicator reg; plugins (for viewing Flash reg;, Real reg; Audio, Real reg; Video, etc.)',\n",
       "  'fr': 'Netscape Communicator reg; modules externes (pour afficher Flash reg;, Real reg; Audio, Real reg; Video, etc.)'}}"
      ]
     },
     "execution_count": 5,
     "metadata": {},
     "output_type": "execute_result"
    }
   ],
   "source": [
    "small[0]"
   ]
  },
  {
   "cell_type": "code",
   "execution_count": 6,
   "metadata": {},
   "outputs": [],
   "source": [
    "from datasets import Dataset, DatasetDict\n",
    "\n",
    "def splitTrainTestValidation(dataset: Dataset, valid_size=.1, test_size=.1):\n",
    "    len_valid = int(len(dataset) * valid_size)\n",
    "    len_test = int(len(dataset) * test_size)\n",
    "    \n",
    "    splited: DatasetDict = dataset.train_test_split(len_valid + len_test, shuffle=False, seed=42)\n",
    "    splited['validation'] = splited['test']\n",
    "    del splited['test']\n",
    "    \n",
    "    splited_2 = splited['validation'].train_test_split(len_test, shuffle=True, seed=42)\n",
    "    splited['validation'] = splited_2['train']\n",
    "    splited['test'] = splited_2['test']\n",
    "    \n",
    "    return splited"
   ]
  },
  {
   "cell_type": "code",
   "execution_count": 7,
   "metadata": {},
   "outputs": [
    {
     "data": {
      "text/plain": [
       "DatasetDict({\n",
       "    train: Dataset({\n",
       "        features: ['id', 'translation'],\n",
       "        num_rows: 800\n",
       "    })\n",
       "    validation: Dataset({\n",
       "        features: ['id', 'translation'],\n",
       "        num_rows: 100\n",
       "    })\n",
       "    test: Dataset({\n",
       "        features: ['id', 'translation'],\n",
       "        num_rows: 100\n",
       "    })\n",
       "})"
      ]
     },
     "execution_count": 7,
     "metadata": {},
     "output_type": "execute_result"
    }
   ],
   "source": [
    "split = splitTrainTestValidation(small)\n",
    "split"
   ]
  },
  {
   "cell_type": "code",
   "execution_count": 8,
   "metadata": {},
   "outputs": [
    {
     "data": {
      "text/plain": [
       "{'id': '98963',\n",
       " 'translation': {'en': 'Netscape Communicator reg; plugins (for viewing Flash reg;, Real reg; Audio, Real reg; Video, etc.)',\n",
       "  'fr': 'Netscape Communicator reg; modules externes (pour afficher Flash reg;, Real reg; Audio, Real reg; Video, etc.)'}}"
      ]
     },
     "execution_count": 8,
     "metadata": {},
     "output_type": "execute_result"
    }
   ],
   "source": [
    "split['train'][0]"
   ]
  },
  {
   "cell_type": "code",
   "execution_count": 9,
   "metadata": {},
   "outputs": [
    {
     "data": {
      "text/plain": [
       "('Netscape Communicator reg; plugins (for viewing Flash reg;, Real reg; Audio, Real reg; Video, etc.)',\n",
       " 'Netscape Communicator reg; modules externes (pour afficher Flash reg;, Real reg; Audio, Real reg; Video, etc.)')"
      ]
     },
     "execution_count": 9,
     "metadata": {},
     "output_type": "execute_result"
    }
   ],
   "source": [
    "en = split['train'][0]['translation']['en']\n",
    "fr = split['train'][0]['translation']['fr']\n",
    "en, fr"
   ]
  },
  {
   "cell_type": "code",
   "execution_count": 10,
   "metadata": {},
   "outputs": [],
   "source": [
    "from transformers import AutoTokenizer\n",
    "\n",
    "checkpoint = \"Helsinki-NLP/opus-mt-en-fr\"\n",
    "tokenizer = AutoTokenizer.from_pretrained(checkpoint)"
   ]
  },
  {
   "cell_type": "code",
   "execution_count": 11,
   "metadata": {},
   "outputs": [
    {
     "name": "stderr",
     "output_type": "stream",
     "text": [
      "/home/bruno/anaconda3/envs/gpt/lib/python3.9/site-packages/transformers/tokenization_utils_base.py:3635: UserWarning: `as_target_tokenizer` is deprecated and will be removed in v5 of Transformers. You can tokenize your labels by using the argument `text_target` of the regular `__call__` method (either in the same call as your input texts if you use the same keyword arguments, or in a separate call.\n",
      "  warnings.warn(\n"
     ]
    },
    {
     "data": {
      "text/plain": [
       "({'input_ids': [8025, 22880, 40578, 222, 3847, 317, 309, 50, 20142, 9, 24, 2636, 24736, 13772, 317, 309, 50, 2, 7770, 317, 309, 50, 12374, 2, 7770, 317, 309, 50, 7756, 2, 1025, 3, 28, 0], 'attention_mask': [1, 1, 1, 1, 1, 1, 1, 1, 1, 1, 1, 1, 1, 1, 1, 1, 1, 1, 1, 1, 1, 1, 1, 1, 1, 1, 1, 1, 1, 1, 1, 1, 1, 1]},\n",
       " {'input_ids': [8025, 22880, 14884, 792, 3847, 317, 309, 50, 8647, 9271, 24, 5601, 14268, 13772, 317, 309, 50, 2, 7770, 317, 309, 50, 12374, 2, 7770, 317, 309, 50, 7756, 2, 1025, 3, 28, 0], 'attention_mask': [1, 1, 1, 1, 1, 1, 1, 1, 1, 1, 1, 1, 1, 1, 1, 1, 1, 1, 1, 1, 1, 1, 1, 1, 1, 1, 1, 1, 1, 1, 1, 1, 1, 1]},\n",
       " {'input_ids': [8025, 22880, 14884, 792, 3847, 317, 309, 50, 8647, 9271, 24, 5601, 14268, 13772, 317, 309, 50, 2, 7770, 317, 309, 50, 12374, 2, 7770, 317, 309, 50, 7756, 2, 1025, 3, 28, 0], 'attention_mask': [1, 1, 1, 1, 1, 1, 1, 1, 1, 1, 1, 1, 1, 1, 1, 1, 1, 1, 1, 1, 1, 1, 1, 1, 1, 1, 1, 1, 1, 1, 1, 1, 1, 1]})"
      ]
     },
     "execution_count": 11,
     "metadata": {},
     "output_type": "execute_result"
    }
   ],
   "source": [
    "inputs = tokenizer(en)\n",
    "\n",
    "# Old way (deprecated):\n",
    "with tokenizer.as_target_tokenizer():\n",
    "    targets = tokenizer(fr)\n",
    "\n",
    "# New way:\n",
    "targets_new = tokenizer(text_target=fr)\n",
    "\n",
    "# Note: inputs and targets ids tend to be very similar, specially when bot languages are similar\n",
    "inputs, targets, targets_new"
   ]
  },
  {
   "cell_type": "code",
   "execution_count": 12,
   "metadata": {},
   "outputs": [
    {
     "name": "stdout",
     "output_type": "stream",
     "text": [
      "['▁Net', 'scape', '▁Commun', 'ic', 'ator', '▁re', 'g', ';', '▁modules', '▁externes', '▁(', 'pour', '▁afficher', '▁Flash', '▁re', 'g', ';', ',', '▁Real', '▁re', 'g', ';', '▁Audio', ',', '▁Real', '▁re', 'g', ';', '▁Video', ',', '▁etc', '.', ')', '</s>']\n"
     ]
    }
   ],
   "source": [
    "print(tokenizer.convert_ids_to_tokens(targets['input_ids']))"
   ]
  },
  {
   "cell_type": "code",
   "execution_count": 13,
   "metadata": {},
   "outputs": [
    {
     "data": {
      "text/plain": [
       "['▁Net',\n",
       " 'scape',\n",
       " '▁Communi',\n",
       " 'c',\n",
       " 'ator',\n",
       " '▁re',\n",
       " 'g',\n",
       " ';',\n",
       " '▁modules',\n",
       " '▁ex',\n",
       " 'tern',\n",
       " 'es',\n",
       " '▁(',\n",
       " 'p',\n",
       " 'our',\n",
       " '▁a',\n",
       " 'ffi',\n",
       " 'cher',\n",
       " '▁Flash',\n",
       " '▁re',\n",
       " 'g',\n",
       " ';',\n",
       " ',',\n",
       " '▁Real',\n",
       " '▁re',\n",
       " 'g',\n",
       " ';',\n",
       " '▁Audio',\n",
       " ',',\n",
       " '▁Real',\n",
       " '▁re',\n",
       " 'g',\n",
       " ';',\n",
       " '▁Video',\n",
       " ',',\n",
       " '▁etc',\n",
       " '.',\n",
       " ')',\n",
       " '</s>']"
      ]
     },
     "execution_count": 13,
     "metadata": {},
     "output_type": "execute_result"
    }
   ],
   "source": [
    "# Let's see the wrong way:\n",
    "# Using english tokenizer to converting french sentence\n",
    "targets_wrong = tokenizer(fr)\n",
    "\n",
    "# let's print the tokens to see what us happaning\n",
    "tokenizer.convert_ids_to_tokens(targets_wrong['input_ids'])"
   ]
  },
  {
   "cell_type": "code",
   "execution_count": 14,
   "metadata": {},
   "outputs": [
    {
     "name": "stdout",
     "output_type": "stream",
     "text": [
      "90% of lens: 132.10000000000002\n",
      "Percent of data covered until 128: 89.875 %\n"
     ]
    },
    {
     "data": {
      "text/plain": [
       "(array([511., 127.,  47.,  23.,  11.,  14.,  19.,   6.,   5.,   3.,   2.,\n",
       "          7.,   4.,   4.,   2.,   1.,   3.,   1.,   2.,   1.,   1.,   2.,\n",
       "          0.,   1.,   1.,   1.,   0.,   0.,   0.,   0.,   0.,   0.,   0.,\n",
       "          0.,   0.,   0.,   0.,   0.,   0.,   0.,   0.,   0.,   0.,   0.,\n",
       "          0.,   0.,   0.,   0.,   0.,   1.]),\n",
       " array([   2. ,   27.7,   53.4,   79.1,  104.8,  130.5,  156.2,  181.9,\n",
       "         207.6,  233.3,  259. ,  284.7,  310.4,  336.1,  361.8,  387.5,\n",
       "         413.2,  438.9,  464.6,  490.3,  516. ,  541.7,  567.4,  593.1,\n",
       "         618.8,  644.5,  670.2,  695.9,  721.6,  747.3,  773. ,  798.7,\n",
       "         824.4,  850.1,  875.8,  901.5,  927.2,  952.9,  978.6, 1004.3,\n",
       "        1030. , 1055.7, 1081.4, 1107.1, 1132.8, 1158.5, 1184.2, 1209.9,\n",
       "        1235.6, 1261.3, 1287. ]),\n",
       " <BarContainer object of 50 artists>)"
      ]
     },
     "execution_count": 14,
     "metadata": {},
     "output_type": "execute_result"
    },
    {
     "data": {
      "image/png": "[encoded data removed]",
      "text/plain": [
       "<Figure size 640x480 with 1 Axes>"
      ]
     },
     "metadata": {},
     "output_type": "display_data"
    }
   ],
   "source": [
    "import matplotlib.pyplot as plt\n",
    "import numpy as np\n",
    "from scipy.stats import percentileofscore\n",
    "input_lens = [len(x['en']) for x in split['train']['translation']]\n",
    "\n",
    "print(f\"90% of lens: {np.percentile(input_lens, q=90)}\")\n",
    "print(f\"Percent of data covered until 128: {percentileofscore(input_lens, 128)} %\")\n",
    "plt.hist(input_lens, bins=50)\n"
   ]
  },
  {
   "cell_type": "code",
   "execution_count": 15,
   "metadata": {},
   "outputs": [
    {
     "name": "stdout",
     "output_type": "stream",
     "text": [
      "90% of lens: 164.0\n",
      "Percent of data covered until 128: 88.25 %\n"
     ]
    },
    {
     "data": {
      "text/plain": [
       "(array([444., 179.,  60.,  26.,  15.,  17.,  14.,   4.,   3.,   5.,   3.,\n",
       "          7.,   3.,   3.,   2.,   6.,   3.,   0.,   1.,   3.,   0.,   1.,\n",
       "          0.,   0.,   0.,   0.,   0.,   0.,   0.,   0.,   0.,   0.,   0.,\n",
       "          0.,   0.,   0.,   0.,   0.,   0.,   0.,   0.,   0.,   0.,   0.,\n",
       "          0.,   0.,   0.,   0.,   0.,   1.]),\n",
       " array([1.00000e+00, 3.47200e+01, 6.84400e+01, 1.02160e+02, 1.35880e+02,\n",
       "        1.69600e+02, 2.03320e+02, 2.37040e+02, 2.70760e+02, 3.04480e+02,\n",
       "        3.38200e+02, 3.71920e+02, 4.05640e+02, 4.39360e+02, 4.73080e+02,\n",
       "        5.06800e+02, 5.40520e+02, 5.74240e+02, 6.07960e+02, 6.41680e+02,\n",
       "        6.75400e+02, 7.09120e+02, 7.42840e+02, 7.76560e+02, 8.10280e+02,\n",
       "        8.44000e+02, 8.77720e+02, 9.11440e+02, 9.45160e+02, 9.78880e+02,\n",
       "        1.01260e+03, 1.04632e+03, 1.08004e+03, 1.11376e+03, 1.14748e+03,\n",
       "        1.18120e+03, 1.21492e+03, 1.24864e+03, 1.28236e+03, 1.31608e+03,\n",
       "        1.34980e+03, 1.38352e+03, 1.41724e+03, 1.45096e+03, 1.48468e+03,\n",
       "        1.51840e+03, 1.55212e+03, 1.58584e+03, 1.61956e+03, 1.65328e+03,\n",
       "        1.68700e+03]),\n",
       " <BarContainer object of 50 artists>)"
      ]
     },
     "execution_count": 15,
     "metadata": {},
     "output_type": "execute_result"
    },
    {
     "data": {
      "image/png": "[encoded data removed]",
      "text/plain": [
       "<Figure size 640x480 with 1 Axes>"
      ]
     },
     "metadata": {},
     "output_type": "display_data"
    }
   ],
   "source": [
    "targets_lens = [len(x['fr']) for x in split['train']['translation']]\n",
    "\n",
    "print(f\"90% of lens: {np.percentile(targets_lens, q=90)}\")\n",
    "print(f\"Percent of data covered until 128: {percentileofscore(targets_lens, 128)} %\")\n",
    "\n",
    "plt.hist(targets_lens, bins=50)"
   ]
  },
  {
   "cell_type": "code",
   "execution_count": 16,
   "metadata": {},
   "outputs": [],
   "source": [
    "# Based on the histograms\n",
    "max_input_len = 128\n",
    "max_target_len = 128"
   ]
  },
  {
   "cell_type": "code",
   "execution_count": 17,
   "metadata": {},
   "outputs": [],
   "source": [
    "def tokenize_fn(batch):\n",
    "    inputs = [x[\"en\"] for x in batch[\"translation\"]]\n",
    "    targets = [x[\"fr\"] for x in batch[\"translation\"]]\n",
    "\n",
    "    tokenized_inputs = tokenizer(inputs, truncation=True, max_length=max_input_len)\n",
    "    tokenized_targets = tokenizer(\n",
    "        text_target=targets,\n",
    "        padding=\"max_length\",\n",
    "        truncation=True,\n",
    "        max_length=max_target_len,\n",
    "    )\n",
    "\n",
    "    tokenized_inputs[\"labels\"] = tokenized_targets[\"input_ids\"]\n",
    "\n",
    "    return tokenized_inputs\n"
   ]
  },
  {
   "cell_type": "code",
   "execution_count": 18,
   "metadata": {},
   "outputs": [
    {
     "data": {
      "text/plain": [
       "DatasetDict({\n",
       "    train: Dataset({\n",
       "        features: ['input_ids', 'attention_mask', 'labels'],\n",
       "        num_rows: 800\n",
       "    })\n",
       "    validation: Dataset({\n",
       "        features: ['input_ids', 'attention_mask', 'labels'],\n",
       "        num_rows: 100\n",
       "    })\n",
       "    test: Dataset({\n",
       "        features: ['input_ids', 'attention_mask', 'labels'],\n",
       "        num_rows: 100\n",
       "    })\n",
       "})"
      ]
     },
     "execution_count": 18,
     "metadata": {},
     "output_type": "execute_result"
    }
   ],
   "source": [
    "tokenized_dataset = split.map(tokenize_fn, batched=True, remove_columns=split['train'].column_names)\n",
    "tokenized_dataset"
   ]
  },
  {
   "cell_type": "code",
   "execution_count": 19,
   "metadata": {},
   "outputs": [],
   "source": [
    "from transformers import AutoModelForSeq2SeqLM\n",
    "\n",
    "model = AutoModelForSeq2SeqLM.from_pretrained(checkpoint)"
   ]
  },
  {
   "cell_type": "code",
   "execution_count": 20,
   "metadata": {},
   "outputs": [],
   "source": [
    "from transformers import DataCollatorForSeq2Seq\n",
    "\n",
    "data_collator = DataCollatorForSeq2Seq(tokenizer, model=model)"
   ]
  },
  {
   "cell_type": "code",
   "execution_count": 21,
   "metadata": {},
   "outputs": [
    {
     "name": "stdout",
     "output_type": "stream",
     "text": [
      "[{'input_ids': [23272, 12, 7689, 0], 'attention_mask': [1, 1, 1, 1], 'labels': [16572, 51, 39, 698, 339, 0, 59513, 59513, 59513, 59513, 59513, 59513, 59513, 59513, 59513, 59513, 59513, 59513, 59513, 59513, 59513, 59513, 59513, 59513, 59513, 59513, 59513, 59513, 59513, 59513, 59513, 59513, 59513, 59513, 59513, 59513, 59513, 59513, 59513, 59513, 59513, 59513, 59513, 59513, 59513, 59513, 59513, 59513, 59513, 59513, 59513, 59513, 59513, 59513, 59513, 59513, 59513, 59513, 59513, 59513, 59513, 59513, 59513, 59513, 59513, 59513, 59513, 59513, 59513, 59513, 59513, 59513, 59513, 59513, 59513, 59513, 59513, 59513, 59513, 59513, 59513, 59513, 59513, 59513, 59513, 59513, 59513, 59513, 59513, 59513, 59513, 59513, 59513, 59513, 59513, 59513, 59513, 59513, 59513, 59513, 59513, 59513, 59513, 59513, 59513, 59513, 59513, 59513, 59513, 59513, 59513, 59513, 59513, 59513, 59513, 59513, 59513, 59513, 59513, 59513, 59513, 59513, 59513, 59513, 59513, 59513, 59513, 59513]}, {'input_ids': [5892, 2699, 402, 2635, 186, 8577, 259, 50, 202, 73, 1680, 4, 1437, 57, 15675, 55, 52, 2872, 26, 32, 33, 55, 202, 79, 4, 3689, 19594, 20142, 545, 12, 7528, 246, 588, 1184, 7, 1437, 3, 0], 'attention_mask': [1, 1, 1, 1, 1, 1, 1, 1, 1, 1, 1, 1, 1, 1, 1, 1, 1, 1, 1, 1, 1, 1, 1, 1, 1, 1, 1, 1, 1, 1, 1, 1, 1, 1, 1, 1, 1, 1], 'labels': [469, 495, 949, 6238, 29, 402, 2635, 186, 8577, 259, 50, 168, 76, 53, 14268, 19, 2428, 59, 19, 3254, 29, 88, 15193, 1150, 88, 1408, 15109, 493, 7102, 19, 5893, 11430, 8140, 34, 15973, 27, 81, 6, 32783, 29, 693, 1184, 5, 4027, 3, 0, 59513, 59513, 59513, 59513, 59513, 59513, 59513, 59513, 59513, 59513, 59513, 59513, 59513, 59513, 59513, 59513, 59513, 59513, 59513, 59513, 59513, 59513, 59513, 59513, 59513, 59513, 59513, 59513, 59513, 59513, 59513, 59513, 59513, 59513, 59513, 59513, 59513, 59513, 59513, 59513, 59513, 59513, 59513, 59513, 59513, 59513, 59513, 59513, 59513, 59513, 59513, 59513, 59513, 59513, 59513, 59513, 59513, 59513, 59513, 59513, 59513, 59513, 59513, 59513, 59513, 59513, 59513, 59513, 59513, 59513, 59513, 59513, 59513, 59513, 59513, 59513, 59513, 59513, 59513, 59513, 59513, 59513]}]\n"
     ]
    }
   ],
   "source": [
    "print([tokenized_dataset['train'][i] for i in range(1, 3)])\n"
   ]
  },
  {
   "cell_type": "code",
   "execution_count": 22,
   "metadata": {},
   "outputs": [
    {
     "data": {
      "text/plain": [
       "dict_keys(['input_ids', 'attention_mask', 'labels', 'decoder_input_ids'])"
      ]
     },
     "execution_count": 22,
     "metadata": {},
     "output_type": "execute_result"
    }
   ],
   "source": [
    "batch = data_collator([tokenized_dataset['train'][i] for i in range(1, 3)])\n",
    "batch.keys()"
   ]
  },
  {
   "cell_type": "code",
   "execution_count": 23,
   "metadata": {},
   "outputs": [
    {
     "data": {
      "text/plain": [
       "tensor([[16572,    51,    39,   698,   339,     0, 59513, 59513, 59513, 59513,\n",
       "         59513, 59513, 59513, 59513, 59513, 59513, 59513, 59513, 59513, 59513,\n",
       "         59513, 59513, 59513, 59513, 59513, 59513, 59513, 59513, 59513, 59513,\n",
       "         59513, 59513, 59513, 59513, 59513, 59513, 59513, 59513, 59513, 59513,\n",
       "         59513, 59513, 59513, 59513, 59513, 59513, 59513, 59513, 59513, 59513,\n",
       "         59513, 59513, 59513, 59513, 59513, 59513, 59513, 59513, 59513, 59513,\n",
       "         59513, 59513, 59513, 59513, 59513, 59513, 59513, 59513, 59513, 59513,\n",
       "         59513, 59513, 59513, 59513, 59513, 59513, 59513, 59513, 59513, 59513,\n",
       "         59513, 59513, 59513, 59513, 59513, 59513, 59513, 59513, 59513, 59513,\n",
       "         59513, 59513, 59513, 59513, 59513, 59513, 59513, 59513, 59513, 59513,\n",
       "         59513, 59513, 59513, 59513, 59513, 59513, 59513, 59513, 59513, 59513,\n",
       "         59513, 59513, 59513, 59513, 59513, 59513, 59513, 59513, 59513, 59513,\n",
       "         59513, 59513, 59513, 59513, 59513, 59513, 59513, 59513],\n",
       "        [  469,   495,   949,  6238,    29,   402,  2635,   186,  8577,   259,\n",
       "            50,   168,    76,    53, 14268,    19,  2428,    59,    19,  3254,\n",
       "            29,    88, 15193,  1150,    88,  1408, 15109,   493,  7102,    19,\n",
       "          5893, 11430,  8140,    34, 15973,    27,    81,     6, 32783,    29,\n",
       "           693,  1184,     5,  4027,     3,     0, 59513, 59513, 59513, 59513,\n",
       "         59513, 59513, 59513, 59513, 59513, 59513, 59513, 59513, 59513, 59513,\n",
       "         59513, 59513, 59513, 59513, 59513, 59513, 59513, 59513, 59513, 59513,\n",
       "         59513, 59513, 59513, 59513, 59513, 59513, 59513, 59513, 59513, 59513,\n",
       "         59513, 59513, 59513, 59513, 59513, 59513, 59513, 59513, 59513, 59513,\n",
       "         59513, 59513, 59513, 59513, 59513, 59513, 59513, 59513, 59513, 59513,\n",
       "         59513, 59513, 59513, 59513, 59513, 59513, 59513, 59513, 59513, 59513,\n",
       "         59513, 59513, 59513, 59513, 59513, 59513, 59513, 59513, 59513, 59513,\n",
       "         59513, 59513, 59513, 59513, 59513, 59513, 59513, 59513]])"
      ]
     },
     "execution_count": 23,
     "metadata": {},
     "output_type": "execute_result"
    }
   ],
   "source": [
    "batch['labels']"
   ]
  },
  {
   "cell_type": "code",
   "execution_count": 24,
   "metadata": {},
   "outputs": [
    {
     "data": {
      "text/plain": [
       "tensor([[59513, 16572,    51,    39,   698,   339,     0, 59513, 59513, 59513,\n",
       "         59513, 59513, 59513, 59513, 59513, 59513, 59513, 59513, 59513, 59513,\n",
       "         59513, 59513, 59513, 59513, 59513, 59513, 59513, 59513, 59513, 59513,\n",
       "         59513, 59513, 59513, 59513, 59513, 59513, 59513, 59513, 59513, 59513,\n",
       "         59513, 59513, 59513, 59513, 59513, 59513, 59513, 59513, 59513, 59513,\n",
       "         59513, 59513, 59513, 59513, 59513, 59513, 59513, 59513, 59513, 59513,\n",
       "         59513, 59513, 59513, 59513, 59513, 59513, 59513, 59513, 59513, 59513,\n",
       "         59513, 59513, 59513, 59513, 59513, 59513, 59513, 59513, 59513, 59513,\n",
       "         59513, 59513, 59513, 59513, 59513, 59513, 59513, 59513, 59513, 59513,\n",
       "         59513, 59513, 59513, 59513, 59513, 59513, 59513, 59513, 59513, 59513,\n",
       "         59513, 59513, 59513, 59513, 59513, 59513, 59513, 59513, 59513, 59513,\n",
       "         59513, 59513, 59513, 59513, 59513, 59513, 59513, 59513, 59513, 59513,\n",
       "         59513, 59513, 59513, 59513, 59513, 59513, 59513, 59513],\n",
       "        [59513,   469,   495,   949,  6238,    29,   402,  2635,   186,  8577,\n",
       "           259,    50,   168,    76,    53, 14268,    19,  2428,    59,    19,\n",
       "          3254,    29,    88, 15193,  1150,    88,  1408, 15109,   493,  7102,\n",
       "            19,  5893, 11430,  8140,    34, 15973,    27,    81,     6, 32783,\n",
       "            29,   693,  1184,     5,  4027,     3,     0, 59513, 59513, 59513,\n",
       "         59513, 59513, 59513, 59513, 59513, 59513, 59513, 59513, 59513, 59513,\n",
       "         59513, 59513, 59513, 59513, 59513, 59513, 59513, 59513, 59513, 59513,\n",
       "         59513, 59513, 59513, 59513, 59513, 59513, 59513, 59513, 59513, 59513,\n",
       "         59513, 59513, 59513, 59513, 59513, 59513, 59513, 59513, 59513, 59513,\n",
       "         59513, 59513, 59513, 59513, 59513, 59513, 59513, 59513, 59513, 59513,\n",
       "         59513, 59513, 59513, 59513, 59513, 59513, 59513, 59513, 59513, 59513,\n",
       "         59513, 59513, 59513, 59513, 59513, 59513, 59513, 59513, 59513, 59513,\n",
       "         59513, 59513, 59513, 59513, 59513, 59513, 59513, 59513]])"
      ]
     },
     "execution_count": 24,
     "metadata": {},
     "output_type": "execute_result"
    }
   ],
   "source": [
    "batch['decoder_input_ids']"
   ]
  },
  {
   "cell_type": "code",
   "execution_count": 25,
   "metadata": {},
   "outputs": [
    {
     "name": "stdout",
     "output_type": "stream",
     "text": [
      "['<pad>', '▁Mettr', 'e', '▁au', '▁premier', '▁plan', '</s>', '<pad>', '<pad>', '<pad>', '<pad>', '<pad>', '<pad>', '<pad>', '<pad>', '<pad>', '<pad>', '<pad>', '<pad>', '<pad>', '<pad>', '<pad>', '<pad>', '<pad>', '<pad>', '<pad>', '<pad>', '<pad>', '<pad>', '<pad>', '<pad>', '<pad>', '<pad>', '<pad>', '<pad>', '<pad>', '<pad>', '<pad>', '<pad>', '<pad>', '<pad>', '<pad>', '<pad>', '<pad>', '<pad>', '<pad>', '<pad>', '<pad>', '<pad>', '<pad>', '<pad>', '<pad>', '<pad>', '<pad>', '<pad>', '<pad>', '<pad>', '<pad>', '<pad>', '<pad>', '<pad>', '<pad>', '<pad>', '<pad>', '<pad>', '<pad>', '<pad>', '<pad>', '<pad>', '<pad>', '<pad>', '<pad>', '<pad>', '<pad>', '<pad>', '<pad>', '<pad>', '<pad>', '<pad>', '<pad>', '<pad>', '<pad>', '<pad>', '<pad>', '<pad>', '<pad>', '<pad>', '<pad>', '<pad>', '<pad>', '<pad>', '<pad>', '<pad>', '<pad>', '<pad>', '<pad>', '<pad>', '<pad>', '<pad>', '<pad>', '<pad>', '<pad>', '<pad>', '<pad>', '<pad>', '<pad>', '<pad>', '<pad>', '<pad>', '<pad>', '<pad>', '<pad>', '<pad>', '<pad>', '<pad>', '<pad>', '<pad>', '<pad>', '<pad>', '<pad>', '<pad>', '<pad>', '<pad>', '<pad>', '<pad>', '<pad>', '<pad>', '<pad>']\n"
     ]
    }
   ],
   "source": [
    "print(tokenizer.convert_ids_to_tokens(batch['decoder_input_ids'][0]))"
   ]
  },
  {
   "cell_type": "code",
   "execution_count": 26,
   "metadata": {},
   "outputs": [],
   "source": [
    "# old (deprecated) way\n",
    "# from datasets import load_metric\n",
    "\n",
    "# bleu_metric = load_metric(\"sacrebleu\")\n",
    "# bert_metric = load_metric(\"bertscore\")"
   ]
  },
  {
   "cell_type": "code",
   "execution_count": 27,
   "metadata": {},
   "outputs": [],
   "source": [
    "# new way\n",
    "import evaluate\n",
    "\n",
    "bleu_metric = evaluate.load(\"sacrebleu\")\n",
    "bert_metric = evaluate.load(\"bertscore\")"
   ]
  },
  {
   "cell_type": "code",
   "execution_count": 28,
   "metadata": {},
   "outputs": [
    {
     "data": {
      "text/plain": [
       "{'score': 0.0,\n",
       " 'counts': [3, 2, 1, 0],\n",
       " 'totals': [3, 2, 1, 0],\n",
       " 'precisions': [100.0, 100.0, 100.0, 0.0],\n",
       " 'bp': 1.0,\n",
       " 'sys_len': 3,\n",
       " 'ref_len': 3}"
      ]
     },
     "execution_count": 28,
     "metadata": {},
     "output_type": "execute_result"
    }
   ],
   "source": [
    "bleu_metric.compute(\n",
    "    predictions=[\"I love cats\"],\n",
    "    references=[[\"I love cats\"]],\n",
    ")"
   ]
  },
  {
   "cell_type": "code",
   "execution_count": 29,
   "metadata": {},
   "outputs": [
    {
     "data": {
      "text/plain": [
       "{'score': 100.00000000000004,\n",
       " 'counts': [12, 11, 10, 9],\n",
       " 'totals': [12, 11, 10, 9],\n",
       " 'precisions': [100.0, 100.0, 100.0, 100.0],\n",
       " 'bp': 1.0,\n",
       " 'sys_len': 12,\n",
       " 'ref_len': 12}"
      ]
     },
     "execution_count": 29,
     "metadata": {},
     "output_type": "execute_result"
    }
   ],
   "source": [
    "s = \"Marian is an efficient NMT framework written in pure C++\"\n",
    "bleu_metric.compute(predictions=[s] , references=[[s]])"
   ]
  },
  {
   "cell_type": "code",
   "execution_count": 30,
   "metadata": {},
   "outputs": [
    {
     "name": "stderr",
     "output_type": "stream",
     "text": [
      "Some weights of RobertaModel were not initialized from the model checkpoint at roberta-large and are newly initialized: ['roberta.pooler.dense.weight', 'roberta.pooler.dense.bias']\n",
      "You should probably TRAIN this model on a down-stream task to be able to use it for predictions and inference.\n"
     ]
    },
    {
     "data": {
      "text/plain": [
       "{'precision': [1.0],\n",
       " 'recall': [1.0],\n",
       " 'f1': [1.0],\n",
       " 'hashcode': 'roberta-large_L17_no-idf_version=0.3.12(hug_trans=4.31.0)'}"
      ]
     },
     "execution_count": 30,
     "metadata": {},
     "output_type": "execute_result"
    }
   ],
   "source": [
    "bert_metric.compute(\n",
    "    predictions=[\"I love cats\"],\n",
    "    references=[[\"I love cats\"]],\n",
    "    lang='en',\n",
    ")"
   ]
  },
  {
   "cell_type": "code",
   "execution_count": 31,
   "metadata": {},
   "outputs": [
    {
     "data": {
      "text/plain": [
       "{'score': 0.0,\n",
       " 'counts': [2, 0, 0, 0],\n",
       " 'totals': [3, 2, 1, 0],\n",
       " 'precisions': [66.66666666666667, 25.0, 25.0, 0.0],\n",
       " 'bp': 1.0,\n",
       " 'sys_len': 3,\n",
       " 'ref_len': 3}"
      ]
     },
     "execution_count": 31,
     "metadata": {},
     "output_type": "execute_result"
    }
   ],
   "source": [
    "bleu_metric.compute(\n",
    "    predictions=[\"I love cats\"],\n",
    "    references=[[\"I like cats\"]],\n",
    ")"
   ]
  },
  {
   "cell_type": "code",
   "execution_count": 32,
   "metadata": {},
   "outputs": [
    {
     "data": {
      "text/plain": [
       "{'precision': [0.9803368449211121],\n",
       " 'recall': [0.9803368449211121],\n",
       " 'f1': [0.9803368449211121],\n",
       " 'hashcode': 'roberta-large_L17_no-idf_version=0.3.12(hug_trans=4.31.0)'}"
      ]
     },
     "execution_count": 32,
     "metadata": {},
     "output_type": "execute_result"
    }
   ],
   "source": [
    "bert_metric.compute(\n",
    "    predictions=[\"I love cats\"],\n",
    "    references=[[\"I like cats\"]],\n",
    "    lang='en',\n",
    ")"
   ]
  },
  {
   "cell_type": "code",
   "execution_count": 33,
   "metadata": {},
   "outputs": [
    {
     "data": {
      "text/plain": [
       "{'precision': [1.0],\n",
       " 'recall': [1.0],\n",
       " 'f1': [1.0],\n",
       " 'hashcode': 'roberta-large_L17_no-idf_version=0.3.12(hug_trans=4.31.0)'}"
      ]
     },
     "execution_count": 33,
     "metadata": {},
     "output_type": "execute_result"
    }
   ],
   "source": [
    "bert_metric.compute(predictions=[s], references=[[s]], lang=\"en\")\n"
   ]
  },
  {
   "cell_type": "code",
   "execution_count": 34,
   "metadata": {},
   "outputs": [],
   "source": [
    "\n",
    "import numpy as np\n",
    "\n",
    "def compute_metrics(tokenIds_and_labels):\n",
    "    # Diff from other stuff seen before!\n",
    "    # This time the library returns the prediction itself, not logits.\n",
    "    # Why?\n",
    "    # This is beacuse Machine Translation models use a special algorithm called \"beam search\" to find the predictions\n",
    "    # It's not so trivial as using the argmax as we did before.\n",
    "    # So the library returns the predictions ready for us, so that we don't need to call the beam search algorithm by ourselves.\n",
    "    preds, labels = tokenIds_and_labels\n",
    "    \n",
    "    # THe metrics now uses strings, not token ids. So we will need to decode the ids into words\n",
    "    decoded_preds = tokenizer.batch_decode(preds, skip_special_tokens=True)\n",
    "    \n",
    "    # for any -100 label found, replace with pad_token_id\n",
    "    labels = np.where(labels != -100, labels, tokenizer.pad_token_id)\n",
    "    \n",
    "    decoded_labels = tokenizer.batch_decode(labels, skip_special_tokens=True)\n",
    "    \n",
    "    # Get rid of extraneous whitespaces\n",
    "    # and also puts targets into lists\n",
    "    # as required by the metrics functions\n",
    "    decoded_preds = [pred.strip() for pred in decoded_preds]\n",
    "    decoded_labels = [[label.strip()] for label in decoded_labels]\n",
    "    \n",
    "    bleu = bleu_metric.compute(predictions=decoded_preds, references=decoded_labels)\n",
    "    bert = bert_metric.compute(predictions=decoded_preds, references=decoded_labels, lang=\"fr\")\n",
    "    \n",
    "    # Bert score is returned per sample, so we take mean\n",
    "    return {\"bleu\": bleu[\"score\"], \"bert_score\": np.mean(bert[\"f1\"])}"
   ]
  },
  {
   "cell_type": "code",
   "execution_count": 35,
   "metadata": {},
   "outputs": [],
   "source": [
    "from transformers import Seq2SeqTrainingArguments, Seq2SeqTrainer\n",
    "\n",
    "training_args = Seq2SeqTrainingArguments(\n",
    "    \"my-trainer\",\n",
    "    evaluation_strategy = \"no\",\n",
    "    save_strategy=\"epoch\",\n",
    "    per_device_train_batch_size=16,\n",
    "    per_device_eval_batch_size=1,\n",
    "    seed=42,\n",
    "    # During evaluation, generate predictions wthout knowing the true targets fed into decoder\n",
    "    predict_with_generate=True,\n",
    "    fp16=False, # The lectures recommend turn this true, but we loose precision\n",
    "    learning_rate=2e-5,\n",
    "    weight_decay=0.01,\n",
    "    num_train_epochs=3,\n",
    "    save_total_limit=3,\n",
    ")"
   ]
  },
  {
   "cell_type": "code",
   "execution_count": 36,
   "metadata": {},
   "outputs": [],
   "source": [
    "trainer = Seq2SeqTrainer(\n",
    "    model=model,\n",
    "    args=training_args,\n",
    "    data_collator=data_collator,\n",
    "    train_dataset=tokenized_dataset['train'],\n",
    "    eval_dataset=tokenized_dataset['validation'],\n",
    "    tokenizer=tokenizer,\n",
    "    compute_metrics=compute_metrics,\n",
    ")"
   ]
  },
  {
   "cell_type": "code",
   "execution_count": 37,
   "metadata": {},
   "outputs": [
    {
     "data": {
      "application/vnd.jupyter.widget-view+json": {
       "model_id": "443bd824f0a74f7e9b918fbc3517d14f",
       "version_major": 2,
       "version_minor": 0
      },
      "text/plain": [
       "  0%|          | 0/100 [00:00<?, ?it/s]"
      ]
     },
     "metadata": {},
     "output_type": "display_data"
    },
    {
     "data": {
      "text/plain": [
       "{'eval_loss': 7.468404769897461,\n",
       " 'eval_bleu': 32.85382973648274,\n",
       " 'eval_bert_score': 0.8555682480335236,\n",
       " 'eval_runtime': 10.5638,\n",
       " 'eval_samples_per_second': 9.466,\n",
       " 'eval_steps_per_second': 9.466}"
      ]
     },
     "execution_count": 37,
     "metadata": {},
     "output_type": "execute_result"
    }
   ],
   "source": [
    "trainer.evaluate(max_length=max_target_len)"
   ]
  },
  {
   "cell_type": "code",
   "execution_count": 38,
   "metadata": {},
   "outputs": [
    {
     "name": "stderr",
     "output_type": "stream",
     "text": [
      "/home/bruno/anaconda3/envs/gpt/lib/python3.9/site-packages/transformers/optimization.py:411: FutureWarning: This implementation of AdamW is deprecated and will be removed in a future version. Use the PyTorch implementation torch.optim.AdamW instead, or set `no_deprecation_warning=True` to disable this warning\n",
      "  warnings.warn(\n"
     ]
    },
    {
     "data": {
      "application/vnd.jupyter.widget-view+json": {
       "model_id": "80ec84898d9840f6b82309a1349af680",
       "version_major": 2,
       "version_minor": 0
      },
      "text/plain": [
       "  0%|          | 0/150 [00:00<?, ?it/s]"
      ]
     },
     "metadata": {},
     "output_type": "display_data"
    },
    {
     "name": "stdout",
     "output_type": "stream",
     "text": [
      "{'train_runtime': 34.3937, 'train_samples_per_second': 69.78, 'train_steps_per_second': 4.361, 'train_loss': 0.3342540740966797, 'epoch': 3.0}\n"
     ]
    },
    {
     "data": {
      "text/plain": [
       "TrainOutput(global_step=150, training_loss=0.3342540740966797, metrics={'train_runtime': 34.3937, 'train_samples_per_second': 69.78, 'train_steps_per_second': 4.361, 'train_loss': 0.3342540740966797, 'epoch': 3.0})"
      ]
     },
     "execution_count": 38,
     "metadata": {},
     "output_type": "execute_result"
    }
   ],
   "source": [
    "trainer.train()"
   ]
  },
  {
   "cell_type": "code",
   "execution_count": 39,
   "metadata": {},
   "outputs": [
    {
     "data": {
      "application/vnd.jupyter.widget-view+json": {
       "model_id": "913a9b905d5a4da4b74c0e82427142a5",
       "version_major": 2,
       "version_minor": 0
      },
      "text/plain": [
       "  0%|          | 0/100 [00:00<?, ?it/s]"
      ]
     },
     "metadata": {},
     "output_type": "display_data"
    },
    {
     "data": {
      "text/plain": [
       "{'eval_loss': 0.14306989312171936,\n",
       " 'eval_bleu': 38.39688826526925,\n",
       " 'eval_bert_score': 0.8740445053577424,\n",
       " 'eval_runtime': 10.1441,\n",
       " 'eval_samples_per_second': 9.858,\n",
       " 'eval_steps_per_second': 9.858,\n",
       " 'epoch': 3.0}"
      ]
     },
     "execution_count": 39,
     "metadata": {},
     "output_type": "execute_result"
    }
   ],
   "source": [
    "trainer.evaluate(max_length=max_target_len)"
   ]
  },
  {
   "cell_type": "code",
   "execution_count": 40,
   "metadata": {},
   "outputs": [],
   "source": [
    "trainer.save_model(\"my_saved_model\")"
   ]
  },
  {
   "cell_type": "code",
   "execution_count": 41,
   "metadata": {},
   "outputs": [],
   "source": [
    "from transformers import pipeline\n",
    "\n",
    "translator = pipeline(\"translation\", model=\"my_saved_model\", device=0)"
   ]
  },
  {
   "cell_type": "code",
   "execution_count": 42,
   "metadata": {},
   "outputs": [
    {
     "data": {
      "text/plain": [
       "[{'translation_text': \"J'espère que ce cours vous aidera dans votre parcours data science!\"}]"
      ]
     },
     "execution_count": 42,
     "metadata": {},
     "output_type": "execute_result"
    }
   ],
   "source": [
    "translator(\"I hope this course has helped you on your data science journey!\")"
   ]
  },
  {
   "cell_type": "code",
   "execution_count": null,
   "metadata": {},
   "outputs": [],
   "source": []
  }
 ],
 "metadata": {
  "kernelspec": {
   "display_name": "gpt",
   "language": "python",
   "name": "python3"
  },
  "language_info": {
   "codemirror_mode": {
    "name": "ipython",
    "version": 3
   },
   "file_extension": ".py",
   "mimetype": "text/x-python",
   "name": "python",
   "nbconvert_exporter": "python",
   "pygments_lexer": "ipython3",
   "version": "3.9.16"
  },
  "orig_nbformat": 4
 },
 "nbformat": 4,
 "nbformat_minor": 2
}
