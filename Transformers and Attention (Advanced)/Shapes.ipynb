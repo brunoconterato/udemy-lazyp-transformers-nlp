{
 "cells": [
  {
   "cell_type": "code",
   "execution_count": 1,
   "metadata": {},
   "outputs": [],
   "source": [
    "import torch\n",
    "from torch import nn\n",
    "import torch.nn.functional as F"
   ]
  },
  {
   "cell_type": "code",
   "execution_count": 2,
   "metadata": {},
   "outputs": [],
   "source": [
    "batch_size = 8\n",
    "T = 6\n",
    "d_model = 4\n",
    "d = 2\n",
    "\n",
    "W = torch.normal(mean=0, std=0.01, size=(d_model, d))\n",
    "\n",
    "x = torch.normal(mean=0, std=0.01, size=(batch_size, T, d_model))"
   ]
  },
  {
   "cell_type": "code",
   "execution_count": 30,
   "metadata": {},
   "outputs": [
    {
     "name": "stdout",
     "output_type": "stream",
     "text": [
      "tensor([[1., 1., 1.],\n",
      "        [1., 1., 1.],\n",
      "        [1., 1., 1.],\n",
      "        [1., 1., 1.]])\n",
      "tensor([[ 0.,  1.,  2.,  3.],\n",
      "        [ 4.,  5.,  6.,  7.],\n",
      "        [ 8.,  9., 10., 11.]])\n"
     ]
    },
    {
     "data": {
      "text/plain": [
       "tensor([[[12., 15., 18., 21.],\n",
       "         [12., 15., 18., 21.],\n",
       "         [12., 15., 18., 21.],\n",
       "         [12., 15., 18., 21.]],\n",
       "\n",
       "        [[12., 15., 18., 21.],\n",
       "         [12., 15., 18., 21.],\n",
       "         [12., 15., 18., 21.],\n",
       "         [12., 15., 18., 21.]],\n",
       "\n",
       "        [[12., 15., 18., 21.],\n",
       "         [12., 15., 18., 21.],\n",
       "         [12., 15., 18., 21.],\n",
       "         [12., 15., 18., 21.]],\n",
       "\n",
       "        [[12., 15., 18., 21.],\n",
       "         [12., 15., 18., 21.],\n",
       "         [12., 15., 18., 21.],\n",
       "         [12., 15., 18., 21.]],\n",
       "\n",
       "        [[12., 15., 18., 21.],\n",
       "         [12., 15., 18., 21.],\n",
       "         [12., 15., 18., 21.],\n",
       "         [12., 15., 18., 21.]],\n",
       "\n",
       "        [[12., 15., 18., 21.],\n",
       "         [12., 15., 18., 21.],\n",
       "         [12., 15., 18., 21.],\n",
       "         [12., 15., 18., 21.]],\n",
       "\n",
       "        [[12., 15., 18., 21.],\n",
       "         [12., 15., 18., 21.],\n",
       "         [12., 15., 18., 21.],\n",
       "         [12., 15., 18., 21.]],\n",
       "\n",
       "        [[12., 15., 18., 21.],\n",
       "         [12., 15., 18., 21.],\n",
       "         [12., 15., 18., 21.],\n",
       "         [12., 15., 18., 21.]]])"
      ]
     },
     "execution_count": 30,
     "metadata": {},
     "output_type": "execute_result"
    }
   ],
   "source": [
    "def batched_matmul(x_batched, W):\n",
    "    # # Assuming x_batched.shape == (batch_size, T, d_model)\n",
    "    # # and W.shape == (d_model, d)\n",
    "    # batch_size, T, d_model = x_batched.shape\n",
    "    # d = W.shape[1]\n",
    "\n",
    "    # # Reshape x_batched to (batch_size * T, d_model)\n",
    "    # x_reshaped = x_batched.reshape(-1, d_model)\n",
    "\n",
    "    # # Perform matrix multiplication\n",
    "    # result = torch.matmul(x_reshaped, W)\n",
    "\n",
    "    # # Reshape the result back to (batch_size, T, d)\n",
    "    # result = result.reshape(batch_size, T, d)\n",
    "\n",
    "    # return result\n",
    "    \n",
    "    \n",
    "    batch_size = x_batched.shape[0]\n",
    "    W_repeated = W.unsqueeze(0).repeat((batch_size, 1, 1))\n",
    "    # print(W.shape)\n",
    "    # print(W_repeated.shape)\n",
    "    # print(W)\n",
    "    # print(W_repeated[2])\n",
    "    \n",
    "    print(x_batched[0])\n",
    "    print(W_repeated[0])\n",
    "    \n",
    "    return torch.bmm(x_batched, W_repeated)\n",
    "\n",
    "batched_matmul(torch.ones(8, 4, 3).float(), torch.arange(12).reshape((3, 4)).float())"
   ]
  },
  {
   "cell_type": "code",
   "execution_count": 13,
   "metadata": {},
   "outputs": [
    {
     "name": "stdout",
     "output_type": "stream",
     "text": [
      "torch.Size([4, 2])\n",
      "torch.Size([8, 4, 2])\n"
     ]
    },
    {
     "ename": "AssertionError",
     "evalue": "",
     "output_type": "error",
     "traceback": [
      "\u001b[0;31m---------------------------------------------------------------------------\u001b[0m",
      "\u001b[0;31mAssertionError\u001b[0m                            Traceback (most recent call last)",
      "\u001b[0;32m/tmp/ipykernel_41774/2293944568.py\u001b[0m in \u001b[0;36m<module>\u001b[0;34m\u001b[0m\n\u001b[1;32m      4\u001b[0m \u001b[0;34m\u001b[0m\u001b[0m\n\u001b[1;32m      5\u001b[0m \u001b[0;31m# Objective.shape -->           (batch_size, T, d)\u001b[0m\u001b[0;34m\u001b[0m\u001b[0;34m\u001b[0m\u001b[0m\n\u001b[0;32m----> 6\u001b[0;31m \u001b[0;32massert\u001b[0m \u001b[0mbatched_matmul\u001b[0m\u001b[0;34m(\u001b[0m\u001b[0mx\u001b[0m\u001b[0;34m,\u001b[0m \u001b[0mW\u001b[0m\u001b[0;34m)\u001b[0m\u001b[0;34m.\u001b[0m\u001b[0mshape\u001b[0m \u001b[0;34m==\u001b[0m \u001b[0;34m(\u001b[0m\u001b[0mbatch_size\u001b[0m\u001b[0;34m,\u001b[0m \u001b[0mT\u001b[0m\u001b[0;34m,\u001b[0m \u001b[0md\u001b[0m\u001b[0;34m)\u001b[0m\u001b[0;34m\u001b[0m\u001b[0;34m\u001b[0m\u001b[0m\n\u001b[0m\u001b[1;32m      7\u001b[0m \u001b[0mprint\u001b[0m\u001b[0;34m(\u001b[0m\u001b[0;34m\"Correct\"\u001b[0m\u001b[0;34m)\u001b[0m\u001b[0;34m\u001b[0m\u001b[0;34m\u001b[0m\u001b[0m\n",
      "\u001b[0;32m/tmp/ipykernel_41774/220090813.py\u001b[0m in \u001b[0;36mbatched_matmul\u001b[0;34m(x_batched, W)\u001b[0m\n\u001b[1;32m     21\u001b[0m     \u001b[0mprint\u001b[0m\u001b[0;34m(\u001b[0m\u001b[0mW\u001b[0m\u001b[0;34m.\u001b[0m\u001b[0mshape\u001b[0m\u001b[0;34m)\u001b[0m\u001b[0;34m\u001b[0m\u001b[0;34m\u001b[0m\u001b[0m\n\u001b[1;32m     22\u001b[0m     \u001b[0mprint\u001b[0m\u001b[0;34m(\u001b[0m\u001b[0mW_repeated\u001b[0m\u001b[0;34m.\u001b[0m\u001b[0mshape\u001b[0m\u001b[0;34m)\u001b[0m\u001b[0;34m\u001b[0m\u001b[0;34m\u001b[0m\u001b[0m\n\u001b[0;32m---> 23\u001b[0;31m     \u001b[0;32massert\u001b[0m \u001b[0;32mFalse\u001b[0m\u001b[0;34m\u001b[0m\u001b[0;34m\u001b[0m\u001b[0m\n\u001b[0m\u001b[1;32m     24\u001b[0m     \u001b[0;32mreturn\u001b[0m\u001b[0;34m\u001b[0m\u001b[0;34m\u001b[0m\u001b[0m\n",
      "\u001b[0;31mAssertionError\u001b[0m: "
     ]
    }
   ],
   "source": [
    "# x * W_K\n",
    "# x.shape -->                   (batch_size, T, d_model)\n",
    "# W.shape -->                   (d_model, d_K)\n",
    "\n",
    "# Objective.shape -->           (batch_size, T, d)\n",
    "assert batched_matmul(x, W).shape == (batch_size, T, d)\n",
    "print(\"Correct\")"
   ]
  },
  {
   "cell_type": "code",
   "execution_count": null,
   "metadata": {},
   "outputs": [],
   "source": [
    "a = torch.tensor([[[1, 2], [3, 4]], [[5, 6], [7, 8]]])\n",
    "a"
   ]
  },
  {
   "cell_type": "code",
   "execution_count": null,
   "metadata": {},
   "outputs": [],
   "source": [
    "b = torch.tensor([[7, 8], [9, 10]])\n",
    "b"
   ]
  },
  {
   "cell_type": "code",
   "execution_count": null,
   "metadata": {},
   "outputs": [],
   "source": [
    "batched_matmul(a, b)"
   ]
  }
 ],
 "metadata": {
  "kernelspec": {
   "display_name": "gpt",
   "language": "python",
   "name": "python3"
  },
  "language_info": {
   "codemirror_mode": {
    "name": "ipython",
    "version": 3
   },
   "file_extension": ".py",
   "mimetype": "text/x-python",
   "name": "python",
   "nbconvert_exporter": "python",
   "pygments_lexer": "ipython3",
   "version": "3.9.16"
  }
 },
 "nbformat": 4,
 "nbformat_minor": 2
}
