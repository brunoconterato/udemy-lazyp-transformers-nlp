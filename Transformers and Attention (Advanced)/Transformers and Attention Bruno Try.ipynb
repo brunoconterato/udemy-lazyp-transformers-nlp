{
 "cells": [
  {
   "cell_type": "markdown",
   "metadata": {},
   "source": [
    "# 1. Let's build the transformer's encoder"
   ]
  },
  {
   "cell_type": "markdown",
   "metadata": {},
   "source": [
    "## 1.0. Init\n",
    "\n",
    "- Initialize the notebook environment.\n",
    "- Hyperparameters definition"
   ]
  },
  {
   "cell_type": "code",
   "execution_count": 1,
   "metadata": {},
   "outputs": [],
   "source": [
    "import torch\n",
    "from torch import nn\n",
    "import torch.nn.functional as F"
   ]
  },
  {
   "cell_type": "code",
   "execution_count": 2,
   "metadata": {},
   "outputs": [],
   "source": [
    "# Hyperparameters Here\n",
    "BATCH_SIZE = 128\n",
    "T = 80                                  # sentence length\n",
    "D_K = 16\n",
    "D_V = 16\n",
    "D_MODEL = 128\n",
    "H = 8\n",
    "VOCAB_SIZE = 10\n",
    "N_MHA_BLOCKS_ENCODER = 6\n",
    "N_CLASSES = 2                          # classes of classifier\n",
    "\n",
    "# device = \"cuda\" if torch.cuda.is_available() else \"cpu\"\n",
    "device = \"cpu\"\n",
    "\n",
    "RUN_UNIT_TESTS = True\n",
    "TRAIN_MODEL = False"
   ]
  },
  {
   "cell_type": "markdown",
   "metadata": {},
   "source": [
    "## 1.1. Attention"
   ]
  },
  {
   "cell_type": "code",
   "execution_count": 3,
   "metadata": {},
   "outputs": [
    {
     "name": "stdout",
     "output_type": "stream",
     "text": [
      "tensor([[0.0900, 0.2447, 0.6652],\n",
      "        [0.0900, 0.2447, 0.6652]])\n"
     ]
    }
   ],
   "source": [
    "# Test softmax x axis:\n",
    "matrix = torch.tensor([[1.0, 2.0, 3.0], [4.0, 5.0, 6.0]])\n",
    "\n",
    "softmaxed_matrix = F.softmax(matrix, dim=1)\n",
    "\n",
    "print(softmaxed_matrix)"
   ]
  },
  {
   "cell_type": "code",
   "execution_count": 4,
   "metadata": {},
   "outputs": [],
   "source": [
    "def repeat(x: torch.Tensor, n: int):\n",
    "    # make shape (n, 1, 1, ...) --> quantity of 1's must be len(x.shape)\n",
    "    # for example, if shape of x is (3, 4, 8), shapee must be (n, 1, 1, 1)\n",
    "    tuple_ones = tuple(\n",
    "        (torch.tensor(x.shape) / torch.tensor(x.shape)).numpy().astype(int)\n",
    "    )\n",
    "    return x.unsqueeze(0).repeat((n, *tuple_ones))\n",
    "\n",
    "\n",
    "def batched_matmul(tensor_3d, tensor_2d):\n",
    "    W_repeated = repeat(tensor_2d, n=tensor_3d.shape[0])\n",
    "    \n",
    "    return torch.bmm(tensor_3d, W_repeated)"
   ]
  },
  {
   "cell_type": "code",
   "execution_count": 5,
   "metadata": {},
   "outputs": [],
   "source": [
    "class Attention(nn.Module):\n",
    "    \"\"\"Convention from: https://www.udemy.com/course/data-science-transformers-nlp/learn/lecture/32255056#overview\n",
    "    In our convention, K, Q and V are learneable, different from the \"Attention is all you need\" paper.\n",
    "    \"\"\"\n",
    "\n",
    "    def __init__(self, d_K, d_V, d_model: int, *args, **kwargs) -> None:\n",
    "        super().__init__(*args, **kwargs)\n",
    "\n",
    "        # Define trainable parameters with requires_grad=True\n",
    "        # torch 2d tensor initialized normally\n",
    "        self.W_K = nn.Parameter(torch.normal(mean=0, std=0.01, size=(d_model, d_K)))\n",
    "        self.W_Q = nn.Parameter(torch.normal(mean=0, std=0.01, size=(d_model, d_K)))\n",
    "        self.W_V = nn.Parameter(torch.normal(mean=0, std=0.01, size=(d_model, d_V)))\n",
    "        self.mask = None\n",
    "\n",
    "    def forward(self, x: torch.Tensor) -> torch.Tensor:\n",
    "        \"\"\"Forward pass of the Attention layer.\n",
    "\n",
    "        Args:\n",
    "            x (torch.Tensor): Input tensor of shape (batch, T, d_model)\n",
    "\n",
    "        Returns:\n",
    "            torch.Tensor: Output tensor of shape (batch, T, d_V)\n",
    "            torch.Tensor: Attention weights of shape (batch, T, T)\n",
    "        \"\"\"\n",
    "        # Shapes:\n",
    "        # x is a 3d tensor (batch, T, d_model)\n",
    "        # W_K (d_model, d_K)\n",
    "\n",
    "        # (batch, T, d_model) x (d_model, d_K) -> (batch, T, d_K)\n",
    "        K = batched_matmul(x, self.W_K)\n",
    "        Q = batched_matmul(x, self.W_Q)\n",
    "        V = batched_matmul(x, self.W_V)\n",
    "\n",
    "        # (batch, T, d_K) x (batch, d_k, T) -> (batch, T, T)\n",
    "        result = torch.bmm(Q, K.transpose(1, 2)) / (K.shape[-1] ** 0.5)\n",
    "        if self.mask:\n",
    "            result = torch.bmm(result, self.mask)\n",
    "        attention_weights = F.softmax(result, dim=-1)\n",
    "        # (batch, T, T) x (batch, T, d_V) -> (batch, T, d_V)\n",
    "        result = torch.bmm(attention_weights, V)\n",
    "        return result, attention_weights"
   ]
  },
  {
   "cell_type": "code",
   "execution_count": 6,
   "metadata": {},
   "outputs": [
    {
     "name": "stdout",
     "output_type": "stream",
     "text": [
      "torch.Size([128, 16])\n",
      "torch.Size([128, 16])\n",
      "torch.Size([128, 16])\n",
      "torch.Size([128, 80, 16])\n"
     ]
    }
   ],
   "source": [
    "att = Attention(d_K=D_K, d_V=D_V, d_model=D_MODEL)\n",
    "x = torch.normal(mean=0, std=0.01, size=(BATCH_SIZE, T, D_MODEL))\n",
    "\n",
    "att_result, att_weights = att.forward(x)\n",
    "assert att_result.shape == (BATCH_SIZE, T, D_V)\n",
    "print(att.W_K.shape)\n",
    "print(att.W_Q.shape)\n",
    "print(att.W_V.shape)\n",
    "print(att_result.shape)"
   ]
  },
  {
   "cell_type": "markdown",
   "metadata": {},
   "source": [
    "## 1.2. Multi-Head Attention"
   ]
  },
  {
   "cell_type": "code",
   "execution_count": 7,
   "metadata": {},
   "outputs": [],
   "source": [
    "class MultiHeadAttention(nn.Module):\n",
    "    def __init__(self, h, d_model, d_K, d_V):\n",
    "        super().__init__()\n",
    "        self.h = h\n",
    "        self.attentions = nn.ModuleList(\n",
    "            [Attention(d_K=d_K, d_V=d_V, d_model=d_model) for _ in range(h)]\n",
    "        )\n",
    "        self.W_O = nn.Parameter(torch.randn(h * d_V, d_model))\n",
    "\n",
    "    def forward(self, x: torch.Tensor):\n",
    "        \"\"\"Forward pass of the MultiHeadAttention layer.\n",
    "\n",
    "        Args:\n",
    "            x (torch.Tensor): Input tensor of shape (batch, T, d_model)\n",
    "\n",
    "        Returns:\n",
    "            torch.Tensor: Output tensor of shape (batch, T, d_model)\n",
    "            torch.Tensor: Attention weights of shape (batch, h, T, T)\n",
    "        \"\"\"\n",
    "        attention_results = [attention(x)[0] for attention in self.attentions]\n",
    "        attention_weights = torch.stack([attention(x)[1] for attention in self.attentions])\n",
    "        concatenated = torch.cat(attention_results, dim=-1)\n",
    "        return batched_matmul(concatenated, self.W_O), attention_weights"
   ]
  },
  {
   "cell_type": "code",
   "execution_count": 8,
   "metadata": {},
   "outputs": [],
   "source": [
    "mha = MultiHeadAttention(h=H, d_K=D_K, d_V=D_V, d_model=D_MODEL)\n",
    "out, att_weights = mha(x)\n",
    "assert out.shape == (BATCH_SIZE, T, D_MODEL)"
   ]
  },
  {
   "cell_type": "markdown",
   "metadata": {},
   "source": [
    "## 1.3. The transformer block"
   ]
  },
  {
   "cell_type": "code",
   "execution_count": 9,
   "metadata": {},
   "outputs": [
    {
     "data": {
      "text/plain": [
       "torch.Size([128, 80, 128])"
      ]
     },
     "execution_count": 9,
     "metadata": {},
     "output_type": "execute_result"
    }
   ],
   "source": [
    "class TransformerBlock(nn.Module):\n",
    "    def __init__(\n",
    "        self, T=T, d_K=D_K, d_V=D_V, d_model=D_MODEL, h=H, dropout=0.1, *args, **kwargs\n",
    "    ) -> None:\n",
    "        super().__init__(*args, **kwargs)\n",
    "        self.mha = MultiHeadAttention(h, d_K=d_K, d_V=d_V, d_model=d_model)\n",
    "        self.layer_norm = nn.LayerNorm(d_model)\n",
    "\n",
    "        self.ann = nn.Sequential(\n",
    "            nn.Linear(d_model, d_model),\n",
    "            nn.Dropout(dropout),\n",
    "            nn.ReLU(),\n",
    "            nn.Linear(d_model, d_model),\n",
    "            nn.Dropout(dropout),\n",
    "        )\n",
    "\n",
    "    def forward(self, x: torch.Tensor):\n",
    "        x = self.layer_norm(x + self.mha(x)[0])\n",
    "        x = self.layer_norm(x + self.ann(x)[0])\n",
    "        return x\n",
    "\n",
    "\n",
    "transformerBlock = TransformerBlock()\n",
    "transformerBlock(x).shape"
   ]
  },
  {
   "cell_type": "markdown",
   "metadata": {},
   "source": [
    "## 1.4. The positional encoding"
   ]
  },
  {
   "cell_type": "code",
   "execution_count": 10,
   "metadata": {},
   "outputs": [
    {
     "data": {
      "text/plain": [
       "torch.Size([80, 128])"
      ]
     },
     "execution_count": 10,
     "metadata": {},
     "output_type": "execute_result"
    }
   ],
   "source": [
    "def PositionalEncoding(T: int, d_model) -> torch.Tensor:\n",
    "    encodings = torch.zeros(size=(T, d_model), requires_grad=False)\n",
    "    counter = 0\n",
    "    for pos in range(T):\n",
    "        for i in range((d_model // 2) + 1):\n",
    "            if 2 * i < d_model:\n",
    "                counter += 1\n",
    "                encodings[pos, 2 * i] = torch.sin(\n",
    "                    pos / torch.tensor(10000).pow(2 * i / d_model)\n",
    "                )\n",
    "            if 2 * i + 1 < d_model:\n",
    "                counter += 1\n",
    "                encodings[pos, 2 * i + 1] = torch.cos(\n",
    "                    pos / torch.tensor(10000).pow(2 * i / d_model)\n",
    "                )\n",
    "    assert counter == T * d_model\n",
    "    return encodings\n",
    "\n",
    "\n",
    "PositionalEncoding(T, D_MODEL).shape"
   ]
  },
  {
   "cell_type": "code",
   "execution_count": 11,
   "metadata": {},
   "outputs": [
    {
     "name": "stderr",
     "output_type": "stream",
     "text": [
      "/tmp/ipykernel_80174/2721896283.py:1: UserWarning: torch.range is deprecated and will be removed in a future release because its behavior is inconsistent with Python's range builtin. Instead, use torch.arange, which produces values in [start, end).\n",
      "  torch.range(0, 10).reshape(-1, 1)\n"
     ]
    },
    {
     "data": {
      "text/plain": [
       "tensor([[ 0.],\n",
       "        [ 1.],\n",
       "        [ 2.],\n",
       "        [ 3.],\n",
       "        [ 4.],\n",
       "        [ 5.],\n",
       "        [ 6.],\n",
       "        [ 7.],\n",
       "        [ 8.],\n",
       "        [ 9.],\n",
       "        [10.]])"
      ]
     },
     "execution_count": 11,
     "metadata": {},
     "output_type": "execute_result"
    }
   ],
   "source": [
    "torch.range(0, 10).reshape(-1, 1)"
   ]
  },
  {
   "cell_type": "markdown",
   "metadata": {},
   "source": [
    "## 1.5. The embedding layer"
   ]
  },
  {
   "cell_type": "code",
   "execution_count": 12,
   "metadata": {},
   "outputs": [
    {
     "name": "stdout",
     "output_type": "stream",
     "text": [
      "embedding tensor([[ 0.0329, -0.2038],\n",
      "        [-0.0100, -0.1585],\n",
      "        [-0.1542, -0.0964]])\n",
      "torch.Size([3, 2])\n",
      "torch.Size([3, 2, 2])\n",
      "tensor([[[-0.1542, -0.0964],\n",
      "         [-0.0100, -0.1585]],\n",
      "\n",
      "        [[-0.0100, -0.1585],\n",
      "         [ 0.0329, -0.2038]],\n",
      "\n",
      "        [[ 0.0329, -0.2038],\n",
      "         [-0.1542, -0.0964]]], grad_fn=<IndexBackward0>)\n"
     ]
    }
   ],
   "source": [
    "\n",
    "# TODO: make this work in batches\n",
    "class Embedding(nn.Module):\n",
    "    def __init__(self, vocab_size, d_model, padding_idx=0):\n",
    "        super(Embedding, self).__init__()\n",
    "        self.embedding = nn.Parameter(\n",
    "            torch.normal(\n",
    "                mean=0.0, std=0.1, size=(vocab_size, d_model), requires_grad=True\n",
    "            )\n",
    "        )\n",
    "\n",
    "    def forward(self, x):\n",
    "        \"\"\"forward pass Embedding layer\n",
    "\n",
    "        Args:\n",
    "            x (torch.Tensor): input Tensor of shape (batch_size, T)\n",
    "\n",
    "        Returns:\n",
    "            torch.Tensor: output Tensor of shape (batch_size, T, d_model)\n",
    "        \"\"\"\n",
    "        return self.embedding[x.long()]\n",
    "\n",
    "\n",
    "emb = Embedding(vocab_size=3, d_model=2)\n",
    "# emb = nn.Embedding(num_embeddings=3, embedding_dim=2)\n",
    "for name, param in emb.named_parameters():\n",
    "    print(name, param.data)\n",
    "\n",
    "input_emb = torch.FloatTensor([[2, 1], [1, 0], [0, 2]])\n",
    "\n",
    "print(input_emb.shape)\n",
    "\n",
    "out_emb = emb(input_emb.long())\n",
    "print(out_emb.shape)\n",
    "print(out_emb)"
   ]
  },
  {
   "cell_type": "markdown",
   "metadata": {},
   "source": [
    "## 1.6. The Classification Encoder"
   ]
  },
  {
   "cell_type": "code",
   "execution_count": 13,
   "metadata": {},
   "outputs": [],
   "source": [
    "class ClassifierEncoder(nn.Module):\n",
    "    def __init__(\n",
    "        self,\n",
    "        T=T,\n",
    "        d_K=D_K,\n",
    "        d_V=D_V,\n",
    "        d_model=D_MODEL,\n",
    "        h=H,\n",
    "        vocab_size=VOCAB_SIZE,\n",
    "        n_classes=N_CLASSES,\n",
    "        dropout=0.1,\n",
    "        *args,\n",
    "        **kwargs\n",
    "    ):\n",
    "        super(ClassifierEncoder, self).__init__()\n",
    "        self.T = T\n",
    "        self.d_K = d_K\n",
    "\n",
    "        self.embedding = Embedding(vocab_size, d_model)\n",
    "        # self.embedding = nn.Embedding(vocab_size, d_model)\n",
    "        self.position_encoding: torch.Tensor = PositionalEncoding(T, d_model).to(device)\n",
    "\n",
    "        self.transformer_blocks = nn.ModuleList()\n",
    "        for _ in range(N_MHA_BLOCKS_ENCODER):\n",
    "            self.transformer_blocks.append(\n",
    "                TransformerBlock(T=T, d_K=d_K, d_V=d_V, d_model=d_model, h=h)\n",
    "            )\n",
    "\n",
    "        self.prediction_head = nn.Linear(d_model, n_classes)\n",
    "\n",
    "    def forward(self, x: torch.Tensor):\n",
    "        positionalEncoding = self.position_encoding.repeat(x.shape[0], 1, 1)\n",
    "        x = positionalEncoding + self.embedding(x.int()).float()\n",
    "\n",
    "        for block in self.transformer_blocks:\n",
    "            x = block(x)\n",
    "\n",
    "        x = self.prediction_head(x)\n",
    "\n",
    "        x = x[:, -1, :]\n",
    "\n",
    "        x = F.softmax(x, dim=-1)\n",
    "        # Select the last value along the T dimension\n",
    "        # Because classification is only obtained at the end of the sequence\n",
    "\n",
    "        return x"
   ]
  },
  {
   "cell_type": "markdown",
   "metadata": {},
   "source": [
    "# 2. Let's try a classification problem using the CLassification Encoder\n",
    "\n",
    "* See the file: Fine-Tuning (Intermediate)/Fine-Tunning Sentiment Custom Dataset + Labels.ipynb"
   ]
  },
  {
   "cell_type": "markdown",
   "metadata": {},
   "source": [
    "## First, lets make a dataset with cross validation"
   ]
  },
  {
   "cell_type": "code",
   "execution_count": 14,
   "metadata": {},
   "outputs": [],
   "source": [
    "import numpy as np\n",
    "import pandas as pd"
   ]
  },
  {
   "cell_type": "code",
   "execution_count": 15,
   "metadata": {},
   "outputs": [
    {
     "data": {
      "text/html": [
       "<div>\n",
       "<style scoped>\n",
       "    .dataframe tbody tr th:only-of-type {\n",
       "        vertical-align: middle;\n",
       "    }\n",
       "\n",
       "    .dataframe tbody tr th {\n",
       "        vertical-align: top;\n",
       "    }\n",
       "\n",
       "    .dataframe thead th {\n",
       "        text-align: right;\n",
       "    }\n",
       "</style>\n",
       "<table border=\"1\" class=\"dataframe\">\n",
       "  <thead>\n",
       "    <tr style=\"text-align: right;\">\n",
       "      <th></th>\n",
       "      <th>tweet_id</th>\n",
       "      <th>airline_sentiment</th>\n",
       "      <th>airline_sentiment_confidence</th>\n",
       "      <th>negativereason</th>\n",
       "      <th>negativereason_confidence</th>\n",
       "      <th>airline</th>\n",
       "      <th>airline_sentiment_gold</th>\n",
       "      <th>name</th>\n",
       "      <th>negativereason_gold</th>\n",
       "      <th>retweet_count</th>\n",
       "      <th>text</th>\n",
       "      <th>tweet_coord</th>\n",
       "      <th>tweet_created</th>\n",
       "      <th>tweet_location</th>\n",
       "      <th>user_timezone</th>\n",
       "    </tr>\n",
       "  </thead>\n",
       "  <tbody>\n",
       "    <tr>\n",
       "      <th>0</th>\n",
       "      <td>570306133677760513</td>\n",
       "      <td>neutral</td>\n",
       "      <td>1.0000</td>\n",
       "      <td>NaN</td>\n",
       "      <td>NaN</td>\n",
       "      <td>Virgin America</td>\n",
       "      <td>NaN</td>\n",
       "      <td>cairdin</td>\n",
       "      <td>NaN</td>\n",
       "      <td>0</td>\n",
       "      <td>@VirginAmerica What @dhepburn said.</td>\n",
       "      <td>NaN</td>\n",
       "      <td>2015-02-24 11:35:52 -0800</td>\n",
       "      <td>NaN</td>\n",
       "      <td>Eastern Time (US &amp; Canada)</td>\n",
       "    </tr>\n",
       "    <tr>\n",
       "      <th>1</th>\n",
       "      <td>570301130888122368</td>\n",
       "      <td>positive</td>\n",
       "      <td>0.3486</td>\n",
       "      <td>NaN</td>\n",
       "      <td>0.0000</td>\n",
       "      <td>Virgin America</td>\n",
       "      <td>NaN</td>\n",
       "      <td>jnardino</td>\n",
       "      <td>NaN</td>\n",
       "      <td>0</td>\n",
       "      <td>@VirginAmerica plus you've added commercials t...</td>\n",
       "      <td>NaN</td>\n",
       "      <td>2015-02-24 11:15:59 -0800</td>\n",
       "      <td>NaN</td>\n",
       "      <td>Pacific Time (US &amp; Canada)</td>\n",
       "    </tr>\n",
       "    <tr>\n",
       "      <th>2</th>\n",
       "      <td>570301083672813571</td>\n",
       "      <td>neutral</td>\n",
       "      <td>0.6837</td>\n",
       "      <td>NaN</td>\n",
       "      <td>NaN</td>\n",
       "      <td>Virgin America</td>\n",
       "      <td>NaN</td>\n",
       "      <td>yvonnalynn</td>\n",
       "      <td>NaN</td>\n",
       "      <td>0</td>\n",
       "      <td>@VirginAmerica I didn't today... Must mean I n...</td>\n",
       "      <td>NaN</td>\n",
       "      <td>2015-02-24 11:15:48 -0800</td>\n",
       "      <td>Lets Play</td>\n",
       "      <td>Central Time (US &amp; Canada)</td>\n",
       "    </tr>\n",
       "    <tr>\n",
       "      <th>3</th>\n",
       "      <td>570301031407624196</td>\n",
       "      <td>negative</td>\n",
       "      <td>1.0000</td>\n",
       "      <td>Bad Flight</td>\n",
       "      <td>0.7033</td>\n",
       "      <td>Virgin America</td>\n",
       "      <td>NaN</td>\n",
       "      <td>jnardino</td>\n",
       "      <td>NaN</td>\n",
       "      <td>0</td>\n",
       "      <td>@VirginAmerica it's really aggressive to blast...</td>\n",
       "      <td>NaN</td>\n",
       "      <td>2015-02-24 11:15:36 -0800</td>\n",
       "      <td>NaN</td>\n",
       "      <td>Pacific Time (US &amp; Canada)</td>\n",
       "    </tr>\n",
       "    <tr>\n",
       "      <th>4</th>\n",
       "      <td>570300817074462722</td>\n",
       "      <td>negative</td>\n",
       "      <td>1.0000</td>\n",
       "      <td>Can't Tell</td>\n",
       "      <td>1.0000</td>\n",
       "      <td>Virgin America</td>\n",
       "      <td>NaN</td>\n",
       "      <td>jnardino</td>\n",
       "      <td>NaN</td>\n",
       "      <td>0</td>\n",
       "      <td>@VirginAmerica and it's a really big bad thing...</td>\n",
       "      <td>NaN</td>\n",
       "      <td>2015-02-24 11:14:45 -0800</td>\n",
       "      <td>NaN</td>\n",
       "      <td>Pacific Time (US &amp; Canada)</td>\n",
       "    </tr>\n",
       "  </tbody>\n",
       "</table>\n",
       "</div>"
      ],
      "text/plain": [
       "             tweet_id airline_sentiment  airline_sentiment_confidence  \\\n",
       "0  570306133677760513           neutral                        1.0000   \n",
       "1  570301130888122368          positive                        0.3486   \n",
       "2  570301083672813571           neutral                        0.6837   \n",
       "3  570301031407624196          negative                        1.0000   \n",
       "4  570300817074462722          negative                        1.0000   \n",
       "\n",
       "  negativereason  negativereason_confidence         airline  \\\n",
       "0            NaN                        NaN  Virgin America   \n",
       "1            NaN                     0.0000  Virgin America   \n",
       "2            NaN                        NaN  Virgin America   \n",
       "3     Bad Flight                     0.7033  Virgin America   \n",
       "4     Can't Tell                     1.0000  Virgin America   \n",
       "\n",
       "  airline_sentiment_gold        name negativereason_gold  retweet_count  \\\n",
       "0                    NaN     cairdin                 NaN              0   \n",
       "1                    NaN    jnardino                 NaN              0   \n",
       "2                    NaN  yvonnalynn                 NaN              0   \n",
       "3                    NaN    jnardino                 NaN              0   \n",
       "4                    NaN    jnardino                 NaN              0   \n",
       "\n",
       "                                                text tweet_coord  \\\n",
       "0                @VirginAmerica What @dhepburn said.         NaN   \n",
       "1  @VirginAmerica plus you've added commercials t...         NaN   \n",
       "2  @VirginAmerica I didn't today... Must mean I n...         NaN   \n",
       "3  @VirginAmerica it's really aggressive to blast...         NaN   \n",
       "4  @VirginAmerica and it's a really big bad thing...         NaN   \n",
       "\n",
       "               tweet_created tweet_location               user_timezone  \n",
       "0  2015-02-24 11:35:52 -0800            NaN  Eastern Time (US & Canada)  \n",
       "1  2015-02-24 11:15:59 -0800            NaN  Pacific Time (US & Canada)  \n",
       "2  2015-02-24 11:15:48 -0800      Lets Play  Central Time (US & Canada)  \n",
       "3  2015-02-24 11:15:36 -0800            NaN  Pacific Time (US & Canada)  \n",
       "4  2015-02-24 11:14:45 -0800            NaN  Pacific Time (US & Canada)  "
      ]
     },
     "execution_count": 15,
     "metadata": {},
     "output_type": "execute_result"
    }
   ],
   "source": [
    "df_ = pd.read_csv(\"../Fine-Tuning (Intermediate)/AirlineTweets.csv\")\n",
    "df_.head()"
   ]
  },
  {
   "cell_type": "code",
   "execution_count": 16,
   "metadata": {},
   "outputs": [
    {
     "data": {
      "text/html": [
       "<div>\n",
       "<style scoped>\n",
       "    .dataframe tbody tr th:only-of-type {\n",
       "        vertical-align: middle;\n",
       "    }\n",
       "\n",
       "    .dataframe tbody tr th {\n",
       "        vertical-align: top;\n",
       "    }\n",
       "\n",
       "    .dataframe thead th {\n",
       "        text-align: right;\n",
       "    }\n",
       "</style>\n",
       "<table border=\"1\" class=\"dataframe\">\n",
       "  <thead>\n",
       "    <tr style=\"text-align: right;\">\n",
       "      <th></th>\n",
       "      <th>airline_sentiment</th>\n",
       "      <th>text</th>\n",
       "    </tr>\n",
       "  </thead>\n",
       "  <tbody>\n",
       "    <tr>\n",
       "      <th>0</th>\n",
       "      <td>neutral</td>\n",
       "      <td>@VirginAmerica What @dhepburn said.</td>\n",
       "    </tr>\n",
       "    <tr>\n",
       "      <th>1</th>\n",
       "      <td>positive</td>\n",
       "      <td>@VirginAmerica plus you've added commercials t...</td>\n",
       "    </tr>\n",
       "    <tr>\n",
       "      <th>2</th>\n",
       "      <td>neutral</td>\n",
       "      <td>@VirginAmerica I didn't today... Must mean I n...</td>\n",
       "    </tr>\n",
       "    <tr>\n",
       "      <th>3</th>\n",
       "      <td>negative</td>\n",
       "      <td>@VirginAmerica it's really aggressive to blast...</td>\n",
       "    </tr>\n",
       "    <tr>\n",
       "      <th>4</th>\n",
       "      <td>negative</td>\n",
       "      <td>@VirginAmerica and it's a really big bad thing...</td>\n",
       "    </tr>\n",
       "  </tbody>\n",
       "</table>\n",
       "</div>"
      ],
      "text/plain": [
       "  airline_sentiment                                               text\n",
       "0           neutral                @VirginAmerica What @dhepburn said.\n",
       "1          positive  @VirginAmerica plus you've added commercials t...\n",
       "2           neutral  @VirginAmerica I didn't today... Must mean I n...\n",
       "3          negative  @VirginAmerica it's really aggressive to blast...\n",
       "4          negative  @VirginAmerica and it's a really big bad thing..."
      ]
     },
     "execution_count": 16,
     "metadata": {},
     "output_type": "execute_result"
    }
   ],
   "source": [
    "df = df_[['airline_sentiment', 'text']].copy()\n",
    "df.head()"
   ]
  },
  {
   "cell_type": "code",
   "execution_count": 17,
   "metadata": {},
   "outputs": [
    {
     "data": {
      "text/html": [
       "<div>\n",
       "<style scoped>\n",
       "    .dataframe tbody tr th:only-of-type {\n",
       "        vertical-align: middle;\n",
       "    }\n",
       "\n",
       "    .dataframe tbody tr th {\n",
       "        vertical-align: top;\n",
       "    }\n",
       "\n",
       "    .dataframe thead th {\n",
       "        text-align: right;\n",
       "    }\n",
       "</style>\n",
       "<table border=\"1\" class=\"dataframe\">\n",
       "  <thead>\n",
       "    <tr style=\"text-align: right;\">\n",
       "      <th></th>\n",
       "      <th>airline_sentiment</th>\n",
       "      <th>text</th>\n",
       "      <th>target</th>\n",
       "    </tr>\n",
       "  </thead>\n",
       "  <tbody>\n",
       "    <tr>\n",
       "      <th>0</th>\n",
       "      <td>neutral</td>\n",
       "      <td>@VirginAmerica What @dhepburn said.</td>\n",
       "      <td>2</td>\n",
       "    </tr>\n",
       "    <tr>\n",
       "      <th>1</th>\n",
       "      <td>positive</td>\n",
       "      <td>@VirginAmerica plus you've added commercials t...</td>\n",
       "      <td>1</td>\n",
       "    </tr>\n",
       "    <tr>\n",
       "      <th>2</th>\n",
       "      <td>neutral</td>\n",
       "      <td>@VirginAmerica I didn't today... Must mean I n...</td>\n",
       "      <td>2</td>\n",
       "    </tr>\n",
       "    <tr>\n",
       "      <th>3</th>\n",
       "      <td>negative</td>\n",
       "      <td>@VirginAmerica it's really aggressive to blast...</td>\n",
       "      <td>0</td>\n",
       "    </tr>\n",
       "    <tr>\n",
       "      <th>4</th>\n",
       "      <td>negative</td>\n",
       "      <td>@VirginAmerica and it's a really big bad thing...</td>\n",
       "      <td>0</td>\n",
       "    </tr>\n",
       "  </tbody>\n",
       "</table>\n",
       "</div>"
      ],
      "text/plain": [
       "  airline_sentiment                                               text  target\n",
       "0           neutral                @VirginAmerica What @dhepburn said.       2\n",
       "1          positive  @VirginAmerica plus you've added commercials t...       1\n",
       "2           neutral  @VirginAmerica I didn't today... Must mean I n...       2\n",
       "3          negative  @VirginAmerica it's really aggressive to blast...       0\n",
       "4          negative  @VirginAmerica and it's a really big bad thing...       0"
      ]
     },
     "execution_count": 17,
     "metadata": {},
     "output_type": "execute_result"
    }
   ],
   "source": [
    "target_map = {\n",
    "    'positive': 1,\n",
    "    'negative': 0,\n",
    "    'neutral': 2,\n",
    "}\n",
    "df['target'] = df['airline_sentiment'].map(target_map)\n",
    "df.head()"
   ]
  },
  {
   "cell_type": "code",
   "execution_count": 18,
   "metadata": {},
   "outputs": [
    {
     "data": {
      "text/html": [
       "<div>\n",
       "<style scoped>\n",
       "    .dataframe tbody tr th:only-of-type {\n",
       "        vertical-align: middle;\n",
       "    }\n",
       "\n",
       "    .dataframe tbody tr th {\n",
       "        vertical-align: top;\n",
       "    }\n",
       "\n",
       "    .dataframe thead th {\n",
       "        text-align: right;\n",
       "    }\n",
       "</style>\n",
       "<table border=\"1\" class=\"dataframe\">\n",
       "  <thead>\n",
       "    <tr style=\"text-align: right;\">\n",
       "      <th></th>\n",
       "      <th>airline_sentiment</th>\n",
       "      <th>text</th>\n",
       "      <th>target</th>\n",
       "    </tr>\n",
       "  </thead>\n",
       "  <tbody>\n",
       "    <tr>\n",
       "      <th>1</th>\n",
       "      <td>positive</td>\n",
       "      <td>@VirginAmerica plus you've added commercials t...</td>\n",
       "      <td>1</td>\n",
       "    </tr>\n",
       "    <tr>\n",
       "      <th>3</th>\n",
       "      <td>negative</td>\n",
       "      <td>@VirginAmerica it's really aggressive to blast...</td>\n",
       "      <td>0</td>\n",
       "    </tr>\n",
       "    <tr>\n",
       "      <th>4</th>\n",
       "      <td>negative</td>\n",
       "      <td>@VirginAmerica and it's a really big bad thing...</td>\n",
       "      <td>0</td>\n",
       "    </tr>\n",
       "    <tr>\n",
       "      <th>5</th>\n",
       "      <td>negative</td>\n",
       "      <td>@VirginAmerica seriously would pay $30 a fligh...</td>\n",
       "      <td>0</td>\n",
       "    </tr>\n",
       "    <tr>\n",
       "      <th>6</th>\n",
       "      <td>positive</td>\n",
       "      <td>@VirginAmerica yes, nearly every time I fly VX...</td>\n",
       "      <td>1</td>\n",
       "    </tr>\n",
       "  </tbody>\n",
       "</table>\n",
       "</div>"
      ],
      "text/plain": [
       "  airline_sentiment                                               text  target\n",
       "1          positive  @VirginAmerica plus you've added commercials t...       1\n",
       "3          negative  @VirginAmerica it's really aggressive to blast...       0\n",
       "4          negative  @VirginAmerica and it's a really big bad thing...       0\n",
       "5          negative  @VirginAmerica seriously would pay $30 a fligh...       0\n",
       "6          positive  @VirginAmerica yes, nearly every time I fly VX...       1"
      ]
     },
     "execution_count": 18,
     "metadata": {},
     "output_type": "execute_result"
    }
   ],
   "source": [
    "df_filtered = df[df['target'] != 2]\n",
    "df_filtered.head()"
   ]
  },
  {
   "cell_type": "code",
   "execution_count": 19,
   "metadata": {},
   "outputs": [
    {
     "name": "stdout",
     "output_type": "stream",
     "text": [
      "sentence,label\n",
      "@VirginAmerica plus you've added commercials to the experience... tacky.,1\n",
      "\"@VirginAmerica it's really aggressive to blast obnoxious \"\"entertainment\"\" in your guests' faces &amp; they have little recourse\",0\n",
      "@VirginAmerica and it's a really big bad thing about it,0\n",
      "\"@VirginAmerica seriously would pay $30 a flight for seats that didn't have this playing.\n",
      "it's really the only bad thing about flying VA\",0\n",
      "\"@VirginAmerica yes, nearly every time I fly VX this “ear worm” won’t go away :)\",1\n",
      "\"@virginamerica Well, I didn't…but NOW I DO! :-D\",1\n",
      "\"@VirginAmerica it was amazing, and arrived an hour early. You're too good to me.\",1\n",
      "@VirginAmerica I &lt;3 pretty graphics. so much better than minimal iconography. :D,1\n"
     ]
    }
   ],
   "source": [
    "df2 = df_filtered[['text', 'target']]\n",
    "# Not documented info: targets must have the column name label\n",
    "# sentence may have other names, but not label\n",
    "df2.columns = ['sentence', 'label']\n",
    "df2.to_csv(\"data.csv\", index=False)\n",
    "!head data.csv\n",
    "# df2.head()"
   ]
  },
  {
   "cell_type": "code",
   "execution_count": 20,
   "metadata": {},
   "outputs": [
    {
     "data": {
      "application/vnd.jupyter.widget-view+json": {
       "model_id": "2f5036c983f44fa4b837f2498d61fd27",
       "version_major": 2,
       "version_minor": 0
      },
      "text/plain": [
       "Downloading data files:   0%|          | 0/1 [00:00<?, ?it/s]"
      ]
     },
     "metadata": {},
     "output_type": "display_data"
    },
    {
     "data": {
      "application/vnd.jupyter.widget-view+json": {
       "model_id": "46211688d9bb4e63aaa95c35b6961475",
       "version_major": 2,
       "version_minor": 0
      },
      "text/plain": [
       "Extracting data files:   0%|          | 0/1 [00:00<?, ?it/s]"
      ]
     },
     "metadata": {},
     "output_type": "display_data"
    },
    {
     "data": {
      "application/vnd.jupyter.widget-view+json": {
       "model_id": "f2df04e72f64470b9308580d24c3bf91",
       "version_major": 2,
       "version_minor": 0
      },
      "text/plain": [
       "Generating train split: 0 examples [00:00, ? examples/s]"
      ]
     },
     "metadata": {},
     "output_type": "display_data"
    }
   ],
   "source": [
    "from datasets import load_dataset\n",
    "raw_dataset = load_dataset('csv', data_files=\"data.csv\")"
   ]
  },
  {
   "cell_type": "code",
   "execution_count": 21,
   "metadata": {},
   "outputs": [
    {
     "data": {
      "text/plain": [
       "DatasetDict({\n",
       "    train: Dataset({\n",
       "        features: ['sentence', 'label'],\n",
       "        num_rows: 11541\n",
       "    })\n",
       "})"
      ]
     },
     "execution_count": 21,
     "metadata": {},
     "output_type": "execute_result"
    }
   ],
   "source": [
    "raw_dataset"
   ]
  },
  {
   "cell_type": "code",
   "execution_count": 22,
   "metadata": {},
   "outputs": [],
   "source": [
    "from datasets import Dataset, DatasetDict\n",
    "\n",
    "def splitTrainTestValidation(dataset: Dataset, valid_size=.1, test_size=.1):\n",
    "    len_valid = int(len(dataset) * valid_size)\n",
    "    len_test = int(len(dataset) * test_size)\n",
    "    \n",
    "    splited: DatasetDict = dataset.train_test_split(len_valid + len_test, shuffle=False, seed=42)\n",
    "    splited['validation'] = splited['test']\n",
    "    del splited['test']\n",
    "    \n",
    "    splited_2 = splited['validation'].train_test_split(len_test, shuffle=True, seed=42)\n",
    "    splited['validation'] = splited_2['train']\n",
    "    splited['test'] = splited_2['test']\n",
    "    \n",
    "    return splited"
   ]
  },
  {
   "cell_type": "code",
   "execution_count": 23,
   "metadata": {},
   "outputs": [],
   "source": [
    "# split = raw_dataset['train'].train_test_split(test_size=.3, seed=42)\n",
    "split = splitTrainTestValidation(raw_dataset['train'], valid_size=.1, test_size=.1)"
   ]
  },
  {
   "cell_type": "code",
   "execution_count": 24,
   "metadata": {},
   "outputs": [
    {
     "data": {
      "text/plain": [
       "DatasetDict({\n",
       "    train: Dataset({\n",
       "        features: ['sentence', 'label'],\n",
       "        num_rows: 9233\n",
       "    })\n",
       "    validation: Dataset({\n",
       "        features: ['sentence', 'label'],\n",
       "        num_rows: 1154\n",
       "    })\n",
       "    test: Dataset({\n",
       "        features: ['sentence', 'label'],\n",
       "        num_rows: 1154\n",
       "    })\n",
       "})"
      ]
     },
     "execution_count": 24,
     "metadata": {},
     "output_type": "execute_result"
    }
   ],
   "source": [
    "split"
   ]
  },
  {
   "cell_type": "code",
   "execution_count": 25,
   "metadata": {},
   "outputs": [],
   "source": [
    "from transformers import AutoTokenizer\n",
    "\n",
    "checkpoint = \"distilbert-base-cased\"\n",
    "\n",
    "tokenizer = AutoTokenizer.from_pretrained(checkpoint)\n",
    "\n",
    "\n",
    "def tokenize_fn(batch):\n",
    "    return tokenizer(batch[\"sentence\"], truncation=True, padding='max_length', max_length=T)\n",
    "\n",
    "\n",
    "# tokenizer(\"This is an example\", truncation=True, padding=True)"
   ]
  },
  {
   "cell_type": "code",
   "execution_count": 26,
   "metadata": {},
   "outputs": [
    {
     "data": {
      "application/vnd.jupyter.widget-view+json": {
       "model_id": "eda419f948fd4b0d9dbdaad0187c28ec",
       "version_major": 2,
       "version_minor": 0
      },
      "text/plain": [
       "Map:   0%|          | 0/9233 [00:00<?, ? examples/s]"
      ]
     },
     "metadata": {},
     "output_type": "display_data"
    },
    {
     "data": {
      "application/vnd.jupyter.widget-view+json": {
       "model_id": "3fe62adfbba34f1d9087b651f82d9ff5",
       "version_major": 2,
       "version_minor": 0
      },
      "text/plain": [
       "Map:   0%|          | 0/1154 [00:00<?, ? examples/s]"
      ]
     },
     "metadata": {},
     "output_type": "display_data"
    },
    {
     "data": {
      "application/vnd.jupyter.widget-view+json": {
       "model_id": "43c217b8d22d4ce59ed13f3c7c06c693",
       "version_major": 2,
       "version_minor": 0
      },
      "text/plain": [
       "Map:   0%|          | 0/1154 [00:00<?, ? examples/s]"
      ]
     },
     "metadata": {},
     "output_type": "display_data"
    },
    {
     "data": {
      "text/plain": [
       "DatasetDict({\n",
       "    train: Dataset({\n",
       "        features: ['sentence', 'label', 'input_ids', 'attention_mask'],\n",
       "        num_rows: 9233\n",
       "    })\n",
       "    validation: Dataset({\n",
       "        features: ['sentence', 'label', 'input_ids', 'attention_mask'],\n",
       "        num_rows: 1154\n",
       "    })\n",
       "    test: Dataset({\n",
       "        features: ['sentence', 'label', 'input_ids', 'attention_mask'],\n",
       "        num_rows: 1154\n",
       "    })\n",
       "})"
      ]
     },
     "execution_count": 26,
     "metadata": {},
     "output_type": "execute_result"
    }
   ],
   "source": [
    "\n",
    "tokenized_datasets = split.map(tokenize_fn, batched=False)\n",
    "tokenized_datasets"
   ]
  },
  {
   "cell_type": "code",
   "execution_count": 27,
   "metadata": {},
   "outputs": [
    {
     "data": {
      "application/vnd.jupyter.widget-view+json": {
       "model_id": "3807b88ae2c940c0a8cc7b2ed3af90f1",
       "version_major": 2,
       "version_minor": 0
      },
      "text/plain": [
       "Filter:   0%|          | 0/1154 [00:00<?, ? examples/s]"
      ]
     },
     "metadata": {},
     "output_type": "display_data"
    },
    {
     "data": {
      "application/vnd.jupyter.widget-view+json": {
       "model_id": "e838912bec9f4481983950fb120c9228",
       "version_major": 2,
       "version_minor": 0
      },
      "text/plain": [
       "Filter:   0%|          | 0/1154 [00:00<?, ? examples/s]"
      ]
     },
     "metadata": {},
     "output_type": "display_data"
    },
    {
     "data": {
      "text/plain": [
       "DatasetDict({\n",
       "    train: Dataset({\n",
       "        features: ['sentence', 'label', 'input_ids', 'attention_mask'],\n",
       "        num_rows: 9233\n",
       "    })\n",
       "    validation: Dataset({\n",
       "        features: ['sentence', 'label', 'input_ids', 'attention_mask'],\n",
       "        num_rows: 853\n",
       "    })\n",
       "    test: Dataset({\n",
       "        features: ['sentence', 'label', 'input_ids', 'attention_mask'],\n",
       "        num_rows: 844\n",
       "    })\n",
       "})"
      ]
     },
     "execution_count": 27,
     "metadata": {},
     "output_type": "execute_result"
    }
   ],
   "source": [
    "# Little notation here:\n",
    "# token is an int from the tokenizer\n",
    "# idx is our index, to use in our embedding\n",
    "\n",
    "token2idx = {0: 0}\n",
    "idx2token = {}\n",
    "\n",
    "all_tokens = [\n",
    "    element\n",
    "    for list_ids in tokenized_datasets[\"train\"][\"input_ids\"]\n",
    "    for element in list_ids\n",
    "]\n",
    "all_tokens = list(set(all_tokens))\n",
    "\n",
    "token_index = 0\n",
    "for token in all_tokens:\n",
    "    if token not in token2idx:\n",
    "        token2idx[token] = token_index\n",
    "        idx2token[token_index] = token\n",
    "        token_index += 1\n",
    "\n",
    "\n",
    "def filterSplit(splited_dataset):\n",
    "    \"\"\"For valid and test datasets, get only those which all inpu_ids is in splited_dataset['train']\"\"\"\n",
    "\n",
    "    for split in [\"validation\", \"test\"]:\n",
    "        # Filter the splited_dataset[split] to only keep the ids which are in splited_dataset['train']\n",
    "        splited_dataset[split] = splited_dataset[split].filter(\n",
    "            lambda x: all(token in token2idx for token in x[\"input_ids\"])\n",
    "        )\n",
    "\n",
    "    return splited_dataset\n",
    "\n",
    "\n",
    "filtered_datasets = filterSplit(tokenized_datasets)\n",
    "filtered_datasets"
   ]
  },
  {
   "cell_type": "markdown",
   "metadata": {},
   "source": [
    "Vamos construir nosso dicionário de tokens"
   ]
  },
  {
   "cell_type": "code",
   "execution_count": 28,
   "metadata": {},
   "outputs": [
    {
     "data": {
      "application/vnd.jupyter.widget-view+json": {
       "model_id": "4a7c2250a72c4c9093e381d1237cc89c",
       "version_major": 2,
       "version_minor": 0
      },
      "text/plain": [
       "Map:   0%|          | 0/9233 [00:00<?, ? examples/s]"
      ]
     },
     "metadata": {},
     "output_type": "display_data"
    },
    {
     "data": {
      "application/vnd.jupyter.widget-view+json": {
       "model_id": "7f15bc218b8044778cedcfda325f59c0",
       "version_major": 2,
       "version_minor": 0
      },
      "text/plain": [
       "Map:   0%|          | 0/853 [00:00<?, ? examples/s]"
      ]
     },
     "metadata": {},
     "output_type": "display_data"
    },
    {
     "data": {
      "application/vnd.jupyter.widget-view+json": {
       "model_id": "afed59143417469f8c535e0f14d35ffe",
       "version_major": 2,
       "version_minor": 0
      },
      "text/plain": [
       "Map:   0%|          | 0/844 [00:00<?, ? examples/s]"
      ]
     },
     "metadata": {},
     "output_type": "display_data"
    },
    {
     "data": {
      "text/plain": [
       "DatasetDict({\n",
       "    train: Dataset({\n",
       "        features: ['sentence', 'label', 'input_ids', 'attention_mask', 'input_idx'],\n",
       "        num_rows: 9233\n",
       "    })\n",
       "    validation: Dataset({\n",
       "        features: ['sentence', 'label', 'input_ids', 'attention_mask', 'input_idx'],\n",
       "        num_rows: 853\n",
       "    })\n",
       "    test: Dataset({\n",
       "        features: ['sentence', 'label', 'input_ids', 'attention_mask', 'input_idx'],\n",
       "        num_rows: 844\n",
       "    })\n",
       "})"
      ]
     },
     "execution_count": 28,
     "metadata": {},
     "output_type": "execute_result"
    }
   ],
   "source": [
    "def makeIndex(batch):\n",
    "    batch[\"input_idx\"] = [token2idx[single] for single in batch[\"input_ids\"]]\n",
    "    return batch\n",
    "\n",
    "data = filtered_datasets.map(makeIndex, batched=False)\n",
    "data"
   ]
  },
  {
   "cell_type": "code",
   "execution_count": 29,
   "metadata": {},
   "outputs": [
    {
     "data": {
      "text/plain": [
       "[80]"
      ]
     },
     "execution_count": 29,
     "metadata": {},
     "output_type": "execute_result"
    }
   ],
   "source": [
    "# Assert all same length\n",
    "list(set([len(l_idx) for l_idx in data['train']['input_idx']]))"
   ]
  },
  {
   "cell_type": "code",
   "execution_count": 30,
   "metadata": {},
   "outputs": [
    {
     "data": {
      "text/plain": [
       "torch.Size([9233, 80])"
      ]
     },
     "execution_count": 30,
     "metadata": {},
     "output_type": "execute_result"
    }
   ],
   "source": [
    "data_train = torch.Tensor(data['train']['input_idx']).type(torch.int32)\n",
    "data_train.shape"
   ]
  },
  {
   "cell_type": "code",
   "execution_count": 31,
   "metadata": {},
   "outputs": [
    {
     "data": {
      "text/plain": [
       "tensor([[0., 1.],\n",
       "        [1., 0.],\n",
       "        [1., 0.],\n",
       "        [1., 0.],\n",
       "        [0., 1.],\n",
       "        [0., 1.],\n",
       "        [0., 1.],\n",
       "        [0., 1.],\n",
       "        [0., 1.],\n",
       "        [0., 1.]])"
      ]
     },
     "execution_count": 31,
     "metadata": {},
     "output_type": "execute_result"
    }
   ],
   "source": [
    "import torch.nn.functional as F\n",
    "target_train = torch.Tensor(data['train']['label'])\n",
    "\n",
    "#make one_hot\n",
    "target_train = F.one_hot(target_train.to(torch.int64), num_classes=N_CLASSES).float()\n",
    "\n",
    "target_train[:10]"
   ]
  },
  {
   "cell_type": "code",
   "execution_count": 32,
   "metadata": {},
   "outputs": [
    {
     "data": {
      "text/plain": [
       "torch.Size([853, 80])"
      ]
     },
     "execution_count": 32,
     "metadata": {},
     "output_type": "execute_result"
    }
   ],
   "source": [
    "data_valid = torch.Tensor(data['validation']['input_idx']).type(torch.int32)\n",
    "data_valid.shape"
   ]
  },
  {
   "cell_type": "code",
   "execution_count": 33,
   "metadata": {},
   "outputs": [
    {
     "data": {
      "text/plain": [
       "tensor([[1., 0.],\n",
       "        [1., 0.],\n",
       "        [1., 0.],\n",
       "        [1., 0.],\n",
       "        [1., 0.],\n",
       "        [1., 0.],\n",
       "        [1., 0.],\n",
       "        [1., 0.],\n",
       "        [0., 1.],\n",
       "        [1., 0.]])"
      ]
     },
     "execution_count": 33,
     "metadata": {},
     "output_type": "execute_result"
    }
   ],
   "source": [
    "target_valid = torch.Tensor(data['validation']['label'])\n",
    "\n",
    "#make one_hot\n",
    "target_valid = F.one_hot(target_valid.to(torch.int64), num_classes=N_CLASSES).float()\n",
    "\n",
    "target_valid[:10]"
   ]
  },
  {
   "cell_type": "code",
   "execution_count": 34,
   "metadata": {},
   "outputs": [
    {
     "data": {
      "text/plain": [
       "torch.Size([844, 80])"
      ]
     },
     "execution_count": 34,
     "metadata": {},
     "output_type": "execute_result"
    }
   ],
   "source": [
    "data_test = torch.Tensor(data['test']['input_idx']).type(torch.int32)\n",
    "data_test.shape"
   ]
  },
  {
   "cell_type": "code",
   "execution_count": 35,
   "metadata": {},
   "outputs": [
    {
     "data": {
      "text/plain": [
       "tensor([[1., 0.],\n",
       "        [1., 0.],\n",
       "        [1., 0.],\n",
       "        [1., 0.],\n",
       "        [1., 0.],\n",
       "        [1., 0.],\n",
       "        [0., 1.],\n",
       "        [1., 0.],\n",
       "        [1., 0.],\n",
       "        [1., 0.]])"
      ]
     },
     "execution_count": 35,
     "metadata": {},
     "output_type": "execute_result"
    }
   ],
   "source": [
    "target_test = torch.Tensor(data['test']['label'])\n",
    "\n",
    "#make one_hot\n",
    "target_test = F.one_hot(target_test.to(torch.int64), num_classes=N_CLASSES).float()\n",
    "\n",
    "target_test[:10]"
   ]
  },
  {
   "cell_type": "markdown",
   "metadata": {},
   "source": [
    "## Now let's train our model! "
   ]
  },
  {
   "cell_type": "code",
   "execution_count": 36,
   "metadata": {},
   "outputs": [],
   "source": [
    "import torch\n",
    "\n",
    "log_interval = 10\n",
    "EPOCHS = 10\n",
    "\n",
    "\n",
    "def evaluate(model, eval_loader, criterion, verbose=False):\n",
    "    model = model.to(device)\n",
    "    model.eval()\n",
    "    loss = 0.0\n",
    "    correct = 0\n",
    "    with torch.no_grad():\n",
    "        for data, target in eval_loader:\n",
    "            data, target = data.to(device), target.to(device)\n",
    "            output = model(data)\n",
    "            \n",
    "            if type(criterion) == torch.nn.modules.loss.NLLLoss:\n",
    "                loss += criterion(output, target.argmax(dim=-1)).item()\n",
    "            else:\n",
    "                loss += criterion(output, target).item()\n",
    "            pred = output.argmax(dim=1, keepdim=True)\n",
    "            target_ = target.argmax(dim=1, keepdim=True)\n",
    "            correct += pred.eq(target_).sum()\n",
    "\n",
    "    # loss /= len(eval_loader.dataset)\n",
    "    verbose and print(\n",
    "        \"\\nAverage loss: {:.6f}, Accuracy: {}/{} ({:.2f}%)\\n\".format(\n",
    "            loss,\n",
    "            correct,\n",
    "            len(eval_loader.dataset),\n",
    "            correct / len(eval_loader.dataset) * 100,\n",
    "        )\n",
    "    )\n",
    "    return loss\n",
    "\n",
    "\n",
    "def train(\n",
    "    model, train_loader, optimizer, criterion, epoch\n",
    "):\n",
    "    model = model.to(device)\n",
    "    model.train()\n",
    "    for batch_idx, (data, target) in enumerate(train_loader):\n",
    "        data, target = data.to(device), target.to(device)\n",
    "        optimizer.zero_grad()\n",
    "        output = model(data)\n",
    "        if type(criterion) == torch.nn.modules.loss.NLLLoss:\n",
    "            loss = criterion(output, target.argmax(dim=-1))\n",
    "        else:\n",
    "            loss = criterion(output, target)\n",
    "        optimizer.zero_grad()\n",
    "        loss.backward()\n",
    "        optimizer.step()\n",
    "\n",
    "        # valid_loss = evaluate(model, validation_loader, criterion)\n",
    "        # if valid_loss < best_loss:\n",
    "        #     best_loss = valid_loss\n",
    "        #     torch.save(model.state_dict(), \"model.pth\")\n",
    "\n",
    "        if (batch_idx + 1) % log_interval == 0:\n",
    "            print(\n",
    "                \"Train Epoch: {} [{}/{} ({:.0f}%)]\\tLoss: {:.6f}\".format(\n",
    "                    epoch,\n",
    "                    batch_idx * len(data),\n",
    "                    len(train_loader.dataset),\n",
    "                    100.0 * batch_idx / len(train_loader),\n",
    "                    loss.item(),\n",
    "                )\n",
    "            )\n",
    "\n",
    "\n",
    "class MyDataset(torch.utils.data.Dataset):\n",
    "    def __init__(self, data, target):\n",
    "        self.data = data\n",
    "        self.target = target\n",
    "\n",
    "    def __len__(self):\n",
    "        return len(self.data)\n",
    "\n",
    "    def __getitem__(self, idx):\n",
    "        return self.data[idx], self.target[idx]\n",
    "\n",
    "\n",
    "model = ClassifierEncoder(vocab_size=len(token2idx))\n",
    "\n",
    "train_dataset = MyDataset(data_train, target_train)\n",
    "train_loader = torch.utils.data.DataLoader(\n",
    "    train_dataset, batch_size=BATCH_SIZE, shuffle=True\n",
    ")\n",
    "\n",
    "valid_dataset = MyDataset(data_valid, target_valid)\n",
    "valid_loader = torch.utils.data.DataLoader(valid_dataset, batch_size=BATCH_SIZE)\n",
    "\n",
    "test_dataset = MyDataset(data_train, target_train)\n",
    "test_loader = torch.utils.data.DataLoader(test_dataset, batch_size=BATCH_SIZE)\n",
    "\n",
    "# TODO: get optimizer and criterion from literature\n",
    "optimizer = torch.optim.Adam(model.parameters(), lr=0.001)\n",
    "criterion = torch.nn.NLLLoss()\n",
    "\n",
    "best_loss = np.inf\n",
    "losses = []\n",
    "if TRAIN_MODEL:\n",
    "    for epoch in range(1, EPOCHS + 1):\n",
    "        train(model, train_loader, optimizer, criterion, epoch)\n",
    "        loss = evaluate(model, valid_loader, criterion, verbose=True)\n",
    "        losses.append(loss)\n",
    "        if loss < best_loss:\n",
    "            best_loss = loss\n",
    "            torch.save(model.state_dict(), \"model.pth\")\n",
    "        print(f\"Epoch: {epoch}\\tloss: {loss}\")\n",
    "    "
   ]
  },
  {
   "cell_type": "markdown",
   "metadata": {},
   "source": [
    "# Unit tests for transformer and attention"
   ]
  },
  {
   "cell_type": "code",
   "execution_count": 37,
   "metadata": {},
   "outputs": [],
   "source": [
    "import unittest\n",
    "\n",
    "class TestTensorFunctions(unittest.TestCase):\n",
    "    def test_repeat(self):\n",
    "        x = torch.tensor([1, 2, 3])\n",
    "        n = 2\n",
    "        result = repeat(x, n)\n",
    "        expected = torch.tensor([[1, 2, 3], [1, 2, 3]])\n",
    "        self.assertTrue(torch.equal(result, expected))\n",
    "\n",
    "    def test_batched_matmul(self):\n",
    "        tensor_3d = torch.randn(10, 3, 4)\n",
    "        tensor_2d = torch.randn(4, 5)\n",
    "        result = batched_matmul(tensor_3d, tensor_2d)\n",
    "        expected = torch.bmm(tensor_3d, tensor_2d.unsqueeze(0).repeat((10, 1, 1)))\n",
    "        self.assertTrue(torch.allclose(result, expected))"
   ]
  },
  {
   "cell_type": "code",
   "execution_count": 38,
   "metadata": {},
   "outputs": [],
   "source": [
    "import unittest\n",
    "\n",
    "class EmbeddingLayerTest(unittest.TestCase):\n",
    "    def setUp(self):\n",
    "        # Set up your embedding layer or load your model\n",
    "        self.vocab_size = 10\n",
    "        self.d_model = 8\n",
    "        self.batch_size = 2\n",
    "        self.t = 4\n",
    "        self.model = Embedding(self.vocab_size, self.d_model)\n",
    "        self.criterion = nn.MSELoss()\n",
    "\n",
    "    def test_embedding_layer_forward(self):\n",
    "        # Define input tensor (batch_size=2, sequence_length=4)\n",
    "        x = torch.tensor([[1, 3, 5, 7], [0, 2, 4, 6]])\n",
    "        \n",
    "        # Manually set model weights for the embedding matrix\n",
    "        self.model.embedding.data = torch.tensor([\n",
    "            [0.1, 0.2, 0.3, 0.4, 0.5, 0.6, 0.7, 0.8],\n",
    "            [0.9, 1.0, 1.1, 1.2, 1.3, 1.4, 1.5, 1.6],\n",
    "            [1.7, 1.8, 1.9, 2.0, 2.1, 2.2, 2.3, 2.4],\n",
    "            [2.5, 2.6, 2.7, 2.8, 2.9, 3.0, 3.1, 3.2],\n",
    "            [3.3, 3.4, 3.5, 3.6, 3.7, 3.8, 3.9, 4.0],\n",
    "            [4.1, 4.2, 4.3, 4.4, 4.5, 4.6, 4.7, 4.8],\n",
    "            [4.9, 5.0, 5.1, 5.2, 5.3, 5.4, 5.5, 5.6],\n",
    "            [5.7, 5.8, 5.9, 6.0, 6.1, 6.2, 6.3, 6.4],\n",
    "            [6.5, 6.6, 6.7, 6.8, 6.9, 7.0, 7.1, 7.2],\n",
    "            [7.3, 7.4, 7.5, 7.6, 7.7, 7.8, 7.9, 8.0]\n",
    "        ])\n",
    "        \n",
    "        # Calculate the expected output manually\n",
    "        expected_output = torch.tensor([\n",
    "            [\n",
    "                [\n",
    "                    [0.9, 1.0, 1.1, 1.2, 1.3, 1.4, 1.5, 1.6],\n",
    "                    [2.5, 2.6, 2.7, 2.8, 2.9, 3.0, 3.1, 3.2],\n",
    "                    [4.1, 4.2, 4.3, 4.4, 4.5, 4.6, 4.7, 4.8],\n",
    "                    [5.7, 5.8, 5.9, 6.0, 6.1, 6.2, 6.3, 6.4]\n",
    "                ],\n",
    "                [\n",
    "                    [0.1, 0.2, 0.3, 0.4, 0.5, 0.6, 0.7, 0.8],\n",
    "                    [1.7, 1.8, 1.9, 2.0, 2.1, 2.2, 2.3, 2.4],\n",
    "                    [3.3, 3.4, 3.5, 3.6, 3.7, 3.8, 3.9, 4.0],\n",
    "                    [4.9, 5.0, 5.1, 5.2, 5.3, 5.4, 5.5, 5.6]\n",
    "                ]\n",
    "            ]\n",
    "        ])\n",
    "        \n",
    "        # Check if the shape of the expected output matches\n",
    "        self.assertEqual(expected_output.shape, expected_output.shape)\n",
    "        \n",
    "        # Check if the values of the expected output tensor match\n",
    "        self.assertTrue(torch.allclose(expected_output, expected_output, atol=1e-6))\n",
    "\n",
    "    def test_embedding_layer_loss(self):\n",
    "        # Define input tensors and target tensors\n",
    "        input_tensor = torch.randint(0, self.vocab_size, (self.batch_size, self.t)).long()\n",
    "        target_tensor = torch.randn(self.batch_size, self.t, self.d_model)\n",
    "\n",
    "        # Forward pass through the embedding layer\n",
    "        output = self.model(input_tensor)\n",
    "\n",
    "        # Compute the loss\n",
    "        loss = self.criterion(output, target_tensor)\n",
    "\n",
    "        # Define an optimizer\n",
    "        optimizer = torch.optim.SGD(self.model.parameters(), lr=0.01)\n",
    "\n",
    "        # Save the parameters before the backward pass and parameter update\n",
    "        params_before = [param.clone() for param in self.model.parameters()]\n",
    "\n",
    "        # Backward pass\n",
    "        loss.backward()\n",
    "\n",
    "        # Update the parameters\n",
    "        optimizer.step()\n",
    "\n",
    "        # Check if the parameters have been updated\n",
    "        for param, param_before in zip(self.model.parameters(), params_before):\n",
    "            self.assertTrue(torch.any(param.grad != 0), \"No gradients in the parameters\")\n",
    "            self.assertTrue(torch.any(param != param_before), \"Parameters have not been updated\")\n",
    "            \n",
    "    \n",
    "# This will run the test in the notebook\n",
    "# RUN_UNIT_TESTS and unittest.main(argv=[\"\"], exit=False)"
   ]
  },
  {
   "cell_type": "code",
   "execution_count": 39,
   "metadata": {},
   "outputs": [],
   "source": [
    "class TestAttention(unittest.TestCase):\n",
    "    \"\"\"_summary_\n",
    "\n",
    "    Args:\n",
    "        unittest (_type_): unit test for a conjuntion linear layer\n",
    "            plus the attention block\n",
    "    \"\"\"\n",
    "\n",
    "\n",
    "class AttentionTest(unittest.TestCase):\n",
    "    def setUp(self):\n",
    "        self.batch_size = 2\n",
    "        self.d_k = 3\n",
    "        self.d_v = 3\n",
    "        self.T = 2\n",
    "        self.d_model = 4\n",
    "\n",
    "        # Set up your attention mechanism or load your model\n",
    "        self.model = Attention(self.d_k, self.d_v, self.d_model)\n",
    "        self.criterion = nn.MSELoss()\n",
    "\n",
    "    def test_attention_forward(self):\n",
    "        # Define input tensor (batch_size=2, sequence_length=2, d_model=4)\n",
    "        x = torch.tensor(\n",
    "            [\n",
    "                [[1.0, 2.0, 3.0, 4.0], [5.0, 6.0, 7.0, 8.0]],\n",
    "                [[9.0, 10.0, 11.0, 12.0], [13.0, 14.0, 15.0, 16.0]],\n",
    "            ]\n",
    "        )\n",
    "\n",
    "        # Manually set model weights for W_K, W_Q, and W_V\n",
    "        self.model.W_K.data = torch.tensor(\n",
    "            [[0.1, 0.2, 0.3], [0.4, 0.5, 0.6], [0.7, 0.8, 0.9], [1.0, 1.1, 1.2]],\n",
    "            dtype=torch.float32,\n",
    "        )\n",
    "        self.model.W_Q.data = torch.tensor(\n",
    "            [[1.2, 1.1, 1.0], [0.9, 0.8, 0.7], [0.6, 0.5, 0.4], [0.3, 0.2, 0.1]],\n",
    "            dtype=torch.float32,\n",
    "        )\n",
    "        self.model.W_V.data = torch.tensor(\n",
    "            [[0.5, 0.6, 0.7], [0.8, 0.9, 1.0], [1.1, 1.2, 1.3], [1.4, 1.5, 1.6]],\n",
    "            dtype=torch.float32,\n",
    "        )\n",
    "\n",
    "        # Expected output based on calculations from the attention mechanism\n",
    "        expected_output, _ = self.model(x)\n",
    "\n",
    "        # Calculate the expected output manually\n",
    "        # Calculate Q, K, and V using learned weights\n",
    "        Q = torch.matmul(x, self.model.W_Q)\n",
    "        K = torch.matmul(x, self.model.W_K)\n",
    "        V = torch.matmul(x, self.model.W_V)\n",
    "\n",
    "        # Calculate the attention scores\n",
    "        attention_scores = torch.matmul(Q, K.transpose(1, 2)) / (self.d_k**0.5)\n",
    "        attention_weights = torch.nn.functional.softmax(attention_scores, dim=-1)\n",
    "\n",
    "        # Apply attention weights to V to get the output\n",
    "        expected_output_manual = torch.matmul(attention_weights, V)\n",
    "\n",
    "        # Check if the shape of the expected output matches\n",
    "        self.assertEqual(expected_output.shape, expected_output_manual.shape)\n",
    "\n",
    "        # Check if the values of the expected output tensor match\n",
    "        self.assertTrue(\n",
    "            torch.allclose(expected_output, expected_output_manual, atol=1e-6)\n",
    "        )\n",
    "\n",
    "    def test_attention_loss(self):\n",
    "        # Test the loss function associated with the attention mechanism\n",
    "        # Define input tensors and target tensors\n",
    "\n",
    "        input_tensor = torch.rand(\n",
    "            (self.batch_size, self.T, self.d_model), requires_grad=True\n",
    "        )\n",
    "\n",
    "        # Forward pass through the attention mechanism\n",
    "        output, _ = self.model(input_tensor)\n",
    "\n",
    "        # Create dummy target tensor (replace with your actual target tensor)\n",
    "        target = torch.rand_like(output, requires_grad=False)\n",
    "\n",
    "        # Calculate the loss\n",
    "        loss = self.criterion(output, target)\n",
    "\n",
    "        # Define an optimizer\n",
    "        optimizer = torch.optim.SGD(self.model.parameters(), lr=0.01)\n",
    "\n",
    "        # Save the parameters before the backward pass and parameter update\n",
    "        params_before = [param.clone() for param in self.model.parameters()]\n",
    "\n",
    "        # Perform backward pass\n",
    "        loss.backward()\n",
    "\n",
    "        # Update the parameters\n",
    "        optimizer.step()\n",
    "\n",
    "        # Check if gradients are computed\n",
    "        self.assertTrue(\n",
    "            input_tensor.grad is not None, \"No gradients in the input tensor\"\n",
    "        )\n",
    "\n",
    "        # Check if the parameters have been updated\n",
    "        for param, param_before in zip(self.model.parameters(), params_before):\n",
    "            self.assertTrue(\n",
    "                torch.any(param != param_before), \"Parameters have not been updated\"\n",
    "            )\n",
    "\n",
    "\n",
    "# This will run the test in the notebook\n",
    "# RUN_UNIT_TESTS and unittest.main(argv=[\"\"], exit=False)"
   ]
  },
  {
   "cell_type": "code",
   "execution_count": 40,
   "metadata": {},
   "outputs": [
    {
     "name": "stdout",
     "output_type": "stream",
     "text": [
      "tensor([[[159.9200, 174.0800, 188.2400, 202.4000],\n",
      "         [159.9200, 174.0800, 188.2400, 202.4000]],\n",
      "\n",
      "        [[344.5600, 375.0400, 405.5200, 436.0000],\n",
      "         [344.5600, 375.0400, 405.5200, 436.0000]]])\n"
     ]
    }
   ],
   "source": [
    "# Code by GPT4 to calculate the multihead attention output\n",
    "\n",
    "import torch\n",
    "\n",
    "# Define the parameters\n",
    "d_k = 3\n",
    "d_v = 3\n",
    "d_model = 4\n",
    "h = 2\n",
    "batch_size = 2\n",
    "t = 2\n",
    "\n",
    "# Define the input tensor\n",
    "input_tensor = torch.tensor([[[1.0, 2.0, 3.0, 4.0], [5.0, 6.0, 7.0, 8.0]],\n",
    "                             [[9.0, 10.0, 11.0, 12.0], [13.0, 14.0, 15.0, 16.0]]], dtype=torch.float32)\n",
    "\n",
    "# Define the weights\n",
    "W_K = torch.tensor([[0.1, 0.2, 0.3], [0.4, 0.5, 0.6], [0.7, 0.8, 0.9], [1.0, 1.1, 1.2]], dtype=torch.float32)\n",
    "W_Q = torch.tensor([[0.2, 0.3, 0.4], [0.5, 0.6, 0.7], [0.8, 0.9, 1.0], [1.1, 1.2, 1.3]], dtype=torch.float32)\n",
    "W_V = torch.tensor([[0.3, 0.4, 0.5], [0.6, 0.7, 0.8], [0.9, 1.0, 1.1], [1.2, 1.3, 1.4]], dtype=torch.float32)\n",
    "W_O = torch.tensor([[0.1, 0.2, 0.3, 0.4], [0.5, 0.6, 0.7, 0.8], \n",
    "                    [0.9, 1.0, 1.1, 1.2], [1.3, 1.4, 1.5, 1.6],\n",
    "                    [1.7, 1.8, 1.9, 2.0], [2.1, 2.2, 2.3, 2.4]], dtype=torch.float32)\n",
    "\n",
    "# Initialize tensors for K, Q, V for each head\n",
    "Ks, Qs, Vs = [], [], []\n",
    "\n",
    "# Compute K, Q, V for each head\n",
    "for _ in range(h):\n",
    "    K = torch.matmul(input_tensor, W_K)\n",
    "    Q = torch.matmul(input_tensor, W_Q)\n",
    "    V = torch.matmul(input_tensor, W_V)\n",
    "    Ks.append(K)\n",
    "    Qs.append(Q)\n",
    "    Vs.append(V)\n",
    "\n",
    "# Initialize a tensor for the concatenated results\n",
    "concatenated_results = torch.zeros(batch_size, t, h * d_v)\n",
    "\n",
    "# Calculate the attention and concatenate results for each head\n",
    "for i in range(h):\n",
    "    # Scaled dot product of Q and K\n",
    "    attention_scores = torch.matmul(Qs[i], Ks[i].transpose(-2, -1)) / (d_k ** 0.5)\n",
    "    attention_weights = torch.nn.functional.softmax(attention_scores, dim=-1)\n",
    "    \n",
    "    # Weighted sum of V\n",
    "    head_output = torch.matmul(attention_weights, Vs[i])\n",
    "    \n",
    "    # Concatenate results\n",
    "    concatenated_results[:, :, i * d_v: (i + 1) * d_v] = head_output\n",
    "\n",
    "# Apply the final linear layer W_O\n",
    "expected_output = torch.matmul(concatenated_results, W_O)\n",
    "\n",
    "print(expected_output)"
   ]
  },
  {
   "cell_type": "code",
   "execution_count": 50,
   "metadata": {},
   "outputs": [
    {
     "name": "stderr",
     "output_type": "stream",
     "text": [
      "........FF\n",
      "======================================================================\n",
      "FAIL: test_transformer_block_forward (__main__.TransformerBlockTest)\n",
      "----------------------------------------------------------------------\n",
      "Traceback (most recent call last):\n",
      "  File \"/tmp/ipykernel_80174/1159015403.py\", line 63, in test_transformer_block_forward\n",
      "    self.assertTrue(torch.allclose(output, expected_output, atol=1e-6))\n",
      "AssertionError: False is not true\n",
      "\n",
      "======================================================================\n",
      "FAIL: test_transformer_block_loss (__main__.TransformerBlockTest)\n",
      "----------------------------------------------------------------------\n",
      "Traceback (most recent call last):\n",
      "  File \"/tmp/ipykernel_80174/1159015403.py\", line 101, in test_transformer_block_loss\n",
      "    self.assertTrue(\n",
      "AssertionError: tensor(False) is not true : Parameters have not been updated\n",
      "\n",
      "----------------------------------------------------------------------\n",
      "Ran 10 tests in 0.013s\n",
      "\n",
      "FAILED (failures=2)\n"
     ]
    },
    {
     "data": {
      "text/plain": [
       "<unittest.main.TestProgram at 0x7fbe2c927c70>"
      ]
     },
     "execution_count": 50,
     "metadata": {},
     "output_type": "execute_result"
    }
   ],
   "source": [
    "class MultiHeadAttentionTest(unittest.TestCase):\n",
    "    def setUp(self):\n",
    "        self.batch_size = 2\n",
    "        self.d_k = 3\n",
    "        self.d_v = 3\n",
    "        self.t = 2\n",
    "        self.d_model = 4\n",
    "        self.h = 2\n",
    "\n",
    "        # Initialize the multi-head attention model\n",
    "        self.model = MultiHeadAttention(self.h, self.d_model, self.d_k, self.d_v)\n",
    "        self.criterion = nn.MSELoss()\n",
    "\n",
    "        # Manually setting the weights for the test\n",
    "        for head in self.model.attentions:\n",
    "            # These weights should be carefully chosen to ensure a predictable output\n",
    "            head.W_K = nn.Parameter(\n",
    "                torch.tensor(\n",
    "                    [[0.1, 0.2, 0.3], [0.4, 0.5, 0.6], [0.7, 0.8, 0.9], [1.0, 1.1, 1.2]]\n",
    "                )\n",
    "            )\n",
    "            head.W_Q = nn.Parameter(\n",
    "                torch.tensor(\n",
    "                    [[0.2, 0.3, 0.4], [0.5, 0.6, 0.7], [0.8, 0.9, 1.0], [1.1, 1.2, 1.3]]\n",
    "                )\n",
    "            )\n",
    "            head.W_V = nn.Parameter(\n",
    "                torch.tensor(\n",
    "                    [[0.3, 0.4, 0.5], [0.6, 0.7, 0.8], [0.9, 1.0, 1.1], [1.2, 1.3, 1.4]]\n",
    "                )\n",
    "            )\n",
    "\n",
    "        # Output linear layer weights\n",
    "        self.model.W_O = nn.Parameter(\n",
    "            torch.tensor(\n",
    "                [\n",
    "                    [0.1, 0.2, 0.3, 0.4],\n",
    "                    [0.5, 0.6, 0.7, 0.8],\n",
    "                    [0.9, 1.0, 1.1, 1.2],\n",
    "                    [1.3, 1.4, 1.5, 1.6],\n",
    "                    [1.7, 1.8, 1.9, 2.0],\n",
    "                    [2.1, 2.2, 2.3, 2.4],\n",
    "                ],\n",
    "                dtype=torch.float32,\n",
    "            )\n",
    "        )\n",
    "\n",
    "        # Shape of W_O, according to the paper \"Attention Is All You Need\"\n",
    "        self.assertEqual(list(self.model.W_O.shape), [self.h * self.d_v, self.d_model])\n",
    "\n",
    "    def test_multi_head_attention_forward(self):\n",
    "        # Define a specific input tensor (batch_size, t, d_model)\n",
    "        input_tensor = torch.tensor(\n",
    "            [\n",
    "                [[1.0, 2.0, 3.0, 4.0], [5.0, 6.0, 7.0, 8.0]],\n",
    "                [[9.0, 10.0, 11.0, 12.0], [13.0, 14.0, 15.0, 16.0]],\n",
    "            ]\n",
    "        )\n",
    "\n",
    "        # Expected output tensor based on the input and the model weights\n",
    "        # This tensor should be calculated manually based on the model's operations\n",
    "        expected_output = torch.Tensor(\n",
    "            [\n",
    "                [\n",
    "                    [159.9200, 174.0800, 188.2400, 202.4000],\n",
    "                    [159.9200, 174.0800, 188.2400, 202.4000],\n",
    "                ],\n",
    "                [\n",
    "                    [344.5600, 375.0400, 405.5200, 436.0000],\n",
    "                    [344.5600, 375.0400, 405.5200, 436.0000],\n",
    "                ],\n",
    "            ]\n",
    "        )\n",
    "\n",
    "        # Run the forward pass\n",
    "        output, _ = self.model(input_tensor)\n",
    "\n",
    "        # Check the shape of the output tensor\n",
    "        self.assertEqual(output.shape, (self.batch_size, self.t, self.d_model))\n",
    "\n",
    "        # Check the values of the output tensor\n",
    "        self.assertTrue(torch.allclose(output, expected_output, atol=1e-4))\n",
    "\n",
    "    def test_multi_head_attention_loss(self):\n",
    "        # Test the loss function associated with the multi-head attention mechanism\n",
    "        # Define input tensors and target tensors\n",
    "\n",
    "        input_tensor = torch.rand(\n",
    "            (self.batch_size, self.t, self.d_model), requires_grad=True\n",
    "        )\n",
    "\n",
    "        # Forward pass through the multi-head attention mechanism\n",
    "        output, _ = self.model(input_tensor)\n",
    "\n",
    "        # Create dummy target tensor (replace with your actual target tensor)\n",
    "        target = torch.rand_like(output, requires_grad=False)\n",
    "\n",
    "        # Calculate the loss\n",
    "        loss = self.criterion(output, target)\n",
    "\n",
    "        # Define an optimizer\n",
    "        optimizer = torch.optim.SGD(self.model.parameters(), lr=0.01)\n",
    "\n",
    "        # Save the parameters before the backward pass and parameter update\n",
    "        params_before = [param.clone() for param in self.model.parameters()]\n",
    "\n",
    "        # Perform backward pass\n",
    "        loss.backward()\n",
    "\n",
    "        # Update the parameters\n",
    "        optimizer.step()\n",
    "\n",
    "        # Check if gradients are computed\n",
    "        self.assertTrue(\n",
    "            input_tensor.grad is not None, \"No gradients in the input tensor\"\n",
    "        )\n",
    "\n",
    "        # Check if the parameters have been updated\n",
    "        for param, param_before in zip(self.model.parameters(), params_before):\n",
    "            self.assertTrue(\n",
    "                torch.any(param != param_before), \"Parameters have not been updated\"\n",
    "            )\n",
    "\n",
    "\n",
    "# This will run the test in the notebook\n",
    "# RUN_UNIT_TESTS and unittest.main(argv=[\"\"], exit=False)"
   ]
  },
  {
   "cell_type": "code",
   "execution_count": 51,
   "metadata": {},
   "outputs": [
    {
     "data": {
      "text/plain": [
       "tensor([[[43.8172, 43.8172, 43.8172],\n",
       "         [44.5119, 44.5119, 44.5119],\n",
       "         [44.5477, 44.5477, 44.5477],\n",
       "         [44.5499, 44.5499, 44.5499]],\n",
       "\n",
       "        [[93.1500, 93.1500, 93.1500],\n",
       "         [93.1500, 93.1500, 93.1500],\n",
       "         [93.1500, 93.1500, 93.1500],\n",
       "         [93.1500, 93.1500, 93.1500]]])"
      ]
     },
     "execution_count": 51,
     "metadata": {},
     "output_type": "execute_result"
    }
   ],
   "source": [
    "# Code by GPT4 to calculate the transformer block output\n",
    "import torch\n",
    "import torch.nn.functional as F\n",
    "\n",
    "# Parameters for the setup\n",
    "batch_size = 2\n",
    "d_k = 3\n",
    "d_v = 3\n",
    "t = 4\n",
    "d_model = 3\n",
    "h = 2\n",
    "\n",
    "# Define the specific input tensor\n",
    "x = torch.tensor([[[1.0, 2.0, 3.0],\n",
    "                   [4.0, 5.0, 6.0],\n",
    "                   [7.0, 8.0, 9.0],\n",
    "                   [10.0, 11.0, 12.0]],\n",
    "                  [[13.0, 14.0, 15.0],\n",
    "                   [16.0, 17.0, 18.0],\n",
    "                   [19.0, 20.0, 21.0],\n",
    "                   [22.0, 23.0, 24.0]]], dtype=torch.float32)\n",
    "\n",
    "# Predefined weights for the model\n",
    "W_Ks = [torch.full((d_model, d_k), 0.1 * (i + 1), dtype=torch.float32) for i in range(h)]\n",
    "W_Qs = [torch.full((d_model, d_k), 0.2 * (i + 1), dtype=torch.float32) for i in range(h)]\n",
    "W_Vs = [torch.full((d_model, d_v), 0.3 * (i + 1), dtype=torch.float32) for i in range(h)]\n",
    "W_O = torch.full((h * d_v, d_model), 0.5, dtype=torch.float32)\n",
    "\n",
    "# Function to calculate the attention output for one head\n",
    "def attention_output(x, W_K, W_Q, W_V):\n",
    "    K = torch.matmul(x, W_K)\n",
    "    Q = torch.matmul(x, W_Q)\n",
    "    V = torch.matmul(x, W_V)\n",
    "\n",
    "    scores = torch.matmul(Q, K.transpose(-2, -1)) / torch.sqrt(torch.tensor(d_k, dtype=torch.float32))\n",
    "    attn_weights = F.softmax(scores, dim=-1)\n",
    "    return torch.matmul(attn_weights, V)\n",
    "\n",
    "# Calculating the output for each head\n",
    "heads_output = [attention_output(x, W_Ks[i], W_Qs[i], W_Vs[i]) for i in range(h)]\n",
    "\n",
    "# Concatenating the output of all heads\n",
    "concatenated_output = torch.cat(heads_output, dim=-1)\n",
    "\n",
    "# Applying the final linear layer\n",
    "expected_output = torch.matmul(concatenated_output, W_O)\n",
    "\n",
    "expected_output"
   ]
  },
  {
   "cell_type": "code",
   "execution_count": 55,
   "metadata": {},
   "outputs": [
    {
     "name": "stderr",
     "output_type": "stream",
     "text": [
      "........FF\n",
      "======================================================================\n",
      "FAIL: test_transformer_block_forward (__main__.TransformerBlockTest)\n",
      "----------------------------------------------------------------------\n",
      "Traceback (most recent call last):\n",
      "  File \"/tmp/ipykernel_80174/1310023453.py\", line 63, in test_transformer_block_forward\n",
      "    self.assertTrue(torch.allclose(output, expected_output, atol=1e-6))\n",
      "AssertionError: False is not true\n",
      "\n",
      "======================================================================\n",
      "FAIL: test_transformer_block_loss (__main__.TransformerBlockTest)\n",
      "----------------------------------------------------------------------\n",
      "Traceback (most recent call last):\n",
      "  File \"/tmp/ipykernel_80174/1310023453.py\", line 102, in test_transformer_block_loss\n",
      "    self.assertTrue(\n",
      "AssertionError: tensor(False) is not true : Parameters have not been updated\n",
      "\n",
      "----------------------------------------------------------------------\n",
      "Ran 10 tests in 0.014s\n",
      "\n",
      "FAILED (failures=2)\n"
     ]
    },
    {
     "data": {
      "text/plain": [
       "<unittest.main.TestProgram at 0x7fbe2c2ed400>"
      ]
     },
     "execution_count": 55,
     "metadata": {},
     "output_type": "execute_result"
    }
   ],
   "source": [
    "class TransformerBlockTest(unittest.TestCase):\n",
    "    def setUp(self):\n",
    "        self.batch_size = 2\n",
    "        self.d_k = 3\n",
    "        self.d_v = 3\n",
    "        self.t = 4\n",
    "        self.d_model = 3\n",
    "        self.h = 2\n",
    "\n",
    "        # Initialize the Transformer block model\n",
    "        self.model = TransformerBlock(self.t, self.d_k, self.d_v, self.d_model, self.h)\n",
    "\n",
    "        # Set the model's weights to predefined values\n",
    "        with torch.no_grad():\n",
    "            for i in range(self.h):\n",
    "                self.model.mha.attentions[i].W_K.fill_(0.1 * (i + 1))\n",
    "                self.model.mha.attentions[i].W_Q.fill_(0.2 * (i + 1))\n",
    "                self.model.mha.attentions[i].W_V.fill_(0.3 * (i + 1))\n",
    "            self.model.mha.W_O.fill_(0.5)\n",
    "\n",
    "        self.criterion = nn.MSELoss()\n",
    "\n",
    "    def test_transformer_block_forward(self):\n",
    "        # Define a specific input tensor\n",
    "        x = torch.tensor(\n",
    "            [\n",
    "                [[1.0, 2.0, 3.0], [4.0, 5.0, 6.0], [7.0, 8.0, 9.0], [10.0, 11.0, 12.0]],\n",
    "                [\n",
    "                    [13.0, 14.0, 15.0],\n",
    "                    [16.0, 17.0, 18.0],\n",
    "                    [19.0, 20.0, 21.0],\n",
    "                    [22.0, 23.0, 24.0],\n",
    "                ],\n",
    "            ]\n",
    "        )\n",
    "\n",
    "        # Define the expected output tensor based on the specific input and model weights\n",
    "        # This tensor should be calculated based on the \"Attention is all you need\" paper, given the input and weights\n",
    "        expected_output = torch.Tensor(\n",
    "            [\n",
    "                [\n",
    "                    [43.8172, 43.8172, 43.8172],\n",
    "                    [44.5119, 44.5119, 44.5119],\n",
    "                    [44.5477, 44.5477, 44.5477],\n",
    "                    [44.5499, 44.5499, 44.5499],\n",
    "                ],\n",
    "                [\n",
    "                    [93.1500, 93.1500, 93.1500],\n",
    "                    [93.1500, 93.1500, 93.1500],\n",
    "                    [93.1500, 93.1500, 93.1500],\n",
    "                    [93.1500, 93.1500, 93.1500],\n",
    "                ],\n",
    "            ]\n",
    "        )\n",
    "\n",
    "        # Forward pass\n",
    "        output = self.model(x)\n",
    "\n",
    "        # Check if the output matches the expected shape\n",
    "        self.assertEqual(output.shape, expected_output.shape)\n",
    "\n",
    "        # Check if the values of the output tensor match the expected values\n",
    "        self.assertTrue(torch.allclose(output, expected_output, atol=1e-6))\n",
    "\n",
    "\n",
    "    def test_transformer_block_loss(self):\n",
    "        # Test the loss function associated with the Transformer block\n",
    "        # Define input tensors and target tensors\n",
    "\n",
    "        input_tensor = torch.rand(\n",
    "            (self.batch_size, self.t, self.d_model), requires_grad=True\n",
    "        )\n",
    "\n",
    "        # Forward pass through the Transformer block\n",
    "        output = self.model(input_tensor)\n",
    "\n",
    "        # Create dummy target tensor (replace with your actual target tensor)\n",
    "        target = torch.rand_like(output, requires_grad=False)\n",
    "\n",
    "        # Calculate the loss\n",
    "        loss = self.criterion(output, target)\n",
    "\n",
    "        # Define an optimizer\n",
    "        optimizer = torch.optim.SGD(self.model.parameters(), lr=0.01)\n",
    "\n",
    "        # Save the parameters before the backward pass and parameter update\n",
    "        params_before = [param.clone() for param in self.model.parameters()]\n",
    "\n",
    "        # Perform backward pass\n",
    "        loss.backward()\n",
    "\n",
    "        # Update the parameters\n",
    "        optimizer.step()\n",
    "\n",
    "        # Check if gradients are computed\n",
    "        self.assertTrue(\n",
    "            input_tensor.grad is not None, \"No gradients in the input tensor\"\n",
    "        )\n",
    "\n",
    "        # Check if the parameters have been updated\n",
    "        for param, param_before in zip(self.model.parameters(), params_before):\n",
    "            self.assertTrue(\n",
    "                torch.any(param != param_before), \"Parameters have not been updated\"\n",
    "            )\n",
    "\n",
    "\n",
    "# This will run the test in the notebook\n",
    "RUN_UNIT_TESTS and unittest.main(argv=[\"\"], exit=False)"
   ]
  },
  {
   "cell_type": "code",
   "execution_count": 47,
   "metadata": {},
   "outputs": [
    {
     "name": "stderr",
     "output_type": "stream",
     "text": [
      "....FF..FF\n",
      "======================================================================\n",
      "FAIL: test_multi_head_attention_forward (__main__.MultiHeadAttentionTest)\n",
      "----------------------------------------------------------------------\n",
      "Traceback (most recent call last):\n",
      "  File \"/tmp/ipykernel_80174/1397261406.py\", line 49, in setUp\n",
      "    self.assertEqual(list(self.model.W_O.shape), [h * d_v, d_model])\n",
      "AssertionError: Lists differ: [6, 4] != [6, 3]\n",
      "\n",
      "First differing element 1:\n",
      "4\n",
      "3\n",
      "\n",
      "- [6, 4]\n",
      "?     ^\n",
      "\n",
      "+ [6, 3]\n",
      "?     ^\n",
      "\n",
      "\n",
      "======================================================================\n",
      "FAIL: test_multi_head_attention_loss (__main__.MultiHeadAttentionTest)\n",
      "----------------------------------------------------------------------\n",
      "Traceback (most recent call last):\n",
      "  File \"/tmp/ipykernel_80174/1397261406.py\", line 49, in setUp\n",
      "    self.assertEqual(list(self.model.W_O.shape), [h * d_v, d_model])\n",
      "AssertionError: Lists differ: [6, 4] != [6, 3]\n",
      "\n",
      "First differing element 1:\n",
      "4\n",
      "3\n",
      "\n",
      "- [6, 4]\n",
      "?     ^\n",
      "\n",
      "+ [6, 3]\n",
      "?     ^\n",
      "\n",
      "\n",
      "======================================================================\n",
      "FAIL: test_transformer_block_forward (__main__.TransformerBlockTest)\n",
      "----------------------------------------------------------------------\n",
      "Traceback (most recent call last):\n",
      "  File \"/tmp/ipykernel_80174/1159015403.py\", line 63, in test_transformer_block_forward\n",
      "    self.assertTrue(torch.allclose(output, expected_output, atol=1e-6))\n",
      "AssertionError: False is not true\n",
      "\n",
      "======================================================================\n",
      "FAIL: test_transformer_block_loss (__main__.TransformerBlockTest)\n",
      "----------------------------------------------------------------------\n",
      "Traceback (most recent call last):\n",
      "  File \"/tmp/ipykernel_80174/1159015403.py\", line 101, in test_transformer_block_loss\n",
      "    self.assertTrue(\n",
      "AssertionError: tensor(False) is not true : Parameters have not been updated\n",
      "\n",
      "----------------------------------------------------------------------\n",
      "Ran 10 tests in 0.013s\n",
      "\n",
      "FAILED (failures=4)\n"
     ]
    },
    {
     "data": {
      "text/plain": [
       "<unittest.main.TestProgram at 0x7fbe2f3b4ee0>"
      ]
     },
     "execution_count": 47,
     "metadata": {},
     "output_type": "execute_result"
    }
   ],
   "source": [
    "\n",
    "# This will run the test in the notebook\n",
    "RUN_UNIT_TESTS and unittest.main(argv=[\"\"], exit=False)"
   ]
  }
 ],
 "metadata": {
  "kernelspec": {
   "display_name": "gpt",
   "language": "python",
   "name": "python3"
  },
  "language_info": {
   "codemirror_mode": {
    "name": "ipython",
    "version": 3
   },
   "file_extension": ".py",
   "mimetype": "text/x-python",
   "name": "python",
   "nbconvert_exporter": "python",
   "pygments_lexer": "ipython3",
   "version": "3.9.16"
  }
 },
 "nbformat": 4,
 "nbformat_minor": 2
}
